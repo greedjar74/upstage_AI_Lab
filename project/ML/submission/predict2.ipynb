{
 "cells": [
  {
   "cell_type": "markdown",
   "metadata": {},
   "source": [
    "# Submission 데이터 예측\n",
    "- 여러 개의 모델을 사용하여 예측한 후 min을 통해 하나의 결론 도출"
   ]
  },
  {
   "cell_type": "code",
   "execution_count": 1,
   "metadata": {},
   "outputs": [],
   "source": [
    "import pandas as pd\n",
    "import joblib\n",
    "import gc"
   ]
  },
  {
   "cell_type": "markdown",
   "metadata": {},
   "source": [
    "## test data load"
   ]
  },
  {
   "cell_type": "code",
   "execution_count": 2,
   "metadata": {},
   "outputs": [
    {
     "name": "stderr",
     "output_type": "stream",
     "text": [
      "/opt/anaconda3/lib/python3.11/site-packages/sklearn/preprocessing/_encoders.py:868: FutureWarning: `sparse` was renamed to `sparse_output` in version 1.2 and will be removed in 1.4. `sparse_output` is ignored unless you leave `sparse` to its default value.\n",
      "  warnings.warn(\n"
     ]
    }
   ],
   "source": [
    "df = pd.DataFrame()\n",
    "\n",
    "for i in range(4):\n",
    "    df = pd.concat([df, pd.read_csv(f'./submission_data_r4/{i}.csv')], axis=0, ignore_index=True)\n",
    "\n",
    "from sklearn.preprocessing import OneHotEncoder\n",
    "import gc\n",
    "\n",
    "ohe = OneHotEncoder(sparse=False)\n",
    "ohe_re = ohe.fit_transform(df[['protein_name']])\n",
    "\n",
    "df = pd.concat([df, pd.DataFrame(ohe_re, columns=[col for col in ohe.categories_[0]])], axis=1)\n",
    "\n",
    "del ohe\n",
    "del ohe_re\n",
    "gc.collect()\n",
    "\n",
    "# 예측에 불필요한 feature 제거\n",
    "X = df.drop(['id', 'protein_name'], axis=1)"
   ]
  },
  {
   "cell_type": "markdown",
   "metadata": {},
   "source": [
    "## 각 모델을 사용하여 예측"
   ]
  },
  {
   "cell_type": "markdown",
   "metadata": {},
   "source": [
    "#### 모델들 load"
   ]
  },
  {
   "cell_type": "code",
   "execution_count": 22,
   "metadata": {},
   "outputs": [],
   "source": [
    "# xgb_model_0 = joblib.load('../models/r2_models/XGB_0.joblib')\n",
    "# xgb_model_1 = joblib.load('../models/r2_models/XGB_1.joblib')\n",
    "# xgb_model_2 = joblib.load('../models/r2_models/XGB_2.joblib')\n",
    "xgb_model_3 = joblib.load('../models/r2_models/XGB_3.joblib')"
   ]
  },
  {
   "cell_type": "code",
   "execution_count": 23,
   "metadata": {},
   "outputs": [],
   "source": [
    "# xgb_proba_pred_0 = xgb_model_0.predict_proba(X)[:, 1] # 확률 예측\n",
    "# xgb_proba_pred_1 = xgb_model_1.predict_proba(X)[:, 1] # 확률 예측\n",
    "# xgb_proba_pred_2 = xgb_model_2.predict_proba(X)[:, 1] # 확률 예측\n",
    "xgb_proba_pred_3 = xgb_model_3.predict_proba(X)[:, 1] # 확률 예측"
   ]
  },
  {
   "cell_type": "code",
   "execution_count": 24,
   "metadata": {},
   "outputs": [],
   "source": [
    "'''\n",
    "# submission format에 맞춰준다.\n",
    "xgb_proba_pred_df_0 = pd.DataFrame(xgb_proba_pred_0)\n",
    "xgb_re_df_0 = df[['id']]\n",
    "xgb_rd_df_0 = pd.concat([xgb_re_df_0, xgb_proba_pred_df_0], axis=1)\n",
    "xgb_rd_df_0.columns = ['id', 'binds0']\n",
    "'''\n",
    "'''\n",
    "# submission format에 맞춰준다.\n",
    "xgb_proba_pred_df_1 = pd.DataFrame(xgb_proba_pred_1)\n",
    "xgb_re_df_1 = df[['id']]\n",
    "xgb_rd_df_1 = pd.concat([xgb_re_df_1, xgb_proba_pred_df_1], axis=1)\n",
    "xgb_rd_df_1.columns = ['id', 'binds1']\n",
    "'''\n",
    "\n",
    "'''\n",
    "# submission format에 맞춰준다.\n",
    "xgb_proba_pred_df_2 = pd.DataFrame(xgb_proba_pred_2)\n",
    "xgb_re_df_2 = df[['id']]\n",
    "xgb_rd_df_2 = pd.concat([xgb_re_df_2, xgb_proba_pred_df_2], axis=1)\n",
    "xgb_rd_df_2.columns = ['id', 'binds2']\n",
    "'''\n",
    "\n",
    "\n",
    "# submission format에 맞춰준다.\n",
    "xgb_proba_pred_df_3 = pd.DataFrame(xgb_proba_pred_3)\n",
    "xgb_re_df_3 = df[['id']]\n",
    "xgb_rd_df_3 = pd.concat([xgb_re_df_3, xgb_proba_pred_df_3], axis=1)\n",
    "xgb_rd_df_3.columns = ['id', 'binds3']\n"
   ]
  },
  {
   "cell_type": "code",
   "execution_count": 25,
   "metadata": {},
   "outputs": [],
   "source": [
    "# csv 파일 생성\n",
    "# xgb_rd_df_0.to_csv('XGB_0_pred.csv', index=False)\n",
    "# xgb_rd_df_1.to_csv('XGB_1_pred.csv', index=False)\n",
    "# xgb_rd_df_2.to_csv('XGB_2_pred.csv', index=False)\n",
    "xgb_rd_df_3.to_csv('XGB_3_pred.csv', index=False)"
   ]
  },
  {
   "cell_type": "code",
   "execution_count": 29,
   "metadata": {},
   "outputs": [
    {
     "data": {
      "text/html": [
       "<div>\n",
       "<style scoped>\n",
       "    .dataframe tbody tr th:only-of-type {\n",
       "        vertical-align: middle;\n",
       "    }\n",
       "\n",
       "    .dataframe tbody tr th {\n",
       "        vertical-align: top;\n",
       "    }\n",
       "\n",
       "    .dataframe thead th {\n",
       "        text-align: right;\n",
       "    }\n",
       "</style>\n",
       "<table border=\"1\" class=\"dataframe\">\n",
       "  <thead>\n",
       "    <tr style=\"text-align: right;\">\n",
       "      <th></th>\n",
       "      <th>id</th>\n",
       "      <th>0</th>\n",
       "    </tr>\n",
       "  </thead>\n",
       "  <tbody>\n",
       "    <tr>\n",
       "      <th>0</th>\n",
       "      <td>295246830</td>\n",
       "      <td>0.073991</td>\n",
       "    </tr>\n",
       "    <tr>\n",
       "      <th>1</th>\n",
       "      <td>295246831</td>\n",
       "      <td>0.143367</td>\n",
       "    </tr>\n",
       "    <tr>\n",
       "      <th>2</th>\n",
       "      <td>295246832</td>\n",
       "      <td>0.125222</td>\n",
       "    </tr>\n",
       "    <tr>\n",
       "      <th>3</th>\n",
       "      <td>295246833</td>\n",
       "      <td>0.147591</td>\n",
       "    </tr>\n",
       "    <tr>\n",
       "      <th>4</th>\n",
       "      <td>295246834</td>\n",
       "      <td>0.859604</td>\n",
       "    </tr>\n",
       "  </tbody>\n",
       "</table>\n",
       "</div>"
      ],
      "text/plain": [
       "          id         0\n",
       "0  295246830  0.073991\n",
       "1  295246831  0.143367\n",
       "2  295246832  0.125222\n",
       "3  295246833  0.147591\n",
       "4  295246834  0.859604"
      ]
     },
     "execution_count": 29,
     "metadata": {},
     "output_type": "execute_result"
    }
   ],
   "source": [
    "xgb_rd_df_3.columns = ['id', 'binds']"
   ]
  },
  {
   "cell_type": "code",
   "execution_count": null,
   "metadata": {},
   "outputs": [],
   "source": []
  },
  {
   "cell_type": "markdown",
   "metadata": {},
   "source": [
    "## 결과 종합"
   ]
  },
  {
   "cell_type": "code",
   "execution_count": 30,
   "metadata": {},
   "outputs": [],
   "source": [
    "re0 = pd.read_csv('./XGB_0_pred.csv')\n",
    "re1 = pd.read_csv('./XGB_1_pred.csv')\n",
    "re2 = pd.read_csv('./XGB_2_pred.csv')\n",
    "re3 = pd.read_csv('./XGB_3_pred.csv')\n",
    "\n",
    "re0.columns = ['id', 'binds0']\n",
    "re1.columns = ['id', 'binds1']\n",
    "re2.columns = ['id', 'binds2']\n",
    "re3.columns = ['id', 'binds3']"
   ]
  },
  {
   "cell_type": "code",
   "execution_count": 38,
   "metadata": {},
   "outputs": [],
   "source": [
    "re = pd.concat([re0, re1[['binds1']], re2[['binds2']], re3[['binds3']]], axis=1)"
   ]
  },
  {
   "cell_type": "code",
   "execution_count": 39,
   "metadata": {},
   "outputs": [
    {
     "data": {
      "text/html": [
       "<div>\n",
       "<style scoped>\n",
       "    .dataframe tbody tr th:only-of-type {\n",
       "        vertical-align: middle;\n",
       "    }\n",
       "\n",
       "    .dataframe tbody tr th {\n",
       "        vertical-align: top;\n",
       "    }\n",
       "\n",
       "    .dataframe thead th {\n",
       "        text-align: right;\n",
       "    }\n",
       "</style>\n",
       "<table border=\"1\" class=\"dataframe\">\n",
       "  <thead>\n",
       "    <tr style=\"text-align: right;\">\n",
       "      <th></th>\n",
       "      <th>id</th>\n",
       "      <th>binds0</th>\n",
       "      <th>binds1</th>\n",
       "      <th>binds2</th>\n",
       "      <th>binds3</th>\n",
       "    </tr>\n",
       "  </thead>\n",
       "  <tbody>\n",
       "    <tr>\n",
       "      <th>0</th>\n",
       "      <td>295246830</td>\n",
       "      <td>0.177879</td>\n",
       "      <td>0.089716</td>\n",
       "      <td>0.101490</td>\n",
       "      <td>0.073991</td>\n",
       "    </tr>\n",
       "    <tr>\n",
       "      <th>1</th>\n",
       "      <td>295246831</td>\n",
       "      <td>0.123248</td>\n",
       "      <td>0.114661</td>\n",
       "      <td>0.097353</td>\n",
       "      <td>0.143367</td>\n",
       "    </tr>\n",
       "    <tr>\n",
       "      <th>2</th>\n",
       "      <td>295246832</td>\n",
       "      <td>0.076851</td>\n",
       "      <td>0.259128</td>\n",
       "      <td>0.065150</td>\n",
       "      <td>0.125222</td>\n",
       "    </tr>\n",
       "    <tr>\n",
       "      <th>3</th>\n",
       "      <td>295246833</td>\n",
       "      <td>0.201112</td>\n",
       "      <td>0.229155</td>\n",
       "      <td>0.097275</td>\n",
       "      <td>0.147591</td>\n",
       "    </tr>\n",
       "    <tr>\n",
       "      <th>4</th>\n",
       "      <td>295246834</td>\n",
       "      <td>0.192813</td>\n",
       "      <td>0.596845</td>\n",
       "      <td>0.384972</td>\n",
       "      <td>0.859604</td>\n",
       "    </tr>\n",
       "  </tbody>\n",
       "</table>\n",
       "</div>"
      ],
      "text/plain": [
       "          id    binds0    binds1    binds2    binds3\n",
       "0  295246830  0.177879  0.089716  0.101490  0.073991\n",
       "1  295246831  0.123248  0.114661  0.097353  0.143367\n",
       "2  295246832  0.076851  0.259128  0.065150  0.125222\n",
       "3  295246833  0.201112  0.229155  0.097275  0.147591\n",
       "4  295246834  0.192813  0.596845  0.384972  0.859604"
      ]
     },
     "execution_count": 39,
     "metadata": {},
     "output_type": "execute_result"
    }
   ],
   "source": [
    "re.head()"
   ]
  },
  {
   "cell_type": "code",
   "execution_count": 40,
   "metadata": {},
   "outputs": [],
   "source": [
    "re['binds'] = re[['binds0', 'binds1', 'binds2', 'binds3']].min(axis=1)"
   ]
  },
  {
   "cell_type": "code",
   "execution_count": 42,
   "metadata": {},
   "outputs": [],
   "source": [
    "re.drop(['binds0','binds1','binds2','binds3'], axis=1, inplace=True)"
   ]
  },
  {
   "cell_type": "code",
   "execution_count": 48,
   "metadata": {},
   "outputs": [],
   "source": [
    "re.to_csv('re_test.csv', index=False)"
   ]
  },
  {
   "cell_type": "code",
   "execution_count": 49,
   "metadata": {},
   "outputs": [],
   "source": [
    "test = pd.read_csv('./re_test.csv')"
   ]
  },
  {
   "cell_type": "code",
   "execution_count": 50,
   "metadata": {},
   "outputs": [
    {
     "data": {
      "text/html": [
       "<div>\n",
       "<style scoped>\n",
       "    .dataframe tbody tr th:only-of-type {\n",
       "        vertical-align: middle;\n",
       "    }\n",
       "\n",
       "    .dataframe tbody tr th {\n",
       "        vertical-align: top;\n",
       "    }\n",
       "\n",
       "    .dataframe thead th {\n",
       "        text-align: right;\n",
       "    }\n",
       "</style>\n",
       "<table border=\"1\" class=\"dataframe\">\n",
       "  <thead>\n",
       "    <tr style=\"text-align: right;\">\n",
       "      <th></th>\n",
       "      <th>id</th>\n",
       "      <th>binds</th>\n",
       "    </tr>\n",
       "  </thead>\n",
       "  <tbody>\n",
       "    <tr>\n",
       "      <th>0</th>\n",
       "      <td>295246830</td>\n",
       "      <td>0.073991</td>\n",
       "    </tr>\n",
       "    <tr>\n",
       "      <th>1</th>\n",
       "      <td>295246831</td>\n",
       "      <td>0.097353</td>\n",
       "    </tr>\n",
       "    <tr>\n",
       "      <th>2</th>\n",
       "      <td>295246832</td>\n",
       "      <td>0.065150</td>\n",
       "    </tr>\n",
       "    <tr>\n",
       "      <th>3</th>\n",
       "      <td>295246833</td>\n",
       "      <td>0.097275</td>\n",
       "    </tr>\n",
       "    <tr>\n",
       "      <th>4</th>\n",
       "      <td>295246834</td>\n",
       "      <td>0.192813</td>\n",
       "    </tr>\n",
       "  </tbody>\n",
       "</table>\n",
       "</div>"
      ],
      "text/plain": [
       "          id     binds\n",
       "0  295246830  0.073991\n",
       "1  295246831  0.097353\n",
       "2  295246832  0.065150\n",
       "3  295246833  0.097275\n",
       "4  295246834  0.192813"
      ]
     },
     "execution_count": 50,
     "metadata": {},
     "output_type": "execute_result"
    }
   ],
   "source": [
    "test.head()"
   ]
  }
 ],
 "metadata": {
  "kernelspec": {
   "display_name": "base",
   "language": "python",
   "name": "python3"
  },
  "language_info": {
   "codemirror_mode": {
    "name": "ipython",
    "version": 3
   },
   "file_extension": ".py",
   "mimetype": "text/x-python",
   "name": "python",
   "nbconvert_exporter": "python",
   "pygments_lexer": "ipython3",
   "version": "3.1.-1"
  }
 },
 "nbformat": 4,
 "nbformat_minor": 2
}
