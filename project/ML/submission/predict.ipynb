{
 "cells": [
  {
   "cell_type": "markdown",
   "metadata": {},
   "source": [
    "# submission 데이터 예측"
   ]
  },
  {
   "cell_type": "code",
   "execution_count": 1,
   "metadata": {},
   "outputs": [],
   "source": [
    "import pandas as pd\n",
    "import joblib\n",
    "import gc"
   ]
  },
  {
   "cell_type": "markdown",
   "metadata": {},
   "source": [
    "## data load"
   ]
  },
  {
   "cell_type": "code",
   "execution_count": 2,
   "metadata": {},
   "outputs": [],
   "source": [
    "df = pd.DataFrame()\n",
    "\n",
    "for i in range(4):\n",
    "    df = pd.concat([df, pd.read_csv(f'./submission_data_r2/{i}.csv')], axis=0, ignore_index=True)"
   ]
  },
  {
   "cell_type": "code",
   "execution_count": 3,
   "metadata": {},
   "outputs": [
    {
     "data": {
      "text/plain": [
       "(1674896, 1037)"
      ]
     },
     "execution_count": 3,
     "metadata": {},
     "output_type": "execute_result"
    }
   ],
   "source": [
    "df.shape"
   ]
  },
  {
   "cell_type": "markdown",
   "metadata": {},
   "source": [
    "#### protein one-hot\n",
    "- 학습시 protein one-hot 정보가 가장 마지막에 들어간다.\n",
    "- 미리 만들어둔 데이터에 protein one-hot encoding 추가"
   ]
  },
  {
   "cell_type": "code",
   "execution_count": 4,
   "metadata": {},
   "outputs": [
    {
     "name": "stderr",
     "output_type": "stream",
     "text": [
      "/opt/anaconda3/lib/python3.11/site-packages/sklearn/preprocessing/_encoders.py:868: FutureWarning: `sparse` was renamed to `sparse_output` in version 1.2 and will be removed in 1.4. `sparse_output` is ignored unless you leave `sparse` to its default value.\n",
      "  warnings.warn(\n"
     ]
    },
    {
     "data": {
      "text/plain": [
       "0"
      ]
     },
     "execution_count": 4,
     "metadata": {},
     "output_type": "execute_result"
    }
   ],
   "source": [
    "from sklearn.preprocessing import OneHotEncoder\n",
    "import gc\n",
    "\n",
    "ohe = OneHotEncoder(sparse=False)\n",
    "ohe_re = ohe.fit_transform(df[['protein_name']])\n",
    "\n",
    "df = pd.concat([df, pd.DataFrame(ohe_re, columns=[col for col in ohe.categories_[0]])], axis=1)\n",
    "\n",
    "del ohe\n",
    "del ohe_re\n",
    "gc.collect()"
   ]
  },
  {
   "cell_type": "markdown",
   "metadata": {},
   "source": [
    "# X data 생성\n",
    "- 결과 예측 데이터 생성\n",
    "- X의 형태\n",
    "    - (1674896, 1038)\n",
    "    - 'reactivity', 'molecular weight', 'Steric strain'\n",
    "    - 'LogP', 'TPSA', 'NHBD', 'NHBA', 'planarity'\n",
    "    - \n",
    "    - ecfp -> 0 ~ 1023\n",
    "    - 'BRD4', 'HSA', 'sEH'"
   ]
  },
  {
   "cell_type": "code",
   "execution_count": 5,
   "metadata": {},
   "outputs": [
    {
     "data": {
      "text/plain": [
       "(1674896, 1038)"
      ]
     },
     "execution_count": 5,
     "metadata": {},
     "output_type": "execute_result"
    }
   ],
   "source": [
    "# 예측에 불필요한 feature 제거\n",
    "X = df.drop(['id', 'protein_name'], axis=1)\n",
    "\n",
    "# X 형태 확인\n",
    "# (1674896, 1038)가 나와야됨\n",
    "X.shape"
   ]
  },
  {
   "cell_type": "code",
   "execution_count": 6,
   "metadata": {},
   "outputs": [
    {
     "data": {
      "text/html": [
       "<div>\n",
       "<style scoped>\n",
       "    .dataframe tbody tr th:only-of-type {\n",
       "        vertical-align: middle;\n",
       "    }\n",
       "\n",
       "    .dataframe tbody tr th {\n",
       "        vertical-align: top;\n",
       "    }\n",
       "\n",
       "    .dataframe thead th {\n",
       "        text-align: right;\n",
       "    }\n",
       "</style>\n",
       "<table border=\"1\" class=\"dataframe\">\n",
       "  <thead>\n",
       "    <tr style=\"text-align: right;\">\n",
       "      <th></th>\n",
       "      <th>reactivity</th>\n",
       "      <th>molecular weight</th>\n",
       "      <th>Steric strain</th>\n",
       "      <th>LogP</th>\n",
       "      <th>TPSA</th>\n",
       "      <th>NHBD</th>\n",
       "      <th>NHBA</th>\n",
       "      <th>planarity</th>\n",
       "      <th>PSA</th>\n",
       "      <th>QED</th>\n",
       "      <th>...</th>\n",
       "      <th>1017</th>\n",
       "      <th>1018</th>\n",
       "      <th>1019</th>\n",
       "      <th>1020</th>\n",
       "      <th>1021</th>\n",
       "      <th>1022</th>\n",
       "      <th>1023</th>\n",
       "      <th>BRD4</th>\n",
       "      <th>HSA</th>\n",
       "      <th>sEH</th>\n",
       "    </tr>\n",
       "  </thead>\n",
       "  <tbody>\n",
       "    <tr>\n",
       "      <th>0</th>\n",
       "      <td>19.029854</td>\n",
       "      <td>615.042</td>\n",
       "      <td>12</td>\n",
       "      <td>4.8093</td>\n",
       "      <td>103.86</td>\n",
       "      <td>4</td>\n",
       "      <td>12</td>\n",
       "      <td>3</td>\n",
       "      <td>103.86</td>\n",
       "      <td>0.171523</td>\n",
       "      <td>...</td>\n",
       "      <td>0</td>\n",
       "      <td>0</td>\n",
       "      <td>0</td>\n",
       "      <td>0</td>\n",
       "      <td>0</td>\n",
       "      <td>0</td>\n",
       "      <td>0</td>\n",
       "      <td>1.0</td>\n",
       "      <td>0.0</td>\n",
       "      <td>0.0</td>\n",
       "    </tr>\n",
       "    <tr>\n",
       "      <th>1</th>\n",
       "      <td>19.029854</td>\n",
       "      <td>615.042</td>\n",
       "      <td>12</td>\n",
       "      <td>4.8093</td>\n",
       "      <td>103.86</td>\n",
       "      <td>4</td>\n",
       "      <td>12</td>\n",
       "      <td>3</td>\n",
       "      <td>103.86</td>\n",
       "      <td>0.171523</td>\n",
       "      <td>...</td>\n",
       "      <td>0</td>\n",
       "      <td>0</td>\n",
       "      <td>0</td>\n",
       "      <td>0</td>\n",
       "      <td>0</td>\n",
       "      <td>0</td>\n",
       "      <td>0</td>\n",
       "      <td>0.0</td>\n",
       "      <td>1.0</td>\n",
       "      <td>0.0</td>\n",
       "    </tr>\n",
       "    <tr>\n",
       "      <th>2</th>\n",
       "      <td>19.029854</td>\n",
       "      <td>615.042</td>\n",
       "      <td>12</td>\n",
       "      <td>4.8093</td>\n",
       "      <td>103.86</td>\n",
       "      <td>4</td>\n",
       "      <td>12</td>\n",
       "      <td>3</td>\n",
       "      <td>103.86</td>\n",
       "      <td>0.171523</td>\n",
       "      <td>...</td>\n",
       "      <td>0</td>\n",
       "      <td>0</td>\n",
       "      <td>0</td>\n",
       "      <td>0</td>\n",
       "      <td>0</td>\n",
       "      <td>0</td>\n",
       "      <td>0</td>\n",
       "      <td>0.0</td>\n",
       "      <td>0.0</td>\n",
       "      <td>1.0</td>\n",
       "    </tr>\n",
       "    <tr>\n",
       "      <th>3</th>\n",
       "      <td>21.611221</td>\n",
       "      <td>689.085</td>\n",
       "      <td>13</td>\n",
       "      <td>2.6868</td>\n",
       "      <td>167.69</td>\n",
       "      <td>5</td>\n",
       "      <td>13</td>\n",
       "      <td>4</td>\n",
       "      <td>167.69</td>\n",
       "      <td>0.103519</td>\n",
       "      <td>...</td>\n",
       "      <td>0</td>\n",
       "      <td>0</td>\n",
       "      <td>0</td>\n",
       "      <td>0</td>\n",
       "      <td>0</td>\n",
       "      <td>0</td>\n",
       "      <td>0</td>\n",
       "      <td>1.0</td>\n",
       "      <td>0.0</td>\n",
       "      <td>0.0</td>\n",
       "    </tr>\n",
       "    <tr>\n",
       "      <th>4</th>\n",
       "      <td>21.611221</td>\n",
       "      <td>689.085</td>\n",
       "      <td>13</td>\n",
       "      <td>2.6868</td>\n",
       "      <td>167.69</td>\n",
       "      <td>5</td>\n",
       "      <td>13</td>\n",
       "      <td>4</td>\n",
       "      <td>167.69</td>\n",
       "      <td>0.103519</td>\n",
       "      <td>...</td>\n",
       "      <td>0</td>\n",
       "      <td>0</td>\n",
       "      <td>0</td>\n",
       "      <td>0</td>\n",
       "      <td>0</td>\n",
       "      <td>0</td>\n",
       "      <td>0</td>\n",
       "      <td>0.0</td>\n",
       "      <td>1.0</td>\n",
       "      <td>0.0</td>\n",
       "    </tr>\n",
       "  </tbody>\n",
       "</table>\n",
       "<p>5 rows × 1038 columns</p>\n",
       "</div>"
      ],
      "text/plain": [
       "   reactivity  molecular weight  Steric strain    LogP    TPSA  NHBD  NHBA  \\\n",
       "0   19.029854           615.042             12  4.8093  103.86     4    12   \n",
       "1   19.029854           615.042             12  4.8093  103.86     4    12   \n",
       "2   19.029854           615.042             12  4.8093  103.86     4    12   \n",
       "3   21.611221           689.085             13  2.6868  167.69     5    13   \n",
       "4   21.611221           689.085             13  2.6868  167.69     5    13   \n",
       "\n",
       "   planarity     PSA       QED  ...  1017  1018  1019  1020  1021  1022  1023  \\\n",
       "0          3  103.86  0.171523  ...     0     0     0     0     0     0     0   \n",
       "1          3  103.86  0.171523  ...     0     0     0     0     0     0     0   \n",
       "2          3  103.86  0.171523  ...     0     0     0     0     0     0     0   \n",
       "3          4  167.69  0.103519  ...     0     0     0     0     0     0     0   \n",
       "4          4  167.69  0.103519  ...     0     0     0     0     0     0     0   \n",
       "\n",
       "   BRD4  HSA  sEH  \n",
       "0   1.0  0.0  0.0  \n",
       "1   0.0  1.0  0.0  \n",
       "2   0.0  0.0  1.0  \n",
       "3   1.0  0.0  0.0  \n",
       "4   0.0  1.0  0.0  \n",
       "\n",
       "[5 rows x 1038 columns]"
      ]
     },
     "execution_count": 6,
     "metadata": {},
     "output_type": "execute_result"
    }
   ],
   "source": [
    "X.head()"
   ]
  },
  {
   "cell_type": "markdown",
   "metadata": {},
   "source": [
    "# 예측"
   ]
  },
  {
   "cell_type": "code",
   "execution_count": 7,
   "metadata": {},
   "outputs": [
    {
     "data": {
      "text/plain": [
       "(1674896, 1038)"
      ]
     },
     "execution_count": 7,
     "metadata": {},
     "output_type": "execute_result"
    }
   ],
   "source": [
    "X.shape"
   ]
  },
  {
   "cell_type": "code",
   "execution_count": 14,
   "metadata": {},
   "outputs": [],
   "source": [
    "# model load\n",
    "XGB_model = joblib.load('../models/voting_models/XGB(800, 0.005, 50, 0.1)_r2_6.joblib')\n",
    "\n",
    "#xgb_pred = XGB_model.predict(X)\n",
    "xgb_proba_pred = XGB_model.predict_proba(X)[:, 1] # 확률 예측\n",
    "\n",
    "# submission format에 맞춰준다.\n",
    "xgb_proba_pred_df = pd.DataFrame(xgb_proba_pred)\n",
    "xgb_re_df = df[['id']]\n",
    "xgb_rd_df = pd.concat([xgb_re_df, xgb_proba_pred_df], axis=1)\n",
    "xgb_rd_df.columns = ['id', 'binds']\n",
    "\n",
    "# csv 파일 생성\n",
    "xgb_rd_df.to_csv('./voting/voting_XGB(800, 0.005, 50, 0.1)_r2_6_pred.csv', index=False)"
   ]
  }
 ],
 "metadata": {
  "kernelspec": {
   "display_name": "base",
   "language": "python",
   "name": "python3"
  },
  "language_info": {
   "codemirror_mode": {
    "name": "ipython",
    "version": 3
   },
   "file_extension": ".py",
   "mimetype": "text/x-python",
   "name": "python",
   "nbconvert_exporter": "python",
   "pygments_lexer": "ipython3",
   "version": "3.11.7"
  }
 },
 "nbformat": 4,
 "nbformat_minor": 2
}
