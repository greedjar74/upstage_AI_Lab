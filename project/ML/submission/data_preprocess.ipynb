{
 "cells": [
  {
   "cell_type": "markdown",
   "metadata": {},
   "source": [
    "# submission 데이터 전처리"
   ]
  },
  {
   "cell_type": "code",
   "execution_count": 1,
   "metadata": {},
   "outputs": [],
   "source": [
    "import pandas as pd\n",
    "import numpy as np\n",
    "import gc\n",
    "\n",
    "import rdkit\n",
    "from rdkit import Chem\n",
    "from rdkit.Chem import AllChem\n",
    "from rdkit.Chem import rdMolDescriptors\n",
    "from rdkit.Chem import Descriptors\n",
    "from rdkit.Chem import Crippen\n",
    "from rdkit.Chem import QED\n",
    "from sklearn.preprocessing import OneHotEncoder\n",
    "import concurrent.futures\n",
    "import warnings\n",
    "\n",
    "# 오류 경고 무시하기\n",
    "warnings.filterwarnings(action='ignore')"
   ]
  },
  {
   "cell_type": "markdown",
   "metadata": {},
   "source": [
    "### data load"
   ]
  },
  {
   "cell_type": "code",
   "execution_count": 2,
   "metadata": {},
   "outputs": [],
   "source": [
    "df = pd.read_csv('../leash-BELKA/test.csv') # data load\n",
    "df.drop(['buildingblock1_smiles', 'buildingblock2_smiles', 'buildingblock3_smiles'], axis=1, inplace=True) # 필요없는 feature 삭제"
   ]
  },
  {
   "cell_type": "code",
   "execution_count": 3,
   "metadata": {},
   "outputs": [
    {
     "data": {
      "text/plain": [
       "(1674896, 3)"
      ]
     },
     "execution_count": 3,
     "metadata": {},
     "output_type": "execute_result"
    }
   ],
   "source": [
    "df.shape"
   ]
  },
  {
   "cell_type": "markdown",
   "metadata": {},
   "source": [
    "### feature 생성"
   ]
  },
  {
   "cell_type": "code",
   "execution_count": 4,
   "metadata": {},
   "outputs": [],
   "source": [
    "# ecfp 생성 함수\n",
    "def generate_ecfp(molecule, radius=2, bits=1024):\n",
    "    if molecule is None:\n",
    "        return None\n",
    "    return list(AllChem.GetMorganFingerprintAsBitVect(molecule, radius, nBits=bits))\n",
    "\n",
    "# atomic_num 생성 함수\n",
    "def generate_atomic_num(chunk):\n",
    "    print('start')\n",
    "    atomic_num_li = []\n",
    "    n = chunk.shape[0]\n",
    "    print(n)\n",
    "\n",
    "    for i in range(n):\n",
    "        atomic_num_li.append(chunk['molecule'].tolist()[i].GetNumAtoms())\n",
    "\n",
    "    return atomic_num_li\n",
    "\n",
    "# 각 feature에 대한 함수 정의\n",
    "make_features_dict = {'molecule': Chem.MolFromSmiles,\n",
    "                      'ecfp': generate_ecfp,\n",
    "                      'reactivity': rdMolDescriptors.CalcChi0n,\n",
    "                      'molecular weight': Descriptors.MolWt,\n",
    "                      'Steric strain': rdMolDescriptors.CalcNumRotatableBonds,\n",
    "                      'LogP': Crippen.MolLogP,\n",
    "                      'TPSA': rdMolDescriptors.CalcTPSA,\n",
    "                      'NHBD': rdMolDescriptors.CalcNumHBD,\n",
    "                      'NHBA': rdMolDescriptors.CalcNumRotatableBonds,\n",
    "                      'planarity': rdMolDescriptors.CalcNumAromaticRings,\n",
    "                      'PSA': rdMolDescriptors.CalcTPSA,\n",
    "                      'QED': QED.qed,\n",
    "                      'atomic_num': generate_atomic_num\n",
    "                     }\n",
    "\n",
    "features = make_features_dict.keys() # feature 리스트\n",
    "\n",
    "# 쓰레드에서 수행할 함수\n",
    "def process_chunk(chunk, rank):\n",
    "    for feature in features:\n",
    "        if feature == 'molecule':\n",
    "            chunk[feature] = chunk['molecule_smiles'].apply(make_features_dict[feature])\n",
    "        elif feature == 'atomic_num':\n",
    "            chunk[feature] = generate_atomic_num(chunk)\n",
    "        else :\n",
    "            chunk[feature] = chunk['molecule'].apply(make_features_dict[feature])\n",
    "    \n",
    "    return (chunk, rank)\n",
    "\n",
    "n =  418724 # 전체 데이터셋에서 나눠지는 데이터의 개수 -> 한 데이터셋 마다 418724개 저장\n",
    "m = 4 # 만들어지는 그룹 개수\n",
    "\n",
    "max_workers = 4 # 사용할 쓰레드 개수\n",
    "CHUNK_SIZE = n // max_workers # 한 쓰레드에 들어갈 chunk 크기 -> 418724 // 4 = 104681"
   ]
  },
  {
   "cell_type": "code",
   "execution_count": 5,
   "metadata": {},
   "outputs": [
    {
     "name": "stdout",
     "output_type": "stream",
     "text": [
      "0 START start\n",
      "104681\n",
      "start\n",
      "104681\n",
      "start\n",
      "104681\n",
      "start\n",
      "104681\n",
      "sort complete\n",
      "END\n",
      "1 START start\n",
      "104681\n",
      "start\n",
      "104681\n",
      "start\n",
      "104681\n",
      "start\n",
      "104681\n",
      "sort complete\n",
      "END\n",
      "2 START start\n",
      "104681\n",
      "start\n",
      "104681\n",
      "start\n",
      "104681\n",
      "start\n",
      "104681\n",
      "sort complete\n",
      "END\n",
      "3 START start\n",
      "104681\n",
      "start\n",
      "104681\n",
      "start\n",
      "104681\n",
      "start\n",
      "104681\n",
      "sort complete\n",
      "END\n"
     ]
    },
    {
     "data": {
      "text/plain": [
       "0"
      ]
     },
     "execution_count": 5,
     "metadata": {},
     "output_type": "execute_result"
    }
   ],
   "source": [
    "# 테스트 데이터를 418724개씩 나눠준다.\n",
    "# 4개의 그룹 형성\n",
    "\n",
    "split_df_li = []\n",
    "for i in range(m):\n",
    "    start = i * n\n",
    "    end = (i+1) * n\n",
    "    split_df_li.append(df.iloc[start:end])\n",
    "\n",
    "cnt = 0 # 잘 작동하는지 확인\n",
    "\n",
    "\n",
    "for split_df in split_df_li:\n",
    "    print(cnt, 'START', end=' ') # 시작\n",
    "    thread_result_li = [] # 각 쓰레드의 결과 저장 리스트\n",
    "\n",
    "    with concurrent.futures.ThreadPoolExecutor(max_workers=max_workers) as executor:\n",
    "        futures = [] # 쓰레드들의 집합\n",
    "        rank = 0 # 쓰레드가 끝나는 시점이 다르기에 순서를 찾기위해 사용\n",
    "        for start in range(0, n, CHUNK_SIZE):\n",
    "            end = start + CHUNK_SIZE\n",
    "            chunk = split_df.iloc[start:end] # 쓰레드에 들어갈 데이터 추출 -> 150000 / 6 = 25000\n",
    "            future = executor.submit(process_chunk, chunk, rank) # 쓰레드에 할일 지정\n",
    "            futures.append(future) # 쓰레드를 리스트에 추가\n",
    "            rank += 1 \n",
    "            \n",
    "            del future\n",
    "            gc.collect()\n",
    "\n",
    "        for future in concurrent.futures.as_completed(futures):\n",
    "            result = future.result() # 쓰레드에서 끝난 결과 반환\n",
    "            thread_result_li.append(result) # 결과들을 하나의 리스트에 저장\n",
    "\n",
    "            del result\n",
    "            gc.collect()\n",
    "        \n",
    "        thread_result_li.sort(key= lambda x: x[1])\n",
    "        print('sort complete')\n",
    "\n",
    "    # 모든 결과를 하나의 dataframe으로 병합\n",
    "    full_df_tmp = pd.concat([thread_result_li[i][0] for i in range(max_workers)], axis=0, ignore_index=True)\n",
    "    ecfp_df_tmp = pd.DataFrame(full_df_tmp['ecfp'].to_list()) # ecfp를 dataframe 형태로 변환후 더해준다.\n",
    "    full_df_tmp.drop(['molecule_smiles', 'molecule', 'ecfp'], axis=1, inplace=True) # 필요없는 데이터 삭제 -> molecule, ecfp\n",
    "    full_df = pd.concat([full_df_tmp, ecfp_df_tmp], axis=1) # ecfp 추가\n",
    "    full_df.to_csv(f'./submission_data2/{cnt}.csv', index=False) # 데이터 저장\n",
    "\n",
    "    del thread_result_li\n",
    "    del futures\n",
    "    del full_df_tmp\n",
    "    del ecfp_df_tmp\n",
    "    del full_df\n",
    "    gc.collect()\n",
    "\n",
    "    cnt += 1\n",
    "    print('END')\n",
    "\n",
    "del df\n",
    "del split_df_li\n",
    "gc.collect()"
   ]
  },
  {
   "cell_type": "code",
   "execution_count": null,
   "metadata": {},
   "outputs": [],
   "source": []
  },
  {
   "cell_type": "code",
   "execution_count": null,
   "metadata": {},
   "outputs": [],
   "source": []
  },
  {
   "cell_type": "code",
   "execution_count": null,
   "metadata": {},
   "outputs": [],
   "source": []
  },
  {
   "cell_type": "code",
   "execution_count": null,
   "metadata": {},
   "outputs": [],
   "source": []
  }
 ],
 "metadata": {
  "kernelspec": {
   "display_name": "base",
   "language": "python",
   "name": "python3"
  },
  "language_info": {
   "codemirror_mode": {
    "name": "ipython",
    "version": 3
   },
   "file_extension": ".py",
   "mimetype": "text/x-python",
   "name": "python",
   "nbconvert_exporter": "python",
   "pygments_lexer": "ipython3",
   "version": "3.11.7"
  }
 },
 "nbformat": 4,
 "nbformat_minor": 2
}
