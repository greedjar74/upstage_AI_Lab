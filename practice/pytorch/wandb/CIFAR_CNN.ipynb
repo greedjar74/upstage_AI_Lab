{
 "cells": [
  {
   "cell_type": "markdown",
   "metadata": {},
   "source": [
    "# CIFAR 분류기"
   ]
  },
  {
   "cell_type": "code",
   "execution_count": 1,
   "metadata": {},
   "outputs": [],
   "source": [
    "import numpy as np\n",
    "import matplotlib.pyplot as plt\n",
    "from tqdm.notebook import tqdm\n",
    "import os\n",
    "import wandb\n",
    "import gc\n",
    "\n",
    "import torch\n",
    "import torchvision\n",
    "import torchvision.transforms as T\n",
    "from torchsummary import summary\n",
    "\n",
    "from sklearn.metrics import accuracy_score"
   ]
  },
  {
   "cell_type": "code",
   "execution_count": 2,
   "metadata": {},
   "outputs": [],
   "source": [
    "# seed 고정\n",
    "import random\n",
    "import torch.backends.cudnn as cudnn\n",
    "\n",
    "def random_seed(seed_num):\n",
    "    torch.manual_seed(seed_num)\n",
    "    torch.cuda.manual_seed(seed_num)\n",
    "    torch.cuda.manual_seed_all(seed_num)\n",
    "    np.random.seed(seed_num)\n",
    "    cudnn.benchmark = False\n",
    "    cudnn.deterministic = True\n",
    "    random.seed(seed_num)\n",
    "random_seed(42)"
   ]
  },
  {
   "cell_type": "code",
   "execution_count": 3,
   "metadata": {},
   "outputs": [],
   "source": [
    "device = torch.device('mps')"
   ]
  },
  {
   "cell_type": "code",
   "execution_count": 5,
   "metadata": {},
   "outputs": [
    {
     "name": "stderr",
     "output_type": "stream",
     "text": [
      "Failed to detect the name of this notebook, you can set it manually with the WANDB_NOTEBOOK_NAME environment variable to enable code saving.\n",
      "\u001b[34m\u001b[1mwandb\u001b[0m: Currently logged in as: \u001b[33mgreedjar74\u001b[0m (\u001b[33mgreedjar7498\u001b[0m). Use \u001b[1m`wandb login --relogin`\u001b[0m to force relogin\n",
      "\u001b[34m\u001b[1mwandb\u001b[0m: \u001b[33mWARNING\u001b[0m If you're specifying your api key in code, ensure this code is not shared publicly.\n",
      "\u001b[34m\u001b[1mwandb\u001b[0m: \u001b[33mWARNING\u001b[0m Consider setting the WANDB_API_KEY environment variable, or running `wandb login` from the command line.\n",
      "\u001b[34m\u001b[1mwandb\u001b[0m: Appending key for api.wandb.ai to your netrc file: /Users/kimhongseok/.netrc\n"
     ]
    },
    {
     "data": {
      "text/html": [
       "Tracking run with wandb version 0.17.3"
      ],
      "text/plain": [
       "<IPython.core.display.HTML object>"
      ]
     },
     "metadata": {},
     "output_type": "display_data"
    },
    {
     "data": {
      "text/html": [
       "Run data is saved locally in <code>/Users/kimhongseok/upstage_AI_Lab/practice/pytorch/wandb/wandb/run-20240702_221520-t49hdffa</code>"
      ],
      "text/plain": [
       "<IPython.core.display.HTML object>"
      ]
     },
     "metadata": {},
     "output_type": "display_data"
    },
    {
     "data": {
      "text/html": [
       "Syncing run <strong><a href='https://wandb.ai/greedjar7498/CIFAR_10/runs/t49hdffa' target=\"_blank\">training</a></strong> to <a href='https://wandb.ai/greedjar7498/CIFAR_10' target=\"_blank\">Weights & Biases</a> (<a href='https://wandb.me/run' target=\"_blank\">docs</a>)<br/>"
      ],
      "text/plain": [
       "<IPython.core.display.HTML object>"
      ]
     },
     "metadata": {},
     "output_type": "display_data"
    },
    {
     "data": {
      "text/html": [
       " View project at <a href='https://wandb.ai/greedjar7498/CIFAR_10' target=\"_blank\">https://wandb.ai/greedjar7498/CIFAR_10</a>"
      ],
      "text/plain": [
       "<IPython.core.display.HTML object>"
      ]
     },
     "metadata": {},
     "output_type": "display_data"
    },
    {
     "data": {
      "text/html": [
       " View run at <a href='https://wandb.ai/greedjar7498/CIFAR_10/runs/t49hdffa' target=\"_blank\">https://wandb.ai/greedjar7498/CIFAR_10/runs/t49hdffa</a>"
      ],
      "text/plain": [
       "<IPython.core.display.HTML object>"
      ]
     },
     "metadata": {},
     "output_type": "display_data"
    }
   ],
   "source": [
    "wandb.login(key='')"
   ]
  },
  {
   "cell_type": "markdown",
   "metadata": {},
   "source": [
    "# Data"
   ]
  },
  {
   "cell_type": "code",
   "execution_count": 4,
   "metadata": {},
   "outputs": [
    {
     "name": "stdout",
     "output_type": "stream",
     "text": [
      "Files already downloaded and verified\n",
      "Files already downloaded and verified\n"
     ]
    }
   ],
   "source": [
    "# 데이터 불러오기\n",
    "cifar_transform = T.Compose([\n",
    "    T.ToTensor(), # 텐서 형식으로 변환\n",
    "])\n",
    "download_root = './CIFAR10_DATASET'\n",
    "\n",
    "trainval_dataset = torchvision.datasets.CIFAR10(download_root, transform=cifar_transform, train=True, download=True) # train dataset 다운로드\n",
    "test_dataset = torchvision.datasets.CIFAR10(download_root, transform=cifar_transform, train=False, download=True) # test dataset 다운로드"
   ]
  },
  {
   "cell_type": "code",
   "execution_count": 5,
   "metadata": {},
   "outputs": [
    {
     "name": "stdout",
     "output_type": "stream",
     "text": [
      "Train dataset 개수 :  40000\n",
      "Validation dataset 개수 :  10000\n"
     ]
    }
   ],
   "source": [
    "train_num, valid_num = int(len(trainval_dataset) * 0.8), int(len(trainval_dataset) * 0.2) # 8 : 2 = train : valid\n",
    "print(\"Train dataset 개수 : \",train_num)\n",
    "print(\"Validation dataset 개수 : \",valid_num)\n",
    "train_dataset,val_dataset = torch.utils.data.random_split(trainval_dataset, [train_num, valid_num]) # train - valid set 나누기"
   ]
  },
  {
   "cell_type": "code",
   "execution_count": 6,
   "metadata": {},
   "outputs": [],
   "source": [
    "BATCH_SIZE = 500 # 배치사이즈 설정\n",
    "# 데이터로더 설정\n",
    "ae_train_dataloader = torch.utils.data.DataLoader(dataset=train_dataset,\n",
    "                                          batch_size=BATCH_SIZE,\n",
    "                                          shuffle=True,\n",
    "                                          drop_last=False, num_workers = 8) # train dataloader 구성\n",
    "ae_val_dataloader = torch.utils.data.DataLoader(dataset=val_dataset,\n",
    "                                          batch_size=BATCH_SIZE,\n",
    "                                          shuffle=False,\n",
    "                                          drop_last=False, num_workers = 8) # valid dataloader 구성\n",
    "ae_test_dataloader = torch.utils.data.DataLoader(dataset=test_dataset,\n",
    "                                          batch_size=BATCH_SIZE,\n",
    "                                          shuffle=False,\n",
    "                                          drop_last=False, num_workers = 8) # test dataloader 구성"
   ]
  },
  {
   "cell_type": "code",
   "execution_count": 7,
   "metadata": {},
   "outputs": [],
   "source": [
    "BATCH_SIZE = 1000 # 배치사이즈 설정\n",
    "# 데이터로더 설정\n",
    "clf_train_dataloader = torch.utils.data.DataLoader(dataset=train_dataset,\n",
    "                                          batch_size=BATCH_SIZE,\n",
    "                                          shuffle=True,\n",
    "                                          drop_last=False, num_workers = 8) # train dataloader 구성\n",
    "clf_val_dataloader = torch.utils.data.DataLoader(dataset=val_dataset,\n",
    "                                          batch_size=BATCH_SIZE,\n",
    "                                          shuffle=False,\n",
    "                                          drop_last=False, num_workers = 8) # valid dataloader 구성\n",
    "clf_test_dataloader = torch.utils.data.DataLoader(dataset=test_dataset,\n",
    "                                          batch_size=BATCH_SIZE,\n",
    "                                          shuffle=False,\n",
    "                                          drop_last=False, num_workers = 8) # test dataloader 구성"
   ]
  },
  {
   "cell_type": "code",
   "execution_count": 8,
   "metadata": {},
   "outputs": [
    {
     "data": {
      "text/plain": [
       "torch.Size([3, 32, 32])"
      ]
     },
     "execution_count": 8,
     "metadata": {},
     "output_type": "execute_result"
    }
   ],
   "source": [
    "train_dataset[0][0].shape"
   ]
  },
  {
   "cell_type": "markdown",
   "metadata": {},
   "source": [
    "# Autoencoder Model"
   ]
  },
  {
   "cell_type": "code",
   "execution_count": 9,
   "metadata": {},
   "outputs": [],
   "source": [
    "class AutoEncoder(torch.nn.Module):\n",
    "    def __init__(self):\n",
    "        super().__init__()\n",
    "\n",
    "        self.encoder = torch.nn.Sequential(\n",
    "            torch.nn.Linear(in_features=3*32*32, out_features=2048),\n",
    "            torch.nn.BatchNorm1d(num_features=2048),\n",
    "            torch.nn.ReLU(True),\n",
    "            torch.nn.Linear(in_features=2048, out_features=1024),\n",
    "            torch.nn.BatchNorm1d(num_features=1024),\n",
    "            torch.nn.ReLU(True),\n",
    "            torch.nn.Linear(in_features=1024, out_features=512),\n",
    "            torch.nn.BatchNorm1d(num_features=512),\n",
    "            torch.nn.ReLU(True),\n",
    "            torch.nn.Linear(in_features=512, out_features=256),\n",
    "            torch.nn.BatchNorm1d(num_features=256),\n",
    "            torch.nn.ReLU(True),\n",
    "            torch.nn.Dropout(0.2),\n",
    "            torch.nn.Linear(in_features=256, out_features=64),\n",
    "            torch.nn.BatchNorm1d(num_features=64),\n",
    "            torch.nn.ReLU(True),\n",
    "            torch.nn.Dropout(0.2),\n",
    "            torch.nn.Linear(in_features=64, out_features=16),\n",
    "            torch.nn.ReLU(True)\n",
    "        )\n",
    "\n",
    "        self.decoder = torch.nn.Sequential(\n",
    "            torch.nn.Linear(in_features=16, out_features=64),\n",
    "            torch.nn.BatchNorm1d(num_features=64),\n",
    "            torch.nn.ReLU(True),\n",
    "            torch.nn.Linear(in_features=64, out_features=256),\n",
    "            torch.nn.BatchNorm1d(num_features=256),\n",
    "            torch.nn.ReLU(True),\n",
    "            torch.nn.Linear(in_features=256, out_features=512),\n",
    "            torch.nn.BatchNorm1d(num_features=512),\n",
    "            torch.nn.ReLU(True),\n",
    "            torch.nn.Linear(in_features=512, out_features=1024),\n",
    "            torch.nn.BatchNorm1d(num_features=1024),\n",
    "            torch.nn.ReLU(True),\n",
    "            torch.nn.Linear(in_features=1024, out_features=2048),\n",
    "            torch.nn.BatchNorm1d(num_features=2048),\n",
    "            torch.nn.ReLU(True),\n",
    "            torch.nn.Dropout(0.2),\n",
    "            torch.nn.Linear(in_features=2048, out_features=3*32*32),\n",
    "            torch.nn.ReLU(True),\n",
    "            torch.nn.Dropout(0.2),\n",
    "            torch.nn.Sigmoid()\n",
    "        )\n",
    "\n",
    "    def forward(self, x):\n",
    "        x = x.view(x.size(0), -1)\n",
    "        encoded = self.encoder(x)\n",
    "        decoded = self.decoder(encoded)\n",
    "        return encoded, decoded"
   ]
  },
  {
   "cell_type": "code",
   "execution_count": 10,
   "metadata": {},
   "outputs": [
    {
     "name": "stdout",
     "output_type": "stream",
     "text": [
      "----------------------------------------------------------------\n",
      "        Layer (type)               Output Shape         Param #\n",
      "================================================================\n",
      "            Linear-1                 [-1, 2048]       6,293,504\n",
      "       BatchNorm1d-2                 [-1, 2048]           4,096\n",
      "              ReLU-3                 [-1, 2048]               0\n",
      "            Linear-4                 [-1, 1024]       2,098,176\n",
      "       BatchNorm1d-5                 [-1, 1024]           2,048\n",
      "              ReLU-6                 [-1, 1024]               0\n",
      "            Linear-7                  [-1, 512]         524,800\n",
      "       BatchNorm1d-8                  [-1, 512]           1,024\n",
      "              ReLU-9                  [-1, 512]               0\n",
      "           Linear-10                  [-1, 256]         131,328\n",
      "      BatchNorm1d-11                  [-1, 256]             512\n",
      "             ReLU-12                  [-1, 256]               0\n",
      "          Dropout-13                  [-1, 256]               0\n",
      "           Linear-14                   [-1, 64]          16,448\n",
      "      BatchNorm1d-15                   [-1, 64]             128\n",
      "             ReLU-16                   [-1, 64]               0\n",
      "          Dropout-17                   [-1, 64]               0\n",
      "           Linear-18                   [-1, 16]           1,040\n",
      "             ReLU-19                   [-1, 16]               0\n",
      "           Linear-20                   [-1, 64]           1,088\n",
      "      BatchNorm1d-21                   [-1, 64]             128\n",
      "             ReLU-22                   [-1, 64]               0\n",
      "           Linear-23                  [-1, 256]          16,640\n",
      "      BatchNorm1d-24                  [-1, 256]             512\n",
      "             ReLU-25                  [-1, 256]               0\n",
      "           Linear-26                  [-1, 512]         131,584\n",
      "      BatchNorm1d-27                  [-1, 512]           1,024\n",
      "             ReLU-28                  [-1, 512]               0\n",
      "           Linear-29                 [-1, 1024]         525,312\n",
      "      BatchNorm1d-30                 [-1, 1024]           2,048\n",
      "             ReLU-31                 [-1, 1024]               0\n",
      "           Linear-32                 [-1, 2048]       2,099,200\n",
      "      BatchNorm1d-33                 [-1, 2048]           4,096\n",
      "             ReLU-34                 [-1, 2048]               0\n",
      "          Dropout-35                 [-1, 2048]               0\n",
      "           Linear-36                 [-1, 3072]       6,294,528\n",
      "             ReLU-37                 [-1, 3072]               0\n",
      "          Dropout-38                 [-1, 3072]               0\n",
      "          Sigmoid-39                 [-1, 3072]               0\n",
      "================================================================\n",
      "Total params: 18,149,264\n",
      "Trainable params: 18,149,264\n",
      "Non-trainable params: 0\n",
      "----------------------------------------------------------------\n",
      "Input size (MB): 0.01\n",
      "Forward/backward pass size (MB): 0.29\n",
      "Params size (MB): 69.23\n",
      "Estimated Total Size (MB): 69.54\n",
      "----------------------------------------------------------------\n"
     ]
    },
    {
     "data": {
      "text/plain": [
       "0"
      ]
     },
     "execution_count": 10,
     "metadata": {},
     "output_type": "execute_result"
    }
   ],
   "source": [
    "ae_model = AutoEncoder()\n",
    "summary(ae_model, input_size=(3, 32, 32))\n",
    "\n",
    "del ae_model\n",
    "gc.collect()"
   ]
  },
  {
   "cell_type": "markdown",
   "metadata": {},
   "source": [
    "# Classifier Model"
   ]
  },
  {
   "cell_type": "code",
   "execution_count": 11,
   "metadata": {},
   "outputs": [],
   "source": [
    "class Classifier(torch.nn.Module):\n",
    "    def __init__(self):\n",
    "        super().__init__()\n",
    "\n",
    "        self.layer = torch.nn.Sequential(\n",
    "            torch.nn.Conv2d(in_channels=3, out_channels=16, kernel_size=3, padding=1, stride=1),\n",
    "            torch.nn.BatchNorm2d(num_features=16),\n",
    "            torch.nn.ReLU(True),\n",
    "            torch.nn.MaxPool2d(kernel_size=3, padding=1, stride=1),\n",
    "            torch.nn.Conv2d(in_channels=16, out_channels=32, kernel_size=3, padding=1, stride=1),\n",
    "            torch.nn.BatchNorm2d(num_features=32),\n",
    "            torch.nn.ReLU(True),\n",
    "            torch.nn.MaxPool2d(kernel_size=3, padding=1, stride=1),\n",
    "            torch.nn.Conv2d(in_channels=32, out_channels=128, kernel_size=3, padding=1, stride=1),\n",
    "            torch.nn.BatchNorm2d(num_features=128),\n",
    "            torch.nn.ReLU(True),\n",
    "            torch.nn.MaxPool2d(kernel_size=2),\n",
    "            torch.nn.Flatten(),\n",
    "            torch.nn.Linear(in_features=16*16*128, out_features=2048),\n",
    "            torch.nn.BatchNorm1d(num_features=2048),\n",
    "            torch.nn.ReLU(True),\n",
    "            torch.nn.Linear(in_features=2048, out_features=1024),\n",
    "            torch.nn.BatchNorm1d(num_features=1024),\n",
    "            torch.nn.ReLU(True),\n",
    "            torch.nn.Linear(in_features=1024, out_features=256),\n",
    "            torch.nn.BatchNorm1d(num_features=256),\n",
    "            torch.nn.ReLU(True),\n",
    "            torch.nn.Linear(in_features=256, out_features=64),\n",
    "            torch.nn.BatchNorm1d(num_features=64),\n",
    "            torch.nn.ReLU(True),\n",
    "            torch.nn.Linear(in_features=64, out_features=10),\n",
    "            torch.nn.LogSoftmax(dim=1)\n",
    "        )\n",
    "\n",
    "    \n",
    "    def forward(self, x):\n",
    "        x = x.view(-1, 3, 32, 32)\n",
    "        outputs = self.layer(x)\n",
    "        return outputs"
   ]
  },
  {
   "cell_type": "code",
   "execution_count": 12,
   "metadata": {},
   "outputs": [
    {
     "name": "stdout",
     "output_type": "stream",
     "text": [
      "----------------------------------------------------------------\n",
      "        Layer (type)               Output Shape         Param #\n",
      "================================================================\n",
      "            Conv2d-1           [-1, 16, 32, 32]             448\n",
      "       BatchNorm2d-2           [-1, 16, 32, 32]              32\n",
      "              ReLU-3           [-1, 16, 32, 32]               0\n",
      "         MaxPool2d-4           [-1, 16, 32, 32]               0\n",
      "            Conv2d-5           [-1, 32, 32, 32]           4,640\n",
      "       BatchNorm2d-6           [-1, 32, 32, 32]              64\n",
      "              ReLU-7           [-1, 32, 32, 32]               0\n",
      "         MaxPool2d-8           [-1, 32, 32, 32]               0\n",
      "            Conv2d-9          [-1, 128, 32, 32]          36,992\n",
      "      BatchNorm2d-10          [-1, 128, 32, 32]             256\n",
      "             ReLU-11          [-1, 128, 32, 32]               0\n",
      "        MaxPool2d-12          [-1, 128, 16, 16]               0\n",
      "          Flatten-13                [-1, 32768]               0\n",
      "           Linear-14                 [-1, 2048]      67,110,912\n",
      "      BatchNorm1d-15                 [-1, 2048]           4,096\n",
      "             ReLU-16                 [-1, 2048]               0\n",
      "           Linear-17                 [-1, 1024]       2,098,176\n",
      "      BatchNorm1d-18                 [-1, 1024]           2,048\n",
      "             ReLU-19                 [-1, 1024]               0\n",
      "           Linear-20                  [-1, 256]         262,400\n",
      "      BatchNorm1d-21                  [-1, 256]             512\n",
      "             ReLU-22                  [-1, 256]               0\n",
      "           Linear-23                   [-1, 64]          16,448\n",
      "      BatchNorm1d-24                   [-1, 64]             128\n",
      "             ReLU-25                   [-1, 64]               0\n",
      "           Linear-26                   [-1, 10]             650\n",
      "       LogSoftmax-27                   [-1, 10]               0\n",
      "================================================================\n",
      "Total params: 69,537,802\n",
      "Trainable params: 69,537,802\n",
      "Non-trainable params: 0\n",
      "----------------------------------------------------------------\n",
      "Input size (MB): 0.01\n",
      "Forward/backward pass size (MB): 5.08\n",
      "Params size (MB): 265.27\n",
      "Estimated Total Size (MB): 270.36\n",
      "----------------------------------------------------------------\n"
     ]
    },
    {
     "data": {
      "text/plain": [
       "0"
      ]
     },
     "execution_count": 12,
     "metadata": {},
     "output_type": "execute_result"
    }
   ],
   "source": [
    "clf_model = Classifier()\n",
    "summary(clf_model, input_size=(1, 32*32*3))\n",
    "\n",
    "del clf_model\n",
    "gc.collect()"
   ]
  },
  {
   "cell_type": "markdown",
   "metadata": {},
   "source": [
    "# training"
   ]
  },
  {
   "cell_type": "code",
   "execution_count": 36,
   "metadata": {},
   "outputs": [
    {
     "data": {
      "text/html": [
       "Finishing last run (ID:k24t1af4) before initializing another..."
      ],
      "text/plain": [
       "<IPython.core.display.HTML object>"
      ]
     },
     "metadata": {},
     "output_type": "display_data"
    },
    {
     "data": {
      "application/vnd.jupyter.widget-view+json": {
       "model_id": "1cfc4ded43ad43a68079df5d23ecaaef",
       "version_major": 2,
       "version_minor": 0
      },
      "text/plain": [
       "VBox(children=(Label(value='0.029 MB of 0.029 MB uploaded\\r'), FloatProgress(value=1.0, max=1.0)))"
      ]
     },
     "metadata": {},
     "output_type": "display_data"
    },
    {
     "data": {
      "text/html": [
       " View run <strong style=\"color:#cdcd00\">Classifier training</strong> at: <a href='https://wandb.ai/greedjar7498/CIFAR_10/runs/k24t1af4' target=\"_blank\">https://wandb.ai/greedjar7498/CIFAR_10/runs/k24t1af4</a><br/> View project at: <a href='https://wandb.ai/greedjar7498/CIFAR_10' target=\"_blank\">https://wandb.ai/greedjar7498/CIFAR_10</a><br/>Synced 5 W&B file(s), 0 media file(s), 0 artifact file(s) and 0 other file(s)"
      ],
      "text/plain": [
       "<IPython.core.display.HTML object>"
      ]
     },
     "metadata": {},
     "output_type": "display_data"
    },
    {
     "data": {
      "text/html": [
       "Find logs at: <code>./wandb/run-20240702_225312-k24t1af4/logs</code>"
      ],
      "text/plain": [
       "<IPython.core.display.HTML object>"
      ]
     },
     "metadata": {},
     "output_type": "display_data"
    },
    {
     "data": {
      "text/html": [
       "The new W&B backend becomes opt-out in version 0.18.0; try it out with `wandb.require(\"core\")`! See https://wandb.me/wandb-core for more information."
      ],
      "text/plain": [
       "<IPython.core.display.HTML object>"
      ]
     },
     "metadata": {},
     "output_type": "display_data"
    },
    {
     "data": {
      "text/html": [
       "Successfully finished last run (ID:k24t1af4). Initializing new run:<br/>"
      ],
      "text/plain": [
       "<IPython.core.display.HTML object>"
      ]
     },
     "metadata": {},
     "output_type": "display_data"
    },
    {
     "data": {
      "application/vnd.jupyter.widget-view+json": {
       "model_id": "69286b8738bd4ff79001be205061599a",
       "version_major": 2,
       "version_minor": 0
      },
      "text/plain": [
       "VBox(children=(Label(value='Waiting for wandb.init()...\\r'), FloatProgress(value=0.011167727777501569, max=1.0…"
      ]
     },
     "metadata": {},
     "output_type": "display_data"
    },
    {
     "data": {
      "text/html": [
       "Tracking run with wandb version 0.17.3"
      ],
      "text/plain": [
       "<IPython.core.display.HTML object>"
      ]
     },
     "metadata": {},
     "output_type": "display_data"
    },
    {
     "data": {
      "text/html": [
       "Run data is saved locally in <code>/Users/kimhongseok/upstage_AI_Lab/practice/pytorch/wandb/wandb/run-20240702_230143-747gulkl</code>"
      ],
      "text/plain": [
       "<IPython.core.display.HTML object>"
      ]
     },
     "metadata": {},
     "output_type": "display_data"
    },
    {
     "data": {
      "text/html": [
       "Syncing run <strong><a href='https://wandb.ai/greedjar7498/CIFAR_10/runs/747gulkl' target=\"_blank\">AutoEncoder training</a></strong> to <a href='https://wandb.ai/greedjar7498/CIFAR_10' target=\"_blank\">Weights & Biases</a> (<a href='https://wandb.me/run' target=\"_blank\">docs</a>)<br/>"
      ],
      "text/plain": [
       "<IPython.core.display.HTML object>"
      ]
     },
     "metadata": {},
     "output_type": "display_data"
    },
    {
     "data": {
      "text/html": [
       " View project at <a href='https://wandb.ai/greedjar7498/CIFAR_10' target=\"_blank\">https://wandb.ai/greedjar7498/CIFAR_10</a>"
      ],
      "text/plain": [
       "<IPython.core.display.HTML object>"
      ]
     },
     "metadata": {},
     "output_type": "display_data"
    },
    {
     "data": {
      "text/html": [
       " View run at <a href='https://wandb.ai/greedjar7498/CIFAR_10/runs/747gulkl' target=\"_blank\">https://wandb.ai/greedjar7498/CIFAR_10/runs/747gulkl</a>"
      ],
      "text/plain": [
       "<IPython.core.display.HTML object>"
      ]
     },
     "metadata": {},
     "output_type": "display_data"
    },
    {
     "data": {
      "text/html": [
       "Finishing last run (ID:747gulkl) before initializing another..."
      ],
      "text/plain": [
       "<IPython.core.display.HTML object>"
      ]
     },
     "metadata": {},
     "output_type": "display_data"
    },
    {
     "data": {
      "application/vnd.jupyter.widget-view+json": {
       "model_id": "8593cd2ccf694f6da9aefd3a3d21abf2",
       "version_major": 2,
       "version_minor": 0
      },
      "text/plain": [
       "VBox(children=(Label(value='0.009 MB of 0.029 MB uploaded\\r'), FloatProgress(value=0.31407311549660305, max=1.…"
      ]
     },
     "metadata": {},
     "output_type": "display_data"
    },
    {
     "data": {
      "text/html": [
       " View run <strong style=\"color:#cdcd00\">AutoEncoder training</strong> at: <a href='https://wandb.ai/greedjar7498/CIFAR_10/runs/747gulkl' target=\"_blank\">https://wandb.ai/greedjar7498/CIFAR_10/runs/747gulkl</a><br/> View project at: <a href='https://wandb.ai/greedjar7498/CIFAR_10' target=\"_blank\">https://wandb.ai/greedjar7498/CIFAR_10</a><br/>Synced 5 W&B file(s), 0 media file(s), 0 artifact file(s) and 0 other file(s)"
      ],
      "text/plain": [
       "<IPython.core.display.HTML object>"
      ]
     },
     "metadata": {},
     "output_type": "display_data"
    },
    {
     "data": {
      "text/html": [
       "Find logs at: <code>./wandb/run-20240702_230143-747gulkl/logs</code>"
      ],
      "text/plain": [
       "<IPython.core.display.HTML object>"
      ]
     },
     "metadata": {},
     "output_type": "display_data"
    },
    {
     "data": {
      "text/html": [
       "The new W&B backend becomes opt-out in version 0.18.0; try it out with `wandb.require(\"core\")`! See https://wandb.me/wandb-core for more information."
      ],
      "text/plain": [
       "<IPython.core.display.HTML object>"
      ]
     },
     "metadata": {},
     "output_type": "display_data"
    },
    {
     "data": {
      "text/html": [
       "Successfully finished last run (ID:747gulkl). Initializing new run:<br/>"
      ],
      "text/plain": [
       "<IPython.core.display.HTML object>"
      ]
     },
     "metadata": {},
     "output_type": "display_data"
    },
    {
     "data": {
      "application/vnd.jupyter.widget-view+json": {
       "model_id": "39da02ec82f04b0eb1882f49fc015203",
       "version_major": 2,
       "version_minor": 0
      },
      "text/plain": [
       "VBox(children=(Label(value='Waiting for wandb.init()...\\r'), FloatProgress(value=0.011145804633593394, max=1.0…"
      ]
     },
     "metadata": {},
     "output_type": "display_data"
    },
    {
     "data": {
      "text/html": [
       "Tracking run with wandb version 0.17.3"
      ],
      "text/plain": [
       "<IPython.core.display.HTML object>"
      ]
     },
     "metadata": {},
     "output_type": "display_data"
    },
    {
     "data": {
      "text/html": [
       "Run data is saved locally in <code>/Users/kimhongseok/upstage_AI_Lab/practice/pytorch/wandb/wandb/run-20240702_230152-l6zklhdn</code>"
      ],
      "text/plain": [
       "<IPython.core.display.HTML object>"
      ]
     },
     "metadata": {},
     "output_type": "display_data"
    },
    {
     "data": {
      "text/html": [
       "Syncing run <strong><a href='https://wandb.ai/greedjar7498/CIFAR_10/runs/l6zklhdn' target=\"_blank\">Classifier training</a></strong> to <a href='https://wandb.ai/greedjar7498/CIFAR_10' target=\"_blank\">Weights & Biases</a> (<a href='https://wandb.me/run' target=\"_blank\">docs</a>)<br/>"
      ],
      "text/plain": [
       "<IPython.core.display.HTML object>"
      ]
     },
     "metadata": {},
     "output_type": "display_data"
    },
    {
     "data": {
      "text/html": [
       " View project at <a href='https://wandb.ai/greedjar7498/CIFAR_10' target=\"_blank\">https://wandb.ai/greedjar7498/CIFAR_10</a>"
      ],
      "text/plain": [
       "<IPython.core.display.HTML object>"
      ]
     },
     "metadata": {},
     "output_type": "display_data"
    },
    {
     "data": {
      "text/html": [
       " View run at <a href='https://wandb.ai/greedjar7498/CIFAR_10/runs/l6zklhdn' target=\"_blank\">https://wandb.ai/greedjar7498/CIFAR_10/runs/l6zklhdn</a>"
      ],
      "text/plain": [
       "<IPython.core.display.HTML object>"
      ]
     },
     "metadata": {},
     "output_type": "display_data"
    }
   ],
   "source": [
    "run1 = wandb.init(project='CIFAR_10', name='AutoEncoder training')\n",
    "run2 = wandb.init(project='CIFAR_10', name='Classifier training')"
   ]
  },
  {
   "cell_type": "code",
   "execution_count": 13,
   "metadata": {},
   "outputs": [],
   "source": [
    "def ae_training(model, train_dataloader, train_dataset, criterion, optimizer, epoch, num_epochs, device):\n",
    "    model.train()\n",
    "    ae_train_loss = 0.0\n",
    "\n",
    "    tbar = tqdm(train_dataloader)\n",
    "    for images, labels in tbar:\n",
    "        images = images.to(device)\n",
    "        # labels = labels.to(device)\n",
    "\n",
    "        y = images.view(images.size(0), -1)\n",
    "        encoded, decoded = model(images)\n",
    "        loss = criterion(decoded, y)\n",
    "\n",
    "        optimizer.zero_grad()\n",
    "        loss.backward()\n",
    "        optimizer.step()\n",
    "\n",
    "        ae_train_loss += loss.item()\n",
    "        tbar.set_description(f'Epoch/Epochs [{epoch+1}/{num_epochs}] Train Loss: {loss.item():.4f}')\n",
    "\n",
    "    ae_train_loss = ae_train_loss / len(train_dataloader)\n",
    "\n",
    "    return model, ae_train_loss\n",
    "\n",
    "def ae_training_loop(model, train_dataloader, train_dataset, criterion, optimizer, num_epochs, device):\n",
    "    model.to(device)\n",
    "    for epoch in range(num_epochs):\n",
    "        model, ae_train_loss = ae_training(model, train_dataloader, train_dataset, criterion, optimizer, epoch, num_epochs, device)\n",
    "\n",
    "        # monitoring_value = {'Train Loss': ae_train_loss}\n",
    "        # run1.log(monitoring_value, step=epoch)\n",
    "\n",
    "    return model\n",
    "\n",
    "def clf_training(model, ae_model, train_dataloader, train_dataset, criterion, optimizer, epoch, num_epochs, device):\n",
    "    model.train()\n",
    "    ae_model.eval()\n",
    "    clf_train_loss = 0.0\n",
    "    clf_train_accuracy = 0\n",
    "\n",
    "    tbar = tqdm(train_dataloader)\n",
    "    for images, labels in tbar:\n",
    "        images = images.to(device)\n",
    "        labels = labels.to(device)\n",
    "\n",
    "        encoded, decoded = ae_model(images)\n",
    "        outputs = model(decoded)\n",
    "        loss = criterion(outputs, labels)\n",
    "\n",
    "        optimizer.zero_grad()\n",
    "        loss.backward()\n",
    "        optimizer.step()\n",
    "\n",
    "        clf_train_loss += loss.item()\n",
    "        max_prob, predicted = torch.max(outputs, 1)\n",
    "        clf_train_accuracy += (predicted == labels).sum().item()\n",
    "\n",
    "        tbar.set_description(f'Epoch/Epochs [{epoch+1}/{num_epochs}] Train Loss: {loss.item():.4f}')\n",
    "\n",
    "    clf_train_loss = clf_train_loss / len(train_dataloader)\n",
    "    clf_train_accuracy = clf_train_accuracy / len(train_dataset)\n",
    "\n",
    "    return model, clf_train_loss, clf_train_accuracy\n",
    "\n",
    "def clf_training_loop(model, ae_model, train_dataloader, train_dataset, criterion, optimizer, num_epochs, device):\n",
    "    model.to(device)\n",
    "    ae_model.to(device)\n",
    "\n",
    "    for epoch in range(num_epochs):\n",
    "        model, train_loss, train_accuracy = clf_training(model, ae_model, train_dataloader, train_dataset, criterion, optimizer, epoch, num_epochs, device)\n",
    "\n",
    "        # monitoring_value = {'Train Loss': train_loss, 'Train Accuracy': train_accuracy}\n",
    "        # run2.log(monitoring_value, step=epoch)\n",
    "\n",
    "    return model"
   ]
  },
  {
   "cell_type": "code",
   "execution_count": 14,
   "metadata": {},
   "outputs": [
    {
     "data": {
      "application/vnd.jupyter.widget-view+json": {
       "model_id": "636debbf4c874d5298087a72a3244b2b",
       "version_major": 2,
       "version_minor": 0
      },
      "text/plain": [
       "  0%|          | 0/80 [00:00<?, ?it/s]"
      ]
     },
     "metadata": {},
     "output_type": "display_data"
    },
    {
     "data": {
      "application/vnd.jupyter.widget-view+json": {
       "model_id": "1d4f84fc325d46e5818d7a474f09d63d",
       "version_major": 2,
       "version_minor": 0
      },
      "text/plain": [
       "  0%|          | 0/80 [00:00<?, ?it/s]"
      ]
     },
     "metadata": {},
     "output_type": "display_data"
    },
    {
     "data": {
      "application/vnd.jupyter.widget-view+json": {
       "model_id": "7ee36dafd39b49739a46e020b05ccaaa",
       "version_major": 2,
       "version_minor": 0
      },
      "text/plain": [
       "  0%|          | 0/80 [00:00<?, ?it/s]"
      ]
     },
     "metadata": {},
     "output_type": "display_data"
    },
    {
     "data": {
      "application/vnd.jupyter.widget-view+json": {
       "model_id": "2508cf503b184d26b0dbb43557dfb01a",
       "version_major": 2,
       "version_minor": 0
      },
      "text/plain": [
       "  0%|          | 0/80 [00:00<?, ?it/s]"
      ]
     },
     "metadata": {},
     "output_type": "display_data"
    },
    {
     "data": {
      "application/vnd.jupyter.widget-view+json": {
       "model_id": "285f63ce83f74c8f90431593ba2ce43d",
       "version_major": 2,
       "version_minor": 0
      },
      "text/plain": [
       "  0%|          | 0/80 [00:00<?, ?it/s]"
      ]
     },
     "metadata": {},
     "output_type": "display_data"
    },
    {
     "data": {
      "application/vnd.jupyter.widget-view+json": {
       "model_id": "5643558f5fdc4dfe9098e350d007c00d",
       "version_major": 2,
       "version_minor": 0
      },
      "text/plain": [
       "  0%|          | 0/80 [00:00<?, ?it/s]"
      ]
     },
     "metadata": {},
     "output_type": "display_data"
    },
    {
     "data": {
      "application/vnd.jupyter.widget-view+json": {
       "model_id": "32e0da9de2a64d4ca78b1d18e6587c79",
       "version_major": 2,
       "version_minor": 0
      },
      "text/plain": [
       "  0%|          | 0/80 [00:00<?, ?it/s]"
      ]
     },
     "metadata": {},
     "output_type": "display_data"
    },
    {
     "data": {
      "application/vnd.jupyter.widget-view+json": {
       "model_id": "98a30c90178249b58779bdeb7a46a88a",
       "version_major": 2,
       "version_minor": 0
      },
      "text/plain": [
       "  0%|          | 0/80 [00:00<?, ?it/s]"
      ]
     },
     "metadata": {},
     "output_type": "display_data"
    },
    {
     "data": {
      "application/vnd.jupyter.widget-view+json": {
       "model_id": "bf5be2eaddf04d8bbf2c284adb2ad864",
       "version_major": 2,
       "version_minor": 0
      },
      "text/plain": [
       "  0%|          | 0/80 [00:00<?, ?it/s]"
      ]
     },
     "metadata": {},
     "output_type": "display_data"
    },
    {
     "data": {
      "application/vnd.jupyter.widget-view+json": {
       "model_id": "5afb6c34ed9a4a69af36b10c302a1adf",
       "version_major": 2,
       "version_minor": 0
      },
      "text/plain": [
       "  0%|          | 0/80 [00:00<?, ?it/s]"
      ]
     },
     "metadata": {},
     "output_type": "display_data"
    },
    {
     "data": {
      "application/vnd.jupyter.widget-view+json": {
       "model_id": "feffdefec8154bba8262fcaa75e89f97",
       "version_major": 2,
       "version_minor": 0
      },
      "text/plain": [
       "  0%|          | 0/40 [00:00<?, ?it/s]"
      ]
     },
     "metadata": {},
     "output_type": "display_data"
    },
    {
     "data": {
      "application/vnd.jupyter.widget-view+json": {
       "model_id": "e36b0131e87346418c197836511899d8",
       "version_major": 2,
       "version_minor": 0
      },
      "text/plain": [
       "  0%|          | 0/40 [00:00<?, ?it/s]"
      ]
     },
     "metadata": {},
     "output_type": "display_data"
    },
    {
     "data": {
      "application/vnd.jupyter.widget-view+json": {
       "model_id": "e0ae8f36a2c84ef692f10c256d638d9a",
       "version_major": 2,
       "version_minor": 0
      },
      "text/plain": [
       "  0%|          | 0/40 [00:00<?, ?it/s]"
      ]
     },
     "metadata": {},
     "output_type": "display_data"
    },
    {
     "data": {
      "application/vnd.jupyter.widget-view+json": {
       "model_id": "f11dd62c2fd448cabb98ac20eb536add",
       "version_major": 2,
       "version_minor": 0
      },
      "text/plain": [
       "  0%|          | 0/40 [00:00<?, ?it/s]"
      ]
     },
     "metadata": {},
     "output_type": "display_data"
    },
    {
     "data": {
      "application/vnd.jupyter.widget-view+json": {
       "model_id": "179b86d71fa14db78975db0ce16a3b57",
       "version_major": 2,
       "version_minor": 0
      },
      "text/plain": [
       "  0%|          | 0/40 [00:00<?, ?it/s]"
      ]
     },
     "metadata": {},
     "output_type": "display_data"
    },
    {
     "data": {
      "application/vnd.jupyter.widget-view+json": {
       "model_id": "d9e7992aec1a4b50901dad5a7590f4a2",
       "version_major": 2,
       "version_minor": 0
      },
      "text/plain": [
       "  0%|          | 0/40 [00:00<?, ?it/s]"
      ]
     },
     "metadata": {},
     "output_type": "display_data"
    },
    {
     "data": {
      "application/vnd.jupyter.widget-view+json": {
       "model_id": "ec972ad5742542778651ac7a9edf6d6a",
       "version_major": 2,
       "version_minor": 0
      },
      "text/plain": [
       "  0%|          | 0/40 [00:00<?, ?it/s]"
      ]
     },
     "metadata": {},
     "output_type": "display_data"
    },
    {
     "data": {
      "application/vnd.jupyter.widget-view+json": {
       "model_id": "1b11f76c6df74101a6c941cf0ddd413c",
       "version_major": 2,
       "version_minor": 0
      },
      "text/plain": [
       "  0%|          | 0/40 [00:00<?, ?it/s]"
      ]
     },
     "metadata": {},
     "output_type": "display_data"
    },
    {
     "data": {
      "application/vnd.jupyter.widget-view+json": {
       "model_id": "4186c2f349f84ac4b9fe5f29885c723f",
       "version_major": 2,
       "version_minor": 0
      },
      "text/plain": [
       "  0%|          | 0/40 [00:00<?, ?it/s]"
      ]
     },
     "metadata": {},
     "output_type": "display_data"
    },
    {
     "data": {
      "application/vnd.jupyter.widget-view+json": {
       "model_id": "777171ea02a44f74a6b30326f6079308",
       "version_major": 2,
       "version_minor": 0
      },
      "text/plain": [
       "  0%|          | 0/40 [00:00<?, ?it/s]"
      ]
     },
     "metadata": {},
     "output_type": "display_data"
    }
   ],
   "source": [
    "ae_model = AutoEncoder()\n",
    "clf_model = Classifier()\n",
    "\n",
    "ae_criterion = torch.nn.MSELoss()\n",
    "clf_criterion = torch.nn.NLLLoss()\n",
    "\n",
    "ae_optimizer = torch.optim.Adam(ae_model.parameters(), lr=0.001)\n",
    "clf_optimizer = torch.optim.Adam(clf_model.parameters(), lr=0.001)\n",
    "\n",
    "ae_model = ae_training_loop(ae_model, ae_train_dataloader, train_dataset, ae_criterion, ae_optimizer, 10, device)\n",
    "clf_model = clf_training_loop(clf_model, ae_model, clf_train_dataloader, train_dataset, clf_criterion, clf_optimizer, 10, device)"
   ]
  },
  {
   "cell_type": "markdown",
   "metadata": {},
   "source": [
    "# test"
   ]
  },
  {
   "cell_type": "code",
   "execution_count": 15,
   "metadata": {},
   "outputs": [
    {
     "data": {
      "application/vnd.jupyter.widget-view+json": {
       "model_id": "99622d0115b94b95ac1e22c2d19031b0",
       "version_major": 2,
       "version_minor": 0
      },
      "text/plain": [
       "  0%|          | 0/20 [00:00<?, ?it/s]"
      ]
     },
     "metadata": {},
     "output_type": "display_data"
    }
   ],
   "source": [
    "ae_model.eval()\n",
    "ae_model.to(device)\n",
    "\n",
    "total_images = []\n",
    "total_decoded = []\n",
    "\n",
    "with torch.no_grad():\n",
    "    tbar = tqdm(ae_test_dataloader)\n",
    "    for images, labels in tbar:\n",
    "        images = images.to(device)\n",
    "        \n",
    "        encoded, decoded = ae_model(images)\n",
    "\n",
    "        total_images.extend(images)\n",
    "        total_decoded.extend(decoded)"
   ]
  },
  {
   "cell_type": "code",
   "execution_count": 21,
   "metadata": {},
   "outputs": [
    {
     "data": {
      "image/png": "[encoded data removed]",
      "text/plain": [
       "<Figure size 1000x1000 with 20 Axes>"
      ]
     },
     "metadata": {},
     "output_type": "display_data"
    }
   ],
   "source": [
    "plt.figure(figsize=(10, 10))\n",
    "\n",
    "for i in range(20):\n",
    "    ax = plt.subplot(4, 5, i+1)\n",
    "    plt.imshow(np.array(total_images[i].cpu().permute((1, 2, 0))))"
   ]
  },
  {
   "cell_type": "code",
   "execution_count": 24,
   "metadata": {},
   "outputs": [
    {
     "data": {
      "image/png": "[encoded data removed]",
      "text/plain": [
       "<Figure size 1000x1000 with 20 Axes>"
      ]
     },
     "metadata": {},
     "output_type": "display_data"
    }
   ],
   "source": [
    "plt.figure(figsize=(10, 10))\n",
    "\n",
    "for i in range(20):\n",
    "    ax = plt.subplot(4, 5, i+1)\n",
    "    plt.imshow(np.array(total_decoded[i].cpu().view(32, 32, 3)))"
   ]
  }
 ],
 "metadata": {
  "kernelspec": {
   "display_name": "base",
   "language": "python",
   "name": "python3"
  },
  "language_info": {
   "codemirror_mode": {
    "name": "ipython",
    "version": 3
   },
   "file_extension": ".py",
   "mimetype": "text/x-python",
   "name": "python",
   "nbconvert_exporter": "python",
   "pygments_lexer": "ipython3",
   "version": "3.11.7"
  }
 },
 "nbformat": 4,
 "nbformat_minor": 2
}
