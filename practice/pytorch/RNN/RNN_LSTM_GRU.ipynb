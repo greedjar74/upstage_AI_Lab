{
 "cells": [
  {
   "cell_type": "markdown",
   "metadata": {},
   "source": [
    "# RNN, LSTM, GRU 실습"
   ]
  },
  {
   "cell_type": "code",
   "execution_count": 11,
   "metadata": {},
   "outputs": [],
   "source": [
    "import torch\n",
    "import numpy as np\n",
    "import gc\n",
    "\n",
    "device = 'mps'"
   ]
  },
  {
   "cell_type": "markdown",
   "metadata": {},
   "source": [
    "# RNN 구현"
   ]
  },
  {
   "cell_type": "code",
   "execution_count": 100,
   "metadata": {},
   "outputs": [],
   "source": [
    "class SimpleRNN(torch.nn.Module):\n",
    "    def __init__(self, n_inputs, n_hidden, n_outputs): # n_inputs: 입력 크기, n_hidden: hidden vector 크기, n_outputs: 결과 크기\n",
    "        super().__init__()\n",
    "        self.D = n_inputs # 입력 데이터 차원의 크기\n",
    "        self.M = n_hidden # hidden vector 차원의 크기\n",
    "        self.K = n_outputs # 결과 차원의 크기\n",
    "\n",
    "        self.rnn = torch.nn.RNN(input_size=self.D, # 입력 데이터 크기 설정\n",
    "                                hidden_size=self.M, # hidden vector 크기 설정\n",
    "                                nonlinearity='tanh', # activation function\n",
    "                                batch_first=True) # 배치 차원이 가장 앞에 오도록 설정\n",
    "        self.fc = torch.nn.Linear(self.M, self.K) # 결과를 얻기 위한 FC layer\n",
    "\n",
    "    def forward(self, x):\n",
    "        h0 = torch.zeros(1, x.size(0), self.M).to(device) # 초기 hidden state vector를 0으로 설정\n",
    "\n",
    "        out, h_0 = self.rnn(x, h0) # RNN 수행 -> out: 모든 time step에서의 결과를 가지고 있다. h_0: 마지막 time step에서의 결과만 가지고 있다.\n",
    "        out = self.fc(out[:, -1, :]) # 마지막 time step의 결과만 사용하여 결과 도출 -> out = self.fc(h_0.squeeze(0))로 가능\n",
    "        \n",
    "        return out"
   ]
  },
  {
   "cell_type": "code",
   "execution_count": 101,
   "metadata": {},
   "outputs": [
    {
     "name": "stdout",
     "output_type": "stream",
     "text": [
      "Epoch [30/300], Loss: 0.1511\n",
      "Epoch [60/300], Loss: 0.0781\n",
      "Epoch [90/300], Loss: 0.0490\n",
      "Epoch [120/300], Loss: 0.0335\n",
      "Epoch [150/300], Loss: 0.0251\n",
      "Epoch [180/300], Loss: 0.0201\n",
      "Epoch [210/300], Loss: 0.0167\n",
      "Epoch [240/300], Loss: 0.0142\n",
      "Epoch [270/300], Loss: 0.0123\n",
      "Epoch [300/300], Loss: 0.0107\n"
     ]
    }
   ],
   "source": [
    "model = SimpleRNN(n_inputs=2, n_hidden=10, n_outputs=2).to(device)\n",
    "criterion = torch.nn.CrossEntropyLoss()\n",
    "optimizer = torch.optim.Adam(model.parameters())\n",
    "\n",
    "train_x = torch.from_numpy(np.array([[[1, 2], [3, 4], [5, 6]]], dtype=np.float32)).to(device)\n",
    "train_y = torch.tensor([1]).to(device)\n",
    "\n",
    "for epoch in range(300):\n",
    "    optimizer.zero_grad()\n",
    "    outputs = model(train_x)\n",
    "    loss = criterion(outputs, train_y)\n",
    "    loss.backward()\n",
    "    optimizer.step()\n",
    "\n",
    "    if (epoch + 1) % 30 == 0:\n",
    "        print('Epoch [{}/{}], Loss: {:.4f}'.format(epoch+1, 300, loss.item()))"
   ]
  },
  {
   "cell_type": "code",
   "execution_count": 42,
   "metadata": {},
   "outputs": [
    {
     "name": "stdout",
     "output_type": "stream",
     "text": [
      "Epoch [30/300], Loss: 0.3873\n",
      "Epoch [60/300], Loss: 0.1163\n",
      "Epoch [90/300], Loss: 0.0513\n",
      "Epoch [120/300], Loss: 0.0298\n",
      "Epoch [150/300], Loss: 0.0215\n",
      "Epoch [180/300], Loss: 0.0169\n",
      "Epoch [210/300], Loss: 0.0139\n",
      "Epoch [240/300], Loss: 0.0116\n",
      "Epoch [270/300], Loss: 0.0099\n",
      "Epoch [300/300], Loss: 0.0086\n"
     ]
    }
   ],
   "source": [
    "# n_gidden 값을 증가 -> loss가 줄어드는 것을 확인할 수 있다.\n",
    "\n",
    "model = SimpleRNN(n_inputs=2, n_hidden=20, n_outputs=2).to(device)\n",
    "criterion = torch.nn.CrossEntropyLoss()\n",
    "optimizer = torch.optim.Adam(model.parameters())\n",
    "\n",
    "train_x = torch.from_numpy(np.array([[[1, 2], [3, 4], [5, 6]]], dtype=np.float32)).to(device)\n",
    "train_y = torch.tensor([1]).to(device)\n",
    "\n",
    "for epoch in range(300):\n",
    "    optimizer.zero_grad()\n",
    "    outputs = model(train_x)\n",
    "    loss = criterion(outputs, train_y)\n",
    "    loss.backward()\n",
    "    optimizer.step()\n",
    "\n",
    "    if (epoch + 1) % 30 == 0:\n",
    "        print('Epoch [{}/{}], Loss: {:.4f}'.format(epoch+1, 300, loss.item()))"
   ]
  },
  {
   "cell_type": "markdown",
   "metadata": {},
   "source": [
    "# LSTM 실습"
   ]
  },
  {
   "cell_type": "code",
   "execution_count": 102,
   "metadata": {},
   "outputs": [],
   "source": [
    "class LSTM(torch.nn.Module):\n",
    "    def __init__(self, n_inputs, n_hidden, n_outputs):\n",
    "        super().__init__()\n",
    "        self.D = n_inputs\n",
    "        self.M = n_hidden\n",
    "        self.K = n_outputs\n",
    "\n",
    "        self.lstm = torch.nn.LSTM(input_size=self.D, # 입력 데이터 차원 크기\n",
    "                                  hidden_size=self.M, # hidden vector 차원 크기\n",
    "                                  batch_first=True)\n",
    "        self.fc = torch.nn.Linear(self.M, self.K)\n",
    "\n",
    "    def forward(self, x):\n",
    "        h0 = torch.zeros(1, x.size(0), self.M).to(device) # 초기 hidden state vector\n",
    "        c0 = torch.zeros(1, x.size(0), self.M).to(device) # 초기 cell state vector\n",
    "\n",
    "        out, (h_0, c_0) = self.lstm(x, (h0, c0))\n",
    "        out = self.fc(out[:, -1, :])\n",
    "\n",
    "        return out"
   ]
  },
  {
   "cell_type": "code",
   "execution_count": 104,
   "metadata": {},
   "outputs": [
    {
     "name": "stdout",
     "output_type": "stream",
     "text": [
      "Epoch [30/300], Loss: 0.3284\n",
      "Epoch [60/300], Loss: 0.1779\n",
      "Epoch [90/300], Loss: 0.0895\n",
      "Epoch [120/300], Loss: 0.0499\n",
      "Epoch [150/300], Loss: 0.0316\n",
      "Epoch [180/300], Loss: 0.0219\n",
      "Epoch [210/300], Loss: 0.0162\n",
      "Epoch [240/300], Loss: 0.0126\n",
      "Epoch [270/300], Loss: 0.0102\n",
      "Epoch [300/300], Loss: 0.0085\n"
     ]
    }
   ],
   "source": [
    "del model\n",
    "gc.collect()\n",
    "\n",
    "model = LSTM(n_inputs=2, n_hidden=10, n_outputs=2).to(device)\n",
    "criterion = torch.nn.CrossEntropyLoss()\n",
    "optimizer = torch.optim.Adam(model.parameters())\n",
    "\n",
    "for epoch in range(300):\n",
    "    model.zero_grad()\n",
    "    outputs = model(train_x)\n",
    "    loss = criterion(outputs, train_y)\n",
    "    loss.backward()\n",
    "    optimizer.step()\n",
    "\n",
    "    if (epoch+1) % 30 == 0: # 30 에포크마다 손실을 출력\n",
    "        print ('Epoch [{}/{}], Loss: {:.4f}'.format(epoch+1, 300, loss.item()))"
   ]
  },
  {
   "cell_type": "code",
   "execution_count": 91,
   "metadata": {},
   "outputs": [],
   "source": [
    "class LSTM(torch.nn.Module):\n",
    "    def __init__(self, n_inputs, n_hidden, n_outputs):\n",
    "        super().__init__()\n",
    "        self.D = n_inputs\n",
    "        self.M = n_hidden\n",
    "        self.K = n_outputs\n",
    "\n",
    "        self.lstm = torch.nn.LSTM(input_size=self.D, # 입력 데이터 차원 크기\n",
    "                                  hidden_size=self.M, # hidden vector 차원 크기\n",
    "                                  batch_first=True)\n",
    "        self.fc = torch.nn.Linear(self.M, self.K)\n",
    "\n",
    "    def forward(self, x):\n",
    "        h0 = torch.zeros(1, x.size(0), self.M).to(device) # 초기 hidden state vector\n",
    "        c0 = torch.zeros(1, x.size(0), self.M).to(device) # 초기 cell state vector\n",
    "\n",
    "        out, (h_0, c_0) = self.lstm(x, (h0, c0))\n",
    "        print(out[:, -1, :].shape)\n",
    "        print(h_0.squeeze(0).shape)\n",
    "\n",
    "        out = self.fc(h_0.squeeze(0))\n",
    "\n",
    "        return out"
   ]
  },
  {
   "cell_type": "code",
   "execution_count": 92,
   "metadata": {},
   "outputs": [
    {
     "name": "stdout",
     "output_type": "stream",
     "text": [
      "torch.Size([1, 10])\n",
      "torch.Size([1, 10])\n",
      "tensor([[-0.0360,  0.2652]], device='mps:0', grad_fn=<LinearBackward0>)\n"
     ]
    },
    {
     "ename": "RuntimeError",
     "evalue": "Expected a proper Tensor but got None (or an undefined Tensor in C++) for argument #0 'grad_y'",
     "output_type": "error",
     "traceback": [
      "\u001b[0;31m---------------------------------------------------------------------------\u001b[0m",
      "\u001b[0;31mRuntimeError\u001b[0m                              Traceback (most recent call last)",
      "Cell \u001b[0;32mIn[92], line 13\u001b[0m\n\u001b[1;32m     11\u001b[0m \u001b[38;5;28mprint\u001b[39m(outputs)\n\u001b[1;32m     12\u001b[0m loss \u001b[38;5;241m=\u001b[39m criterion(outputs, train_y)\n\u001b[0;32m---> 13\u001b[0m loss\u001b[38;5;241m.\u001b[39mbackward()\n\u001b[1;32m     14\u001b[0m optimizer\u001b[38;5;241m.\u001b[39mstep()\n\u001b[1;32m     16\u001b[0m \u001b[38;5;28;01mif\u001b[39;00m (epoch\u001b[38;5;241m+\u001b[39m\u001b[38;5;241m1\u001b[39m) \u001b[38;5;241m%\u001b[39m \u001b[38;5;241m30\u001b[39m \u001b[38;5;241m==\u001b[39m \u001b[38;5;241m0\u001b[39m: \u001b[38;5;66;03m# 30 에포크마다 손실을 출력\u001b[39;00m\n",
      "File \u001b[0;32m/opt/anaconda3/lib/python3.11/site-packages/torch/_tensor.py:487\u001b[0m, in \u001b[0;36mTensor.backward\u001b[0;34m(self, gradient, retain_graph, create_graph, inputs)\u001b[0m\n\u001b[1;32m    477\u001b[0m \u001b[38;5;28;01mif\u001b[39;00m has_torch_function_unary(\u001b[38;5;28mself\u001b[39m):\n\u001b[1;32m    478\u001b[0m     \u001b[38;5;28;01mreturn\u001b[39;00m handle_torch_function(\n\u001b[1;32m    479\u001b[0m         Tensor\u001b[38;5;241m.\u001b[39mbackward,\n\u001b[1;32m    480\u001b[0m         (\u001b[38;5;28mself\u001b[39m,),\n\u001b[0;32m   (...)\u001b[0m\n\u001b[1;32m    485\u001b[0m         inputs\u001b[38;5;241m=\u001b[39minputs,\n\u001b[1;32m    486\u001b[0m     )\n\u001b[0;32m--> 487\u001b[0m torch\u001b[38;5;241m.\u001b[39mautograd\u001b[38;5;241m.\u001b[39mbackward(\n\u001b[1;32m    488\u001b[0m     \u001b[38;5;28mself\u001b[39m, gradient, retain_graph, create_graph, inputs\u001b[38;5;241m=\u001b[39minputs\n\u001b[1;32m    489\u001b[0m )\n",
      "File \u001b[0;32m/opt/anaconda3/lib/python3.11/site-packages/torch/autograd/__init__.py:200\u001b[0m, in \u001b[0;36mbackward\u001b[0;34m(tensors, grad_tensors, retain_graph, create_graph, grad_variables, inputs)\u001b[0m\n\u001b[1;32m    195\u001b[0m     retain_graph \u001b[38;5;241m=\u001b[39m create_graph\n\u001b[1;32m    197\u001b[0m \u001b[38;5;66;03m# The reason we repeat same the comment below is that\u001b[39;00m\n\u001b[1;32m    198\u001b[0m \u001b[38;5;66;03m# some Python versions print out the first line of a multi-line function\u001b[39;00m\n\u001b[1;32m    199\u001b[0m \u001b[38;5;66;03m# calls in the traceback and some print out the last line\u001b[39;00m\n\u001b[0;32m--> 200\u001b[0m Variable\u001b[38;5;241m.\u001b[39m_execution_engine\u001b[38;5;241m.\u001b[39mrun_backward(  \u001b[38;5;66;03m# Calls into the C++ engine to run the backward pass\u001b[39;00m\n\u001b[1;32m    201\u001b[0m     tensors, grad_tensors_, retain_graph, create_graph, inputs,\n\u001b[1;32m    202\u001b[0m     allow_unreachable\u001b[38;5;241m=\u001b[39m\u001b[38;5;28;01mTrue\u001b[39;00m, accumulate_grad\u001b[38;5;241m=\u001b[39m\u001b[38;5;28;01mTrue\u001b[39;00m)\n",
      "\u001b[0;31mRuntimeError\u001b[0m: Expected a proper Tensor but got None (or an undefined Tensor in C++) for argument #0 'grad_y'"
     ]
    }
   ],
   "source": [
    "del model\n",
    "gc.collect()\n",
    "\n",
    "model = LSTM(n_inputs=2, n_hidden=10, n_outputs=2).to(device)\n",
    "criterion = torch.nn.CrossEntropyLoss()\n",
    "optimizer = torch.optim.Adam(model.parameters())\n",
    "\n",
    "for epoch in range(300):\n",
    "    optimizer.zero_grad()\n",
    "    outputs = model(train_x)\n",
    "    print(outputs)\n",
    "    loss = criterion(outputs, train_y)\n",
    "    loss.backward()\n",
    "    optimizer.step()\n",
    "\n",
    "    if (epoch+1) % 30 == 0: # 30 에포크마다 손실을 출력\n",
    "        print ('Epoch [{}/{}], Loss: {:.4f}'.format(epoch+1, 300, loss.item()))"
   ]
  },
  {
   "cell_type": "markdown",
   "metadata": {},
   "source": [
    "# GRU 구현"
   ]
  },
  {
   "cell_type": "code",
   "execution_count": 95,
   "metadata": {},
   "outputs": [],
   "source": [
    "class GRU(torch.nn.Module):\n",
    "    def __init__(self, n_inputs, n_hidden, n_outputs):\n",
    "        super().__init__()\n",
    "        self.D = n_inputs\n",
    "        self.M = n_hidden\n",
    "        self.K = n_outputs\n",
    "\n",
    "        self.gru = torch.nn.GRU(input_size=self.D,\n",
    "                                hidden_size=self.M,\n",
    "                                batch_first=True)\n",
    "        self.fc = torch.nn.Linear(self.M, self.K)\n",
    "\n",
    "    def forward(self, x):\n",
    "        h0 = torch.zeros(1, x.size(0), self.M).to(device)\n",
    "\n",
    "        out, h_0 = self.gru(x, h0)\n",
    "        out = self.fc(out[:, -1, :])\n",
    "\n",
    "        return out"
   ]
  },
  {
   "cell_type": "code",
   "execution_count": 96,
   "metadata": {},
   "outputs": [
    {
     "name": "stdout",
     "output_type": "stream",
     "text": [
      "Epoch [30/300], Loss: 0.2048\n",
      "Epoch [60/300], Loss: 0.0773\n",
      "Epoch [90/300], Loss: 0.0344\n",
      "Epoch [120/300], Loss: 0.0195\n",
      "Epoch [150/300], Loss: 0.0130\n",
      "Epoch [180/300], Loss: 0.0096\n",
      "Epoch [210/300], Loss: 0.0075\n",
      "Epoch [240/300], Loss: 0.0061\n",
      "Epoch [270/300], Loss: 0.0051\n",
      "Epoch [300/300], Loss: 0.0043\n"
     ]
    }
   ],
   "source": [
    "del model\n",
    "gc.collect()\n",
    "\n",
    "# GRU 학습\n",
    "model = GRU(n_inputs=2, n_hidden=20, n_outputs=2).to(device) # GRU 모델 인스턴스 생성\n",
    "criterion = torch.nn.CrossEntropyLoss() # 손실 함수로 CrossEntropyLoss를 사용\n",
    "optimizer = torch.optim.Adam(model.parameters()) # 최적화 알고리즘으로 Adam을 사용\n",
    "\n",
    "for epoch in range(300):\n",
    "    model.zero_grad()\n",
    "    outputs = model(train_x)\n",
    "    loss = criterion(outputs, train_y)  # A dummy target example\n",
    "    loss.backward()\n",
    "    optimizer.step()\n",
    "\n",
    "    if (epoch+1) % 30 == 0:\n",
    "        print ('Epoch [{}/{}], Loss: {:.4f}'.format(epoch+1, 300, loss.item()))"
   ]
  },
  {
   "cell_type": "code",
   "execution_count": 97,
   "metadata": {},
   "outputs": [],
   "source": [
    "class GRU(torch.nn.Module):\n",
    "    def __init__(self, n_inputs, n_hidden, n_outputs):\n",
    "        super().__init__()\n",
    "        self.D = n_inputs\n",
    "        self.M = n_hidden\n",
    "        self.K = n_outputs\n",
    "\n",
    "        self.gru = torch.nn.GRU(input_size=self.D,\n",
    "                                hidden_size=self.M,\n",
    "                                batch_first=True)\n",
    "        self.fc = torch.nn.Linear(self.M, self.K)\n",
    "\n",
    "    def forward(self, x):\n",
    "        h0 = torch.zeros(1, x.size(0), self.M).to(device)\n",
    "\n",
    "        out, h_0 = self.gru(x, h0)\n",
    "        out = self.fc(h_0.squeeze(0))\n",
    "\n",
    "        return out"
   ]
  },
  {
   "cell_type": "code",
   "execution_count": 98,
   "metadata": {},
   "outputs": [
    {
     "name": "stdout",
     "output_type": "stream",
     "text": [
      "Epoch [30/300], Loss: 0.1881\n",
      "Epoch [60/300], Loss: 0.0653\n",
      "Epoch [90/300], Loss: 0.0274\n",
      "Epoch [120/300], Loss: 0.0150\n",
      "Epoch [150/300], Loss: 0.0099\n",
      "Epoch [180/300], Loss: 0.0072\n",
      "Epoch [210/300], Loss: 0.0056\n",
      "Epoch [240/300], Loss: 0.0045\n",
      "Epoch [270/300], Loss: 0.0037\n",
      "Epoch [300/300], Loss: 0.0032\n"
     ]
    }
   ],
   "source": [
    "del model\n",
    "gc.collect()\n",
    "\n",
    "# GRU 학습\n",
    "model = GRU(n_inputs=2, n_hidden=20, n_outputs=2).to(device) # GRU 모델 인스턴스 생성\n",
    "criterion = torch.nn.CrossEntropyLoss() # 손실 함수로 CrossEntropyLoss를 사용\n",
    "optimizer = torch.optim.Adam(model.parameters()) # 최적화 알고리즘으로 Adam을 사용\n",
    "\n",
    "for epoch in range(300):\n",
    "    model.zero_grad()\n",
    "    outputs = model(train_x)\n",
    "    loss = criterion(outputs, train_y)  # A dummy target example\n",
    "    loss.backward()\n",
    "    optimizer.step()\n",
    "\n",
    "    if (epoch+1) % 30 == 0:\n",
    "        print ('Epoch [{}/{}], Loss: {:.4f}'.format(epoch+1, 300, loss.item()))"
   ]
  }
 ],
 "metadata": {
  "kernelspec": {
   "display_name": "base",
   "language": "python",
   "name": "python3"
  },
  "language_info": {
   "codemirror_mode": {
    "name": "ipython",
    "version": 3
   },
   "file_extension": ".py",
   "mimetype": "text/x-python",
   "name": "python",
   "nbconvert_exporter": "python",
   "pygments_lexer": "ipython3",
   "version": "3.11.7"
  }
 },
 "nbformat": 4,
 "nbformat_minor": 2
}
