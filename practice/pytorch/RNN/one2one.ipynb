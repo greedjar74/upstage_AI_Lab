{
 "cells": [
  {
   "cell_type": "markdown",
   "metadata": {},
   "source": [
    "# One to One"
   ]
  },
  {
   "cell_type": "code",
   "execution_count": 2,
   "metadata": {},
   "outputs": [],
   "source": [
    "import torch\n",
    "import numpy as np\n",
    "import gc\n",
    "\n",
    "device = 'mps'"
   ]
  },
  {
   "cell_type": "markdown",
   "metadata": {},
   "source": [
    "# RNN"
   ]
  },
  {
   "cell_type": "code",
   "execution_count": 9,
   "metadata": {},
   "outputs": [],
   "source": [
    "class SimpleRNN(torch.nn.Module):\n",
    "    def __init__(self, n_input, n_hidden, n_output):\n",
    "        super().__init__()\n",
    "        self.I = n_input\n",
    "        self.H = n_hidden\n",
    "        self.O = n_output\n",
    "\n",
    "        self.rnn = torch.nn.RNN(input_size=self.I,\n",
    "                                hidden_size=self.H,\n",
    "                                nonlinearity='tanh',\n",
    "                                batch_first=True)\n",
    "        \n",
    "        self.fc = torch.nn.Linear(self.H, self.O)\n",
    "\n",
    "    def forward(self, x):\n",
    "        h0 = torch.zeros(1, x.size(0), self.H).to(device)\n",
    "\n",
    "        out, h_0 = self.rnn(x, h0)\n",
    "        out = self.fc(out[:, -1, :])\n",
    "\n",
    "        return out"
   ]
  },
  {
   "cell_type": "markdown",
   "metadata": {},
   "source": [
    "# LSTM"
   ]
  },
  {
   "cell_type": "code",
   "execution_count": 11,
   "metadata": {},
   "outputs": [],
   "source": [
    "class LSTM(torch.nn.Module):\n",
    "    def __init__(self, n_input, n_hidden, n_output):\n",
    "        super().__init__()\n",
    "        self.I = n_input\n",
    "        self.H = n_hidden\n",
    "        self.O = n_output\n",
    "\n",
    "        self.rnn = torch.nn.LSTM(input_size=self.I,\n",
    "                                 hidden_size=self.H,\n",
    "                                 batch_first=True)\n",
    "        \n",
    "        self.fc = torch.nn.Linear(self.H, self.O)\n",
    "\n",
    "    def forward(self, x):\n",
    "        h0 = torch.zeros(1, x.size(0), self.H).to(device)\n",
    "        c0 = torch.zeros(1, x.size(0), self.H).to(device)\n",
    "\n",
    "        out, (h_0, c_0) = self.rnn(x, (h0, c0))\n",
    "        out = self.fc(out[:, -1, :])\n",
    "\n",
    "        return out"
   ]
  },
  {
   "cell_type": "markdown",
   "metadata": {},
   "source": [
    "# GRU"
   ]
  },
  {
   "cell_type": "code",
   "execution_count": 12,
   "metadata": {},
   "outputs": [],
   "source": [
    "class GRU(torch.nn.Module):\n",
    "    def __init__(self, n_input, n_hidden, n_output):\n",
    "        super().__init__()\n",
    "        self.I = n_input\n",
    "        self.H = n_hidden\n",
    "        self.O = n_output\n",
    "\n",
    "        self.rnn = torch.nn.GRU(input_size=self.I,\n",
    "                                hidden_size=self.H,\n",
    "                                batch_first=True)\n",
    "        \n",
    "        self.fc = torch.nn.Linear(self.H, self.O)\n",
    "\n",
    "    def forward(self, x):\n",
    "        h0 = torch.zeros(1, x.size(0), self.H).to(device)\n",
    "\n",
    "        out, h_0= self.rnn(x, h0)\n",
    "        out = self.fc(out[:, -1, :])\n",
    "\n",
    "        return out"
   ]
  },
  {
   "cell_type": "markdown",
   "metadata": {},
   "source": [
    "# 모델 생성"
   ]
  },
  {
   "cell_type": "code",
   "execution_count": 32,
   "metadata": {},
   "outputs": [],
   "source": [
    "rnn_model = SimpleRNN(n_input=1, n_hidden=40, n_output=1).to(device)\n",
    "lstm_model = LSTM(n_input=1, n_hidden=40, n_output=1).to(device)\n",
    "gru_model = GRU(n_input=1, n_hidden=40, n_output=1).to(device)"
   ]
  },
  {
   "cell_type": "markdown",
   "metadata": {},
   "source": [
    "# 학습"
   ]
  },
  {
   "cell_type": "code",
   "execution_count": 33,
   "metadata": {},
   "outputs": [],
   "source": [
    "X = np.random.randint(1, 5, size=(1000, 1, 1)) # 랜덤한 값을 생성 -> 1~4 사이의 값을 1000개 생성\n",
    "y = np.square(X) # x의 제곱\n",
    "\n",
    "train_X = torch.from_numpy(X.astype(np.float32)).to(device)\n",
    "train_y = torch.from_numpy(y.astype(np.float32)).squeeze(-1).to(device)\n",
    "\n",
    "crietrion = torch.nn.MSELoss()\n",
    "rnn_optimizer = torch.optim.Adam(rnn_model.parameters())\n",
    "lstm_optimizer = torch.optim.Adam(lstm_model.parameters())\n",
    "gru_optimizer = torch.optim.Adam(gru_model.parameters())"
   ]
  },
  {
   "cell_type": "code",
   "execution_count": 20,
   "metadata": {},
   "outputs": [
    {
     "name": "stdout",
     "output_type": "stream",
     "text": [
      "Epoch [100/4000], Loss: 56.4717\n",
      "Epoch [200/4000], Loss: 27.7995\n",
      "Epoch [300/4000], Loss: 20.3089\n",
      "Epoch [400/4000], Loss: 15.2038\n",
      "Epoch [500/4000], Loss: 9.8030\n",
      "Epoch [600/4000], Loss: 5.6479\n",
      "Epoch [700/4000], Loss: 3.4947\n",
      "Epoch [800/4000], Loss: 2.6940\n",
      "Epoch [900/4000], Loss: 2.3929\n",
      "Epoch [1000/4000], Loss: 2.2170\n",
      "Epoch [1100/4000], Loss: 2.0728\n",
      "Epoch [1200/4000], Loss: 1.9389\n",
      "Epoch [1300/4000], Loss: 1.8087\n",
      "Epoch [1400/4000], Loss: 1.6789\n",
      "Epoch [1500/4000], Loss: 1.5481\n",
      "Epoch [1600/4000], Loss: 1.4157\n",
      "Epoch [1700/4000], Loss: 1.2818\n",
      "Epoch [1800/4000], Loss: 1.1472\n",
      "Epoch [1900/4000], Loss: 1.0133\n",
      "Epoch [2000/4000], Loss: 0.8819\n",
      "Epoch [2100/4000], Loss: 0.7553\n",
      "Epoch [2200/4000], Loss: 0.6357\n",
      "Epoch [2300/4000], Loss: 0.5253\n",
      "Epoch [2400/4000], Loss: 0.4258\n",
      "Epoch [2500/4000], Loss: 0.3383\n",
      "Epoch [2600/4000], Loss: 0.2632\n",
      "Epoch [2700/4000], Loss: 0.2005\n",
      "Epoch [2800/4000], Loss: 0.1493\n",
      "Epoch [2900/4000], Loss: 0.1087\n",
      "Epoch [3000/4000], Loss: 0.0773\n",
      "Epoch [3100/4000], Loss: 0.0536\n",
      "Epoch [3200/4000], Loss: 0.0363\n",
      "Epoch [3300/4000], Loss: 0.0239\n",
      "Epoch [3400/4000], Loss: 0.0153\n",
      "Epoch [3500/4000], Loss: 0.0096\n",
      "Epoch [3600/4000], Loss: 0.0058\n",
      "Epoch [3700/4000], Loss: 0.0034\n",
      "Epoch [3800/4000], Loss: 0.0020\n",
      "Epoch [3900/4000], Loss: 0.0011\n",
      "Epoch [4000/4000], Loss: 0.0006\n"
     ]
    }
   ],
   "source": [
    "for epoch in range(4000):\n",
    "    outputs = rnn_model(train_X)\n",
    "    loss = crietrion(outputs, train_y)\n",
    "\n",
    "    rnn_optimizer.zero_grad()\n",
    "    loss.backward()\n",
    "    rnn_optimizer.step()\n",
    "\n",
    "    if (epoch+1) % 100 == 0: # 100회마다 손실 출력\n",
    "        print ('Epoch [{}/{}], Loss: {:.4f}'.format(epoch+1, 4000, loss.item()))"
   ]
  },
  {
   "cell_type": "code",
   "execution_count": 21,
   "metadata": {},
   "outputs": [
    {
     "name": "stdout",
     "output_type": "stream",
     "text": [
      "Input: 2.0, Output: 4.022846221923828, 정답: 4.0\n"
     ]
    }
   ],
   "source": [
    "X_test = torch.tensor([[[2.0]]], dtype=torch.float32).to(device)\n",
    "print(f\"Input: 2.0, Output: {rnn_model(X_test).item()}, 정답: {np.square(2.0)}\") # 테스트 데이터에 대한 예측값 출력"
   ]
  },
  {
   "cell_type": "code",
   "execution_count": 22,
   "metadata": {},
   "outputs": [
    {
     "name": "stdout",
     "output_type": "stream",
     "text": [
      "Epoch [100/4000], Loss: 71.2747\n",
      "Epoch [200/4000], Loss: 36.1348\n",
      "Epoch [300/4000], Loss: 19.2146\n",
      "Epoch [400/4000], Loss: 13.1781\n",
      "Epoch [500/4000], Loss: 7.5683\n",
      "Epoch [600/4000], Loss: 3.9404\n",
      "Epoch [700/4000], Loss: 2.5295\n",
      "Epoch [800/4000], Loss: 2.0122\n",
      "Epoch [900/4000], Loss: 1.6879\n",
      "Epoch [1000/4000], Loss: 1.4118\n",
      "Epoch [1100/4000], Loss: 1.1594\n",
      "Epoch [1200/4000], Loss: 0.9278\n",
      "Epoch [1300/4000], Loss: 0.7199\n",
      "Epoch [1400/4000], Loss: 0.5396\n",
      "Epoch [1500/4000], Loss: 0.3899\n",
      "Epoch [1600/4000], Loss: 0.2714\n",
      "Epoch [1700/4000], Loss: 0.1823\n",
      "Epoch [1800/4000], Loss: 0.1188\n",
      "Epoch [1900/4000], Loss: 0.0757\n",
      "Epoch [2000/4000], Loss: 0.0480\n",
      "Epoch [2100/4000], Loss: 0.0307\n",
      "Epoch [2200/4000], Loss: 0.0203\n",
      "Epoch [2300/4000], Loss: 0.0140\n",
      "Epoch [2400/4000], Loss: 0.0101\n",
      "Epoch [2500/4000], Loss: 0.0076\n",
      "Epoch [2600/4000], Loss: 0.0059\n",
      "Epoch [2700/4000], Loss: 0.0046\n",
      "Epoch [2800/4000], Loss: 0.0037\n",
      "Epoch [2900/4000], Loss: 0.0029\n",
      "Epoch [3000/4000], Loss: 0.0023\n",
      "Epoch [3100/4000], Loss: 0.0018\n",
      "Epoch [3200/4000], Loss: 0.0015\n",
      "Epoch [3300/4000], Loss: 0.0011\n",
      "Epoch [3400/4000], Loss: 0.0009\n",
      "Epoch [3500/4000], Loss: 0.0007\n",
      "Epoch [3600/4000], Loss: 0.0005\n",
      "Epoch [3700/4000], Loss: 0.0004\n",
      "Epoch [3800/4000], Loss: 0.0003\n",
      "Epoch [3900/4000], Loss: 0.0002\n",
      "Epoch [4000/4000], Loss: 0.0002\n"
     ]
    }
   ],
   "source": [
    "for epoch in range(4000):\n",
    "    outputs = lstm_model(train_X)\n",
    "    loss = crietrion(outputs, train_y)\n",
    "\n",
    "    lstm_optimizer.zero_grad()\n",
    "    loss.backward()\n",
    "    lstm_optimizer.step()\n",
    "\n",
    "    if (epoch+1) % 100 == 0: # 100회마다 손실 출력\n",
    "        print ('Epoch [{}/{}], Loss: {:.4f}'.format(epoch+1, 4000, loss.item()))"
   ]
  },
  {
   "cell_type": "code",
   "execution_count": 23,
   "metadata": {},
   "outputs": [
    {
     "name": "stdout",
     "output_type": "stream",
     "text": [
      "Input: 2.0, Output: 3.983644485473633, 정답: 4.0\n"
     ]
    }
   ],
   "source": [
    "X_test = torch.tensor([[[2.0]]], dtype=torch.float32).to(device)\n",
    "print(f\"Input: 2.0, Output: {lstm_model(X_test).item()}, 정답: {np.square(2.0)}\") # 테스트 데이터에 대한 예측값 출력"
   ]
  },
  {
   "cell_type": "code",
   "execution_count": 34,
   "metadata": {},
   "outputs": [
    {
     "name": "stdout",
     "output_type": "stream",
     "text": [
      "Epoch [100/4000], Loss: 56.0298\n",
      "Epoch [200/4000], Loss: 28.9062\n",
      "Epoch [300/4000], Loss: 19.7091\n",
      "Epoch [400/4000], Loss: 13.6193\n",
      "Epoch [500/4000], Loss: 10.0904\n",
      "Epoch [600/4000], Loss: 7.2915\n",
      "Epoch [700/4000], Loss: 5.3637\n",
      "Epoch [800/4000], Loss: 4.6592\n",
      "Epoch [900/4000], Loss: 4.3629\n",
      "Epoch [1000/4000], Loss: 4.1304\n",
      "Epoch [1100/4000], Loss: 3.8627\n",
      "Epoch [1200/4000], Loss: 3.6502\n",
      "Epoch [1300/4000], Loss: 4.1701\n",
      "Epoch [1400/4000], Loss: 4.8456\n",
      "Epoch [1500/4000], Loss: 3.2514\n",
      "Epoch [1600/4000], Loss: 2.1388\n",
      "Epoch [1700/4000], Loss: 1.5047\n",
      "Epoch [1800/4000], Loss: 1.1339\n",
      "Epoch [1900/4000], Loss: 0.9171\n",
      "Epoch [2000/4000], Loss: 0.7871\n",
      "Epoch [2100/4000], Loss: 0.7243\n",
      "Epoch [2200/4000], Loss: 0.6824\n",
      "Epoch [2300/4000], Loss: 0.6458\n",
      "Epoch [2400/4000], Loss: 0.6108\n",
      "Epoch [2500/4000], Loss: 0.5801\n",
      "Epoch [2600/4000], Loss: 0.5625\n",
      "Epoch [2700/4000], Loss: 0.5539\n",
      "Epoch [2800/4000], Loss: 0.5485\n",
      "Epoch [2900/4000], Loss: 0.5731\n",
      "Epoch [3000/4000], Loss: 0.5603\n",
      "Epoch [3100/4000], Loss: 0.5402\n",
      "Epoch [3200/4000], Loss: 0.4991\n",
      "Epoch [3300/4000], Loss: 0.4487\n",
      "Epoch [3400/4000], Loss: 0.3925\n",
      "Epoch [3500/4000], Loss: 0.3394\n",
      "Epoch [3600/4000], Loss: 0.2950\n",
      "Epoch [3700/4000], Loss: 0.2983\n",
      "Epoch [3800/4000], Loss: 0.2742\n",
      "Epoch [3900/4000], Loss: 0.2443\n",
      "Epoch [4000/4000], Loss: 0.2173\n"
     ]
    }
   ],
   "source": [
    "for epoch in range(4000):\n",
    "    outputs = gru_model(train_X)\n",
    "    loss = crietrion(outputs, train_y)\n",
    "\n",
    "    gru_optimizer.zero_grad()\n",
    "    loss.backward()\n",
    "    gru_optimizer.step()\n",
    "\n",
    "    if (epoch+1) % 100 == 0: # 100회마다 손실 출력\n",
    "        print ('Epoch [{}/{}], Loss: {:.4f}'.format(epoch+1, 4000, loss.item()))"
   ]
  },
  {
   "cell_type": "code",
   "execution_count": 35,
   "metadata": {},
   "outputs": [
    {
     "name": "stdout",
     "output_type": "stream",
     "text": [
      "Input: 2.0, Output: 4.410461902618408, 정답: 4.0\n"
     ]
    }
   ],
   "source": [
    "X_test = torch.tensor([[[2.0]]], dtype=torch.float32).to(device)\n",
    "print(f\"Input: 2.0, Output: {gru_model(X_test).item()}, 정답: {np.square(2.0)}\") # 테스트 데이터에 대한 예측값 출력"
   ]
  }
 ],
 "metadata": {
  "kernelspec": {
   "display_name": "base",
   "language": "python",
   "name": "python3"
  },
  "language_info": {
   "codemirror_mode": {
    "name": "ipython",
    "version": 3
   },
   "file_extension": ".py",
   "mimetype": "text/x-python",
   "name": "python",
   "nbconvert_exporter": "python",
   "pygments_lexer": "ipython3",
   "version": "3.11.7"
  }
 },
 "nbformat": 4,
 "nbformat_minor": 2
}
