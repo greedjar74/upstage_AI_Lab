{
 "cells": [
  {
   "cell_type": "markdown",
   "metadata": {},
   "source": [
    "# One to One"
   ]
  },
  {
   "cell_type": "code",
   "execution_count": 1,
   "metadata": {},
   "outputs": [],
   "source": [
    "import torch\n",
    "import numpy as np\n",
    "import gc\n",
    "\n",
    "device = 'mps'"
   ]
  },
  {
   "cell_type": "markdown",
   "metadata": {},
   "source": [
    "# RNN"
   ]
  },
  {
   "cell_type": "code",
   "execution_count": 3,
   "metadata": {},
   "outputs": [],
   "source": [
    "class SimpleRNN(torch.nn.Module):\n",
    "    def __init__(self, n_input=1, n_hidden=20, n_output=1):\n",
    "        super().__init__()\n",
    "        self.I = n_input\n",
    "        self.H = n_hidden\n",
    "        self.O = n_output\n",
    "\n",
    "        self.rnn = torch.nn.RNN(input_size=self.I,\n",
    "                                hidden_size=self.H,\n",
    "                                nonlinearity='tanh',\n",
    "                                batch_first=True)\n",
    "        \n",
    "        self.fc = torch.nn.Linear(self.H, self.O)\n",
    "\n",
    "    def forward(self, x):\n",
    "        h0 = torch.zeros(1, x.size(0), self.H).to(device)\n",
    "\n",
    "        out, h_0 = self.rnn(x, h0)\n",
    "        out = self.fc(out[:, -1, :])\n",
    "\n",
    "        return out"
   ]
  },
  {
   "cell_type": "markdown",
   "metadata": {},
   "source": [
    "# LSTM"
   ]
  },
  {
   "cell_type": "code",
   "execution_count": 4,
   "metadata": {},
   "outputs": [],
   "source": [
    "class LSTM(torch.nn.Module):\n",
    "    def __init__(self, n_input=1, n_hidden=20, n_output=1):\n",
    "        super().__init__()\n",
    "        self.I = n_input\n",
    "        self.H = n_hidden\n",
    "        self.O = n_output\n",
    "\n",
    "        self.rnn = torch.nn.LSTM(input_size=self.I,\n",
    "                                 hidden_size=self.H,\n",
    "                                 batch_first=True)\n",
    "        \n",
    "        self.fc = torch.nn.Linear(self.H, self.O)\n",
    "\n",
    "    def forward(self, x):\n",
    "        h0 = torch.zeros(1, x.size(0), self.H).to(device)\n",
    "        c0 = torch.zeros(1, x.size(0), self.H).to(device)\n",
    "\n",
    "        out, (h_0, c_0) = self.rnn(x, (h0, c0))\n",
    "        out = self.fc(out[:, -1, :])\n",
    "\n",
    "        return out"
   ]
  },
  {
   "cell_type": "markdown",
   "metadata": {},
   "source": [
    "# GRU"
   ]
  },
  {
   "cell_type": "code",
   "execution_count": 50,
   "metadata": {},
   "outputs": [],
   "source": [
    "class GRU(torch.nn.Module):\n",
    "    def __init__(self, n_input=1, n_hidden=20, n_output=1):\n",
    "        super().__init__()\n",
    "        self.I = n_input\n",
    "        self.H = n_hidden\n",
    "        self.O = n_output\n",
    "\n",
    "        self.gru = torch.nn.GRU(input_size=self.I,\n",
    "                                hidden_size=self.H,\n",
    "                                batch_first=True)\n",
    "        \n",
    "        self.fc = torch.nn.Linear(self.H, self.O)\n",
    "\n",
    "    def forward(self, x):\n",
    "        h0 = torch.zeros(1, x.size(0), self.H).to(device)\n",
    "\n",
    "        out, h_0= self.gru(x, h0)\n",
    "        out = self.fc(out[:, -1, :])\n",
    "\n",
    "        return out"
   ]
  },
  {
   "cell_type": "markdown",
   "metadata": {},
   "source": [
    "# 모델 생성"
   ]
  },
  {
   "cell_type": "code",
   "execution_count": 51,
   "metadata": {},
   "outputs": [],
   "source": [
    "rnn_model = SimpleRNN(n_input=1, n_hidden=40, n_output=1).to(device)\n",
    "lstm_model = LSTM(n_input=1, n_hidden=40, n_output=1).to(device)\n",
    "gru_model = GRU(n_input=1, n_hidden=40, n_output=1).to(device)"
   ]
  },
  {
   "cell_type": "markdown",
   "metadata": {},
   "source": [
    "# 학습"
   ]
  },
  {
   "cell_type": "code",
   "execution_count": 52,
   "metadata": {},
   "outputs": [],
   "source": [
    "X = np.random.randint(1, 5, size=(1000, 1, 1)) # 랜덤한 값을 생성 -> 1~4 사이의 값을 1000개 생성\n",
    "y = np.square(X) # x의 제곱\n",
    "\n",
    "train_X = torch.from_numpy(X.astype(np.float32)).to(device)\n",
    "train_y = torch.from_numpy(y.astype(np.float32)).squeeze(-1).to(device)\n",
    "\n",
    "crietrion = torch.nn.MSELoss()\n",
    "rnn_optimizer = torch.optim.Adam(rnn_model.parameters())\n",
    "lstm_optimizer = torch.optim.Adam(lstm_model.parameters())\n",
    "gru_optimizer = torch.optim.Adam(gru_model.parameters())"
   ]
  },
  {
   "cell_type": "code",
   "execution_count": 8,
   "metadata": {},
   "outputs": [
    {
     "name": "stdout",
     "output_type": "stream",
     "text": [
      "Epoch [100/4000], Loss: 40.8957\n",
      "Epoch [200/4000], Loss: 21.7805\n",
      "Epoch [300/4000], Loss: 16.8765\n",
      "Epoch [400/4000], Loss: 11.7607\n",
      "Epoch [500/4000], Loss: 7.1105\n",
      "Epoch [600/4000], Loss: 4.2321\n",
      "Epoch [700/4000], Loss: 3.0310\n",
      "Epoch [800/4000], Loss: 2.6126\n",
      "Epoch [900/4000], Loss: 2.4124\n",
      "Epoch [1000/4000], Loss: 2.2618\n",
      "Epoch [1100/4000], Loss: 2.1256\n",
      "Epoch [1200/4000], Loss: 1.9944\n",
      "Epoch [1300/4000], Loss: 1.8635\n",
      "Epoch [1400/4000], Loss: 1.7304\n",
      "Epoch [1500/4000], Loss: 1.5935\n",
      "Epoch [1600/4000], Loss: 1.4523\n",
      "Epoch [1700/4000], Loss: 1.3074\n",
      "Epoch [1800/4000], Loss: 1.1603\n",
      "Epoch [1900/4000], Loss: 1.0131\n",
      "Epoch [2000/4000], Loss: 0.8689\n",
      "Epoch [2100/4000], Loss: 0.7309\n",
      "Epoch [2200/4000], Loss: 0.6022\n",
      "Epoch [2300/4000], Loss: 0.4855\n",
      "Epoch [2400/4000], Loss: 0.3827\n",
      "Epoch [2500/4000], Loss: 0.2948\n",
      "Epoch [2600/4000], Loss: 0.2217\n",
      "Epoch [2700/4000], Loss: 0.1628\n",
      "Epoch [2800/4000], Loss: 0.1167\n",
      "Epoch [2900/4000], Loss: 0.0815\n",
      "Epoch [3000/4000], Loss: 0.0555\n",
      "Epoch [3100/4000], Loss: 0.0369\n",
      "Epoch [3200/4000], Loss: 0.0238\n",
      "Epoch [3300/4000], Loss: 0.0150\n",
      "Epoch [3400/4000], Loss: 0.0092\n",
      "Epoch [3500/4000], Loss: 0.0055\n",
      "Epoch [3600/4000], Loss: 0.0032\n",
      "Epoch [3700/4000], Loss: 0.0018\n",
      "Epoch [3800/4000], Loss: 0.0010\n",
      "Epoch [3900/4000], Loss: 0.0005\n",
      "Epoch [4000/4000], Loss: 0.0003\n"
     ]
    }
   ],
   "source": [
    "for epoch in range(4000):\n",
    "    outputs = rnn_model(train_X)\n",
    "    loss = crietrion(outputs, train_y)\n",
    "\n",
    "    rnn_optimizer.zero_grad()\n",
    "    loss.backward()\n",
    "    rnn_optimizer.step()\n",
    "\n",
    "    if (epoch+1) % 100 == 0: # 100회마다 손실 출력\n",
    "        print ('Epoch [{}/{}], Loss: {:.4f}'.format(epoch+1, 4000, loss.item()))"
   ]
  },
  {
   "cell_type": "code",
   "execution_count": 34,
   "metadata": {},
   "outputs": [
    {
     "name": "stdout",
     "output_type": "stream",
     "text": [
      "입력: 2.0, 정답: 4.0, 예측: 4.005005359649658\n",
      "입력: 3.0, 정답: 9.0, 예측: 9.026866912841797\n",
      "입력: 10.0, 정답: 100.0, 예측: 25.592641830444336\n"
     ]
    }
   ],
   "source": [
    "X_test = torch.tensor([[[2.0]], [[3.0]], [[10.0]]], dtype=torch.float32).to(device)\n",
    "outputs = rnn_model(X_test).cpu().tolist()\n",
    "\n",
    "for i, re in enumerate(outputs):\n",
    "    print(f'입력: {X_test[i][0].cpu()[0]}, 정답: {X_test[i][0].cpu()[0]**2}, 예측: {re[0]}')\n",
    "\n",
    "# 학습에 없던 10의 경우 제대로 예측이 안 된다."
   ]
  },
  {
   "cell_type": "code",
   "execution_count": 35,
   "metadata": {},
   "outputs": [
    {
     "name": "stdout",
     "output_type": "stream",
     "text": [
      "Epoch [100/4000], Loss: 68.4269\n",
      "Epoch [200/4000], Loss: 33.3822\n",
      "Epoch [300/4000], Loss: 18.4541\n",
      "Epoch [400/4000], Loss: 13.2460\n",
      "Epoch [500/4000], Loss: 8.2132\n",
      "Epoch [600/4000], Loss: 4.4246\n",
      "Epoch [700/4000], Loss: 2.5683\n",
      "Epoch [800/4000], Loss: 1.8707\n",
      "Epoch [900/4000], Loss: 1.5196\n",
      "Epoch [1000/4000], Loss: 1.2565\n",
      "Epoch [1100/4000], Loss: 1.0308\n",
      "Epoch [1200/4000], Loss: 0.8303\n",
      "Epoch [1300/4000], Loss: 0.6528\n",
      "Epoch [1400/4000], Loss: 0.4992\n",
      "Epoch [1500/4000], Loss: 0.3705\n",
      "Epoch [1600/4000], Loss: 0.2671\n",
      "Epoch [1700/4000], Loss: 0.1874\n",
      "Epoch [1800/4000], Loss: 0.1289\n",
      "Epoch [1900/4000], Loss: 0.0876\n",
      "Epoch [2000/4000], Loss: 0.0597\n",
      "Epoch [2100/4000], Loss: 0.0415\n",
      "Epoch [2200/4000], Loss: 0.0297\n",
      "Epoch [2300/4000], Loss: 0.0222\n",
      "Epoch [2400/4000], Loss: 0.0173\n",
      "Epoch [2500/4000], Loss: 0.0139\n",
      "Epoch [2600/4000], Loss: 0.0114\n",
      "Epoch [2700/4000], Loss: 0.0095\n",
      "Epoch [2800/4000], Loss: 0.0079\n",
      "Epoch [2900/4000], Loss: 0.0066\n",
      "Epoch [3000/4000], Loss: 0.0055\n",
      "Epoch [3100/4000], Loss: 0.0046\n",
      "Epoch [3200/4000], Loss: 0.0038\n",
      "Epoch [3300/4000], Loss: 0.0032\n",
      "Epoch [3400/4000], Loss: 0.0026\n",
      "Epoch [3500/4000], Loss: 0.0021\n",
      "Epoch [3600/4000], Loss: 0.0017\n",
      "Epoch [3700/4000], Loss: 0.0014\n",
      "Epoch [3800/4000], Loss: 0.0011\n",
      "Epoch [3900/4000], Loss: 0.0009\n",
      "Epoch [4000/4000], Loss: 0.0007\n"
     ]
    }
   ],
   "source": [
    "for epoch in range(4000):\n",
    "    outputs = lstm_model(train_X)\n",
    "    loss = crietrion(outputs, train_y)\n",
    "\n",
    "    lstm_optimizer.zero_grad()\n",
    "    loss.backward()\n",
    "    lstm_optimizer.step()\n",
    "\n",
    "    if (epoch+1) % 100 == 0: # 100회마다 손실 출력\n",
    "        print ('Epoch [{}/{}], Loss: {:.4f}'.format(epoch+1, 4000, loss.item()))"
   ]
  },
  {
   "cell_type": "code",
   "execution_count": 36,
   "metadata": {},
   "outputs": [
    {
     "name": "stdout",
     "output_type": "stream",
     "text": [
      "Input: 2.0, Output: 3.9716007709503174, 정답: 4.0\n"
     ]
    }
   ],
   "source": [
    "X_test = torch.tensor([[[2.0]]], dtype=torch.float32).to(device)\n",
    "print(f\"Input: 2.0, Output: {lstm_model(X_test).item()}, 정답: {np.square(2.0)}\") # 테스트 데이터에 대한 예측값 출력"
   ]
  },
  {
   "cell_type": "code",
   "execution_count": 53,
   "metadata": {},
   "outputs": [
    {
     "name": "stdout",
     "output_type": "stream",
     "text": [
      "Epoch [100/4000], Loss: 49.0133\n",
      "Epoch [200/4000], Loss: 25.9639\n",
      "Epoch [300/4000], Loss: 16.9823\n",
      "Epoch [400/4000], Loss: 11.9726\n",
      "Epoch [500/4000], Loss: 7.7389\n",
      "Epoch [600/4000], Loss: 5.3142\n",
      "Epoch [700/4000], Loss: 4.3695\n",
      "Epoch [800/4000], Loss: 4.0927\n",
      "Epoch [900/4000], Loss: 4.0582\n",
      "Epoch [1000/4000], Loss: 3.8452\n",
      "Epoch [1100/4000], Loss: 3.5047\n",
      "Epoch [1200/4000], Loss: 3.4741\n",
      "Epoch [1300/4000], Loss: 4.1647\n",
      "Epoch [1400/4000], Loss: 3.2103\n",
      "Epoch [1500/4000], Loss: 2.2244\n",
      "Epoch [1600/4000], Loss: 1.5910\n",
      "Epoch [1700/4000], Loss: 1.1581\n",
      "Epoch [1800/4000], Loss: 0.8734\n",
      "Epoch [1900/4000], Loss: 0.6783\n",
      "Epoch [2000/4000], Loss: 0.5565\n",
      "Epoch [2100/4000], Loss: 0.4856\n",
      "Epoch [2200/4000], Loss: 0.4422\n",
      "Epoch [2300/4000], Loss: 0.4122\n",
      "Epoch [2400/4000], Loss: 0.3883\n",
      "Epoch [2500/4000], Loss: 0.3673\n",
      "Epoch [2600/4000], Loss: 0.3479\n",
      "Epoch [2700/4000], Loss: 0.3300\n",
      "Epoch [2800/4000], Loss: 0.3143\n",
      "Epoch [2900/4000], Loss: 0.3012\n",
      "Epoch [3000/4000], Loss: 0.2898\n",
      "Epoch [3100/4000], Loss: 0.2811\n",
      "Epoch [3200/4000], Loss: 0.6676\n",
      "Epoch [3300/4000], Loss: 0.3637\n",
      "Epoch [3400/4000], Loss: 0.3277\n",
      "Epoch [3500/4000], Loss: 0.3007\n",
      "Epoch [3600/4000], Loss: 0.2768\n",
      "Epoch [3700/4000], Loss: 0.2547\n",
      "Epoch [3800/4000], Loss: 0.2338\n",
      "Epoch [3900/4000], Loss: 0.2139\n",
      "Epoch [4000/4000], Loss: 0.1949\n"
     ]
    }
   ],
   "source": [
    "for epoch in range(4000):\n",
    "    outputs = gru_model(train_X)\n",
    "    loss = crietrion(outputs, train_y)\n",
    "\n",
    "    gru_optimizer.zero_grad()\n",
    "    loss.backward()\n",
    "    gru_optimizer.step()\n",
    "\n",
    "    if (epoch+1) % 100 == 0: # 100회마다 손실 출력\n",
    "        print ('Epoch [{}/{}], Loss: {:.4f}'.format(epoch+1, 4000, loss.item()))"
   ]
  },
  {
   "cell_type": "code",
   "execution_count": 54,
   "metadata": {},
   "outputs": [
    {
     "name": "stdout",
     "output_type": "stream",
     "text": [
      "Input: 2.0, Output: 5.418184280395508, 정답: 4.0\n"
     ]
    }
   ],
   "source": [
    "X_test = torch.tensor([[[2.0]]], dtype=torch.float32).to(device)\n",
    "print(f\"Input: 2.0, Output: {gru_model(X_test).item()}, 정답: {np.square(2.0)}\") # 테스트 데이터에 대한 예측값 출력"
   ]
  }
 ],
 "metadata": {
  "kernelspec": {
   "display_name": "base",
   "language": "python",
   "name": "python3"
  },
  "language_info": {
   "codemirror_mode": {
    "name": "ipython",
    "version": 3
   },
   "file_extension": ".py",
   "mimetype": "text/x-python",
   "name": "python",
   "nbconvert_exporter": "python",
   "pygments_lexer": "ipython3",
   "version": "3.11.7"
  }
 },
 "nbformat": 4,
 "nbformat_minor": 2
}
