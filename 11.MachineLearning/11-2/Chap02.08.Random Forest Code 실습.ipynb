{
 "cells": [
  {
   "cell_type": "markdown",
   "metadata": {
    "id": "cM_MA0PQAev7"
   },
   "source": [
    "# **<font color=white> 08.Random Forest Code 실습**\n",
    "\n",
    "[목적]\n",
    "  1. Decision Tree 실습 및 해석\n",
    "  2. Variance를 낮추기위한 Bagging의 대표적인 모델 RandomForest 실습 및 해석\n",
    "\n",
    "[Process]\n",
    "  1. Define X's & Y\n",
    "  2. Split Train & Valid dataset\n",
    "  3. Modeling\n",
    "  4. Model 해석"
   ]
  },
  {
   "cell_type": "code",
   "execution_count": 1,
   "metadata": {
    "executionInfo": {
     "elapsed": 263,
     "status": "ok",
     "timestamp": 1677294640604,
     "user": {
      "displayName": "안건이",
      "userId": "00323974519415085515"
     },
     "user_tz": -540
    },
    "id": "-Caw6LZsBBNg"
   },
   "outputs": [],
   "source": [
    "import os\n",
    "import gc\n",
    "import pickle\n",
    "import numpy as np\n",
    "import pandas as pd\n",
    "import matplotlib.pyplot as plt\n",
    "import seaborn as sns\n",
    "\n",
    "import warnings\n",
    "warnings.filterwarnings(\"ignore\")\n",
    "\n",
    "from sklearn.model_selection import train_test_split\n",
    "from sklearn.metrics import confusion_matrix, f1_score\n",
    "from sklearn.ensemble import RandomForestClassifier, RandomForestRegressor\n",
    "from sklearn.tree import DecisionTreeClassifier, export_graphviz\n",
    "from collections import Counter\n",
    "from sklearn import tree"
   ]
  },
  {
   "cell_type": "code",
   "execution_count": 2,
   "metadata": {
    "executionInfo": {
     "elapsed": 393,
     "status": "ok",
     "timestamp": 1677294641297,
     "user": {
      "displayName": "안건이",
      "userId": "00323974519415085515"
     },
     "user_tz": -540
    },
    "id": "V319oaeuMjf9"
   },
   "outputs": [],
   "source": [
    "# Data Loading (수술 時 사망 데이터)\n",
    "data = pd.read_csv(\"https://raw.githubusercontent.com/GonieAhn/Data-Science-online-course-from-gonie/main/Data%20Store/example_data.csv\")"
   ]
  },
  {
   "cell_type": "code",
   "execution_count": 3,
   "metadata": {
    "colab": {
     "base_uri": "https://localhost:8080/",
     "height": 423
    },
    "executionInfo": {
     "elapsed": 25,
     "status": "ok",
     "timestamp": 1677294641298,
     "user": {
      "displayName": "안건이",
      "userId": "00323974519415085515"
     },
     "user_tz": -540
    },
    "id": "xRp2NmBxi5Xg",
    "outputId": "43507a9f-03f0-4059-c05c-5f84efd5e6de"
   },
   "outputs": [
    {
     "data": {
      "text/html": [
       "<div>\n",
       "<style scoped>\n",
       "    .dataframe tbody tr th:only-of-type {\n",
       "        vertical-align: middle;\n",
       "    }\n",
       "\n",
       "    .dataframe tbody tr th {\n",
       "        vertical-align: top;\n",
       "    }\n",
       "\n",
       "    .dataframe thead th {\n",
       "        text-align: right;\n",
       "    }\n",
       "</style>\n",
       "<table border=\"1\" class=\"dataframe\">\n",
       "  <thead>\n",
       "    <tr style=\"text-align: right;\">\n",
       "      <th></th>\n",
       "      <th>censor</th>\n",
       "      <th>event</th>\n",
       "      <th>age</th>\n",
       "      <th>wtkg</th>\n",
       "      <th>hemo</th>\n",
       "      <th>homo</th>\n",
       "      <th>drugs</th>\n",
       "      <th>karnof</th>\n",
       "      <th>oprior</th>\n",
       "      <th>z30</th>\n",
       "      <th>...</th>\n",
       "      <th>gender</th>\n",
       "      <th>str2</th>\n",
       "      <th>strat</th>\n",
       "      <th>symptom</th>\n",
       "      <th>cd40</th>\n",
       "      <th>cd420</th>\n",
       "      <th>cd496</th>\n",
       "      <th>r</th>\n",
       "      <th>cd80</th>\n",
       "      <th>cd820</th>\n",
       "    </tr>\n",
       "  </thead>\n",
       "  <tbody>\n",
       "    <tr>\n",
       "      <th>0</th>\n",
       "      <td>0</td>\n",
       "      <td>1090</td>\n",
       "      <td>43</td>\n",
       "      <td>66.679</td>\n",
       "      <td>0</td>\n",
       "      <td>1</td>\n",
       "      <td>0</td>\n",
       "      <td>100</td>\n",
       "      <td>0</td>\n",
       "      <td>1</td>\n",
       "      <td>...</td>\n",
       "      <td>1</td>\n",
       "      <td>1</td>\n",
       "      <td>3</td>\n",
       "      <td>0</td>\n",
       "      <td>504</td>\n",
       "      <td>353</td>\n",
       "      <td>660</td>\n",
       "      <td>1</td>\n",
       "      <td>870</td>\n",
       "      <td>782</td>\n",
       "    </tr>\n",
       "    <tr>\n",
       "      <th>1</th>\n",
       "      <td>1</td>\n",
       "      <td>794</td>\n",
       "      <td>31</td>\n",
       "      <td>73.030</td>\n",
       "      <td>0</td>\n",
       "      <td>1</td>\n",
       "      <td>0</td>\n",
       "      <td>100</td>\n",
       "      <td>0</td>\n",
       "      <td>1</td>\n",
       "      <td>...</td>\n",
       "      <td>1</td>\n",
       "      <td>1</td>\n",
       "      <td>3</td>\n",
       "      <td>0</td>\n",
       "      <td>244</td>\n",
       "      <td>225</td>\n",
       "      <td>106</td>\n",
       "      <td>1</td>\n",
       "      <td>708</td>\n",
       "      <td>699</td>\n",
       "    </tr>\n",
       "    <tr>\n",
       "      <th>2</th>\n",
       "      <td>0</td>\n",
       "      <td>957</td>\n",
       "      <td>41</td>\n",
       "      <td>66.226</td>\n",
       "      <td>0</td>\n",
       "      <td>1</td>\n",
       "      <td>1</td>\n",
       "      <td>100</td>\n",
       "      <td>0</td>\n",
       "      <td>1</td>\n",
       "      <td>...</td>\n",
       "      <td>1</td>\n",
       "      <td>1</td>\n",
       "      <td>3</td>\n",
       "      <td>0</td>\n",
       "      <td>401</td>\n",
       "      <td>366</td>\n",
       "      <td>453</td>\n",
       "      <td>1</td>\n",
       "      <td>889</td>\n",
       "      <td>720</td>\n",
       "    </tr>\n",
       "    <tr>\n",
       "      <th>3</th>\n",
       "      <td>1</td>\n",
       "      <td>188</td>\n",
       "      <td>35</td>\n",
       "      <td>78.019</td>\n",
       "      <td>0</td>\n",
       "      <td>1</td>\n",
       "      <td>0</td>\n",
       "      <td>100</td>\n",
       "      <td>0</td>\n",
       "      <td>1</td>\n",
       "      <td>...</td>\n",
       "      <td>1</td>\n",
       "      <td>1</td>\n",
       "      <td>3</td>\n",
       "      <td>0</td>\n",
       "      <td>221</td>\n",
       "      <td>132</td>\n",
       "      <td>-1</td>\n",
       "      <td>0</td>\n",
       "      <td>221</td>\n",
       "      <td>759</td>\n",
       "    </tr>\n",
       "    <tr>\n",
       "      <th>4</th>\n",
       "      <td>1</td>\n",
       "      <td>308</td>\n",
       "      <td>40</td>\n",
       "      <td>83.009</td>\n",
       "      <td>0</td>\n",
       "      <td>1</td>\n",
       "      <td>0</td>\n",
       "      <td>100</td>\n",
       "      <td>0</td>\n",
       "      <td>1</td>\n",
       "      <td>...</td>\n",
       "      <td>1</td>\n",
       "      <td>1</td>\n",
       "      <td>3</td>\n",
       "      <td>1</td>\n",
       "      <td>150</td>\n",
       "      <td>90</td>\n",
       "      <td>20</td>\n",
       "      <td>1</td>\n",
       "      <td>1730</td>\n",
       "      <td>1160</td>\n",
       "    </tr>\n",
       "    <tr>\n",
       "      <th>...</th>\n",
       "      <td>...</td>\n",
       "      <td>...</td>\n",
       "      <td>...</td>\n",
       "      <td>...</td>\n",
       "      <td>...</td>\n",
       "      <td>...</td>\n",
       "      <td>...</td>\n",
       "      <td>...</td>\n",
       "      <td>...</td>\n",
       "      <td>...</td>\n",
       "      <td>...</td>\n",
       "      <td>...</td>\n",
       "      <td>...</td>\n",
       "      <td>...</td>\n",
       "      <td>...</td>\n",
       "      <td>...</td>\n",
       "      <td>...</td>\n",
       "      <td>...</td>\n",
       "      <td>...</td>\n",
       "      <td>...</td>\n",
       "      <td>...</td>\n",
       "    </tr>\n",
       "    <tr>\n",
       "      <th>527</th>\n",
       "      <td>0</td>\n",
       "      <td>1097</td>\n",
       "      <td>24</td>\n",
       "      <td>71.000</td>\n",
       "      <td>1</td>\n",
       "      <td>0</td>\n",
       "      <td>0</td>\n",
       "      <td>100</td>\n",
       "      <td>0</td>\n",
       "      <td>1</td>\n",
       "      <td>...</td>\n",
       "      <td>1</td>\n",
       "      <td>1</td>\n",
       "      <td>2</td>\n",
       "      <td>0</td>\n",
       "      <td>364</td>\n",
       "      <td>475</td>\n",
       "      <td>734</td>\n",
       "      <td>1</td>\n",
       "      <td>770</td>\n",
       "      <td>802</td>\n",
       "    </tr>\n",
       "    <tr>\n",
       "      <th>528</th>\n",
       "      <td>1</td>\n",
       "      <td>154</td>\n",
       "      <td>21</td>\n",
       "      <td>52.300</td>\n",
       "      <td>1</td>\n",
       "      <td>0</td>\n",
       "      <td>0</td>\n",
       "      <td>90</td>\n",
       "      <td>0</td>\n",
       "      <td>1</td>\n",
       "      <td>...</td>\n",
       "      <td>1</td>\n",
       "      <td>1</td>\n",
       "      <td>2</td>\n",
       "      <td>0</td>\n",
       "      <td>415</td>\n",
       "      <td>181</td>\n",
       "      <td>84</td>\n",
       "      <td>1</td>\n",
       "      <td>949</td>\n",
       "      <td>666</td>\n",
       "    </tr>\n",
       "    <tr>\n",
       "      <th>529</th>\n",
       "      <td>1</td>\n",
       "      <td>588</td>\n",
       "      <td>16</td>\n",
       "      <td>63.000</td>\n",
       "      <td>1</td>\n",
       "      <td>0</td>\n",
       "      <td>0</td>\n",
       "      <td>100</td>\n",
       "      <td>0</td>\n",
       "      <td>1</td>\n",
       "      <td>...</td>\n",
       "      <td>1</td>\n",
       "      <td>1</td>\n",
       "      <td>3</td>\n",
       "      <td>0</td>\n",
       "      <td>299</td>\n",
       "      <td>214</td>\n",
       "      <td>124</td>\n",
       "      <td>1</td>\n",
       "      <td>546</td>\n",
       "      <td>471</td>\n",
       "    </tr>\n",
       "    <tr>\n",
       "      <th>530</th>\n",
       "      <td>0</td>\n",
       "      <td>395</td>\n",
       "      <td>17</td>\n",
       "      <td>102.967</td>\n",
       "      <td>1</td>\n",
       "      <td>0</td>\n",
       "      <td>0</td>\n",
       "      <td>100</td>\n",
       "      <td>0</td>\n",
       "      <td>1</td>\n",
       "      <td>...</td>\n",
       "      <td>1</td>\n",
       "      <td>1</td>\n",
       "      <td>3</td>\n",
       "      <td>0</td>\n",
       "      <td>373</td>\n",
       "      <td>218</td>\n",
       "      <td>-1</td>\n",
       "      <td>0</td>\n",
       "      <td>1759</td>\n",
       "      <td>1030</td>\n",
       "    </tr>\n",
       "    <tr>\n",
       "      <th>531</th>\n",
       "      <td>1</td>\n",
       "      <td>465</td>\n",
       "      <td>14</td>\n",
       "      <td>60.000</td>\n",
       "      <td>1</td>\n",
       "      <td>0</td>\n",
       "      <td>0</td>\n",
       "      <td>100</td>\n",
       "      <td>0</td>\n",
       "      <td>0</td>\n",
       "      <td>...</td>\n",
       "      <td>1</td>\n",
       "      <td>0</td>\n",
       "      <td>1</td>\n",
       "      <td>0</td>\n",
       "      <td>166</td>\n",
       "      <td>169</td>\n",
       "      <td>28</td>\n",
       "      <td>1</td>\n",
       "      <td>999</td>\n",
       "      <td>1838</td>\n",
       "    </tr>\n",
       "  </tbody>\n",
       "</table>\n",
       "<p>532 rows × 23 columns</p>\n",
       "</div>"
      ],
      "text/plain": [
       "     censor  event  age     wtkg  hemo  homo  drugs  karnof  oprior  z30  ...  \\\n",
       "0         0   1090   43   66.679     0     1      0     100       0    1  ...   \n",
       "1         1    794   31   73.030     0     1      0     100       0    1  ...   \n",
       "2         0    957   41   66.226     0     1      1     100       0    1  ...   \n",
       "3         1    188   35   78.019     0     1      0     100       0    1  ...   \n",
       "4         1    308   40   83.009     0     1      0     100       0    1  ...   \n",
       "..      ...    ...  ...      ...   ...   ...    ...     ...     ...  ...  ...   \n",
       "527       0   1097   24   71.000     1     0      0     100       0    1  ...   \n",
       "528       1    154   21   52.300     1     0      0      90       0    1  ...   \n",
       "529       1    588   16   63.000     1     0      0     100       0    1  ...   \n",
       "530       0    395   17  102.967     1     0      0     100       0    1  ...   \n",
       "531       1    465   14   60.000     1     0      0     100       0    0  ...   \n",
       "\n",
       "     gender  str2  strat  symptom  cd40  cd420  cd496  r  cd80  cd820  \n",
       "0         1     1      3        0   504    353    660  1   870    782  \n",
       "1         1     1      3        0   244    225    106  1   708    699  \n",
       "2         1     1      3        0   401    366    453  1   889    720  \n",
       "3         1     1      3        0   221    132     -1  0   221    759  \n",
       "4         1     1      3        1   150     90     20  1  1730   1160  \n",
       "..      ...   ...    ...      ...   ...    ...    ... ..   ...    ...  \n",
       "527       1     1      2        0   364    475    734  1   770    802  \n",
       "528       1     1      2        0   415    181     84  1   949    666  \n",
       "529       1     1      3        0   299    214    124  1   546    471  \n",
       "530       1     1      3        0   373    218     -1  0  1759   1030  \n",
       "531       1     0      1        0   166    169     28  1   999   1838  \n",
       "\n",
       "[532 rows x 23 columns]"
      ]
     },
     "execution_count": 3,
     "metadata": {},
     "output_type": "execute_result"
    }
   ],
   "source": [
    "data"
   ]
  },
  {
   "cell_type": "markdown",
   "metadata": {
    "id": "-3D0T-AwBqxq"
   },
   "source": [
    "[Data DESCR]\n",
    "\n",
    "Brief Description\n",
    "\n",
    "The original paper describing the trial is Hammer, S. M., Katzenstein, D. A., Hughes, M. D., Gundaker, H., Schooley, R. T., Haubrich, R. H., Henry, W. K., Lederman, M. M., Phair, J. P., Niu, M., Hirsch, M. S., and Merigan, T. C., for the Aids Clinical Trials Group Study 175 Study Team (1996). A trial comparing nucleoside monotherapy with combination therapy in HIV-infected adults with CD4 counts from 200 to 500 per cubic millimeter. The New England Journal of Medicine, 1081-1089.\n",
    "\n",
    "Linear regression of response = cd4 count at 20 +- 5 weeks (cd420) was used in Tsiatis, A.A., Davidian, M., Zhang, M., and Lu, X. (2008), \"Covariate adjustment for two-sample treatment comparisons in randomized clinical trials: A principled yet flexible approach,\" Statistics in Medicine.\n",
    "\n",
    "Cox regression of response = time to death (event) was used in Lu X, Tsiatis AA (2008), \"Improving the efficiency of the logrank test using auxiliary covariates,\" Biometrika.\n",
    "\n",
    "In the text file above, the variables are named\n",
    "\n",
    "- censor     :     censoring indicator = 1 if dead = 0 if censored\n",
    "- event      :     event time\n",
    "- age        :     age (yrs) at baseline\n",
    "- wtkg       :     weight (kg) at baseline\n",
    "- hemo       :     hemophilia (0=no, 1=yes)\n",
    "- homo       :     homosexual activity (0=no, 1=yes)\n",
    "- drugs      :     history of IV drug use (0=no, 1=yes)\n",
    "- karnof     :     Karnofsky score (on a scale of 0-100)\n",
    "- oprior     :     Non-ZDV antiretroviral therapy pre-175 (0=no, 1=yes)\n",
    "- z30        :     ZDV in the 30 days prior to 175 (0=no, 1=yes)\n",
    "- zprior     :     ZDV prior to 175 (0=no, 1=yes)\n",
    "- preanti    :     # days pre-175 anti-retroviral therapy\n",
    "- race       :     race (0=White, 1=non-white)\n",
    "- gender     :     gender (0=F, 1=M)\n",
    "- str2       :     antiretroviral history (0=naive, 1=experienced)\n",
    "- strat      :     antiretroviral history stratification (1='Antiretroviral Naive',2='> 1 but <= 52 weeks of prior antiretroviral therapy',3='> 52 weeks)\n",
    "- symptom    :     symptomatic indicator (0=asymp, 1=symp)\n",
    "- cd40       :     baseline cd4\n",
    "- cd420      :     cd4 count at 20 +- 5 weeks\n",
    "- cd496      :     cd4 count at 96 +- 5 weeks (missing for a lot of subjects)\n",
    "- r          :     missingness indicator for cd496\n",
    "- cd80       :     baseline cd8 count\n",
    "- cd820      :     cd8 count at 20 +- 5 weeks"
   ]
  },
  {
   "cell_type": "code",
   "execution_count": 4,
   "metadata": {
    "colab": {
     "base_uri": "https://localhost:8080/"
    },
    "executionInfo": {
     "elapsed": 2,
     "status": "ok",
     "timestamp": 1677294650374,
     "user": {
      "displayName": "안건이",
      "userId": "00323974519415085515"
     },
     "user_tz": -540
    },
    "id": "MYm3ieA_jLVx",
    "outputId": "8c963426-3bb5-4454-fd33-050cae0c8779"
   },
   "outputs": [
    {
     "data": {
      "text/plain": [
       "23"
      ]
     },
     "execution_count": 4,
     "metadata": {},
     "output_type": "execute_result"
    }
   ],
   "source": [
    "data.shape[1]"
   ]
  },
  {
   "cell_type": "code",
   "execution_count": 5,
   "metadata": {
    "colab": {
     "base_uri": "https://localhost:8080/",
     "height": 393
    },
    "executionInfo": {
     "elapsed": 21,
     "status": "ok",
     "timestamp": 1677294641299,
     "user": {
      "displayName": "안건이",
      "userId": "00323974519415085515"
     },
     "user_tz": -540
    },
    "id": "UdzYQ2cGNt4d",
    "outputId": "6580c54b-0cd8-4d81-fb4b-551de625bcac"
   },
   "outputs": [
    {
     "data": {
      "text/html": [
       "<div>\n",
       "<style scoped>\n",
       "    .dataframe tbody tr th:only-of-type {\n",
       "        vertical-align: middle;\n",
       "    }\n",
       "\n",
       "    .dataframe tbody tr th {\n",
       "        vertical-align: top;\n",
       "    }\n",
       "\n",
       "    .dataframe thead th {\n",
       "        text-align: right;\n",
       "    }\n",
       "</style>\n",
       "<table border=\"1\" class=\"dataframe\">\n",
       "  <thead>\n",
       "    <tr style=\"text-align: right;\">\n",
       "      <th></th>\n",
       "      <th>censor</th>\n",
       "      <th>event</th>\n",
       "      <th>age</th>\n",
       "      <th>wtkg</th>\n",
       "      <th>hemo</th>\n",
       "      <th>homo</th>\n",
       "      <th>drugs</th>\n",
       "      <th>karnof</th>\n",
       "      <th>oprior</th>\n",
       "      <th>z30</th>\n",
       "      <th>...</th>\n",
       "      <th>gender</th>\n",
       "      <th>str2</th>\n",
       "      <th>strat</th>\n",
       "      <th>symptom</th>\n",
       "      <th>cd40</th>\n",
       "      <th>cd420</th>\n",
       "      <th>cd496</th>\n",
       "      <th>r</th>\n",
       "      <th>cd80</th>\n",
       "      <th>cd820</th>\n",
       "    </tr>\n",
       "  </thead>\n",
       "  <tbody>\n",
       "    <tr>\n",
       "      <th>count</th>\n",
       "      <td>532.000000</td>\n",
       "      <td>532.000000</td>\n",
       "      <td>532.000000</td>\n",
       "      <td>532.000000</td>\n",
       "      <td>532.000000</td>\n",
       "      <td>532.000000</td>\n",
       "      <td>532.000000</td>\n",
       "      <td>532.000000</td>\n",
       "      <td>532.000000</td>\n",
       "      <td>532.000000</td>\n",
       "      <td>...</td>\n",
       "      <td>532.000000</td>\n",
       "      <td>532.000000</td>\n",
       "      <td>532.000000</td>\n",
       "      <td>532.000000</td>\n",
       "      <td>532.000000</td>\n",
       "      <td>532.000000</td>\n",
       "      <td>532.000000</td>\n",
       "      <td>532.000000</td>\n",
       "      <td>532.000000</td>\n",
       "      <td>532.000000</td>\n",
       "    </tr>\n",
       "    <tr>\n",
       "      <th>mean</th>\n",
       "      <td>0.340226</td>\n",
       "      <td>801.236842</td>\n",
       "      <td>35.225564</td>\n",
       "      <td>76.061855</td>\n",
       "      <td>0.078947</td>\n",
       "      <td>0.640977</td>\n",
       "      <td>0.118421</td>\n",
       "      <td>95.432331</td>\n",
       "      <td>0.030075</td>\n",
       "      <td>0.546992</td>\n",
       "      <td>...</td>\n",
       "      <td>0.812030</td>\n",
       "      <td>0.580827</td>\n",
       "      <td>1.981203</td>\n",
       "      <td>0.167293</td>\n",
       "      <td>353.204887</td>\n",
       "      <td>336.139098</td>\n",
       "      <td>173.146617</td>\n",
       "      <td>0.603383</td>\n",
       "      <td>987.250000</td>\n",
       "      <td>928.214286</td>\n",
       "    </tr>\n",
       "    <tr>\n",
       "      <th>std</th>\n",
       "      <td>0.474231</td>\n",
       "      <td>326.887929</td>\n",
       "      <td>8.852094</td>\n",
       "      <td>13.224698</td>\n",
       "      <td>0.269910</td>\n",
       "      <td>0.480165</td>\n",
       "      <td>0.323410</td>\n",
       "      <td>5.981856</td>\n",
       "      <td>0.170955</td>\n",
       "      <td>0.498255</td>\n",
       "      <td>...</td>\n",
       "      <td>0.391056</td>\n",
       "      <td>0.493888</td>\n",
       "      <td>0.905946</td>\n",
       "      <td>0.373589</td>\n",
       "      <td>114.105253</td>\n",
       "      <td>130.961573</td>\n",
       "      <td>191.455406</td>\n",
       "      <td>0.489656</td>\n",
       "      <td>475.223907</td>\n",
       "      <td>438.569798</td>\n",
       "    </tr>\n",
       "    <tr>\n",
       "      <th>min</th>\n",
       "      <td>0.000000</td>\n",
       "      <td>33.000000</td>\n",
       "      <td>13.000000</td>\n",
       "      <td>47.401000</td>\n",
       "      <td>0.000000</td>\n",
       "      <td>0.000000</td>\n",
       "      <td>0.000000</td>\n",
       "      <td>70.000000</td>\n",
       "      <td>0.000000</td>\n",
       "      <td>0.000000</td>\n",
       "      <td>...</td>\n",
       "      <td>0.000000</td>\n",
       "      <td>0.000000</td>\n",
       "      <td>1.000000</td>\n",
       "      <td>0.000000</td>\n",
       "      <td>103.000000</td>\n",
       "      <td>49.000000</td>\n",
       "      <td>-1.000000</td>\n",
       "      <td>0.000000</td>\n",
       "      <td>221.000000</td>\n",
       "      <td>150.000000</td>\n",
       "    </tr>\n",
       "    <tr>\n",
       "      <th>25%</th>\n",
       "      <td>0.000000</td>\n",
       "      <td>535.750000</td>\n",
       "      <td>29.000000</td>\n",
       "      <td>67.500000</td>\n",
       "      <td>0.000000</td>\n",
       "      <td>0.000000</td>\n",
       "      <td>0.000000</td>\n",
       "      <td>90.000000</td>\n",
       "      <td>0.000000</td>\n",
       "      <td>0.000000</td>\n",
       "      <td>...</td>\n",
       "      <td>1.000000</td>\n",
       "      <td>0.000000</td>\n",
       "      <td>1.000000</td>\n",
       "      <td>0.000000</td>\n",
       "      <td>271.000000</td>\n",
       "      <td>243.750000</td>\n",
       "      <td>-1.000000</td>\n",
       "      <td>0.000000</td>\n",
       "      <td>653.250000</td>\n",
       "      <td>626.500000</td>\n",
       "    </tr>\n",
       "    <tr>\n",
       "      <th>50%</th>\n",
       "      <td>0.000000</td>\n",
       "      <td>933.500000</td>\n",
       "      <td>34.000000</td>\n",
       "      <td>74.600000</td>\n",
       "      <td>0.000000</td>\n",
       "      <td>1.000000</td>\n",
       "      <td>0.000000</td>\n",
       "      <td>100.000000</td>\n",
       "      <td>0.000000</td>\n",
       "      <td>1.000000</td>\n",
       "      <td>...</td>\n",
       "      <td>1.000000</td>\n",
       "      <td>1.000000</td>\n",
       "      <td>2.000000</td>\n",
       "      <td>0.000000</td>\n",
       "      <td>346.000000</td>\n",
       "      <td>330.500000</td>\n",
       "      <td>113.000000</td>\n",
       "      <td>1.000000</td>\n",
       "      <td>881.000000</td>\n",
       "      <td>818.000000</td>\n",
       "    </tr>\n",
       "    <tr>\n",
       "      <th>75%</th>\n",
       "      <td>1.000000</td>\n",
       "      <td>1081.000000</td>\n",
       "      <td>40.000000</td>\n",
       "      <td>83.502000</td>\n",
       "      <td>0.000000</td>\n",
       "      <td>1.000000</td>\n",
       "      <td>0.000000</td>\n",
       "      <td>100.000000</td>\n",
       "      <td>0.000000</td>\n",
       "      <td>1.000000</td>\n",
       "      <td>...</td>\n",
       "      <td>1.000000</td>\n",
       "      <td>1.000000</td>\n",
       "      <td>3.000000</td>\n",
       "      <td>0.000000</td>\n",
       "      <td>422.000000</td>\n",
       "      <td>418.000000</td>\n",
       "      <td>324.000000</td>\n",
       "      <td>1.000000</td>\n",
       "      <td>1190.000000</td>\n",
       "      <td>1164.000000</td>\n",
       "    </tr>\n",
       "    <tr>\n",
       "      <th>max</th>\n",
       "      <td>1.000000</td>\n",
       "      <td>1231.000000</td>\n",
       "      <td>70.000000</td>\n",
       "      <td>149.000000</td>\n",
       "      <td>1.000000</td>\n",
       "      <td>1.000000</td>\n",
       "      <td>1.000000</td>\n",
       "      <td>100.000000</td>\n",
       "      <td>1.000000</td>\n",
       "      <td>1.000000</td>\n",
       "      <td>...</td>\n",
       "      <td>1.000000</td>\n",
       "      <td>1.000000</td>\n",
       "      <td>3.000000</td>\n",
       "      <td>1.000000</td>\n",
       "      <td>771.000000</td>\n",
       "      <td>909.000000</td>\n",
       "      <td>857.000000</td>\n",
       "      <td>1.000000</td>\n",
       "      <td>4255.000000</td>\n",
       "      <td>3130.000000</td>\n",
       "    </tr>\n",
       "  </tbody>\n",
       "</table>\n",
       "<p>8 rows × 23 columns</p>\n",
       "</div>"
      ],
      "text/plain": [
       "           censor        event         age        wtkg        hemo  \\\n",
       "count  532.000000   532.000000  532.000000  532.000000  532.000000   \n",
       "mean     0.340226   801.236842   35.225564   76.061855    0.078947   \n",
       "std      0.474231   326.887929    8.852094   13.224698    0.269910   \n",
       "min      0.000000    33.000000   13.000000   47.401000    0.000000   \n",
       "25%      0.000000   535.750000   29.000000   67.500000    0.000000   \n",
       "50%      0.000000   933.500000   34.000000   74.600000    0.000000   \n",
       "75%      1.000000  1081.000000   40.000000   83.502000    0.000000   \n",
       "max      1.000000  1231.000000   70.000000  149.000000    1.000000   \n",
       "\n",
       "             homo       drugs      karnof      oprior         z30  ...  \\\n",
       "count  532.000000  532.000000  532.000000  532.000000  532.000000  ...   \n",
       "mean     0.640977    0.118421   95.432331    0.030075    0.546992  ...   \n",
       "std      0.480165    0.323410    5.981856    0.170955    0.498255  ...   \n",
       "min      0.000000    0.000000   70.000000    0.000000    0.000000  ...   \n",
       "25%      0.000000    0.000000   90.000000    0.000000    0.000000  ...   \n",
       "50%      1.000000    0.000000  100.000000    0.000000    1.000000  ...   \n",
       "75%      1.000000    0.000000  100.000000    0.000000    1.000000  ...   \n",
       "max      1.000000    1.000000  100.000000    1.000000    1.000000  ...   \n",
       "\n",
       "           gender        str2       strat     symptom        cd40       cd420  \\\n",
       "count  532.000000  532.000000  532.000000  532.000000  532.000000  532.000000   \n",
       "mean     0.812030    0.580827    1.981203    0.167293  353.204887  336.139098   \n",
       "std      0.391056    0.493888    0.905946    0.373589  114.105253  130.961573   \n",
       "min      0.000000    0.000000    1.000000    0.000000  103.000000   49.000000   \n",
       "25%      1.000000    0.000000    1.000000    0.000000  271.000000  243.750000   \n",
       "50%      1.000000    1.000000    2.000000    0.000000  346.000000  330.500000   \n",
       "75%      1.000000    1.000000    3.000000    0.000000  422.000000  418.000000   \n",
       "max      1.000000    1.000000    3.000000    1.000000  771.000000  909.000000   \n",
       "\n",
       "            cd496           r         cd80        cd820  \n",
       "count  532.000000  532.000000   532.000000   532.000000  \n",
       "mean   173.146617    0.603383   987.250000   928.214286  \n",
       "std    191.455406    0.489656   475.223907   438.569798  \n",
       "min     -1.000000    0.000000   221.000000   150.000000  \n",
       "25%     -1.000000    0.000000   653.250000   626.500000  \n",
       "50%    113.000000    1.000000   881.000000   818.000000  \n",
       "75%    324.000000    1.000000  1190.000000  1164.000000  \n",
       "max    857.000000    1.000000  4255.000000  3130.000000  \n",
       "\n",
       "[8 rows x 23 columns]"
      ]
     },
     "execution_count": 5,
     "metadata": {},
     "output_type": "execute_result"
    }
   ],
   "source": [
    "data.describe()"
   ]
  },
  {
   "cell_type": "markdown",
   "metadata": {
    "id": "zKqcFKPbaK4-"
   },
   "source": [
    "[ISSUE]\n",
    " - Tree 계열은 Scaling이 필요한가?"
   ]
  },
  {
   "cell_type": "code",
   "execution_count": 6,
   "metadata": {
    "colab": {
     "base_uri": "https://localhost:8080/"
    },
    "executionInfo": {
     "elapsed": 284,
     "status": "ok",
     "timestamp": 1677294864596,
     "user": {
      "displayName": "안건이",
      "userId": "00323974519415085515"
     },
     "user_tz": -540
    },
    "id": "FmlFpI_YOQGd",
    "outputId": "4034577d-8507-49f3-805b-9d78e6e6b1c4"
   },
   "outputs": [
    {
     "data": {
      "text/plain": [
       "Counter({0: 351, 1: 181})"
      ]
     },
     "execution_count": 6,
     "metadata": {},
     "output_type": "execute_result"
    }
   ],
   "source": [
    "# Label Balace Check - Imbalance\n",
    "Counter(data['censor'])"
   ]
  },
  {
   "cell_type": "code",
   "execution_count": 7,
   "metadata": {
    "executionInfo": {
     "elapsed": 487,
     "status": "ok",
     "timestamp": 1677294976212,
     "user": {
      "displayName": "안건이",
      "userId": "00323974519415085515"
     },
     "user_tz": -540
    },
    "id": "A-D1siZLOteB"
   },
   "outputs": [],
   "source": [
    "# X's & Y Split\n",
    "Y = data['censor']\n",
    "X = data.drop(columns=['censor'])"
   ]
  },
  {
   "cell_type": "code",
   "execution_count": 8,
   "metadata": {
    "colab": {
     "base_uri": "https://localhost:8080/"
    },
    "executionInfo": {
     "elapsed": 3,
     "status": "ok",
     "timestamp": 1677294999417,
     "user": {
      "displayName": "안건이",
      "userId": "00323974519415085515"
     },
     "user_tz": -540
    },
    "id": "E7dm--QHkox7",
    "outputId": "6d87ba7f-b990-4f3d-a874-29345cb3f13f"
   },
   "outputs": [
    {
     "data": {
      "text/plain": [
       "(532, 23)"
      ]
     },
     "execution_count": 8,
     "metadata": {},
     "output_type": "execute_result"
    }
   ],
   "source": [
    "data.shape"
   ]
  },
  {
   "cell_type": "code",
   "execution_count": 9,
   "metadata": {
    "colab": {
     "base_uri": "https://localhost:8080/"
    },
    "executionInfo": {
     "elapsed": 389,
     "status": "ok",
     "timestamp": 1677294983008,
     "user": {
      "displayName": "안건이",
      "userId": "00323974519415085515"
     },
     "user_tz": -540
    },
    "id": "Bla2-pxDkkcR",
    "outputId": "b1f5fb47-bd43-41ba-bd76-a6edd70d115a"
   },
   "outputs": [
    {
     "data": {
      "text/plain": [
       "(532, 22)"
      ]
     },
     "execution_count": 9,
     "metadata": {},
     "output_type": "execute_result"
    }
   ],
   "source": [
    "X.shape"
   ]
  },
  {
   "cell_type": "code",
   "execution_count": 10,
   "metadata": {
    "colab": {
     "base_uri": "https://localhost:8080/"
    },
    "executionInfo": {
     "elapsed": 278,
     "status": "ok",
     "timestamp": 1677294990509,
     "user": {
      "displayName": "안건이",
      "userId": "00323974519415085515"
     },
     "user_tz": -540
    },
    "id": "Q3XAZzX5kmV6",
    "outputId": "a64f7e39-173f-4806-8962-b7ecf83ba924"
   },
   "outputs": [
    {
     "data": {
      "text/plain": [
       "(532,)"
      ]
     },
     "execution_count": 10,
     "metadata": {},
     "output_type": "execute_result"
    }
   ],
   "source": [
    "Y.shape"
   ]
  },
  {
   "cell_type": "code",
   "execution_count": 11,
   "metadata": {
    "colab": {
     "base_uri": "https://localhost:8080/"
    },
    "executionInfo": {
     "elapsed": 275,
     "status": "ok",
     "timestamp": 1677295029536,
     "user": {
      "displayName": "안건이",
      "userId": "00323974519415085515"
     },
     "user_tz": -540
    },
    "id": "7KPIW1YjOhq8",
    "outputId": "4b23646e-a1d0-4054-a6d4-e0e4bab76e87"
   },
   "outputs": [
    {
     "name": "stdout",
     "output_type": "stream",
     "text": [
      ">>>> # of Train data : 372\n",
      ">>>> # of valid data : 160\n",
      ">>>> # of Train data Y : Counter({0: 250, 1: 122})\n",
      ">>>> # of valid data Y : Counter({0: 101, 1: 59})\n"
     ]
    }
   ],
   "source": [
    "idx = list(range(X.shape[0]))\n",
    "train_idx, valid_idx = train_test_split(idx, test_size=0.3, random_state=2023)\n",
    "print(\">>>> # of Train data : {}\".format(len(train_idx)))\n",
    "print(\">>>> # of valid data : {}\".format(len(valid_idx)))\n",
    "print(\">>>> # of Train data Y : {}\".format(Counter(Y.iloc[train_idx])))\n",
    "print(\">>>> # of valid data Y : {}\".format(Counter(Y.iloc[valid_idx])))"
   ]
  },
  {
   "cell_type": "markdown",
   "metadata": {
    "id": "w1QNEt5MAf_X"
   },
   "source": [
    "[Decision Tree를 활용한 Rule Extraction]\n",
    "\n",
    " - Max_Depth는 5 초과를 넘지 않아야함, 5를 초과하게 되면 Rule Extraction Plotting의 가독성이 매우 떨어짐\n",
    " - 정확도와 설명력은 Trade-off가 존재하기 때문에 자기만의 기준으로 적절한 선을 선택하면 됨\n",
    " - Rule Extraction 할때 GINI INDEX 뿐만 아니라 Sample 개수도 중요한 척도가 됨\n",
    "GINI INDEX가 아주 낮지만(불순도가 낮음, 좋음) Sample의 개수가 너무 적으면 의미가 없음(Overfitting이라고 생각됨)"
   ]
  },
  {
   "cell_type": "code",
   "execution_count": 12,
   "metadata": {
    "colab": {
     "base_uri": "https://localhost:8080/"
    },
    "executionInfo": {
     "elapsed": 560,
     "status": "ok",
     "timestamp": 1677295335227,
     "user": {
      "displayName": "안건이",
      "userId": "00323974519415085515"
     },
     "user_tz": -540
    },
    "id": "f9On1TkVPNx3",
    "outputId": "1dde1cdc-8ec2-45c7-8e4c-2c566653b9bc"
   },
   "outputs": [
    {
     "name": "stdout",
     "output_type": "stream",
     "text": [
      ">>>> Depth 2\n",
      "Train Confusion Matrix\n",
      "[[241   9]\n",
      " [ 44  78]]\n",
      "Train Acc : 0.8575268817204301\n",
      "Train F1-Score : 0.7464114832535885\n",
      "Train Confusion Matrix\n",
      "[[97  4]\n",
      " [26 33]]\n",
      "TesT Acc : 0.8125\n",
      "Test F1-Score : 0.6874999999999999\n",
      "-----------------------------------------------------------------------\n",
      "-----------------------------------------------------------------------\n",
      ">>>> Depth 3\n",
      "Train Confusion Matrix\n",
      "[[228  22]\n",
      " [ 18 104]]\n",
      "Train Acc : 0.8924731182795699\n",
      "Train F1-Score : 0.8387096774193549\n",
      "Train Confusion Matrix\n",
      "[[87 14]\n",
      " [13 46]]\n",
      "TesT Acc : 0.83125\n",
      "Test F1-Score : 0.773109243697479\n",
      "-----------------------------------------------------------------------\n",
      "-----------------------------------------------------------------------\n",
      ">>>> Depth 4\n",
      "Train Confusion Matrix\n",
      "[[227  23]\n",
      " [ 10 112]]\n",
      "Train Acc : 0.9112903225806451\n",
      "Train F1-Score : 0.8715953307392996\n",
      "Train Confusion Matrix\n",
      "[[89 12]\n",
      " [11 48]]\n",
      "TesT Acc : 0.85625\n",
      "Test F1-Score : 0.8067226890756303\n",
      "-----------------------------------------------------------------------\n",
      "-----------------------------------------------------------------------\n",
      ">>>> Depth 5\n",
      "Train Confusion Matrix\n",
      "[[237  13]\n",
      " [ 11 111]]\n",
      "Train Acc : 0.9354838709677419\n",
      "Train F1-Score : 0.9024390243902438\n",
      "Train Confusion Matrix\n",
      "[[92  9]\n",
      " [13 46]]\n",
      "TesT Acc : 0.8625\n",
      "Test F1-Score : 0.8070175438596492\n",
      "-----------------------------------------------------------------------\n",
      "-----------------------------------------------------------------------\n",
      ">>>> Depth 6\n",
      "Train Confusion Matrix\n",
      "[[246   4]\n",
      " [  7 115]]\n",
      "Train Acc : 0.9704301075268817\n",
      "Train F1-Score : 0.9543568464730291\n",
      "Train Confusion Matrix\n",
      "[[91 10]\n",
      " [16 43]]\n",
      "TesT Acc : 0.8375\n",
      "Test F1-Score : 0.7678571428571428\n",
      "-----------------------------------------------------------------------\n",
      "-----------------------------------------------------------------------\n",
      ">>>> Depth 7\n",
      "Train Confusion Matrix\n",
      "[[248   2]\n",
      " [  3 119]]\n",
      "Train Acc : 0.9865591397849462\n",
      "Train F1-Score : 0.9794238683127573\n",
      "Train Confusion Matrix\n",
      "[[89 12]\n",
      " [16 43]]\n",
      "TesT Acc : 0.825\n",
      "Test F1-Score : 0.7543859649122807\n",
      "-----------------------------------------------------------------------\n",
      "-----------------------------------------------------------------------\n",
      ">>>> Depth 8\n",
      "Train Confusion Matrix\n",
      "[[250   0]\n",
      " [  2 120]]\n",
      "Train Acc : 0.9946236559139785\n",
      "Train F1-Score : 0.9917355371900827\n",
      "Train Confusion Matrix\n",
      "[[93  8]\n",
      " [17 42]]\n",
      "TesT Acc : 0.84375\n",
      "Test F1-Score : 0.7706422018348624\n",
      "-----------------------------------------------------------------------\n",
      "-----------------------------------------------------------------------\n",
      ">>>> Depth 9\n",
      "Train Confusion Matrix\n",
      "[[250   0]\n",
      " [  0 122]]\n",
      "Train Acc : 1.0\n",
      "Train F1-Score : 1.0\n",
      "Train Confusion Matrix\n",
      "[[93  8]\n",
      " [18 41]]\n",
      "TesT Acc : 0.8375\n",
      "Test F1-Score : 0.7592592592592592\n",
      "-----------------------------------------------------------------------\n",
      "-----------------------------------------------------------------------\n",
      ">>>> Depth 10\n",
      "Train Confusion Matrix\n",
      "[[250   0]\n",
      " [  0 122]]\n",
      "Train Acc : 1.0\n",
      "Train F1-Score : 1.0\n",
      "Train Confusion Matrix\n",
      "[[92  9]\n",
      " [18 41]]\n",
      "TesT Acc : 0.83125\n",
      "Test F1-Score : 0.7522935779816514\n",
      "-----------------------------------------------------------------------\n",
      "-----------------------------------------------------------------------\n"
     ]
    }
   ],
   "source": [
    "# Depth 조절 Decision Tree\n",
    "for i in range(2,11,1):\n",
    "    print(\">>>> Depth {}\".format(i))\n",
    "\n",
    "    model = DecisionTreeClassifier(max_depth=i, criterion='gini')\n",
    "    model.fit(X.iloc[train_idx], Y.iloc[train_idx])\n",
    "\n",
    "    # Train Acc\n",
    "    y_pre_train = model.predict(X.iloc[train_idx])\n",
    "    cm_train = confusion_matrix(Y.iloc[train_idx], y_pre_train)\n",
    "    print(\"Train Confusion Matrix\")\n",
    "    print(cm_train)\n",
    "    print(\"Train Acc : {}\".format((cm_train[0,0] + cm_train[1,1])/cm_train.sum()))\n",
    "    print(\"Train F1-Score : {}\".format(f1_score(Y.iloc[train_idx], y_pre_train)))\n",
    "\n",
    "    # Test Acc\n",
    "    y_pre_test = model.predict(X.iloc[valid_idx])\n",
    "    cm_test = confusion_matrix(Y.iloc[valid_idx], y_pre_test)\n",
    "    print(\"Train Confusion Matrix\")\n",
    "    print(cm_test)\n",
    "    print(\"TesT Acc : {}\".format((cm_test[0,0] + cm_test[1,1])/cm_test.sum()))\n",
    "    print(\"Test F1-Score : {}\".format(f1_score(Y.iloc[valid_idx], y_pre_test)))\n",
    "    print(\"-----------------------------------------------------------------------\")\n",
    "    print(\"-----------------------------------------------------------------------\")"
   ]
  },
  {
   "cell_type": "code",
   "execution_count": 13,
   "metadata": {
    "colab": {
     "base_uri": "https://localhost:8080/"
    },
    "executionInfo": {
     "elapsed": 2,
     "status": "ok",
     "timestamp": 1677295493687,
     "user": {
      "displayName": "안건이",
      "userId": "00323974519415085515"
     },
     "user_tz": -540
    },
    "id": "p0Gy3UIoQ9cj",
    "outputId": "54d1054e-df38-4f5c-f9e1-b06eb16cb053"
   },
   "outputs": [
    {
     "data": {
      "text/html": [
       "<style>#sk-container-id-1 {color: black;background-color: white;}#sk-container-id-1 pre{padding: 0;}#sk-container-id-1 div.sk-toggleable {background-color: white;}#sk-container-id-1 label.sk-toggleable__label {cursor: pointer;display: block;width: 100%;margin-bottom: 0;padding: 0.3em;box-sizing: border-box;text-align: center;}#sk-container-id-1 label.sk-toggleable__label-arrow:before {content: \"▸\";float: left;margin-right: 0.25em;color: #696969;}#sk-container-id-1 label.sk-toggleable__label-arrow:hover:before {color: black;}#sk-container-id-1 div.sk-estimator:hover label.sk-toggleable__label-arrow:before {color: black;}#sk-container-id-1 div.sk-toggleable__content {max-height: 0;max-width: 0;overflow: hidden;text-align: left;background-color: #f0f8ff;}#sk-container-id-1 div.sk-toggleable__content pre {margin: 0.2em;color: black;border-radius: 0.25em;background-color: #f0f8ff;}#sk-container-id-1 input.sk-toggleable__control:checked~div.sk-toggleable__content {max-height: 200px;max-width: 100%;overflow: auto;}#sk-container-id-1 input.sk-toggleable__control:checked~label.sk-toggleable__label-arrow:before {content: \"▾\";}#sk-container-id-1 div.sk-estimator input.sk-toggleable__control:checked~label.sk-toggleable__label {background-color: #d4ebff;}#sk-container-id-1 div.sk-label input.sk-toggleable__control:checked~label.sk-toggleable__label {background-color: #d4ebff;}#sk-container-id-1 input.sk-hidden--visually {border: 0;clip: rect(1px 1px 1px 1px);clip: rect(1px, 1px, 1px, 1px);height: 1px;margin: -1px;overflow: hidden;padding: 0;position: absolute;width: 1px;}#sk-container-id-1 div.sk-estimator {font-family: monospace;background-color: #f0f8ff;border: 1px dotted black;border-radius: 0.25em;box-sizing: border-box;margin-bottom: 0.5em;}#sk-container-id-1 div.sk-estimator:hover {background-color: #d4ebff;}#sk-container-id-1 div.sk-parallel-item::after {content: \"\";width: 100%;border-bottom: 1px solid gray;flex-grow: 1;}#sk-container-id-1 div.sk-label:hover label.sk-toggleable__label {background-color: #d4ebff;}#sk-container-id-1 div.sk-serial::before {content: \"\";position: absolute;border-left: 1px solid gray;box-sizing: border-box;top: 0;bottom: 0;left: 50%;z-index: 0;}#sk-container-id-1 div.sk-serial {display: flex;flex-direction: column;align-items: center;background-color: white;padding-right: 0.2em;padding-left: 0.2em;position: relative;}#sk-container-id-1 div.sk-item {position: relative;z-index: 1;}#sk-container-id-1 div.sk-parallel {display: flex;align-items: stretch;justify-content: center;background-color: white;position: relative;}#sk-container-id-1 div.sk-item::before, #sk-container-id-1 div.sk-parallel-item::before {content: \"\";position: absolute;border-left: 1px solid gray;box-sizing: border-box;top: 0;bottom: 0;left: 50%;z-index: -1;}#sk-container-id-1 div.sk-parallel-item {display: flex;flex-direction: column;z-index: 1;position: relative;background-color: white;}#sk-container-id-1 div.sk-parallel-item:first-child::after {align-self: flex-end;width: 50%;}#sk-container-id-1 div.sk-parallel-item:last-child::after {align-self: flex-start;width: 50%;}#sk-container-id-1 div.sk-parallel-item:only-child::after {width: 0;}#sk-container-id-1 div.sk-dashed-wrapped {border: 1px dashed gray;margin: 0 0.4em 0.5em 0.4em;box-sizing: border-box;padding-bottom: 0.4em;background-color: white;}#sk-container-id-1 div.sk-label label {font-family: monospace;font-weight: bold;display: inline-block;line-height: 1.2em;}#sk-container-id-1 div.sk-label-container {text-align: center;}#sk-container-id-1 div.sk-container {/* jupyter's `normalize.less` sets `[hidden] { display: none; }` but bootstrap.min.css set `[hidden] { display: none !important; }` so we also need the `!important` here to be able to override the default hidden behavior on the sphinx rendered scikit-learn.org. See: https://github.com/scikit-learn/scikit-learn/issues/21755 */display: inline-block !important;position: relative;}#sk-container-id-1 div.sk-text-repr-fallback {display: none;}</style><div id=\"sk-container-id-1\" class=\"sk-top-container\"><div class=\"sk-text-repr-fallback\"><pre>DecisionTreeClassifier(max_depth=4)</pre><b>In a Jupyter environment, please rerun this cell to show the HTML representation or trust the notebook. <br />On GitHub, the HTML representation is unable to render, please try loading this page with nbviewer.org.</b></div><div class=\"sk-container\" hidden><div class=\"sk-item\"><div class=\"sk-estimator sk-toggleable\"><input class=\"sk-toggleable__control sk-hidden--visually\" id=\"sk-estimator-id-1\" type=\"checkbox\" checked><label for=\"sk-estimator-id-1\" class=\"sk-toggleable__label sk-toggleable__label-arrow\">DecisionTreeClassifier</label><div class=\"sk-toggleable__content\"><pre>DecisionTreeClassifier(max_depth=4)</pre></div></div></div></div></div>"
      ],
      "text/plain": [
       "DecisionTreeClassifier(max_depth=4)"
      ]
     },
     "execution_count": 13,
     "metadata": {},
     "output_type": "execute_result"
    }
   ],
   "source": [
    "# Depth가 깊어질 수록 정확도는 높게 나오지만 해석력에 대한 가독성을 위해 Depth 5를 선택함\n",
    "model = DecisionTreeClassifier(max_depth=4, criterion='gini')\n",
    "model.fit(X.iloc[train_idx], Y.iloc[train_idx])"
   ]
  },
  {
   "cell_type": "code",
   "execution_count": 14,
   "metadata": {
    "colab": {
     "base_uri": "https://localhost:8080/",
     "height": 484
    },
    "executionInfo": {
     "elapsed": 1849,
     "status": "ok",
     "timestamp": 1677295501502,
     "user": {
      "displayName": "안건이",
      "userId": "00323974519415085515"
     },
     "user_tz": -540
    },
    "id": "-r7GAp3lRBTd",
    "outputId": "059dbf35-eab6-44fa-ef3f-3b44c339afca"
   },
   "outputs": [
    {
     "data": {
      "image/png": "[encoded data removed]",
      "text/plain": [
       "<Figure size 640x480 with 1 Axes>"
      ]
     },
     "metadata": {},
     "output_type": "display_data"
    }
   ],
   "source": [
    "# Creating the tree plot\n",
    "tree.plot_tree(model, filled=True, feature_names=X.columns, class_names = ['Dead', 'indicator'])\n",
    "plt.rcParams['figure.figsize'] = [30,10]"
   ]
  },
  {
   "cell_type": "markdown",
   "metadata": {
    "id": "IDP5vTDkTd6K"
   },
   "source": [
    "[Random Forest]\n",
    "\n",
    " - Hyperparameter tuning\n",
    " - estimators, depth\n",
    " - Random Forest는 이 두개만 조절해도 좋은 결과를 얻을 수 있음\n",
    " - GridSearchCV를 사용하지 않고 For Loop를 돌리는 이유\n",
    "    - 내가 원하는 결과를 저장하고 Display 하고 싶음\n",
    "    - 내가 원하는 결과를 실시간 Display 하면서 그때 그때 파라미터 튜닝에 대한 대처를 하고 싶음"
   ]
  },
  {
   "cell_type": "markdown",
   "metadata": {
    "id": "Mv80IHyeTnMj"
   },
   "source": [
    "[Random Forest Parameters]\n",
    "  - Package : https://scikit-learn.org/stable/modules/generated/sklearn.ensemble.RandomForestClassifier.html\n",
    "  - n_estimators : # of Tree\n",
    "  - criterion : Measuring for Split (Information gain)\n",
    "     - Gini\n",
    "     - entropy\n",
    "     - log_loss\n",
    "  - max_depth : Tree의 최대 깊이 제한\n",
    "  - min_samples_split : 2개로 Split 하는게 아니라 N개로 Split 가능\n",
    "  - bootstrap : Bagging 중 Boostrap 기법\n",
    "  - max_features : Feature 수 sampling\n",
    "     - auto\n",
    "     - sqrt\n",
    "     - log2\n",
    "  - oob_score : out-of-bag Score\n",
    "  - class_weight : Label Imbalance 데이터 학습시 weight를 주는 것\n",
    "     - {0: 1, 1: 1}\n",
    "  - random_state : Two way Random Choosen 때문에 매 결과가 달라짐\n",
    "     - 지정한 값으로 해주는 것이 결과가 같아짐"
   ]
  },
  {
   "cell_type": "code",
   "execution_count": 15,
   "metadata": {
    "colab": {
     "base_uri": "https://localhost:8080/"
    },
    "executionInfo": {
     "elapsed": 8,
     "status": "ok",
     "timestamp": 1677296517127,
     "user": {
      "displayName": "안건이",
      "userId": "00323974519415085515"
     },
     "user_tz": -540
    },
    "id": "0wnnl01GTQbV",
    "outputId": "a1d702b1-654f-4bab-e5b0-7fa37be0d0ac"
   },
   "outputs": [
    {
     "name": "stdout",
     "output_type": "stream",
     "text": [
      ">>> 0 <<<\n",
      "Number of Estimators : 10, Max Depth : 4\n",
      "Train Confusion Matrix\n",
      "[[242   8]\n",
      " [ 29  93]]\n",
      "Train Acc : 0.9005376344086021\n",
      "Train F1-Score : 0.8340807174887892\n",
      "Test Confusion Matrix\n",
      "[[93  8]\n",
      " [26 33]]\n",
      "TesT Acc : 0.7875\n",
      "Test F1-Score : 0.6599999999999999\n",
      "-----------------------------------------------------------------------\n",
      "-----------------------------------------------------------------------\n",
      ">>> 1 <<<\n",
      "Number of Estimators : 10, Max Depth : 5\n",
      "Train Confusion Matrix\n",
      "[[243   7]\n",
      " [ 14 108]]\n",
      "Train Acc : 0.9435483870967742\n",
      "Train F1-Score : 0.9113924050632911\n",
      "Test Confusion Matrix\n",
      "[[90 11]\n",
      " [23 36]]\n",
      "TesT Acc : 0.7875\n",
      "Test F1-Score : 0.679245283018868\n",
      "-----------------------------------------------------------------------\n",
      "-----------------------------------------------------------------------\n",
      ">>> 2 <<<\n",
      "Number of Estimators : 10, Max Depth : 10\n",
      "Train Confusion Matrix\n",
      "[[249   1]\n",
      " [  3 119]]\n",
      "Train Acc : 0.989247311827957\n",
      "Train F1-Score : 0.9834710743801653\n",
      "Test Confusion Matrix\n",
      "[[93  8]\n",
      " [23 36]]\n",
      "TesT Acc : 0.80625\n",
      "Test F1-Score : 0.6990291262135923\n",
      "-----------------------------------------------------------------------\n",
      "-----------------------------------------------------------------------\n",
      ">>> 3 <<<\n",
      "Number of Estimators : 10, Max Depth : 15\n",
      "Train Confusion Matrix\n",
      "[[249   1]\n",
      " [  1 121]]\n",
      "Train Acc : 0.9946236559139785\n",
      "Train F1-Score : 0.9918032786885246\n",
      "Test Confusion Matrix\n",
      "[[94  7]\n",
      " [28 31]]\n",
      "TesT Acc : 0.78125\n",
      "Test F1-Score : 0.6391752577319588\n",
      "-----------------------------------------------------------------------\n",
      "-----------------------------------------------------------------------\n",
      ">>> 4 <<<\n",
      "Number of Estimators : 30, Max Depth : 4\n",
      "Train Confusion Matrix\n",
      "[[244   6]\n",
      " [ 16 106]]\n",
      "Train Acc : 0.9408602150537635\n",
      "Train F1-Score : 0.9059829059829059\n",
      "Test Confusion Matrix\n",
      "[[93  8]\n",
      " [18 41]]\n",
      "TesT Acc : 0.8375\n",
      "Test F1-Score : 0.7592592592592592\n",
      "-----------------------------------------------------------------------\n",
      "-----------------------------------------------------------------------\n",
      ">>> 5 <<<\n",
      "Number of Estimators : 30, Max Depth : 5\n",
      "Train Confusion Matrix\n",
      "[[246   4]\n",
      " [  9 113]]\n",
      "Train Acc : 0.9650537634408602\n",
      "Train F1-Score : 0.9456066945606694\n",
      "Test Confusion Matrix\n",
      "[[93  8]\n",
      " [18 41]]\n",
      "TesT Acc : 0.8375\n",
      "Test F1-Score : 0.7592592592592592\n",
      "-----------------------------------------------------------------------\n",
      "-----------------------------------------------------------------------\n",
      ">>> 6 <<<\n",
      "Number of Estimators : 30, Max Depth : 10\n",
      "Train Confusion Matrix\n",
      "[[250   0]\n",
      " [  0 122]]\n",
      "Train Acc : 1.0\n",
      "Train F1-Score : 1.0\n",
      "Test Confusion Matrix\n",
      "[[93  8]\n",
      " [13 46]]\n",
      "TesT Acc : 0.86875\n",
      "Test F1-Score : 0.8141592920353983\n",
      "-----------------------------------------------------------------------\n",
      "-----------------------------------------------------------------------\n",
      ">>> 7 <<<\n",
      "Number of Estimators : 30, Max Depth : 15\n",
      "Train Confusion Matrix\n",
      "[[250   0]\n",
      " [  0 122]]\n",
      "Train Acc : 1.0\n",
      "Train F1-Score : 1.0\n",
      "Test Confusion Matrix\n",
      "[[93  8]\n",
      " [14 45]]\n",
      "TesT Acc : 0.8625\n",
      "Test F1-Score : 0.8035714285714285\n",
      "-----------------------------------------------------------------------\n",
      "-----------------------------------------------------------------------\n",
      ">>> 8 <<<\n",
      "Number of Estimators : 40, Max Depth : 4\n",
      "Train Confusion Matrix\n",
      "[[243   7]\n",
      " [ 17 105]]\n",
      "Train Acc : 0.9354838709677419\n",
      "Train F1-Score : 0.8974358974358975\n",
      "Test Confusion Matrix\n",
      "[[93  8]\n",
      " [14 45]]\n",
      "TesT Acc : 0.8625\n",
      "Test F1-Score : 0.8035714285714285\n",
      "-----------------------------------------------------------------------\n",
      "-----------------------------------------------------------------------\n",
      ">>> 9 <<<\n",
      "Number of Estimators : 40, Max Depth : 5\n",
      "Train Confusion Matrix\n",
      "[[245   5]\n",
      " [ 11 111]]\n",
      "Train Acc : 0.956989247311828\n",
      "Train F1-Score : 0.9327731092436975\n",
      "Test Confusion Matrix\n",
      "[[93  8]\n",
      " [18 41]]\n",
      "TesT Acc : 0.8375\n",
      "Test F1-Score : 0.7592592592592592\n",
      "-----------------------------------------------------------------------\n",
      "-----------------------------------------------------------------------\n",
      ">>> 10 <<<\n",
      "Number of Estimators : 40, Max Depth : 10\n",
      "Train Confusion Matrix\n",
      "[[250   0]\n",
      " [  0 122]]\n",
      "Train Acc : 1.0\n",
      "Train F1-Score : 1.0\n",
      "Test Confusion Matrix\n",
      "[[93  8]\n",
      " [12 47]]\n",
      "TesT Acc : 0.875\n",
      "Test F1-Score : 0.8245614035087718\n",
      "-----------------------------------------------------------------------\n",
      "-----------------------------------------------------------------------\n",
      ">>> 11 <<<\n",
      "Number of Estimators : 40, Max Depth : 15\n",
      "Train Confusion Matrix\n",
      "[[250   0]\n",
      " [  0 122]]\n",
      "Train Acc : 1.0\n",
      "Train F1-Score : 1.0\n",
      "Test Confusion Matrix\n",
      "[[93  8]\n",
      " [13 46]]\n",
      "TesT Acc : 0.86875\n",
      "Test F1-Score : 0.8141592920353983\n",
      "-----------------------------------------------------------------------\n",
      "-----------------------------------------------------------------------\n",
      ">>> 12 <<<\n",
      "Number of Estimators : 50, Max Depth : 4\n",
      "Train Confusion Matrix\n",
      "[[243   7]\n",
      " [ 13 109]]\n",
      "Train Acc : 0.946236559139785\n",
      "Train F1-Score : 0.9159663865546218\n",
      "Test Confusion Matrix\n",
      "[[92  9]\n",
      " [15 44]]\n",
      "TesT Acc : 0.85\n",
      "Test F1-Score : 0.7857142857142858\n",
      "-----------------------------------------------------------------------\n",
      "-----------------------------------------------------------------------\n",
      ">>> 13 <<<\n",
      "Number of Estimators : 50, Max Depth : 5\n",
      "Train Confusion Matrix\n",
      "[[245   5]\n",
      " [ 12 110]]\n",
      "Train Acc : 0.9543010752688172\n",
      "Train F1-Score : 0.9282700421940927\n",
      "Test Confusion Matrix\n",
      "[[93  8]\n",
      " [17 42]]\n",
      "TesT Acc : 0.84375\n",
      "Test F1-Score : 0.7706422018348624\n",
      "-----------------------------------------------------------------------\n",
      "-----------------------------------------------------------------------\n",
      ">>> 14 <<<\n",
      "Number of Estimators : 50, Max Depth : 10\n",
      "Train Confusion Matrix\n",
      "[[250   0]\n",
      " [  0 122]]\n",
      "Train Acc : 1.0\n",
      "Train F1-Score : 1.0\n",
      "Test Confusion Matrix\n",
      "[[90 11]\n",
      " [12 47]]\n",
      "TesT Acc : 0.85625\n",
      "Test F1-Score : 0.8034188034188032\n",
      "-----------------------------------------------------------------------\n",
      "-----------------------------------------------------------------------\n",
      ">>> 15 <<<\n",
      "Number of Estimators : 50, Max Depth : 15\n",
      "Train Confusion Matrix\n",
      "[[250   0]\n",
      " [  0 122]]\n",
      "Train Acc : 1.0\n",
      "Train F1-Score : 1.0\n",
      "Test Confusion Matrix\n",
      "[[91 10]\n",
      " [13 46]]\n",
      "TesT Acc : 0.85625\n",
      "Test F1-Score : 0.8\n",
      "-----------------------------------------------------------------------\n",
      "-----------------------------------------------------------------------\n",
      ">>> 16 <<<\n",
      "Number of Estimators : 60, Max Depth : 4\n",
      "Train Confusion Matrix\n",
      "[[243   7]\n",
      " [ 19 103]]\n",
      "Train Acc : 0.9301075268817204\n",
      "Train F1-Score : 0.8879310344827586\n",
      "Test Confusion Matrix\n",
      "[[92  9]\n",
      " [15 44]]\n",
      "TesT Acc : 0.85\n",
      "Test F1-Score : 0.7857142857142858\n",
      "-----------------------------------------------------------------------\n",
      "-----------------------------------------------------------------------\n",
      ">>> 17 <<<\n",
      "Number of Estimators : 60, Max Depth : 5\n",
      "Train Confusion Matrix\n",
      "[[245   5]\n",
      " [ 12 110]]\n",
      "Train Acc : 0.9543010752688172\n",
      "Train F1-Score : 0.9282700421940927\n",
      "Test Confusion Matrix\n",
      "[[92  9]\n",
      " [20 39]]\n",
      "TesT Acc : 0.81875\n",
      "Test F1-Score : 0.7289719626168225\n",
      "-----------------------------------------------------------------------\n",
      "-----------------------------------------------------------------------\n",
      ">>> 18 <<<\n",
      "Number of Estimators : 60, Max Depth : 10\n",
      "Train Confusion Matrix\n",
      "[[250   0]\n",
      " [  0 122]]\n",
      "Train Acc : 1.0\n",
      "Train F1-Score : 1.0\n",
      "Test Confusion Matrix\n",
      "[[89 12]\n",
      " [12 47]]\n",
      "TesT Acc : 0.85\n",
      "Test F1-Score : 0.7966101694915254\n",
      "-----------------------------------------------------------------------\n",
      "-----------------------------------------------------------------------\n",
      ">>> 19 <<<\n",
      "Number of Estimators : 60, Max Depth : 15\n",
      "Train Confusion Matrix\n",
      "[[250   0]\n",
      " [  0 122]]\n",
      "Train Acc : 1.0\n",
      "Train F1-Score : 1.0\n",
      "Test Confusion Matrix\n",
      "[[90 11]\n",
      " [14 45]]\n",
      "TesT Acc : 0.84375\n",
      "Test F1-Score : 0.782608695652174\n",
      "-----------------------------------------------------------------------\n",
      "-----------------------------------------------------------------------\n"
     ]
    }
   ],
   "source": [
    "# RandomForest Hyperparameter\n",
    "estimators = [10, 30, 40, 50, 60]\n",
    "depth = [4 , 5, 10, 15]\n",
    "\n",
    "# Modeling\n",
    "save_est = []\n",
    "save_dep = []\n",
    "f1_score_ = []\n",
    "\n",
    "cnt = 0\n",
    "for est in estimators:\n",
    "    for dep in depth:\n",
    "        print(\">>> {} <<<\".format(cnt))\n",
    "        cnt += 1\n",
    "        print(\"Number of Estimators : {}, Max Depth : {}\".format(est, dep))\n",
    "        \n",
    "        model = RandomForestClassifier(n_estimators=est, max_depth=dep, random_state=119,\n",
    "                                       criterion='gini', max_features='auto', \n",
    "                                       bootstrap=True, oob_score=False) # if you use \"oob_score=True\", get long time for training\n",
    "        model.fit(X.iloc[train_idx], Y.iloc[train_idx])\n",
    "\n",
    "        # Train Acc\n",
    "        y_pre_train = model.predict(X.iloc[train_idx])\n",
    "        cm_train = confusion_matrix(Y.iloc[train_idx], y_pre_train)\n",
    "        print(\"Train Confusion Matrix\")\n",
    "        print(cm_train)\n",
    "        print(\"Train Acc : {}\".format((cm_train[0,0] + cm_train[1,1])/cm_train.sum()))\n",
    "        print(\"Train F1-Score : {}\".format(f1_score(Y.iloc[train_idx], y_pre_train)))\n",
    "\n",
    "        # Test Acc\n",
    "        y_pre_test = model.predict(X.iloc[valid_idx])\n",
    "        cm_test = confusion_matrix(Y.iloc[valid_idx], y_pre_test)\n",
    "        print(\"Test Confusion Matrix\")\n",
    "        print(cm_test)\n",
    "        print(\"TesT Acc : {}\".format((cm_test[0,0] + cm_test[1,1])/cm_test.sum()))\n",
    "        print(\"Test F1-Score : {}\".format(f1_score(Y.iloc[valid_idx], y_pre_test)))\n",
    "        print(\"-----------------------------------------------------------------------\")\n",
    "        print(\"-----------------------------------------------------------------------\")\n",
    "        save_est.append(est)\n",
    "        save_dep.append(dep)\n",
    "        f1_score_.append(f1_score(Y.iloc[valid_idx], y_pre_test))"
   ]
  },
  {
   "cell_type": "code",
   "execution_count": 16,
   "metadata": {
    "colab": {
     "base_uri": "https://localhost:8080/"
    },
    "executionInfo": {
     "elapsed": 321,
     "status": "ok",
     "timestamp": 1677294643374,
     "user": {
      "displayName": "안건이",
      "userId": "00323974519415085515"
     },
     "user_tz": -540
    },
    "id": "cx3braNOYnod",
    "outputId": "9cc341b5-11e1-4c03-d74c-da2049f829f9"
   },
   "outputs": [
    {
     "data": {
      "text/html": [
       "<style>#sk-container-id-2 {color: black;background-color: white;}#sk-container-id-2 pre{padding: 0;}#sk-container-id-2 div.sk-toggleable {background-color: white;}#sk-container-id-2 label.sk-toggleable__label {cursor: pointer;display: block;width: 100%;margin-bottom: 0;padding: 0.3em;box-sizing: border-box;text-align: center;}#sk-container-id-2 label.sk-toggleable__label-arrow:before {content: \"▸\";float: left;margin-right: 0.25em;color: #696969;}#sk-container-id-2 label.sk-toggleable__label-arrow:hover:before {color: black;}#sk-container-id-2 div.sk-estimator:hover label.sk-toggleable__label-arrow:before {color: black;}#sk-container-id-2 div.sk-toggleable__content {max-height: 0;max-width: 0;overflow: hidden;text-align: left;background-color: #f0f8ff;}#sk-container-id-2 div.sk-toggleable__content pre {margin: 0.2em;color: black;border-radius: 0.25em;background-color: #f0f8ff;}#sk-container-id-2 input.sk-toggleable__control:checked~div.sk-toggleable__content {max-height: 200px;max-width: 100%;overflow: auto;}#sk-container-id-2 input.sk-toggleable__control:checked~label.sk-toggleable__label-arrow:before {content: \"▾\";}#sk-container-id-2 div.sk-estimator input.sk-toggleable__control:checked~label.sk-toggleable__label {background-color: #d4ebff;}#sk-container-id-2 div.sk-label input.sk-toggleable__control:checked~label.sk-toggleable__label {background-color: #d4ebff;}#sk-container-id-2 input.sk-hidden--visually {border: 0;clip: rect(1px 1px 1px 1px);clip: rect(1px, 1px, 1px, 1px);height: 1px;margin: -1px;overflow: hidden;padding: 0;position: absolute;width: 1px;}#sk-container-id-2 div.sk-estimator {font-family: monospace;background-color: #f0f8ff;border: 1px dotted black;border-radius: 0.25em;box-sizing: border-box;margin-bottom: 0.5em;}#sk-container-id-2 div.sk-estimator:hover {background-color: #d4ebff;}#sk-container-id-2 div.sk-parallel-item::after {content: \"\";width: 100%;border-bottom: 1px solid gray;flex-grow: 1;}#sk-container-id-2 div.sk-label:hover label.sk-toggleable__label {background-color: #d4ebff;}#sk-container-id-2 div.sk-serial::before {content: \"\";position: absolute;border-left: 1px solid gray;box-sizing: border-box;top: 0;bottom: 0;left: 50%;z-index: 0;}#sk-container-id-2 div.sk-serial {display: flex;flex-direction: column;align-items: center;background-color: white;padding-right: 0.2em;padding-left: 0.2em;position: relative;}#sk-container-id-2 div.sk-item {position: relative;z-index: 1;}#sk-container-id-2 div.sk-parallel {display: flex;align-items: stretch;justify-content: center;background-color: white;position: relative;}#sk-container-id-2 div.sk-item::before, #sk-container-id-2 div.sk-parallel-item::before {content: \"\";position: absolute;border-left: 1px solid gray;box-sizing: border-box;top: 0;bottom: 0;left: 50%;z-index: -1;}#sk-container-id-2 div.sk-parallel-item {display: flex;flex-direction: column;z-index: 1;position: relative;background-color: white;}#sk-container-id-2 div.sk-parallel-item:first-child::after {align-self: flex-end;width: 50%;}#sk-container-id-2 div.sk-parallel-item:last-child::after {align-self: flex-start;width: 50%;}#sk-container-id-2 div.sk-parallel-item:only-child::after {width: 0;}#sk-container-id-2 div.sk-dashed-wrapped {border: 1px dashed gray;margin: 0 0.4em 0.5em 0.4em;box-sizing: border-box;padding-bottom: 0.4em;background-color: white;}#sk-container-id-2 div.sk-label label {font-family: monospace;font-weight: bold;display: inline-block;line-height: 1.2em;}#sk-container-id-2 div.sk-label-container {text-align: center;}#sk-container-id-2 div.sk-container {/* jupyter's `normalize.less` sets `[hidden] { display: none; }` but bootstrap.min.css set `[hidden] { display: none !important; }` so we also need the `!important` here to be able to override the default hidden behavior on the sphinx rendered scikit-learn.org. See: https://github.com/scikit-learn/scikit-learn/issues/21755 */display: inline-block !important;position: relative;}#sk-container-id-2 div.sk-text-repr-fallback {display: none;}</style><div id=\"sk-container-id-2\" class=\"sk-top-container\"><div class=\"sk-text-repr-fallback\"><pre>RandomForestClassifier(max_depth=10, max_features=&#x27;auto&#x27;, n_estimators=40,\n",
       "                       random_state=119)</pre><b>In a Jupyter environment, please rerun this cell to show the HTML representation or trust the notebook. <br />On GitHub, the HTML representation is unable to render, please try loading this page with nbviewer.org.</b></div><div class=\"sk-container\" hidden><div class=\"sk-item\"><div class=\"sk-estimator sk-toggleable\"><input class=\"sk-toggleable__control sk-hidden--visually\" id=\"sk-estimator-id-2\" type=\"checkbox\" checked><label for=\"sk-estimator-id-2\" class=\"sk-toggleable__label sk-toggleable__label-arrow\">RandomForestClassifier</label><div class=\"sk-toggleable__content\"><pre>RandomForestClassifier(max_depth=10, max_features=&#x27;auto&#x27;, n_estimators=40,\n",
       "                       random_state=119)</pre></div></div></div></div></div>"
      ],
      "text/plain": [
       "RandomForestClassifier(max_depth=10, max_features='auto', n_estimators=40,\n",
       "                       random_state=119)"
      ]
     },
     "execution_count": 16,
     "metadata": {},
     "output_type": "execute_result"
    }
   ],
   "source": [
    "# Best Model\n",
    "best_model = RandomForestClassifier(n_estimators=save_est[np.argmax(f1_score_)], max_depth=save_dep[np.argmax(f1_score_)], random_state=119,\n",
    "                               criterion='gini', max_features='auto', \n",
    "                               bootstrap=True, oob_score=False) # if you use \"oob_score=True\", get long time for training\n",
    "best_model.fit(X.iloc[train_idx], Y.iloc[train_idx])"
   ]
  },
  {
   "cell_type": "code",
   "execution_count": 17,
   "metadata": {
    "colab": {
     "base_uri": "https://localhost:8080/"
    },
    "executionInfo": {
     "elapsed": 6,
     "status": "ok",
     "timestamp": 1677294643374,
     "user": {
      "displayName": "안건이",
      "userId": "00323974519415085515"
     },
     "user_tz": -540
    },
    "id": "bpEezGbVYlBm",
    "outputId": "f491f52b-2aa8-41ed-b7a2-76d4397a6301"
   },
   "outputs": [
    {
     "name": "stdout",
     "output_type": "stream",
     "text": [
      "Train Confusion Matrix\n",
      "[[250   0]\n",
      " [  0 122]]\n",
      "Train Acc : 1.0\n",
      "Train F1-Score : 1.0\n",
      "Test Confusion Matrix\n",
      "[[93  8]\n",
      " [12 47]]\n",
      "TesT Acc : 0.875\n",
      "Test F1-Score : 0.8245614035087718\n"
     ]
    }
   ],
   "source": [
    "# Train Acc\n",
    "y_pre_train = best_model.predict(X.iloc[train_idx])\n",
    "cm_train = confusion_matrix(Y.iloc[train_idx], y_pre_train)\n",
    "print(\"Train Confusion Matrix\")\n",
    "print(cm_train)\n",
    "print(\"Train Acc : {}\".format((cm_train[0,0] + cm_train[1,1])/cm_train.sum()))\n",
    "print(\"Train F1-Score : {}\".format(f1_score(Y.iloc[train_idx], y_pre_train)))\n",
    "\n",
    "# Test Acc\n",
    "y_pre_test = best_model.predict(X.iloc[valid_idx])\n",
    "cm_test = confusion_matrix(Y.iloc[valid_idx], y_pre_test)\n",
    "print(\"Test Confusion Matrix\")\n",
    "print(cm_test)\n",
    "print(\"TesT Acc : {}\".format((cm_test[0,0] + cm_test[1,1])/cm_test.sum())) \n",
    "print(\"Test F1-Score : {}\".format(f1_score(Y.iloc[valid_idx], y_pre_test)))"
   ]
  },
  {
   "cell_type": "code",
   "execution_count": 18,
   "metadata": {
    "colab": {
     "base_uri": "https://localhost:8080/"
    },
    "executionInfo": {
     "elapsed": 4,
     "status": "ok",
     "timestamp": 1677294643374,
     "user": {
      "displayName": "안건이",
      "userId": "00323974519415085515"
     },
     "user_tz": -540
    },
    "id": "gE2-UrklXejF",
    "outputId": "d7b758a4-ef11-4e9e-978e-0ec288c6732f"
   },
   "outputs": [
    {
     "name": "stdout",
     "output_type": "stream",
     "text": [
      "       Score  Feature\n",
      "0   0.325071    event\n",
      "1   0.116611    cd420\n",
      "2   0.080297    cd496\n",
      "3   0.068333     cd80\n",
      "4   0.066404     wtkg\n",
      "5   0.064655    cd820\n",
      "6   0.062691     cd40\n",
      "7   0.054047      age\n",
      "8   0.047875  preanti\n",
      "9   0.036185        r\n",
      "10  0.013194   karnof\n",
      "11  0.011671    strat\n",
      "12  0.011409     race\n",
      "13  0.006760    drugs\n",
      "14  0.006678   gender\n",
      "15  0.006291     hemo\n",
      "16  0.006121     homo\n",
      "17  0.005438  symptom\n",
      "18  0.005390      z30\n",
      "19  0.004878     str2\n",
      "20  0.000000   zprior\n",
      "21  0.000000   oprior\n"
     ]
    }
   ],
   "source": [
    "feature_map = pd.DataFrame(sorted(zip(best_model.feature_importances_, X.columns), reverse=True), columns=['Score', 'Feature'])\n",
    "print(feature_map)"
   ]
  },
  {
   "cell_type": "code",
   "execution_count": 19,
   "metadata": {
    "colab": {
     "base_uri": "https://localhost:8080/",
     "height": 720
    },
    "executionInfo": {
     "elapsed": 314,
     "status": "ok",
     "timestamp": 1677294643685,
     "user": {
      "displayName": "안건이",
      "userId": "00323974519415085515"
     },
     "user_tz": -540
    },
    "id": "ZqcRLYRxY44V",
    "outputId": "6971c74c-640e-4518-ab4e-620dec883370"
   },
   "outputs": [
    {
     "data": {
      "image/png": "[encoded data removed]",
      "text/plain": [
       "<Figure size 2000x1000 with 1 Axes>"
      ]
     },
     "metadata": {},
     "output_type": "display_data"
    }
   ],
   "source": [
    "# Importance Score Top 10\n",
    "feature_map_20 = feature_map.iloc[:10]\n",
    "plt.figure(figsize=(20, 10))\n",
    "sns.barplot(x=\"Score\", y=\"Feature\", data=feature_map_20.sort_values(by=\"Score\", ascending=False), errwidth=40)\n",
    "plt.title('Random Forest Importance Features')\n",
    "plt.tight_layout()\n",
    "plt.show()"
   ]
  }
 ],
 "metadata": {
  "colab": {
   "authorship_tag": "ABX9TyMJ4XUalMRUy9eKayq38IdX",
   "provenance": []
  },
  "kernelspec": {
   "display_name": "Python 3 (ipykernel)",
   "language": "python",
   "name": "python3"
  },
  "language_info": {
   "codemirror_mode": {
    "name": "ipython",
    "version": 3
   },
   "file_extension": ".py",
   "mimetype": "text/x-python",
   "name": "python",
   "nbconvert_exporter": "python",
   "pygments_lexer": "ipython3",
   "version": "3.11.7"
  }
 },
 "nbformat": 4,
 "nbformat_minor": 1
}
