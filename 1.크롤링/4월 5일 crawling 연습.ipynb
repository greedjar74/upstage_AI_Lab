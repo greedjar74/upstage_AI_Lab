{
 "cells": [
  {
   "cell_type": "markdown",
   "id": "3318939d",
   "metadata": {},
   "source": [
    "# Google news 크롤링"
   ]
  },
  {
   "cell_type": "markdown",
   "id": "79338931",
   "metadata": {},
   "source": [
    "### 보완점\n",
    "1. 페이지 이동\n",
    "    - 발생한 문제 : 페이지 이동이 정상적이지 않고 페이지 이동시 일부 데이터가 드랍되어 크롤링 됨\n",
    "    - 해결방법 : 다시 차분하게 코드 짜보는거ㅋㅋ (귀차너..)"
   ]
  },
  {
   "cell_type": "code",
   "execution_count": 74,
   "id": "6d216a06",
   "metadata": {},
   "outputs": [],
   "source": [
    "# 라이브러리 호출\n",
    "\n",
    "from selenium import webdriver\n",
    "from selenium.webdriver.common.by import By\n",
    "import pandas as pd"
   ]
  },
  {
   "cell_type": "code",
   "execution_count": 75,
   "id": "e388f492",
   "metadata": {},
   "outputs": [],
   "source": [
    "# 웹 페이지 생성\n",
    "\n",
    "browser = webdriver.Chrome()\n",
    "url = 'https://www.google.com'\n",
    "browser.get(url)"
   ]
  },
  {
   "cell_type": "code",
   "execution_count": 76,
   "id": "7ac196ab",
   "metadata": {},
   "outputs": [
    {
     "name": "stdout",
     "output_type": "stream",
     "text": [
      "검색어를 입력하세요 : 카보로딩\n"
     ]
    }
   ],
   "source": [
    "# 검색어 입력\n",
    "\n",
    "key = input(\"검색어를 입력하세요 : \")"
   ]
  },
  {
   "cell_type": "code",
   "execution_count": 77,
   "id": "f6808bc6",
   "metadata": {},
   "outputs": [],
   "source": [
    "# 뉴스 페이지로 이동\n",
    "# 수업에서는 뉴스 버튼을 클릭하여 뉴스 페이지로 이동했다.\n",
    "# 검색 결과창에서 뉴스로 이동하는 버튼의 위치가 다른 경우가 있다.\n",
    "# url을 사용하여 검색어의 뉴스 페이지로 이동하는 방법 사용\n",
    "\n",
    "browser.get('https://www.google.com/search?q='+key+'&tbm=nws&source=lnms&prmd=ivnmsbz&sa=X&ved=2ahUKEwi77vKHy6yFAxX5hlYBHVXQAo8Q0pQJegQIDxAB&cshid=1712372125583241&biw=1728&bih=941&dpr=2')"
   ]
  },
  {
   "cell_type": "code",
   "execution_count": 78,
   "id": "e8accf21",
   "metadata": {},
   "outputs": [
    {
     "name": "stdout",
     "output_type": "stream",
     "text": [
      "정희원 교수 “탕후루=음식의 숏폼, 60년간 당 섭취 100배 증가”(옥문아)\n",
      "2023. 12. 13.\n",
      "뉴스엔\n",
      "data:image/jpeg;base64,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\n"
     ]
    }
   ],
   "source": [
    "# 뉴스 제목, 작성일, 작성회사 -> 한 개의 기사만 읽어오기\n",
    "\n",
    "print(browser.find_element(By.CLASS_NAME, 'n0jPhd').text)\n",
    "print(browser.find_element(By.CLASS_NAME, 'rbYSKb').text)\n",
    "print(browser.find_element(By.CLASS_NAME, 'MgUUmf').text)\n",
    "print(browser.find_element(By.CLASS_NAME, 'uhHOwf').find_element(By.TAG_NAME, 'img').get_attribute('src'))"
   ]
  },
  {
   "cell_type": "code",
   "execution_count": 79,
   "id": "3dfa1bea",
   "metadata": {},
   "outputs": [],
   "source": [
    "# 한 페이지의 모든 뉴스에 대해서 정보 뽑아오기\n",
    "\n",
    "container = browser.find_elements(By.CLASS_NAME, 'lSfe4c')\n",
    "news_li = []\n",
    "\n",
    "for elem in container:\n",
    "    title = elem.find_element(By.CLASS_NAME, 'n0jPhd').text\n",
    "    date = elem.find_element(By.CLASS_NAME, 'rbYSKb').text\n",
    "    auth = elem.find_element(By.CLASS_NAME, 'MgUUmf').text\n",
    "    \n",
    "    tmp = {\n",
    "        '제목' : title,\n",
    "        '작성일' : date,\n",
    "        '작성자' : auth\n",
    "    }\n",
    "    \n",
    "    news_li.append(tmp)"
   ]
  },
  {
   "cell_type": "code",
   "execution_count": 80,
   "id": "9107c133",
   "metadata": {
    "scrolled": true
   },
   "outputs": [
    {
     "name": "stdout",
     "output_type": "stream",
     "text": [
      "정희원 교수 “탕후루=음식의 숏폼, 60년간 당 섭취 100배 증가”(옥문아)\n",
      "2023. 12. 13.\n",
      "뉴스엔\n",
      "\n",
      "정희원 교수 \"탕후루=음식의 숏폼, 60년간 당 섭취 100배 증가\"(옥문아) : 네이트 연예\n",
      "2023. 12. 13.\n",
      "네이트\n",
      "\n",
      "오늘은 무리하지 말고, 붕어빵 가게까지만 달려볼까요\n",
      "2022. 6. 29.\n",
      "시사IN\n",
      "\n",
      "“건강과 지구를 지키는 채식, 지금 시작하세요”\n",
      "2022. 6. 6.\n",
      "부산일보\n",
      "\n"
     ]
    }
   ],
   "source": [
    "for i in range(len(news_li)):\n",
    "    print(news_li[i]['제목'])\n",
    "    print(news_li[i]['작성일'])\n",
    "    print(news_li[i]['작성자'])\n",
    "    print()"
   ]
  },
  {
   "cell_type": "markdown",
   "id": "4a5da888",
   "metadata": {},
   "source": [
    "# SRT 크롤링"
   ]
  },
  {
   "cell_type": "markdown",
   "id": "5c922a23",
   "metadata": {},
   "source": [
    "###  보완점\n",
    "\n",
    "1. 자세한 시각 설정\n",
    "    - 발생한 문제 : 각각의 출발 시각을 가져오는 건 쉬웠으나 문자열 형태로 입력한 시각과 비교하는 부분을 구현하지 못함\n",
    "    - 해결방법 : 문자열 관련 함수 혹은 간단한 숫자 연산으로 가능하나 귀찮아서...ㅎ\n",
    "2. '입석+좌석'의 경우 팝업창이 뜨고 확인을 눌러야 다음으로 넘어갈 수 있다.\n",
    "    - 해결방법 : 팝업창을 컨트롤 하는 방법 필요"
   ]
  },
  {
   "cell_type": "code",
   "execution_count": 1,
   "id": "fe3e2138",
   "metadata": {},
   "outputs": [],
   "source": [
    "from selenium import webdriver\n",
    "from selenium.webdriver.common.by import By"
   ]
  },
  {
   "cell_type": "code",
   "execution_count": 3,
   "id": "6c34fe65",
   "metadata": {},
   "outputs": [],
   "source": [
    "browser = webdriver.Chrome()\n",
    "url = 'https://etk.srail.kr/cmc/01/selectLoginForm.do?pageId=TK0701000000'\n",
    "browser.get(url)"
   ]
  },
  {
   "cell_type": "code",
   "execution_count": 4,
   "id": "83870bf9",
   "metadata": {},
   "outputs": [],
   "source": [
    "browser.find_element(By.XPATH, '//*[@id=\"login-form\"]/fieldset/div[1]/div[1]/div[1]/label[3]').click()\n",
    "\n",
    "browser.find_element(By.ID, 'srchDvNm03').click()\n",
    "browser.find_element(By.ID, 'srchDvNm03').send_keys('전화번호')\n",
    "\n",
    "browser.find_element(By.ID, 'hmpgPwdCphd03').click()\n",
    "browser.find_element(By.ID, 'hmpgPwdCphd03').send_keys('비밀번호')\n",
    "\n",
    "browser.find_element(By.XPATH, '//*[@id=\"login-form\"]/fieldset/div[1]/div[1]/div[4]/div/div[2]/input').click()"
   ]
  },
  {
   "cell_type": "code",
   "execution_count": 6,
   "id": "327bd3a1",
   "metadata": {},
   "outputs": [],
   "source": [
    "browser.find_element(By.CLASS_NAME, 'ico_srch').click()"
   ]
  },
  {
   "cell_type": "code",
   "execution_count": 72,
   "id": "4cf440d3",
   "metadata": {},
   "outputs": [
    {
     "name": "stdout",
     "output_type": "stream",
     "text": [
      "출발지를 입력하세요 : 동대구\n"
     ]
    }
   ],
   "source": [
    "start = input(\"출발지를 입력하세요 : \")\n",
    "\n",
    "browser.find_element(By.ID, 'dptRsStnCdNm').click() # 출발역 입력창 클릭\n",
    "browser.find_element(By.ID, 'dptRsStnCdNm').clear() # 출발역 입력창의 기존 값 제거\n",
    "browser.find_element(By.ID, 'dptRsStnCdNm').send_keys(start) # 출발역 입력"
   ]
  },
  {
   "cell_type": "code",
   "execution_count": 73,
   "id": "ba03773b",
   "metadata": {},
   "outputs": [
    {
     "name": "stdout",
     "output_type": "stream",
     "text": [
      "도착지를 입력하세요 : 수서\n"
     ]
    }
   ],
   "source": [
    "end = input('도착지를 입력하세요 : ')\n",
    "\n",
    "browser.find_element(By.ID, 'arvRsStnCdNm').click() # 도착역 입력창 클릭\n",
    "browser.find_element(By.ID, 'arvRsStnCdNm').clear() # 도착역 입력창의 기존 값 제거\n",
    "browser.find_element(By.ID, 'arvRsStnCdNm').send_keys(end) # 도착역 입력"
   ]
  },
  {
   "cell_type": "code",
   "execution_count": 19,
   "id": "bfb58641",
   "metadata": {},
   "outputs": [
    {
     "name": "stdout",
     "output_type": "stream",
     "text": [
      "몇일 후 출발하시겠습니까 : 1\n"
     ]
    }
   ],
   "source": [
    "# 출발일 지정\n",
    "# 오늘 = 0입력 -> 날짜는 오늘이 default로 설정되어 있으므로 그 이외의 날에 대해서만 설정한다.\n",
    "# 해당 값은 xpath를 사용하여 설정이 가능하다.\n",
    "# xpath규칙 -> 마지막 option값만 변경됨\n",
    "# 1일뒤 : //*[@id=\"dptDt\"]/option[2]\n",
    "# 2일뒤 : //*[@id=\"dptDt\"]/option[3]\n",
    "\n",
    "date = int(input('몇일 후 출발하시겠습니까 : '))\n",
    "if date != 0:\n",
    "    browser.find_element(By.XPATH, '//*[@id=\"dptDt\"]/option[{}]'.format(date + 1)).click()"
   ]
  },
  {
   "cell_type": "code",
   "execution_count": 27,
   "id": "25510767",
   "metadata": {},
   "outputs": [
    {
     "name": "stdout",
     "output_type": "stream",
     "text": [
      "몇시에 출발하시겠습니까 : 13\n",
      "12\n",
      "7\n"
     ]
    }
   ],
   "source": [
    "# 출발 시각 지정\n",
    "# 시각만 입력하고 분은 따로 입력하지 않았음 -> 보완점\n",
    "# 00시 ~ 22시, 2시간 단위로 설정 가능 -> 간단한 연산으로 구현\n",
    "# xpath값으로 시각을 설정할 수 있다.\n",
    "# xpath규칙 -> option값이 00시를 1으로 시작하여 2시간마다 1씩 증가\n",
    "# 00시 : //*[@id=\"dptTm\"]/option[1]\n",
    "# 02시 : //*[@id=\"dptTm\"]/option[2]\n",
    "# 20시 : //*[@id=\"dptTm\"]/option[11]\n",
    "\n",
    "# 출발시각 입력\n",
    "time = int(input('몇시에 출발하시겠습니까 : '))\n",
    "\n",
    "# 출발 시각을 2시간 단위로 변경\n",
    "for i in range(0, 23, 2):\n",
    "    if i > time:\n",
    "        time = i\n",
    "        break\n",
    "\n",
    "time -= 2    \n",
    "# 출발시각 입력\n",
    "browser.find_element(By.XPATH, '//*[@id=\"dptTm\"]/option[{}]'.format((time+2)//2)).click()"
   ]
  },
  {
   "cell_type": "code",
   "execution_count": 29,
   "id": "c098523e",
   "metadata": {},
   "outputs": [],
   "source": [
    "# ktx의 경우 새로운 웹 페이지로 이동한다. -> 이를 방지하기 위해 srt만 검색될 수 있도록 설정\n",
    "browser.find_element(By.ID, 'trnGpCd300').click()"
   ]
  },
  {
   "cell_type": "code",
   "execution_count": 30,
   "id": "4a122666",
   "metadata": {},
   "outputs": [],
   "source": [
    "# 모든 설정이 끝난 후 검색 버튼 클릭\n",
    "browser.find_element(By.ID, 'search_top_tag').click()"
   ]
  },
  {
   "cell_type": "code",
   "execution_count": 63,
   "id": "f7bd321c",
   "metadata": {},
   "outputs": [],
   "source": [
    "# 첫 번째 기차에 대해서 매진인지 확인\n",
    "# 매진인 경우 : 재검색\n",
    "# 매진이 아닌 경우 : 해당 좌석 선택\n",
    "# 보완점 : 현재는 첫 기차에 대해서만 검사를 진행하지만 추가적인 코드로 각각의 시각을 확인하고 설정한 시각과 가장 가까운 열차를 예매하도록 할 수 있다.\n",
    "\n",
    "is_sold_out = browser.find_element(By.XPATH, '//*[@id=\"result-form\"]/fieldset/div[6]/table/tbody/tr[1]/td[7]/a').text\n",
    "\n",
    "if is_sold_out == '매진':\n",
    "    browser.find_element(By.ID, 'search_top_tag').click()\n",
    "    \n",
    "else :\n",
    "    browser.find_element(By.XPATH, '//*[@id=\"result-form\"]/fieldset/div[6]/table/tbody/tr[1]/td[7]/a').click()"
   ]
  },
  {
   "cell_type": "code",
   "execution_count": null,
   "id": "ee04e26f",
   "metadata": {},
   "outputs": [],
   "source": []
  },
  {
   "cell_type": "code",
   "execution_count": null,
   "id": "de9519f5",
   "metadata": {},
   "outputs": [],
   "source": []
  },
  {
   "cell_type": "code",
   "execution_count": null,
   "id": "3af9b329",
   "metadata": {},
   "outputs": [],
   "source": []
  },
  {
   "cell_type": "code",
   "execution_count": null,
   "id": "7a5fafad",
   "metadata": {},
   "outputs": [],
   "source": []
  },
  {
   "cell_type": "code",
   "execution_count": null,
   "id": "871ad0a2",
   "metadata": {},
   "outputs": [],
   "source": []
  },
  {
   "cell_type": "code",
   "execution_count": null,
   "id": "a389fb2c",
   "metadata": {},
   "outputs": [],
   "source": []
  },
  {
   "cell_type": "code",
   "execution_count": null,
   "id": "7f44ceb1",
   "metadata": {},
   "outputs": [],
   "source": []
  },
  {
   "cell_type": "code",
   "execution_count": null,
   "id": "1fc1ad90",
   "metadata": {},
   "outputs": [],
   "source": []
  },
  {
   "cell_type": "code",
   "execution_count": null,
   "id": "7d7c6e46",
   "metadata": {},
   "outputs": [],
   "source": []
  },
  {
   "cell_type": "code",
   "execution_count": null,
   "id": "c0b520fe",
   "metadata": {},
   "outputs": [],
   "source": []
  },
  {
   "cell_type": "code",
   "execution_count": null,
   "id": "786eb0f9",
   "metadata": {},
   "outputs": [],
   "source": []
  },
  {
   "cell_type": "code",
   "execution_count": null,
   "id": "2914efd8",
   "metadata": {},
   "outputs": [],
   "source": []
  },
  {
   "cell_type": "code",
   "execution_count": null,
   "id": "29830060",
   "metadata": {},
   "outputs": [],
   "source": []
  },
  {
   "cell_type": "code",
   "execution_count": null,
   "id": "7763c052",
   "metadata": {},
   "outputs": [],
   "source": []
  },
  {
   "cell_type": "code",
   "execution_count": null,
   "id": "3cbfb9a5",
   "metadata": {},
   "outputs": [],
   "source": []
  }
 ],
 "metadata": {
  "kernelspec": {
   "display_name": "Python 3 (ipykernel)",
   "language": "python",
   "name": "python3"
  },
  "language_info": {
   "codemirror_mode": {
    "name": "ipython",
    "version": 3
   },
   "file_extension": ".py",
   "mimetype": "text/x-python",
   "name": "python",
   "nbconvert_exporter": "python",
   "pygments_lexer": "ipython3",
   "version": "3.11.4"
  }
 },
 "nbformat": 4,
 "nbformat_minor": 5
}
