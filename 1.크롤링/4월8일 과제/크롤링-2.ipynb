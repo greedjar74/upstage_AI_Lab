{
 "cells": [
  {
   "cell_type": "markdown",
   "id": "4cc25dd0",
   "metadata": {},
   "source": [
    "### 구글 플레이 스토어에서 앱 검색 후 댓글을 수집하는 코드를 작성하시오.\n",
    "\n",
    "- 조건1: 내가 입력한 검색어를 기반으로 첫 번째 앱을 선택합니다.\n",
    "- 조건2: 댓글 수집이 100개 이상 수집되어야 합니다. (댓글 갯수가 100미만인 앱은 예외)\n",
    "- 조건3: 댓글에서 아래의 정보를 가져오세요.\n",
    "    - 작성자명, 별표 갯수, 작성일, 작성 내용\n",
    "- 조건4: 크롤링한 데이터를 오늘 날짜를 기준으로 엑셀에 저장하시오. (파일명: 2023-04-18)"
   ]
  },
  {
   "cell_type": "code",
   "execution_count": 8,
   "id": "0ad8c870",
   "metadata": {},
   "outputs": [],
   "source": [
    "# 라이브러리 호출\n",
    "\n",
    "from selenium import webdriver\n",
    "from selenium.webdriver.common.by import By\n",
    "import time"
   ]
  },
  {
   "cell_type": "code",
   "execution_count": 83,
   "id": "67420355",
   "metadata": {},
   "outputs": [],
   "source": [
    "url = 'https://play.google.com'\n",
    "play_store = webdriver.Chrome()\n",
    "play_store.get(url)"
   ]
  },
  {
   "cell_type": "code",
   "execution_count": 84,
   "id": "a9fc6f81",
   "metadata": {},
   "outputs": [],
   "source": [
    "play_store.find_element(By.CLASS_NAME, 'google-material-icons').click()"
   ]
  },
  {
   "cell_type": "code",
   "execution_count": 85,
   "id": "0129c947",
   "metadata": {},
   "outputs": [
    {
     "name": "stdout",
     "output_type": "stream",
     "text": [
      "검색어를 입력하세요 : 러닝\n"
     ]
    }
   ],
   "source": [
    "# 검색어 입력 및 검색\n",
    "key = input(\"검색어를 입력하세요 : \")\n",
    "play_store.find_element(By.CLASS_NAME, 'HWAcU').send_keys(key)\n",
    "play_store.find_element(By.CLASS_NAME, 'HWAcU').send_keys('\\n')"
   ]
  },
  {
   "cell_type": "code",
   "execution_count": 86,
   "id": "0206397a",
   "metadata": {},
   "outputs": [],
   "source": [
    "# 첫 어플 선택\n",
    "play_store.find_element(By.XPATH, '//*[@id=\"yDmH0d\"]/c-wiz[3]/div/div/c-wiz/c-wiz/c-wiz/section/div/div/div/div[1]/div/div/div/a').click()"
   ]
  },
  {
   "cell_type": "code",
   "execution_count": 92,
   "id": "d28cd7b7",
   "metadata": {},
   "outputs": [],
   "source": [
    "# 리뷰 모두 보기 선택\n",
    "\n",
    "play_store.execute_script('window.scrollTo(0, document.body.scrollHeight);')\n",
    "play_store.find_element(By.XPATH, '//*[@id=\"yDmH0d\"]/c-wiz[2]/div/div/div[1]/div/div[2]/div/div[1]/div[1]/c-wiz[5]/section/div/div[2]/div[5]/div/div/button').click()"
   ]
  },
  {
   "cell_type": "code",
   "execution_count": 94,
   "id": "a7c8c085",
   "metadata": {},
   "outputs": [],
   "source": [
    "# 팝업창 무한 스크롤\n",
    "\n",
    "all_reviews = play_store.find_element(By.XPATH, '//*[@id=\"yDmH0d\"]/div[4]/div[2]/div/div/div/div/div[2]')\n",
    "\n",
    "for i in range(10):\n",
    "    play_store.execute_script('arguments[0].scrollTop = arguments[0].scrollHeight', all_reviews)\n",
    "    time.sleep(2)"
   ]
  },
  {
   "cell_type": "code",
   "execution_count": 100,
   "id": "ce273d51",
   "metadata": {},
   "outputs": [],
   "source": [
    "# 리뷰 크롤링\n",
    "\n",
    "import pandas as pd\n",
    "\n",
    "container = play_store.find_elements(By.CLASS_NAME, 'RHo1pe')\n",
    "\n",
    "reviews = list()\n",
    "\n",
    "for i in range(len(container)):\n",
    "    star = container[i].find_element(By.CLASS_NAME, 'Jx4nYe').find_element(By.TAG_NAME, 'div').get_attribute('aria-label')\n",
    "    date = container[i].find_element(By.CLASS_NAME, 'bp9Aid').text\n",
    "    content = container[i].find_element(By.CLASS_NAME, 'h3YV2d').text\n",
    "    \n",
    "    review = {\n",
    "        '별점': star,\n",
    "        '작성일': date,\n",
    "        '리뷰 내용': content\n",
    "    }\n",
    "    \n",
    "    reviews.append(review)\n",
    "    \n",
    "df = pd.DataFrame(reviews)\n",
    "df.to_csv('24-04-08.csv', encoding='utf-8-sig')"
   ]
  },
  {
   "cell_type": "code",
   "execution_count": null,
   "id": "b1ad9607",
   "metadata": {},
   "outputs": [],
   "source": []
  },
  {
   "cell_type": "code",
   "execution_count": null,
   "id": "1a5532ac",
   "metadata": {},
   "outputs": [],
   "source": []
  },
  {
   "cell_type": "code",
   "execution_count": null,
   "id": "cd1855bb",
   "metadata": {},
   "outputs": [],
   "source": []
  },
  {
   "cell_type": "code",
   "execution_count": null,
   "id": "9d05aacb",
   "metadata": {},
   "outputs": [],
   "source": []
  },
  {
   "cell_type": "code",
   "execution_count": null,
   "id": "fc2fe0de",
   "metadata": {},
   "outputs": [],
   "source": []
  },
  {
   "cell_type": "code",
   "execution_count": null,
   "id": "db6a1f61",
   "metadata": {},
   "outputs": [],
   "source": []
  },
  {
   "cell_type": "code",
   "execution_count": null,
   "id": "da191b8b",
   "metadata": {},
   "outputs": [],
   "source": []
  },
  {
   "cell_type": "code",
   "execution_count": null,
   "id": "af8e6723",
   "metadata": {},
   "outputs": [],
   "source": []
  },
  {
   "cell_type": "code",
   "execution_count": null,
   "id": "77918843",
   "metadata": {},
   "outputs": [],
   "source": []
  }
 ],
 "metadata": {
  "kernelspec": {
   "display_name": "Python 3 (ipykernel)",
   "language": "python",
   "name": "python3"
  },
  "language_info": {
   "codemirror_mode": {
    "name": "ipython",
    "version": 3
   },
   "file_extension": ".py",
   "mimetype": "text/x-python",
   "name": "python",
   "nbconvert_exporter": "python",
   "pygments_lexer": "ipython3",
   "version": "3.11.4"
  }
 },
 "nbformat": 4,
 "nbformat_minor": 5
}
