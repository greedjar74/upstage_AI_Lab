{
 "cells": [
  {
   "cell_type": "markdown",
   "id": "ca128ea3",
   "metadata": {},
   "source": [
    "### 셀레늄을 사용하여 웹 페이지를 어떻게 로드할 수 있나요?\n"
   ]
  },
  {
   "cell_type": "code",
   "execution_count": 1,
   "id": "2631177b",
   "metadata": {},
   "outputs": [],
   "source": [
    "from selenium import webdriver\n",
    "from selenium.webdriver.common.by import By\n",
    "\n",
    "browser = webdriver.Chrome()"
   ]
  },
  {
   "cell_type": "markdown",
   "id": "d4bf090c",
   "metadata": {},
   "source": [
    "### 셀레늄으로 웹 페이지에서 특정 요소를 어떻게 찾을 수 있나요? 요소를 찾을 수 있는 함수는 어떤 것들이 있나요? ex) ID, XPATH…"
   ]
  },
  {
   "cell_type": "code",
   "execution_count": 2,
   "id": "cb221321",
   "metadata": {},
   "outputs": [
    {
     "data": {
      "text/plain": [
       "'\\n\\nbrowser.find_element(By.ID, \"~~\")\\nbrowser.find_element(By.XPATH, \"~~\")\\nbrowser.find_element(By.CLASS_NAME, \"~~\")\\nbrowser.find_element(By.TAG_NAME, \"~~\")\\n등등\\n\\n'"
      ]
     },
     "execution_count": 2,
     "metadata": {},
     "output_type": "execute_result"
    }
   ],
   "source": [
    "'''\n",
    "\n",
    "browser.find_element(By.ID, \"~~\")\n",
    "browser.find_element(By.XPATH, \"~~\")\n",
    "browser.find_element(By.CLASS_NAME, \"~~\")\n",
    "browser.find_element(By.TAG_NAME, \"~~\")\n",
    "등등\n",
    "\n",
    "'''"
   ]
  },
  {
   "cell_type": "markdown",
   "id": "b183ae70",
   "metadata": {},
   "source": [
    "### 셀레늄으로 찾은 요소의 텍스트를 가져오려면 어떻게 해야 하나요?"
   ]
  },
  {
   "cell_type": "code",
   "execution_count": 3,
   "id": "1e62f7f8",
   "metadata": {},
   "outputs": [],
   "source": [
    "# browser.find_element(By.~, '~~').text"
   ]
  },
  {
   "cell_type": "markdown",
   "id": "1e1fe3ca",
   "metadata": {},
   "source": [
    "### 셀레늄에서 특정 텍스트를 입력하고 엔터 키를 누르는 방법은 무엇인가요?"
   ]
  },
  {
   "cell_type": "code",
   "execution_count": 4,
   "id": "1b5b9de8",
   "metadata": {},
   "outputs": [],
   "source": [
    "# browser.find_element(By.~, '~~').send_keys(Keys.RETURN)\n",
    "# browser.find_element(By.~, '~~').send_keys('\\n')"
   ]
  },
  {
   "cell_type": "markdown",
   "id": "63a03f20",
   "metadata": {},
   "source": [
    "### 셀레늄으로 찾은 요소의 속성값을 가져오려면 어떻게 해야 하나요?"
   ]
  },
  {
   "cell_type": "code",
   "execution_count": 5,
   "id": "367d7c4b",
   "metadata": {},
   "outputs": [],
   "source": [
    "# browser.find_element(By.~, '~~').get_attribute('href' or 'src')"
   ]
  },
  {
   "cell_type": "markdown",
   "id": "24e8170b",
   "metadata": {},
   "source": [
    "### 셀레늄으로 웹 페이지를 스크롤하는 방법은 무엇인가요?"
   ]
  },
  {
   "cell_type": "code",
   "execution_count": null,
   "id": "d34d1cf4",
   "metadata": {},
   "outputs": [],
   "source": []
  },
  {
   "cell_type": "markdown",
   "id": "fd010218",
   "metadata": {},
   "source": [
    "### 셀레늄으로 특정 요소를 클릭하는 방법은 무엇인가요?"
   ]
  },
  {
   "cell_type": "code",
   "execution_count": 6,
   "id": "c136c7b2",
   "metadata": {},
   "outputs": [],
   "source": [
    "# browser.find_element(By.~, '~~').click()"
   ]
  },
  {
   "cell_type": "markdown",
   "id": "d00b8b98",
   "metadata": {},
   "source": [
    "### 셀레늄으로 텍스트를 입력하는 방법은 무엇인가요?"
   ]
  },
  {
   "cell_type": "code",
   "execution_count": 7,
   "id": "585fe671",
   "metadata": {},
   "outputs": [],
   "source": [
    "# browser.find_element(By.~, '~~').send_keys('텍스트')"
   ]
  },
  {
   "cell_type": "markdown",
   "id": "5fdf0cab",
   "metadata": {},
   "source": [
    "### 셀레늄으로 웹 페이지에서 이전 페이지로 이동하는 방법은 무엇인가요?"
   ]
  },
  {
   "cell_type": "code",
   "execution_count": 11,
   "id": "9fbe41b6",
   "metadata": {},
   "outputs": [],
   "source": [
    "browser = webdriver.Chrome()\n",
    "browser.get('https://www.naver.com')\n",
    "browser.back()"
   ]
  },
  {
   "cell_type": "markdown",
   "id": "9c346afb",
   "metadata": {},
   "source": [
    "### 셀레늄으로 웹 페이지에서 다음 페이지로 이동하는 방법은 무엇인가요?"
   ]
  },
  {
   "cell_type": "code",
   "execution_count": 12,
   "id": "6202cbc2",
   "metadata": {},
   "outputs": [],
   "source": [
    "# url의 규칙 이용 or 버튼 클릭?"
   ]
  },
  {
   "cell_type": "markdown",
   "id": "38291a7a",
   "metadata": {},
   "source": [
    "### 셀레늄의 Implicit Waits와 Explicit Waits의 차이점은 무엇인가요?"
   ]
  },
  {
   "cell_type": "code",
   "execution_count": null,
   "id": "5b35bc56",
   "metadata": {},
   "outputs": [],
   "source": [
    "'''\n",
    "\n",
    "Implicit Wait는 설정된 기간 내에 모든 요소를 사용할 수 있도록 \n",
    "넓은 그물을 던지는 것과 비슷하지만 \n",
    "Explicitly Wait는 특정 조건의 특정 요소를 대상으로 하는\n",
    "낚싯대를 사용하는 것과 비슷합니다.\n",
    "\n",
    "'''"
   ]
  },
  {
   "cell_type": "code",
   "execution_count": null,
   "id": "a7934708",
   "metadata": {},
   "outputs": [],
   "source": []
  },
  {
   "cell_type": "code",
   "execution_count": null,
   "id": "c5b84256",
   "metadata": {},
   "outputs": [],
   "source": []
  },
  {
   "cell_type": "code",
   "execution_count": null,
   "id": "e8654194",
   "metadata": {},
   "outputs": [],
   "source": []
  },
  {
   "cell_type": "code",
   "execution_count": null,
   "id": "101fb196",
   "metadata": {},
   "outputs": [],
   "source": []
  },
  {
   "cell_type": "code",
   "execution_count": null,
   "id": "e1e0f262",
   "metadata": {},
   "outputs": [],
   "source": []
  },
  {
   "cell_type": "code",
   "execution_count": null,
   "id": "3985254c",
   "metadata": {},
   "outputs": [],
   "source": []
  },
  {
   "cell_type": "code",
   "execution_count": null,
   "id": "a9675fb3",
   "metadata": {},
   "outputs": [],
   "source": []
  },
  {
   "cell_type": "code",
   "execution_count": null,
   "id": "97b861fd",
   "metadata": {},
   "outputs": [],
   "source": []
  },
  {
   "cell_type": "code",
   "execution_count": null,
   "id": "e4305098",
   "metadata": {},
   "outputs": [],
   "source": []
  },
  {
   "cell_type": "code",
   "execution_count": null,
   "id": "aa4c8403",
   "metadata": {},
   "outputs": [],
   "source": []
  },
  {
   "cell_type": "code",
   "execution_count": null,
   "id": "68b04e8b",
   "metadata": {},
   "outputs": [],
   "source": []
  }
 ],
 "metadata": {
  "kernelspec": {
   "display_name": "Python 3 (ipykernel)",
   "language": "python",
   "name": "python3"
  },
  "language_info": {
   "codemirror_mode": {
    "name": "ipython",
    "version": 3
   },
   "file_extension": ".py",
   "mimetype": "text/x-python",
   "name": "python",
   "nbconvert_exporter": "python",
   "pygments_lexer": "ipython3",
   "version": "3.11.4"
  }
 },
 "nbformat": 4,
 "nbformat_minor": 5
}
