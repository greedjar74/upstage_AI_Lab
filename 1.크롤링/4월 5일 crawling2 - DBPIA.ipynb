{
 "cells": [
  {
   "cell_type": "markdown",
   "id": "4f672eb4",
   "metadata": {},
   "source": [
    "# DBPIA"
   ]
  },
  {
   "cell_type": "code",
   "execution_count": 8,
   "id": "b8dd4008",
   "metadata": {},
   "outputs": [],
   "source": [
    "from selenium import webdriver\n",
    "from selenium.webdriver.common.by import By\n",
    "import pandas as pd\n",
    "import time"
   ]
  },
  {
   "cell_type": "code",
   "execution_count": 1,
   "id": "b67e4386",
   "metadata": {},
   "outputs": [
    {
     "name": "stdout",
     "output_type": "stream",
     "text": [
      "찾고자 하는 논문 주제를 입력하세요 : 인공지능\n",
      "https://www.dbpia.co.kr/search/topSearch?searchOption=all&query=인공지능\n"
     ]
    }
   ],
   "source": [
    "keyword = input(\"찾고자 하는 논문 주제를 입력하세요 : \")\n",
    "url = 'https://www.dbpia.co.kr/search/topSearch?searchOption=all&query='+keyword\n",
    "\n",
    "print(url)"
   ]
  },
  {
   "cell_type": "code",
   "execution_count": 29,
   "id": "278b1849",
   "metadata": {},
   "outputs": [],
   "source": [
    "browser = webdriver.Chrome()\n",
    "browser.get(url)"
   ]
  },
  {
   "cell_type": "code",
   "execution_count": 30,
   "id": "b55d12cd",
   "metadata": {},
   "outputs": [],
   "source": [
    "tmp = browser.find_elements(By.CLASS_NAME, 'thesis__summary')"
   ]
  },
  {
   "cell_type": "code",
   "execution_count": 31,
   "id": "1ff3f264",
   "metadata": {},
   "outputs": [
    {
     "data": {
      "text/plain": [
       "20"
      ]
     },
     "execution_count": 31,
     "metadata": {},
     "output_type": "execute_result"
    }
   ],
   "source": [
    "len(tmp)"
   ]
  },
  {
   "cell_type": "code",
   "execution_count": 32,
   "id": "8bc1edaa",
   "metadata": {},
   "outputs": [
    {
     "name": "stdout",
     "output_type": "stream",
     "text": [
      "['https://www.dbpia.co.kr/journal/articleDetail?nodeId=NODE11462877', 'https://www.dbpia.co.kr/journal/articleDetail?nodeId=NODE11735899', 'https://www.dbpia.co.kr/journal/articleDetail?nodeId=NODE11722185', 'https://www.dbpia.co.kr/journal/articleDetail?nodeId=NODE11722180', 'https://www.dbpia.co.kr/journal/articleDetail?nodeId=NODE11722174', 'https://www.dbpia.co.kr/journal/articleDetail?nodeId=NODE11711110', 'https://www.dbpia.co.kr/journal/articleDetail?nodeId=NODE11719982', 'https://www.dbpia.co.kr/journal/articleDetail?nodeId=NODE11719980', 'https://www.dbpia.co.kr/journal/articleDetail?nodeId=NODE11554710', 'https://www.dbpia.co.kr/journal/articleDetail?nodeId=NODE11554716', 'https://www.dbpia.co.kr/journal/articleDetail?nodeId=NODE11554704', 'https://www.dbpia.co.kr/journal/articleDetail?nodeId=NODE11554705', 'https://www.dbpia.co.kr/journal/articleDetail?nodeId=NODE11554780', 'https://www.dbpia.co.kr/journal/articleDetail?nodeId=NODE11554785', 'https://www.dbpia.co.kr/journal/articleDetail?nodeId=NODE11554747', 'https://www.dbpia.co.kr/journal/articleDetail?nodeId=NODE11554722', 'https://www.dbpia.co.kr/journal/articleDetail?nodeId=NODE11554735', 'https://www.dbpia.co.kr/journal/articleDetail?nodeId=NODE11729674', 'https://www.dbpia.co.kr/journal/articleDetail?nodeId=NODE11554878', 'https://www.dbpia.co.kr/journal/articleDetail?nodeId=NODE11554887']\n"
     ]
    }
   ],
   "source": [
    "link_list = []\n",
    "\n",
    "for elem in tmp:\n",
    "    link_list.append(elem.find_element(By.TAG_NAME, 'a').get_attribute('href'))\n",
    "\n",
    "print(link_list)"
   ]
  },
  {
   "cell_type": "code",
   "execution_count": 33,
   "id": "23e879cf",
   "metadata": {},
   "outputs": [],
   "source": [
    "re = []\n",
    "\n",
    "for link in link_list[:5]:\n",
    "    browser.get(link)\n",
    "    time.sleep(3)\n",
    "    # 초록이 있는 경우와 없는 경우가 있으므로 try, except를 통해 오류 방지\n",
    "    try :\n",
    "        re.append(browser.find_element(By.CLASS_NAME, 'thesisDetail__abstract').find_element(By.CLASS_NAME, 'noData').text)\n",
    "        \n",
    "    \n",
    "    except :\n",
    "        re.append(browser.find_element(By.CLASS_NAME, 'thesisDetail__abstract').find_element(By.CLASS_NAME, 'abstractTxt').text)"
   ]
  },
  {
   "cell_type": "code",
   "execution_count": 36,
   "id": "0240ca80",
   "metadata": {},
   "outputs": [
    {
     "name": "stdout",
     "output_type": "stream",
     "text": [
      "등록된 정보가 없습니다.\n",
      "끝\n",
      "\n",
      "In this study, translations by an artificial intelligence translator of newspaper editorials from Korean to Japanese were analyzed to examine their accuracy and the patterns of errors. Naver\"s Papago was used as an AI translator targeting Korean newspaper editorials to determine the accuracy and quality of Papago translations into Japanese, focusing on nouns.\n",
      "The review divided the nouns into those that matched in the Papago translation and the Japanese editorial translation and those that did not. On average, more than 80% of the words were consistent. Among the words in which the Papago translation and the Japanese translation were inconsistent, we confirmed that authentic Japanese expressions were not reflected in the Papago translation, and most of these translations were close to the literal translation of the Korean text. Moreover, a few mistranslations were confirmed.\n",
      "Although this study was limited to nouns, it confirmed that Papago translations from Korean to Japanese have improved significantly in terms of accuracy and quality.\n",
      "\n",
      "本稿では、人工知能(AI)翻訳機による韓国語から日本語への翻訳をもとに、翻訳の正確度と誤りの様相を調べるため、新聞の社説を対象とした翻訳と考察を行なった。人工知能(AI)翻訳機としてはネイバーのパパゴ(Papago)を利用し、パパゴ翻訳の正確さと質を判断する基準にするために、日本語版社説を提供している新聞の社説を対象とした。\n",
      "考察は名詞のみを対象にパパゴ翻訳と日本語版社説が一致する見出し語とそうでない見出し語に分けて進めた。一致する見出し語が平均80%以上を占めた。パパゴ翻訳と日本語版社説が一致しない見出し語のうち、パパゴ翻訳で日本語の現実が反映されていない例も確認できたが、これらのほとんどは韓国語社説の直訳に近い翻訳であった。そして、例は少ないが、パパゴの誤訳も確認できた。\n",
      "考察の結果、名詞に限った話ではあるが、パパゴによる韓国語から日本語への翻訳は正確さと質的な面で非常に向上したことが確認できた。\n",
      "끝\n",
      "\n",
      "등록된 정보가 없습니다.\n",
      "끝\n",
      "\n",
      "등록된 정보가 없습니다.\n",
      "끝\n",
      "\n",
      "등록된 정보가 없습니다.\n",
      "끝\n",
      "\n"
     ]
    }
   ],
   "source": [
    "for t in re:\n",
    "    print(t, end='\\n끝\\n\\n')"
   ]
  },
  {
   "cell_type": "code",
   "execution_count": null,
   "id": "8c3afebc",
   "metadata": {},
   "outputs": [],
   "source": []
  },
  {
   "cell_type": "code",
   "execution_count": null,
   "id": "edb073ab",
   "metadata": {},
   "outputs": [],
   "source": []
  },
  {
   "cell_type": "code",
   "execution_count": null,
   "id": "21c80482",
   "metadata": {},
   "outputs": [],
   "source": []
  },
  {
   "cell_type": "code",
   "execution_count": null,
   "id": "2df6433f",
   "metadata": {},
   "outputs": [],
   "source": []
  },
  {
   "cell_type": "code",
   "execution_count": null,
   "id": "2441afdf",
   "metadata": {},
   "outputs": [],
   "source": []
  },
  {
   "cell_type": "code",
   "execution_count": null,
   "id": "7c6fffee",
   "metadata": {},
   "outputs": [],
   "source": []
  },
  {
   "cell_type": "code",
   "execution_count": null,
   "id": "1d847d11",
   "metadata": {},
   "outputs": [],
   "source": []
  },
  {
   "cell_type": "code",
   "execution_count": null,
   "id": "d63d7001",
   "metadata": {},
   "outputs": [],
   "source": []
  },
  {
   "cell_type": "code",
   "execution_count": null,
   "id": "02ed50db",
   "metadata": {},
   "outputs": [],
   "source": []
  },
  {
   "cell_type": "code",
   "execution_count": null,
   "id": "a2fc6ce5",
   "metadata": {},
   "outputs": [],
   "source": []
  },
  {
   "cell_type": "code",
   "execution_count": null,
   "id": "b19fc2d8",
   "metadata": {},
   "outputs": [],
   "source": []
  },
  {
   "cell_type": "code",
   "execution_count": null,
   "id": "a40cc8d1",
   "metadata": {},
   "outputs": [],
   "source": []
  },
  {
   "cell_type": "code",
   "execution_count": null,
   "id": "ddf656d0",
   "metadata": {},
   "outputs": [],
   "source": []
  },
  {
   "cell_type": "code",
   "execution_count": null,
   "id": "d3f80ec6",
   "metadata": {},
   "outputs": [],
   "source": []
  },
  {
   "cell_type": "code",
   "execution_count": null,
   "id": "d0785306",
   "metadata": {},
   "outputs": [],
   "source": []
  },
  {
   "cell_type": "code",
   "execution_count": null,
   "id": "2dd30dc5",
   "metadata": {},
   "outputs": [],
   "source": []
  },
  {
   "cell_type": "code",
   "execution_count": null,
   "id": "b762e275",
   "metadata": {},
   "outputs": [],
   "source": []
  },
  {
   "cell_type": "code",
   "execution_count": null,
   "id": "3fa4b823",
   "metadata": {},
   "outputs": [],
   "source": []
  },
  {
   "cell_type": "code",
   "execution_count": null,
   "id": "2b6d8349",
   "metadata": {},
   "outputs": [],
   "source": []
  },
  {
   "cell_type": "code",
   "execution_count": null,
   "id": "a6ff7a47",
   "metadata": {},
   "outputs": [],
   "source": []
  },
  {
   "cell_type": "code",
   "execution_count": null,
   "id": "e2d8cb1c",
   "metadata": {},
   "outputs": [],
   "source": []
  },
  {
   "cell_type": "code",
   "execution_count": null,
   "id": "81772977",
   "metadata": {},
   "outputs": [],
   "source": []
  },
  {
   "cell_type": "code",
   "execution_count": null,
   "id": "75aeb83a",
   "metadata": {},
   "outputs": [],
   "source": []
  },
  {
   "cell_type": "code",
   "execution_count": null,
   "id": "b54a5585",
   "metadata": {},
   "outputs": [],
   "source": []
  },
  {
   "cell_type": "code",
   "execution_count": null,
   "id": "454979d8",
   "metadata": {},
   "outputs": [],
   "source": []
  }
 ],
 "metadata": {
  "kernelspec": {
   "display_name": "Python 3 (ipykernel)",
   "language": "python",
   "name": "python3"
  },
  "language_info": {
   "codemirror_mode": {
    "name": "ipython",
    "version": 3
   },
   "file_extension": ".py",
   "mimetype": "text/x-python",
   "name": "python",
   "nbconvert_exporter": "python",
   "pygments_lexer": "ipython3",
   "version": "3.11.4"
  }
 },
 "nbformat": 4,
 "nbformat_minor": 5
}
