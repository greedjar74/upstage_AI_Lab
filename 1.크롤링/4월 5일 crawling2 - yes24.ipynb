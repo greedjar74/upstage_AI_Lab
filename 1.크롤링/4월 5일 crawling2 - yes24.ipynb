{
 "cells": [
  {
   "cell_type": "markdown",
   "id": "4f39ac1d",
   "metadata": {},
   "source": [
    "# 구글 뉴스 크롤링\n",
    "## 크롤링 기본 함수\n",
    "- find_element() : 설정한 특정 요소의 객체를 하나 찾아준다.\n",
    "   - By.CLASS_NAME: 개발자가 설정한 class로 객체를 찾는다.\n",
    "   - By.TAG_NAME: html의 tag로 객체를 찾는다.\n",
    "\n",
    "- find_elements() : 설정한 특정 요소의 객체를 모두 찾아준다.\n",
    "   - By.CLASS_NAME: 개발자가 설정한 class로 객체를 찾는다.\n",
    "   - By.TAG_NAME: html의 tag로 객체를 찾는다.\n",
    "   \n",
    "- get_attribute() : html에서 링크를 가져올 때 사용한다.\n",
    "    - href : 이미지 링크가 저장되어 있다.\n",
    "    - src : 링크가 저장되어 있다."
   ]
  },
  {
   "cell_type": "code",
   "execution_count": 144,
   "id": "3b9d2a72",
   "metadata": {},
   "outputs": [],
   "source": [
    "from selenium import webdriver\n",
    "from selenium.webdriver.common.by import By\n",
    "import pandas as pd"
   ]
  },
  {
   "cell_type": "code",
   "execution_count": 168,
   "id": "1582feb3",
   "metadata": {},
   "outputs": [],
   "source": [
    "browser = webdriver.Chrome() # 크롬 브라우저 생성"
   ]
  },
  {
   "cell_type": "code",
   "execution_count": 169,
   "id": "36c6689e",
   "metadata": {},
   "outputs": [],
   "source": [
    "url = 'https://www.google.com/search?sca_esv=30c375223fbe6df1&sca_upv=1&q=%EB%8C%80%EA%B5%AC+%EB%A7%88%EB%9D%BC%ED%86%A4&tbm=nws&source=lnms&prmd=invsmbz&sa=X&ved=2ahUKEwiLsuzi9KmFAxWBh1YBHSzpAF8Q0pQJegQIDBAB&biw=1728&bih=959&dpr=2'\n",
    "browser.get(url) # 원하는 웹으로 이동"
   ]
  },
  {
   "cell_type": "code",
   "execution_count": 170,
   "id": "6aab8cff",
   "metadata": {},
   "outputs": [
    {
     "name": "stdout",
     "output_type": "stream",
     "text": [
      "글로벌 축제 ‘대구마라톤’… 2만8000여 명 함께 달린다\n"
     ]
    }
   ],
   "source": [
    "# class 이름을 통해 객체를 가져오고 기사 제목 출력\n",
    "\n",
    "print(browser.find_element(By.CLASS_NAME, 'n0jPhd').text)"
   ]
  },
  {
   "cell_type": "code",
   "execution_count": 171,
   "id": "fceacf29",
   "metadata": {},
   "outputs": [
    {
     "name": "stdout",
     "output_type": "stream",
     "text": [
      "글로벌 축제 ‘대구마라톤’… 2만8000여 명 함께 달린다\n",
      "\"대구마라톤 순환코스로 바뀌어 교통정체\"…대구시 우회로 안내\n",
      "대구마라톤의 변신…'세계 7대 대회' 노린다\n",
      "7일 대구마라톤대회…도심 일대 '차 없는 날' 운영\n",
      "대구 동구, 2024 대구마라톤대회 구간 도로 집중청소\n",
      "2024 대구마라톤대회, 차 없는 날 '도시철도 이용하세요'\n",
      "대구마라톤대회 도심 구간 교통 통제\n",
      "주말 대구국제마라톤, 상금도 인원도 '역대 최대'\n",
      "보스턴보다 많은 2억 걸었다…세계 최고 노리는 '대구 마라톤'\n",
      "7일 대구마라톤대회...“도시철도 이용하세요”\n"
     ]
    }
   ],
   "source": [
    "# 여러 개의 기사 한 번에 가져오기\n",
    "# 기사의 class는 동일하다. -> 특정 클래스를 가지는 객체를 모두 찾아오면 된다.\n",
    "# browser.find_elements()함수 사용\n",
    "# 가져온 기사들을 for문을 사용하여 하나씩 출력\n",
    "\n",
    "for i in browser.find_elements(By.CLASS_NAME, 'n0jPhd'):\n",
    "    print(i.text)"
   ]
  },
  {
   "cell_type": "code",
   "execution_count": 172,
   "id": "2744293e",
   "metadata": {},
   "outputs": [
    {
     "name": "stdout",
     "output_type": "stream",
     "text": [
      "언론사: 동아일보\n",
      "내용: 대구시가 7일 오전 8시 수성구 대구스타디움에서 '대구마라톤대회'를 개최한다. 세계 17개국 정상급 엘리트 선수 160명을 비롯해 55개국 마라톤...\n",
      "작성일: \n",
      "작성일: 1일 전\n"
     ]
    }
   ],
   "source": [
    "# 언론사\n",
    "# 내용\n",
    "# 작성일\n",
    "\n",
    "print('언론사:', browser.find_element(By.CLASS_NAME, 'MgUUmf').text)\n",
    "print('내용:', browser.find_element(By.CLASS_NAME, 'GI74Re').text)\n",
    "print('작성일:', browser.find_element(By.CLASS_NAME, 'OSrXXb').text) # 기본적인 방법으로 읽어지지 않는다.\n",
    "# print('작성일:', browser.find_element(By.CLASS_NAME, 'OSrXXb').find_element(By.TAG_NAME, 'span').text) -> tag로 찾을 수 없다.\n",
    "# 왜 그럴까? -> 'OSrXXb'가 이전에 사용된적 있다. -> class의 이름을 바꿔본다.\n",
    "print('작성일:', browser.find_element(By.CLASS_NAME, 'rbYSKb').text)"
   ]
  },
  {
   "cell_type": "code",
   "execution_count": 173,
   "id": "b04e8565",
   "metadata": {},
   "outputs": [
    {
     "name": "stdout",
     "output_type": "stream",
     "text": [
      "글로벌 축제 ‘대구마라톤’… 2만8000여 명 함께 달린다\n",
      "대구시가 7일 오전 8시 수성구 대구스타디움에서 '대구마라톤대회'를 개최한다. 세계 17개국 정상급 엘리트 선수 160명을 비롯해 55개국 마라톤...\n",
      "1일 전\n",
      "\n",
      "\"대구마라톤 순환코스로 바뀌어 교통정체\"…대구시 우회로 안내\n",
      "(대구=연합뉴스) 류성무 기자 = 대구시는 오는 7일 대구마라톤대회 개최로 인해 대구스타디움 일원과 수성구, 중구, 동구 등 도심 일대 교통이 ...\n",
      "2일 전\n",
      "\n",
      "대구마라톤의 변신…'세계 7대 대회' 노린다\n",
      "대구마라톤의 변신…세계 7대 대회 노린다, 올 우승상금 16만弗 세계 최고 정상급 선수 160명…7일 개최.\n",
      "1일 전\n",
      "\n",
      "7일 대구마라톤대회…도심 일대 '차 없는 날' 운영\n",
      "7일 열리는 '2024 대구마라톤대회' 당일 도심 일대 도로가 통제된다. 대구시는 3일 “대구마라톤대회는 대구시 전역을 한 바퀴 도는 순환코스로 변경돼...\n",
      "2일 전\n",
      "\n",
      "대구 동구, 2024 대구마라톤대회 구간 도로 집중청소\n",
      "대구=에너지경제신문 손중모기자 대구 동구청은 7일에 열리는 `2024 대구마라톤대회` 지원을 위해 진공노면청소를 동원해 선수들이 뛰는 도로 구간을...\n",
      "24시간 전\n",
      "\n",
      "2024 대구마라톤대회, 차 없는 날 '도시철도 이용하세요'\n",
      "다가오는 4월 7일(일) 2024 대구마라톤대회 개최로 인해 대구스타디움 일원과 수성구, 중구, 동구 등 도심 일대 교통이 통제된다.\n",
      "2일 전\n",
      "\n",
      "대구마라톤대회 도심 구간 교통 통제\n",
      "대구마라톤대회가 열리는 오는 7일, 일요일 오전에 수성구 대구스타디움과 중구, 동구 등 도심 일부 구간의...\n",
      "1일 전\n",
      "\n",
      "주말 대구국제마라톤, 상금도 인원도 '역대 최대'\n",
      "7일 대구시내 일원에서 열리는 '2024 대구국제마라톤대회'에서는 어떤 기록이 나올까.국내 유일의 골드라벨 대회인 대구국제마라톤대회는 올해부터...\n",
      "16시간 전\n",
      "\n",
      "보스턴보다 많은 2억 걸었다…세계 최고 노리는 '대구 마라톤'\n",
      "대구시는 이번 대회 우승 상금을 전 세계 최고 수준으로 올려, 세계 6대 마라톤 대회와 어깨를 견줄만한 규모로 키우겠다는 생각이다. 올해 대…\n",
      "5일 전\n",
      "\n",
      "7일 대구마라톤대회...“도시철도 이용하세요”\n",
      "일요일인 오는 7일 2024 대구마라톤대회 개최로 인해 대구스타디움 일원과 수성구, 중구, 동구 등 도심 일대 교통이 통제됩니다.2024 대구마라톤대회...\n",
      "2일 전\n",
      "\n"
     ]
    }
   ],
   "source": [
    "com_li = browser.find_elements(By.CLASS_NAME, 'n0jPhd')\n",
    "content_li = browser.find_elements(By.CLASS_NAME, 'GI74Re')\n",
    "date_li = browser.find_elements(By.CLASS_NAME, 'rbYSKb')\n",
    "\n",
    "for i in range(len(com_li)):\n",
    "    print(com_li[i].text)\n",
    "    print(content_li[i].text)\n",
    "    print(date_li[i].text, end='\\n\\n')"
   ]
  },
  {
   "cell_type": "code",
   "execution_count": 174,
   "id": "35c7d2da",
   "metadata": {},
   "outputs": [],
   "source": [
    "# 첫 기사로 이동 -> 클릭을 사용하여 해당 기사로 이동\n",
    "browser.find_element(By.CLASS_NAME, 'n0jPhd').click()"
   ]
  },
  {
   "cell_type": "code",
   "execution_count": 76,
   "id": "af2e5764",
   "metadata": {},
   "outputs": [
    {
     "data": {
      "text/plain": [
       "'7일 오전 8시 대구스타디움서 개최\\n세계 정상급 선수 160명 참가… 상금 2억1500만 원 최고 수준\\n도심 전역 달리도록 코스 재설계\\n오전 5시부터 구간별 교통 통제\\n지난해 4월 열린 대구마라톤대회에 참가한 시민들이 도심을 달리고 있다. 대구시 제공\\n대구시가 7일 오전 8시 수성구 대구스타디움에서 ‘대구마라톤대회’를 개최한다.\\n\\n세계 17개국 정상급 엘리트 선수 160명을 비롯해 55개국 마라톤 동호인 2만8000여 명이 참가해 역대 최대 규모로 열린다. 지난해에 이어 올해도 세계육상연맹(WA)의 골드라벨 인증을 획득했다.\\n\\n시는 올해부터 보스턴 런던 뉴욕 베를린 시카고 도쿄 등 세계 6대 마라톤대회와 어깨를 견줄 최고 권위의 대회로 만든다는 목표를 세웠다. 먼저 대회 우승 상금을 4만 달러(약 5400만 원)에서 16만 달러(약 2억1500만 원)로 대폭 인상했다. 2시간 4, 5분대의 세계적인 선수 9명을 비롯해 해외 선수 67명, 국내 선수 93명이 출전해 세계 최고 수준의 우승 상금을 놓고 각축을 벌인다. 이와 함께 남녀 세계신기록은 10만 달러(약 1억3500만 원), 대회신기록은 1만 달러(약 1350만 원)를 준다.\\n\\n해외 선수 가운데 튀르키예 출신의 칸 키겐 오즈빌렌(2시간 4분 16초)과 케냐 출신의 새미 키트와라(2시간 4분 28초)가 대회신기록 경신에 도전한다. 국내 선수는 한국전력의 김건오(2시간 14분 8초), 삼성전자의 김도연(여·2시간 25분 41초) 등이 출전한다. 이번 대회는 올해 7월 프랑스 파리에서 열리는 올림픽 국가대표 선발전을 병행한다.\\n\\n\\n대회 집결지와 코스도 크게 바뀌었다. 출발지는 기존 중구 국채보상운동기념공원에서 대구 육상의 메카인 대구스타디움으로 옮겼다. 지난해까지 같은 코스를 세 바퀴 도는 루프 코스를 대구 도심 전역을 한 바퀴 도는 순환 코스로 재설계했다. 권두성 대구시 체육진흥과장은 “대구의 주요 명소와 시설 등을 국내뿐만 아니라 해외에 널리 알리는 기회가 될 것”이라며 “도시 브랜드 가치를 높이는 대회가 될 수 있도록 준비하고 있다”고 말했다.\\n\\n마스터스(동호인) 부문은 풀코스와 풀릴레이, 10km, 건강달리기 등 4종목으로 나눠서 열린다. 엘리트 선수와 같은 코스에서 뛰고 싶어 하는 마라토너들의 의견을 적극적으로 반영해 마스터스 풀코스를 7년 만에 부활시켰다. 올해 처음 시행하는 풀릴레이는 친구나 연인이 2인 1조로 함께 달릴 수 있다.\\n\\n부대행사도 다양하다. 시는 대회 당일 대구스타디움 서편 광장에서 참가 선수와 가족, 시민들이 함께 즐길 수 있는 먹을거리 부스와 거리 장터를 운영한다. 또 대회 붐 조성을 위해 7세 이하 어린이들을 대상으로 스타디움 잔디 구장에서 키즈마라톤대회도 개최한다. 현재 175명이 참가 신청을 했다. 지역 청년 예술가와 인디밴드 10개 팀은 간이 무대에서 다채로운 공연을 선보일 예정이다.\\n\\n시는 당일 차량 통제에 따른 시민들의 불편을 최소화하기 위해 교통대책본부를 운영한다. 대회 때 중구와 수성구 동구 일대의 달구벌대로, 동대구로, 동촌로 등 선수들이 달리는 진행 방향 구간이 시간대별로 통제될 예정이다. 출발지인 대구스타디움 일대는 오전 5시부터, 마라톤 코스 구간은 오전 7시 반부터 각각 시차를 두고 통제한다. 마지막 선수들이 지나가면 구간별 순차적으로 통제를 해제해 교통 불편을 줄인다. 가장 늦은 골인 지점은 오후 2시경 교통 통제가 해제될 것으로 보인다.\\n\\n시와 대구경찰청은 대회 당일 주요 교차로에 경찰 302명, 취약지역에 모범운전자연합회 회원 280명, 시군 공무원 1039명 등 교통 안내요원 1639명을 투입한다. 김대영 대구시 교통국장은 “올해 코스 변경에 따른 교통 통제 영향권이 넓어져 도심 차량 정체가 예상된다. 대회 당일인 7일은 차 없는 날로 운영한다. 시민들께서는 가급적 도시철도를 이용해 줄 것”을 당부했다.\\n\\n\\n장영훈 기자 jang@donga.com'"
      ]
     },
     "execution_count": 76,
     "metadata": {},
     "output_type": "execute_result"
    }
   ],
   "source": [
    "# 기사 내용 확인\n",
    "browser.find_element(By.CLASS_NAME, 'news_view').text"
   ]
  },
  {
   "cell_type": "code",
   "execution_count": 81,
   "id": "f8fcf332",
   "metadata": {},
   "outputs": [
    {
     "name": "stdout",
     "output_type": "stream",
     "text": [
      "7일 오전 8시 대구스타디움서 개최\n",
      "세계 정상급 선수 160명 참가… 상금 2억1500만 원 최고 수준\n",
      "도심 전역 달리도록 코스 재설계\n",
      "오전 5시부터 구간별 교통 통제\n",
      "지난해 4월 열린 대구마라톤대회에 참가한 시민들이 도심을 달리고 있다. 대구시 제공\n",
      "대구시가 7일 오전 8시 수성구 대구스타디움에서 ‘대구마라톤대회’를 개최한다.\n",
      "\n",
      "세계 17개국 정상급 엘리트 선수 160명을 비롯해 55개국 마라톤 동호인 2만8000여 명이 참가해 역대 최대 규모로 열린다. 지난해에 이어 올해도 세계육상연맹(WA)의 골드라벨 인증을 획득했다.\n",
      "\n",
      "시는 올해부터 보스턴 런던 뉴욕 베를린 시카고 도쿄 등 세계 6대 마라톤대회와 어깨를 견줄 최고 권위의 대회로 만든다는 목표를 세웠다. 먼저 대회 우승 상금을 4만 달러(약 5400만 원)에서 16만 달러(약 2억1500만 원)로 대폭 인상했다. 2시간 4, 5분대의 세계적인 선수 9명을 비롯해 해외 선수 67명, 국내 선수 93명이 출전해 세계 최고 수준의 우승 상금을 놓고 각축을 벌인다. 이와 함께 남녀 세계신기록은 10만 달러(약 1억3500만 원), 대회신기록은 1만 달러(약 1350만 원)를 준다.\n",
      "\n",
      "해외 선수 가운데 튀르키예 출신의 칸 키겐 오즈빌렌(2시간 4분 16초)과 케냐 출신의 새미 키트와라(2시간 4분 28초)가 대회신기록 경신에 도전한다. 국내 선수는 한국전력의 김건오(2시간 14분 8초), 삼성전자의 김도연(여·2시간 25분 41초) 등이 출전한다. 이번 대회는 올해 7월 프랑스 파리에서 열리는 올림픽 국가대표 선발전을 병행한다.\n",
      "\n",
      "\n",
      "대회 집결지와 코스도 크게 바뀌었다. 출발지는 기존 중구 국채보상운동기념공원에서 대구 육상의 메카인 대구스타디움으로 옮겼다. 지난해까지 같은 코스를 세 바퀴 도는 루프 코스를 대구 도심 전역을 한 바퀴 도는 순환 코스로 재설계했다. 권두성 대구시 체육진흥과장은 “대구의 주요 명소와 시설 등을 국내뿐만 아니라 해외에 널리 알리는 기회가 될 것”이라며 “도시 브랜드 가치를 높이는 대회가 될 수 있도록 준비하고 있다”고 말했다.\n",
      "\n",
      "마스터스(동호인) 부문은 풀코스와 풀릴레이, 10km, 건강달리기 등 4종목으로 나눠서 열린다. 엘리트 선수와 같은 코스에서 뛰고 싶어 하는 마라토너들의 의견을 적극적으로 반영해 마스터스 풀코스를 7년 만에 부활시켰다. 올해 처음 시행하는 풀릴레이는 친구나 연인이 2인 1조로 함께 달릴 수 있다.\n",
      "\n",
      "부대행사도 다양하다. 시는 대회 당일 대구스타디움 서편 광장에서 참가 선수와 가족, 시민들이 함께 즐길 수 있는 먹을거리 부스와 거리 장터를 운영한다. 또 대회 붐 조성을 위해 7세 이하 어린이들을 대상으로 스타디움 잔디 구장에서 키즈마라톤대회도 개최한다. 현재 175명이 참가 신청을 했다. 지역 청년 예술가와 인디밴드 10개 팀은 간이 무대에서 다채로운 공연을 선보일 예정이다.\n",
      "\n",
      "시는 당일 차량 통제에 따른 시민들의 불편을 최소화하기 위해 교통대책본부를 운영한다. 대회 때 중구와 수성구 동구 일대의 달구벌대로, 동대구로, 동촌로 등 선수들이 달리는 진행 방향 구간이 시간대별로 통제될 예정이다. 출발지인 대구스타디움 일대는 오전 5시부터, 마라톤 코스 구간은 오전 7시 반부터 각각 시차를 두고 통제한다. 마지막 선수들이 지나가면 구간별 순차적으로 통제를 해제해 교통 불편을 줄인다. 가장 늦은 골인 지점은 오후 2시경 교통 통제가 해제될 것으로 보인다.\n",
      "\n",
      "시와 대구경찰청은 대회 당일 주요 교차로에 경찰 302명, 취약지역에 모범운전자연합회 회원 280명, 시군 공무원 1039명 등 교통 안내요원 1639명을 투입한다. 김대영 대구시 교통국장은 “올해 코스 변경에 따른 교통 통제 영향권이 넓어져 도심 차량 정체가 예상된다. 대회 당일인 7일은 차 없는 날로 운영한다. 시민들께서는 가급적 도시철도를 이용해 줄 것”을 당부했다.\n",
      "\n",
      "\n",
      "장영훈 기자 jang@donga.com\n"
     ]
    }
   ],
   "source": [
    "# 기사내용을 깔끔하게 출력\n",
    "# 기사내용을 가져와서 '\\n'을 기준으로 분할하여 리스트로 저장\n",
    "# 각 내용을 출력\n",
    "\n",
    "content = list(browser.find_element(By.CLASS_NAME, 'news_view').text.split('\\n'))\n",
    "\n",
    "for text in content:\n",
    "    print(text)"
   ]
  },
  {
   "cell_type": "code",
   "execution_count": 89,
   "id": "7ea770e1",
   "metadata": {},
   "outputs": [
    {
     "data": {
      "text/plain": [
       "'https://www.donga.com/news/Society/article/all/20240403/124307452/1'"
      ]
     },
     "execution_count": 89,
     "metadata": {},
     "output_type": "execute_result"
    }
   ],
   "source": [
    "# 링크\n",
    "# html: 링크데이터는 <a href='~~'/> 형태로 저장되어 있다.\n",
    "\n",
    "browser.find_element(By.CLASS_NAME, 'WlydOe').get_attribute('href')"
   ]
  },
  {
   "cell_type": "code",
   "execution_count": 96,
   "id": "15bc3c86",
   "metadata": {},
   "outputs": [
    {
     "name": "stdout",
     "output_type": "stream",
     "text": [
      "https://www.donga.com/news/Society/article/all/20240403/124307452/1\n",
      "https://www.yna.co.kr/view/AKR20240403065900053\n",
      "https://www.hankyung.com/article/2024040378391\n",
      "https://m.ekn.kr/view.php?key=20240404027569626\n",
      "https://www.yna.co.kr/view/RPR20240403002100353\n",
      "https://news.kbs.co.kr/news/view.do?ncd=7931359\n",
      "https://www.idaegu.co.kr/news/articleView.html?idxno=456176\n",
      "https://www.joongang.co.kr/article/25239148\n",
      "https://news.bbsi.co.kr/news/articleView.html?idxno=3150926\n",
      "https://www.kspnews.com/1699901\n"
     ]
    }
   ],
   "source": [
    "# 모든 링크 수집\n",
    "# 'WlydOe'를 모두 수집하고 각각의 객체에서 링크들을 수집한다.\n",
    "\n",
    "li = []\n",
    "for i in browser.find_elements(By.CLASS_NAME, 'WlydOe'):\n",
    "    li.append(i.get_attribute('href'))\n",
    "    \n",
    "for link in li:\n",
    "    print(link)"
   ]
  },
  {
   "cell_type": "code",
   "execution_count": 98,
   "id": "423c3673",
   "metadata": {},
   "outputs": [
    {
     "name": "stdout",
     "output_type": "stream",
     "text": [
      "글로벌 축제 ‘대구마라톤’… 2만8000여 명 함께 달린다\n",
      "대구시가 7일 오전 8시 수성구 대구스타디움에서 '대구마라톤대회'를 개최한다. 세계 17개국 정상급 엘리트 선수 160명을 비롯해 55개국 마라톤...\n",
      "1일 전\n",
      "https://www.donga.com/news/Society/article/all/20240403/124307452/1\n",
      "\n",
      "\"대구마라톤 순환코스로 바뀌어 교통정체\"…대구시 우회로 안내\n",
      "(대구=연합뉴스) 류성무 기자 = 대구시는 오는 7일 대구마라톤대회 개최로 인해 대구스타디움 일원과 수성구, 중구, 동구 등 도심 일대 교통이 ...\n",
      "2일 전\n",
      "https://www.yna.co.kr/view/AKR20240403065900053\n",
      "\n",
      "대구마라톤의 변신…'세계 7대 대회' 노린다\n",
      "대구마라톤의 변신…세계 7대 대회 노린다, 올 우승상금 16만弗 세계 최고 정상급 선수 160명…7일 개최.\n",
      "1일 전\n",
      "https://www.hankyung.com/article/2024040378391\n",
      "\n",
      "대구 동구, 2024 대구마라톤대회 구간 도로 집중청소\n",
      "대구=에너지경제신문 손중모기자 대구 동구청은 7일에 열리는 `2024 대구마라톤대회` 지원을 위해 진공노면청소를 동원해 선수들이 뛰는 도로 구간을...\n",
      "21시간 전\n",
      "https://m.ekn.kr/view.php?key=20240404027569626\n",
      "\n",
      "2024 대구마라톤대회, 차 없는 날 '도시철도 이용하세요'\n",
      "다가오는 4월 7일(일) 2024 대구마라톤대회 개최로 인해 대구스타디움 일원과 수성구, 중구, 동구 등 도심 일대 교통이 통제된다.\n",
      "1일 전\n",
      "https://www.yna.co.kr/view/RPR20240403002100353\n",
      "\n",
      "대구마라톤대회 도심 구간 교통 통제\n",
      "대구마라톤대회가 열리는 오는 7일, 일요일 오전에 수성구 대구스타디움과 중구, 동구 등 도심 일부 구간의...\n",
      "1일 전\n",
      "https://news.kbs.co.kr/news/view.do?ncd=7931359\n",
      "\n",
      "주말 대구국제마라톤, 상금도 인원도 '역대 최대'\n",
      "7일 대구시내 일원에서 열리는 '2024 대구국제마라톤대회'에서는 어떤 기록이 나올까.국내 유일의 골드라벨 대회인 대구국제마라톤대회는 올해부터...\n",
      "13시간 전\n",
      "https://www.idaegu.co.kr/news/articleView.html?idxno=456176\n",
      "\n",
      "보스턴보다 많은 2억 걸었다…세계 최고 노리는 '대구 마라톤'\n",
      "대구시는 이번 대회 우승 상금을 전 세계 최고 수준으로 올려, 세계 6대 마라톤 대회와 어깨를 견줄만한 규모로 키우겠다는 생각이다. 올해 대…\n",
      "5일 전\n",
      "https://www.joongang.co.kr/article/25239148\n",
      "\n",
      "7일 대구마라톤대회...“도시철도 이용하세요”\n",
      "일요일인 오는 7일 2024 대구마라톤대회 개최로 인해 대구스타디움 일원과 수성구, 중구, 동구 등 도심 일대 교통이 통제됩니다.2024 대구마라톤대회...\n",
      "2일 전\n",
      "https://news.bbsi.co.kr/news/articleView.html?idxno=3150926\n",
      "\n",
      "[케이에스피뉴스] 대구 동구, 2024 대구마라톤대회 구간 도로 집중청소\n",
      "케이에스피뉴스=김정훈 기자 kspa@kspnews.com] 대구 동구청은 7일에 열리는 '2024 대구마라톤대회' 지원을 위해 진공노면청소를 동원하여 선수들이...\n",
      "21시간 전\n",
      "https://www.kspnews.com/1699901\n",
      "\n"
     ]
    }
   ],
   "source": [
    "com_li = browser.find_elements(By.CLASS_NAME, 'n0jPhd')\n",
    "content_li = browser.find_elements(By.CLASS_NAME, 'GI74Re')\n",
    "date_li = browser.find_elements(By.CLASS_NAME, 'rbYSKb')\n",
    "\n",
    "for i in range(len(com_li)):\n",
    "    print(com_li[i].text)\n",
    "    print(content_li[i].text)\n",
    "    print(date_li[i].text)\n",
    "    print(li[i], end='\\n\\n')"
   ]
  },
  {
   "cell_type": "code",
   "execution_count": 108,
   "id": "bd8425d0",
   "metadata": {},
   "outputs": [
    {
     "name": "stdout",
     "output_type": "stream",
     "text": [
      "data:image/jpeg;base64,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\n"
     ]
    }
   ],
   "source": [
    "# 이미지 링크 수집\n",
    "parent = browser.find_element(By.CLASS_NAME, 'uhHOwf')\n",
    "img_link = parent.find_element(By.TAG_NAME, 'img').get_attribute('src')\n",
    "print(img_link)\n",
    "\n",
    "img_browser = webdriver.Chrome() # 새로운 창 생성\n",
    "img_browser.get(img_link) # 이미지 링크로 이동"
   ]
  },
  {
   "cell_type": "code",
   "execution_count": 142,
   "id": "e7b93503",
   "metadata": {},
   "outputs": [
    {
     "data": {
      "text/html": [
       "<div>\n",
       "<style scoped>\n",
       "    .dataframe tbody tr th:only-of-type {\n",
       "        vertical-align: middle;\n",
       "    }\n",
       "\n",
       "    .dataframe tbody tr th {\n",
       "        vertical-align: top;\n",
       "    }\n",
       "\n",
       "    .dataframe thead th {\n",
       "        text-align: right;\n",
       "    }\n",
       "</style>\n",
       "<table border=\"1\" class=\"dataframe\">\n",
       "  <thead>\n",
       "    <tr style=\"text-align: right;\">\n",
       "      <th></th>\n",
       "      <th>제목</th>\n",
       "      <th>언론사</th>\n",
       "      <th>내용</th>\n",
       "      <th>작성시간</th>\n",
       "      <th>이미지 링크</th>\n",
       "    </tr>\n",
       "  </thead>\n",
       "  <tbody>\n",
       "    <tr>\n",
       "      <th>0</th>\n",
       "      <td>글로벌 축제 ‘대구마라톤’… 2만8000여 명 함께 달린다</td>\n",
       "      <td>동아일보</td>\n",
       "      <td>대구시가 7일 오전 8시 수성구 대구스타디움에서 '대구마라톤대회'를 개최한다. 세계...</td>\n",
       "      <td>1일 전</td>\n",
       "      <td>data:image/jpeg;base64,/9j/4AAQSkZJRgABAQAAAQA...</td>\n",
       "    </tr>\n",
       "    <tr>\n",
       "      <th>1</th>\n",
       "      <td>\"대구마라톤 순환코스로 바뀌어 교통정체\"…대구시 우회로 안내</td>\n",
       "      <td>연합뉴스</td>\n",
       "      <td>(대구=연합뉴스) 류성무 기자 = 대구시는 오는 7일 대구마라톤대회 개최로 인해 대...</td>\n",
       "      <td>2일 전</td>\n",
       "      <td>data:image/jpeg;base64,/9j/4AAQSkZJRgABAQAAAQA...</td>\n",
       "    </tr>\n",
       "    <tr>\n",
       "      <th>2</th>\n",
       "      <td>대구마라톤의 변신…'세계 7대 대회' 노린다</td>\n",
       "      <td>한국경제</td>\n",
       "      <td>대구마라톤의 변신…세계 7대 대회 노린다, 올 우승상금 16만弗 세계 최고 정상급 ...</td>\n",
       "      <td>1일 전</td>\n",
       "      <td>data:image/png;base64,iVBORw0KGgoAAAANSUhEUgAA...</td>\n",
       "    </tr>\n",
       "    <tr>\n",
       "      <th>3</th>\n",
       "      <td>대구 동구, 2024 대구마라톤대회 구간 도로 집중청소</td>\n",
       "      <td>에너지경제신문</td>\n",
       "      <td>대구=에너지경제신문 손중모기자 대구 동구청은 7일에 열리는 `2024 대구마라톤대회...</td>\n",
       "      <td>21시간 전</td>\n",
       "      <td>data:image/jpeg;base64,/9j/4AAQSkZJRgABAQAAAQA...</td>\n",
       "    </tr>\n",
       "    <tr>\n",
       "      <th>4</th>\n",
       "      <td>2024 대구마라톤대회, 차 없는 날 '도시철도 이용하세요'</td>\n",
       "      <td>연합뉴스</td>\n",
       "      <td>다가오는 4월 7일(일) 2024 대구마라톤대회 개최로 인해 대구스타디움 일원과 수...</td>\n",
       "      <td>1일 전</td>\n",
       "      <td>data:image/jpeg;base64,/9j/4AAQSkZJRgABAQAAAQA...</td>\n",
       "    </tr>\n",
       "    <tr>\n",
       "      <th>5</th>\n",
       "      <td>대구마라톤대회 도심 구간 교통 통제</td>\n",
       "      <td>KBS 뉴스</td>\n",
       "      <td>대구마라톤대회가 열리는 오는 7일, 일요일 오전에 수성구 대구스타디움과 중구, 동구...</td>\n",
       "      <td>1일 전</td>\n",
       "      <td>data:image/jpeg;base64,/9j/4AAQSkZJRgABAQAAAQA...</td>\n",
       "    </tr>\n",
       "    <tr>\n",
       "      <th>6</th>\n",
       "      <td>주말 대구국제마라톤, 상금도 인원도 '역대 최대'</td>\n",
       "      <td>대구신문</td>\n",
       "      <td>7일 대구시내 일원에서 열리는 '2024 대구국제마라톤대회'에서는 어떤 기록이 나올...</td>\n",
       "      <td>13시간 전</td>\n",
       "      <td>data:image/jpeg;base64,/9j/4AAQSkZJRgABAQAAAQA...</td>\n",
       "    </tr>\n",
       "    <tr>\n",
       "      <th>7</th>\n",
       "      <td>보스턴보다 많은 2억 걸었다…세계 최고 노리는 '대구 마라톤'</td>\n",
       "      <td>중앙일보</td>\n",
       "      <td>대구시는 이번 대회 우승 상금을 전 세계 최고 수준으로 올려, 세계 6대 마라톤 대...</td>\n",
       "      <td>5일 전</td>\n",
       "      <td>data:image/jpeg;base64,/9j/4AAQSkZJRgABAQAAAQA...</td>\n",
       "    </tr>\n",
       "    <tr>\n",
       "      <th>8</th>\n",
       "      <td>7일 대구마라톤대회...“도시철도 이용하세요”</td>\n",
       "      <td>BBS불교방송</td>\n",
       "      <td>일요일인 오는 7일 2024 대구마라톤대회 개최로 인해 대구스타디움 일원과 수성구,...</td>\n",
       "      <td>2일 전</td>\n",
       "      <td>data:image/jpeg;base64,/9j/4AAQSkZJRgABAQAAAQA...</td>\n",
       "    </tr>\n",
       "    <tr>\n",
       "      <th>9</th>\n",
       "      <td>[케이에스피뉴스] 대구 동구, 2024 대구마라톤대회 구간 도로 집중청소</td>\n",
       "      <td>케이에스피뉴스</td>\n",
       "      <td>케이에스피뉴스=김정훈 기자 kspa@kspnews.com] 대구 동구청은 7일에 열...</td>\n",
       "      <td>21시간 전</td>\n",
       "      <td>data:image/jpeg;base64,/9j/4AAQSkZJRgABAQAAAQA...</td>\n",
       "    </tr>\n",
       "  </tbody>\n",
       "</table>\n",
       "</div>"
      ],
      "text/plain": [
       "                                         제목      언론사  \\\n",
       "0          글로벌 축제 ‘대구마라톤’… 2만8000여 명 함께 달린다     동아일보   \n",
       "1         \"대구마라톤 순환코스로 바뀌어 교통정체\"…대구시 우회로 안내     연합뉴스   \n",
       "2                  대구마라톤의 변신…'세계 7대 대회' 노린다     한국경제   \n",
       "3            대구 동구, 2024 대구마라톤대회 구간 도로 집중청소  에너지경제신문   \n",
       "4         2024 대구마라톤대회, 차 없는 날 '도시철도 이용하세요'     연합뉴스   \n",
       "5                       대구마라톤대회 도심 구간 교통 통제   KBS 뉴스   \n",
       "6               주말 대구국제마라톤, 상금도 인원도 '역대 최대'     대구신문   \n",
       "7        보스턴보다 많은 2억 걸었다…세계 최고 노리는 '대구 마라톤'     중앙일보   \n",
       "8                 7일 대구마라톤대회...“도시철도 이용하세요”  BBS불교방송   \n",
       "9  [케이에스피뉴스] 대구 동구, 2024 대구마라톤대회 구간 도로 집중청소  케이에스피뉴스   \n",
       "\n",
       "                                                  내용    작성시간  \\\n",
       "0  대구시가 7일 오전 8시 수성구 대구스타디움에서 '대구마라톤대회'를 개최한다. 세계...    1일 전   \n",
       "1  (대구=연합뉴스) 류성무 기자 = 대구시는 오는 7일 대구마라톤대회 개최로 인해 대...    2일 전   \n",
       "2  대구마라톤의 변신…세계 7대 대회 노린다, 올 우승상금 16만弗 세계 최고 정상급 ...    1일 전   \n",
       "3  대구=에너지경제신문 손중모기자 대구 동구청은 7일에 열리는 `2024 대구마라톤대회...  21시간 전   \n",
       "4  다가오는 4월 7일(일) 2024 대구마라톤대회 개최로 인해 대구스타디움 일원과 수...    1일 전   \n",
       "5  대구마라톤대회가 열리는 오는 7일, 일요일 오전에 수성구 대구스타디움과 중구, 동구...    1일 전   \n",
       "6  7일 대구시내 일원에서 열리는 '2024 대구국제마라톤대회'에서는 어떤 기록이 나올...  13시간 전   \n",
       "7  대구시는 이번 대회 우승 상금을 전 세계 최고 수준으로 올려, 세계 6대 마라톤 대...    5일 전   \n",
       "8  일요일인 오는 7일 2024 대구마라톤대회 개최로 인해 대구스타디움 일원과 수성구,...    2일 전   \n",
       "9  케이에스피뉴스=김정훈 기자 kspa@kspnews.com] 대구 동구청은 7일에 열...  21시간 전   \n",
       "\n",
       "                                              이미지 링크  \n",
       "0  data:image/jpeg;base64,/9j/4AAQSkZJRgABAQAAAQA...  \n",
       "1  data:image/jpeg;base64,/9j/4AAQSkZJRgABAQAAAQA...  \n",
       "2  data:image/png;base64,iVBORw0KGgoAAAANSUhEUgAA...  \n",
       "3  data:image/jpeg;base64,/9j/4AAQSkZJRgABAQAAAQA...  \n",
       "4  data:image/jpeg;base64,/9j/4AAQSkZJRgABAQAAAQA...  \n",
       "5  data:image/jpeg;base64,/9j/4AAQSkZJRgABAQAAAQA...  \n",
       "6  data:image/jpeg;base64,/9j/4AAQSkZJRgABAQAAAQA...  \n",
       "7  data:image/jpeg;base64,/9j/4AAQSkZJRgABAQAAAQA...  \n",
       "8  data:image/jpeg;base64,/9j/4AAQSkZJRgABAQAAAQA...  \n",
       "9  data:image/jpeg;base64,/9j/4AAQSkZJRgABAQAAAQA...  "
      ]
     },
     "execution_count": 142,
     "metadata": {},
     "output_type": "execute_result"
    }
   ],
   "source": [
    "data_list = []\n",
    "container_list = browser.find_elements(By.CLASS_NAME, 'lSfe4c')\n",
    "\n",
    "for elem in container_list:\n",
    "    title = elem.find_element(By.CLASS_NAME, 'n0jPhd').text\n",
    "    company = elem.find_element(By.CLASS_NAME, 'MgUUmf').text\n",
    "    content = elem.find_element(By.CLASS_NAME, 'GI74Re').text\n",
    "    created_at = elem.find_element(By.CLASS_NAME, 'rbYSKb').text\n",
    "    img_link = elem.find_element(By.TAG_NAME, 'img').get_attribute('src')\n",
    "\n",
    "    data_list.append({\n",
    "        '제목': title,\n",
    "        '언론사': company,\n",
    "        '내용': content,\n",
    "        '작성시간': created_at,\n",
    "        '이미지 링크': img_link\n",
    "    })\n",
    "    \n",
    "df = pd.DataFrame(data_list)\n",
    "df"
   ]
  },
  {
   "cell_type": "code",
   "execution_count": 143,
   "id": "60fe26bd",
   "metadata": {},
   "outputs": [],
   "source": [
    "df.to_csv('google_news.csv', encoding='utf-8-sig')"
   ]
  },
  {
   "cell_type": "markdown",
   "id": "76397c50",
   "metadata": {},
   "source": [
    "# yes24 베스트셀러 추출 및 엑셀에 저장"
   ]
  },
  {
   "cell_type": "code",
   "execution_count": 145,
   "id": "8acf9aad",
   "metadata": {},
   "outputs": [],
   "source": [
    "yes_24 = webdriver.Chrome()\n",
    "url = 'https://www.yes24.com'\n",
    "yes_24.get(url)"
   ]
  },
  {
   "cell_type": "code",
   "execution_count": 151,
   "id": "c1cef830",
   "metadata": {},
   "outputs": [
    {
     "data": {
      "text/plain": [
       "<selenium.webdriver.remote.webelement.WebElement (session=\"248fe476501169d3685472b633fdd5ff\", element=\"f.3267E28783D8BFE290437F43AFFD1736.d.7E788BA707526A254137246B9569FA25.e.92\")>"
      ]
     },
     "execution_count": 151,
     "metadata": {},
     "output_type": "execute_result"
    }
   ],
   "source": [
    "container = yes_24.find_element(By.CLASS_NAME, 'yBestOl')\n",
    "container"
   ]
  },
  {
   "cell_type": "code",
   "execution_count": 153,
   "id": "ad5713b7",
   "metadata": {},
   "outputs": [
    {
     "data": {
      "text/plain": [
       "[<selenium.webdriver.remote.webelement.WebElement (session=\"248fe476501169d3685472b633fdd5ff\", element=\"f.3267E28783D8BFE290437F43AFFD1736.d.7E788BA707526A254137246B9569FA25.e.93\")>,\n",
       " <selenium.webdriver.remote.webelement.WebElement (session=\"248fe476501169d3685472b633fdd5ff\", element=\"f.3267E28783D8BFE290437F43AFFD1736.d.7E788BA707526A254137246B9569FA25.e.98\")>,\n",
       " <selenium.webdriver.remote.webelement.WebElement (session=\"248fe476501169d3685472b633fdd5ff\", element=\"f.3267E28783D8BFE290437F43AFFD1736.d.7E788BA707526A254137246B9569FA25.e.103\")>,\n",
       " <selenium.webdriver.remote.webelement.WebElement (session=\"248fe476501169d3685472b633fdd5ff\", element=\"f.3267E28783D8BFE290437F43AFFD1736.d.7E788BA707526A254137246B9569FA25.e.5893\")>,\n",
       " <selenium.webdriver.remote.webelement.WebElement (session=\"248fe476501169d3685472b633fdd5ff\", element=\"f.3267E28783D8BFE290437F43AFFD1736.d.7E788BA707526A254137246B9569FA25.e.5894\")>]"
      ]
     },
     "execution_count": 153,
     "metadata": {},
     "output_type": "execute_result"
    }
   ],
   "source": [
    "container_list = container.find_elements(By.CLASS_NAME, 'tp02')\n",
    "container_list"
   ]
  },
  {
   "cell_type": "code",
   "execution_count": 164,
   "id": "38a2eacb",
   "metadata": {},
   "outputs": [
    {
     "data": {
      "text/plain": [
       "[{'제목': '불변의 법칙',\n",
       "  '저자': '모건 하우절 저/이수경 역',\n",
       "  '책 이미지': 'https://image.yes24.com/Goods/124999476/S',\n",
       "  '상품 링크': 'https://www.yes24.com/Product/Goods/124999476'},\n",
       " {'제목': '패밀리 레스토랑 가자. 上',\n",
       "  '저자': '와야마 야마 글,그림/현승희 역',\n",
       "  '책 이미지': 'https://image.yes24.com/Goods/125692983/S',\n",
       "  '상품 링크': 'https://www.yes24.com/Product/Goods/125692983'},\n",
       " {'제목': '일류의 조건',\n",
       "  '저자': '사이토 다카시 저/정현 역',\n",
       "  '책 이미지': 'https://image.yes24.com/Goods/125491624/S',\n",
       "  '상품 링크': 'https://www.yes24.com/Product/Goods/125491624'},\n",
       " {'제목': '나를 소모하지 않는 현명한 태도에 관하여',\n",
       "  '저자': '마티아스 뇔케 저/이미옥 역',\n",
       "  '책 이미지': 'https://image.yes24.com/Goods/125295101/S',\n",
       "  '상품 링크': 'https://www.yes24.com/Product/Goods/125295101'},\n",
       " {'제목': '삼체 1~3 세트',\n",
       "  '저자': '류츠신 저/이현아,허유영 공역',\n",
       "  '책 이미지': 'https://image.yes24.com/Goods/90926731/S',\n",
       "  '상품 링크': 'https://www.yes24.com/Product/Goods/90926731'}]"
      ]
     },
     "execution_count": 164,
     "metadata": {},
     "output_type": "execute_result"
    }
   ],
   "source": [
    "best_seller_li = []\n",
    "\n",
    "for elem in container_list:\n",
    "    title = elem.find_element(By.CLASS_NAME, 'rnk_info').find_element(By.TAG_NAME, 'strong').text\n",
    "    author = elem.find_element(By.CLASS_NAME, 'rnk_info').find_element(By.TAG_NAME, 'em').text\n",
    "    img_link = elem.find_element(By.TAG_NAME, 'img').get_attribute('src')\n",
    "    product_link = elem.find_element(By.CLASS_NAME, 'rnk_lnk').get_attribute('href')\n",
    "    \n",
    "    best_seller_li.append({\n",
    "        '제목': title,\n",
    "        '저자': author,\n",
    "        '책 이미지': img_link,\n",
    "        '상품 링크': product_link\n",
    "    })\n",
    "    \n",
    "best_seller_li"
   ]
  },
  {
   "cell_type": "code",
   "execution_count": 166,
   "id": "9d7283ee",
   "metadata": {},
   "outputs": [
    {
     "data": {
      "text/html": [
       "<div>\n",
       "<style scoped>\n",
       "    .dataframe tbody tr th:only-of-type {\n",
       "        vertical-align: middle;\n",
       "    }\n",
       "\n",
       "    .dataframe tbody tr th {\n",
       "        vertical-align: top;\n",
       "    }\n",
       "\n",
       "    .dataframe thead th {\n",
       "        text-align: right;\n",
       "    }\n",
       "</style>\n",
       "<table border=\"1\" class=\"dataframe\">\n",
       "  <thead>\n",
       "    <tr style=\"text-align: right;\">\n",
       "      <th></th>\n",
       "      <th>제목</th>\n",
       "      <th>저자</th>\n",
       "      <th>책 이미지</th>\n",
       "      <th>상품 링크</th>\n",
       "    </tr>\n",
       "  </thead>\n",
       "  <tbody>\n",
       "    <tr>\n",
       "      <th>0</th>\n",
       "      <td>불변의 법칙</td>\n",
       "      <td>모건 하우절 저/이수경 역</td>\n",
       "      <td>https://image.yes24.com/Goods/124999476/S</td>\n",
       "      <td>https://www.yes24.com/Product/Goods/124999476</td>\n",
       "    </tr>\n",
       "    <tr>\n",
       "      <th>1</th>\n",
       "      <td>패밀리 레스토랑 가자. 上</td>\n",
       "      <td>와야마 야마 글,그림/현승희 역</td>\n",
       "      <td>https://image.yes24.com/Goods/125692983/S</td>\n",
       "      <td>https://www.yes24.com/Product/Goods/125692983</td>\n",
       "    </tr>\n",
       "    <tr>\n",
       "      <th>2</th>\n",
       "      <td>일류의 조건</td>\n",
       "      <td>사이토 다카시 저/정현 역</td>\n",
       "      <td>https://image.yes24.com/Goods/125491624/S</td>\n",
       "      <td>https://www.yes24.com/Product/Goods/125491624</td>\n",
       "    </tr>\n",
       "    <tr>\n",
       "      <th>3</th>\n",
       "      <td>나를 소모하지 않는 현명한 태도에 관하여</td>\n",
       "      <td>마티아스 뇔케 저/이미옥 역</td>\n",
       "      <td>https://image.yes24.com/Goods/125295101/S</td>\n",
       "      <td>https://www.yes24.com/Product/Goods/125295101</td>\n",
       "    </tr>\n",
       "    <tr>\n",
       "      <th>4</th>\n",
       "      <td>삼체 1~3 세트</td>\n",
       "      <td>류츠신 저/이현아,허유영 공역</td>\n",
       "      <td>https://image.yes24.com/Goods/90926731/S</td>\n",
       "      <td>https://www.yes24.com/Product/Goods/90926731</td>\n",
       "    </tr>\n",
       "  </tbody>\n",
       "</table>\n",
       "</div>"
      ],
      "text/plain": [
       "                       제목                 저자  \\\n",
       "0                  불변의 법칙     모건 하우절 저/이수경 역   \n",
       "1          패밀리 레스토랑 가자. 上  와야마 야마 글,그림/현승희 역   \n",
       "2                  일류의 조건     사이토 다카시 저/정현 역   \n",
       "3  나를 소모하지 않는 현명한 태도에 관하여    마티아스 뇔케 저/이미옥 역   \n",
       "4               삼체 1~3 세트   류츠신 저/이현아,허유영 공역   \n",
       "\n",
       "                                       책 이미지  \\\n",
       "0  https://image.yes24.com/Goods/124999476/S   \n",
       "1  https://image.yes24.com/Goods/125692983/S   \n",
       "2  https://image.yes24.com/Goods/125491624/S   \n",
       "3  https://image.yes24.com/Goods/125295101/S   \n",
       "4   https://image.yes24.com/Goods/90926731/S   \n",
       "\n",
       "                                           상품 링크  \n",
       "0  https://www.yes24.com/Product/Goods/124999476  \n",
       "1  https://www.yes24.com/Product/Goods/125692983  \n",
       "2  https://www.yes24.com/Product/Goods/125491624  \n",
       "3  https://www.yes24.com/Product/Goods/125295101  \n",
       "4   https://www.yes24.com/Product/Goods/90926731  "
      ]
     },
     "execution_count": 166,
     "metadata": {},
     "output_type": "execute_result"
    }
   ],
   "source": [
    "df = pd.DataFrame(best_seller_li)\n",
    "df"
   ]
  },
  {
   "cell_type": "code",
   "execution_count": 167,
   "id": "252be592",
   "metadata": {},
   "outputs": [],
   "source": [
    "df.to_csv('yes_24_bestseller.csv', encoding='utf-8-sig')"
   ]
  },
  {
   "cell_type": "code",
   "execution_count": null,
   "id": "ac3ea18c",
   "metadata": {},
   "outputs": [],
   "source": []
  },
  {
   "cell_type": "code",
   "execution_count": null,
   "id": "bbb32def",
   "metadata": {},
   "outputs": [],
   "source": []
  },
  {
   "cell_type": "code",
   "execution_count": null,
   "id": "28bfb1d9",
   "metadata": {},
   "outputs": [],
   "source": []
  },
  {
   "cell_type": "code",
   "execution_count": null,
   "id": "42f95a39",
   "metadata": {},
   "outputs": [],
   "source": []
  },
  {
   "cell_type": "code",
   "execution_count": null,
   "id": "04acbc61",
   "metadata": {},
   "outputs": [],
   "source": []
  },
  {
   "cell_type": "code",
   "execution_count": null,
   "id": "f9974215",
   "metadata": {},
   "outputs": [],
   "source": []
  },
  {
   "cell_type": "code",
   "execution_count": null,
   "id": "a7f6b66b",
   "metadata": {},
   "outputs": [],
   "source": []
  },
  {
   "cell_type": "code",
   "execution_count": null,
   "id": "6daafd42",
   "metadata": {},
   "outputs": [],
   "source": []
  },
  {
   "cell_type": "code",
   "execution_count": null,
   "id": "59bb74e4",
   "metadata": {},
   "outputs": [],
   "source": []
  },
  {
   "cell_type": "code",
   "execution_count": null,
   "id": "aebfdd20",
   "metadata": {},
   "outputs": [],
   "source": []
  }
 ],
 "metadata": {
  "kernelspec": {
   "display_name": "Python 3 (ipykernel)",
   "language": "python",
   "name": "python3"
  },
  "language_info": {
   "codemirror_mode": {
    "name": "ipython",
    "version": 3
   },
   "file_extension": ".py",
   "mimetype": "text/x-python",
   "name": "python",
   "nbconvert_exporter": "python",
   "pygments_lexer": "ipython3",
   "version": "3.11.4"
  }
 },
 "nbformat": 4,
 "nbformat_minor": 5
}
