{
 "cells": [
  {
   "cell_type": "code",
   "execution_count": 1,
   "metadata": {},
   "outputs": [],
   "source": [
    "import numpy as np\n",
    "import matplotlib.pyplot as plt\n",
    "from tqdm.notebook import tqdm\n",
    "\n",
    "import os\n",
    "import random\n",
    "import platform\n",
    "import warnings\n",
    "\n",
    "import tensorflow as tf\n",
    "\n",
    "from PIL import Image"
   ]
  },
  {
   "cell_type": "markdown",
   "metadata": {},
   "source": [
    "### data load"
   ]
  },
  {
   "cell_type": "code",
   "execution_count": 2,
   "metadata": {},
   "outputs": [],
   "source": [
    "mnist = tf.keras.datasets.mnist\n",
    "\n",
    "(train_images, train_labels), (test_images, test_labels) = mnist.load_data()"
   ]
  },
  {
   "cell_type": "markdown",
   "metadata": {},
   "source": [
    "### 이미지 scailing"
   ]
  },
  {
   "cell_type": "code",
   "execution_count": 3,
   "metadata": {},
   "outputs": [],
   "source": [
    "train_X = train_images/255.\n",
    "test_X = test_images/255."
   ]
  },
  {
   "cell_type": "code",
   "execution_count": 5,
   "metadata": {},
   "outputs": [
    {
     "data": {
      "text/plain": [
       "<matplotlib.image.AxesImage at 0x2abcf8450>"
      ]
     },
     "execution_count": 5,
     "metadata": {},
     "output_type": "execute_result"
    },
    {
     "data": {
      "image/png": "[encoded data removed]",
      "text/plain": [
       "<Figure size 640x480 with 1 Axes>"
      ]
     },
     "metadata": {},
     "output_type": "display_data"
    }
   ],
   "source": [
    "plt.imshow(train_X[1])"
   ]
  },
  {
   "cell_type": "markdown",
   "metadata": {},
   "source": [
    "### label one-hot encoding"
   ]
  },
  {
   "cell_type": "code",
   "execution_count": 4,
   "metadata": {},
   "outputs": [],
   "source": [
    "def _onehot(labels):\n",
    "    onehot = np.zeros((len(labels), len(labels)), dtype='uint8')\n",
    "    onehot[np.arange(len(labels)), labels] = 1\n",
    "\n",
    "    return onehot\n",
    "\n",
    "train_y = _onehot(train_labels)\n",
    "test_y = _onehot(test_labels)"
   ]
  },
  {
   "cell_type": "code",
   "execution_count": 7,
   "metadata": {},
   "outputs": [
    {
     "data": {
      "text/plain": [
       "array([1, 0, 0, ..., 0, 0, 0], dtype=uint8)"
      ]
     },
     "execution_count": 7,
     "metadata": {},
     "output_type": "execute_result"
    }
   ],
   "source": [
    "train_y[1]"
   ]
  },
  {
   "cell_type": "markdown",
   "metadata": {},
   "source": [
    "# MLP 구현"
   ]
  },
  {
   "cell_type": "markdown",
   "metadata": {},
   "source": [
    "### sigmoid"
   ]
  },
  {
   "cell_type": "code",
   "execution_count": 8,
   "metadata": {},
   "outputs": [],
   "source": [
    "# sigmoid function\n",
    "def sigmoid(x):\n",
    "    return 1 / (1+np.exp(-x))\n",
    "\n",
    "# sigmoid 미분\n",
    "def sigmoid_prime(x):\n",
    "    return (1.0 - sigmoid(x)) * sigmoid(x)"
   ]
  },
  {
   "cell_type": "markdown",
   "metadata": {},
   "source": [
    "### sigmoid layer 구현"
   ]
  },
  {
   "cell_type": "code",
   "execution_count": 10,
   "metadata": {},
   "outputs": [],
   "source": [
    "class Sigmoid():\n",
    "    def __init__(self):\n",
    "        self.out = None\n",
    "    \n",
    "    def forward(self, x):\n",
    "        # 순전파시 결과물을 attribute로 저장 및 리턴\n",
    "        self.out = sigmoid(x)\n",
    "        return self.out\n",
    "    \n",
    "    def backward(self, dout):\n",
    "        # 역전파시 그래디언트 값을 리턴\n",
    "        dx = dout * (1.0 - self.out) * self.out\n",
    "        return dx"
   ]
  },
  {
   "cell_type": "code",
   "execution_count": 13,
   "metadata": {},
   "outputs": [
    {
     "name": "stdout",
     "output_type": "stream",
     "text": [
      "x =\n",
      " [[ 0.33994424  0.73903127]\n",
      " [-1.49076399  0.8070138 ]\n",
      " [-0.52041393  0.86163554]\n",
      " [-1.29583146 -0.2225015 ]\n",
      " [-0.18043494 -1.39695172]]\n",
      "\n",
      "sigmoid_layer.forward(x) =\n",
      " [[0.58417698 0.67678398]\n",
      " [0.18380708 0.6914728 ]\n",
      " [0.37275545 0.70300225]\n",
      " [0.21486741 0.44460298]\n",
      " [0.45501325 0.19830027]]\n",
      "\n",
      "sigmoid_layer.backward(1) =\n",
      " [[0.24291424 0.21874742]\n",
      " [0.15002204 0.21333817]\n",
      " [0.23380882 0.20879009]\n",
      " [0.16869941 0.24693117]\n",
      " [0.24797619 0.15897728]]\n"
     ]
    }
   ],
   "source": [
    "# 시그모이드 레이어의 순전파/역전파가 잘 작동하는지 테스트\n",
    "# 임의의 사이즈에 대해 모두 동일한 크기의 결과가 출력되어야 하며, 각각 단순하게 시그모이드 함수를 적용한 값과 도함수를 적용한 값이 된다면 성공\n",
    "\n",
    "x = np.random.randn(5, 2)\n",
    "print('x =\\n', x)\n",
    "\n",
    "sigmoid_layer = Sigmoid()\n",
    "print('\\nsigmoid_layer.forward(x) =\\n', sigmoid_layer.forward(x))\n",
    "print('\\nsigmoid_layer.backward(1) =\\n', sigmoid_layer.backward(1)) # 최종 출력물의 미분값이 1일 경우 역전파의 결과"
   ]
  },
  {
   "cell_type": "markdown",
   "metadata": {},
   "source": [
    "### FC Layer"
   ]
  },
  {
   "cell_type": "code",
   "execution_count": 14,
   "metadata": {},
   "outputs": [],
   "source": [
    "class FCLayer():\n",
    "    def __init__(self, input_size, output_size, weight_init_std=0.01):\n",
    "        self.W = np.random.randn(input_size, output_size)\n",
    "        self.b = np.random.randn(output_size)\n",
    "\n",
    "        self.x = None\n",
    "        self.dW = None\n",
    "        self.db = None\n",
    "\n",
    "    def forward(self, x):\n",
    "        self.x = x\n",
    "        out = np.dot(x, self.W) + self.b\n",
    "\n",
    "        return out\n",
    "    \n",
    "    def backward(self, dout):\n",
    "        dx = np.dot(dout, self.W.T)\n",
    "        self.dW = np.dot(self.x.T, dout)\n",
    "        self.db = np.sum(dout, axis=0)\n",
    "\n",
    "        return dx"
   ]
  },
  {
   "cell_type": "code",
   "execution_count": 15,
   "metadata": {},
   "outputs": [
    {
     "name": "stdout",
     "output_type": "stream",
     "text": [
      "x =\n",
      " [[ 0.1341428   0.50698011]\n",
      " [-0.09124876  1.01298656]\n",
      " [-1.20229058 -1.95331856]\n",
      " [-0.10288817 -0.61541472]\n",
      " [ 1.41882148  0.50177454]]\n",
      "\n",
      "fc_layer.forward(x) =\n",
      " [[-1.68152948 -2.66681342 -0.66095653]\n",
      " [-3.30449187 -2.66939375 -0.68016535]\n",
      " [ 0.80538729 -2.02223888 -3.02854982]\n",
      " [ 0.28098274 -2.46958891 -1.36401437]\n",
      " [ 1.18435745 -3.0000016   0.63671131]]\n",
      "\n",
      "fc_layer.backward(y) =\n",
      " [[ 0.60545793 -0.87614727]\n",
      " [ 1.13858277 -0.13627992]\n",
      " [ 4.99266136 -2.44755773]\n",
      " [-0.99435403  1.41079113]\n",
      " [-2.68662646  2.8552916 ]]\n"
     ]
    }
   ],
   "source": [
    "# FCLayer 레이어가 임의의 입출력 데이터에 대해 잘 작동하는지 테스트\n",
    "\n",
    "x = np.random.randn(5, 2)\n",
    "y = np.random.randn(5, 3)\n",
    "print('x =\\n', x)\n",
    "\n",
    "fc_layer = FCLayer(2, 3)\n",
    "print('\\nfc_layer.forward(x) =\\n', fc_layer.forward(x))\n",
    "print('\\nfc_layer.backward(y) =\\n', fc_layer.backward(y))"
   ]
  },
  {
   "cell_type": "markdown",
   "metadata": {},
   "source": [
    "# Loss Function 구현"
   ]
  },
  {
   "cell_type": "markdown",
   "metadata": {},
   "source": [
    "### MSE"
   ]
  },
  {
   "cell_type": "code",
   "execution_count": 16,
   "metadata": {},
   "outputs": [],
   "source": [
    "class MSELoss():\n",
    "    '''Mean Squared Error Loss'''\n",
    "    def __init__(self):\n",
    "        self.loss = None    # 손실 함수 값. 역전파 계산을 위해 인스턴스 내에 저장됨\n",
    "        self.y = None       # 추론값 (y)\n",
    "        self.t = None       # 실제값 (target)\n",
    "\n",
    "    def forward(self, y, t):\n",
    "        '''Forward Propagation of Mean Squared Error Loss'''\n",
    "        # L = 1/N * sum((y - t)^2)\n",
    "        self.y = y\n",
    "        self.t = t\n",
    "        self.loss = np.mean((t - y) ** 2)\n",
    "        return self.loss\n",
    "\n",
    "    def backward(self, dout=1):\n",
    "        '''Backward Propagation (Backpropagation) of Mean Squared Error Loss'''\n",
    "        # dL/dy = 2(y - t) / N  ->  dy = 2(y - t) / N\n",
    "        dx = dout * (self.y - self.t) * 2 / self.t.shape[0]\n",
    "        return dx"
   ]
  },
  {
   "cell_type": "markdown",
   "metadata": {},
   "source": [
    "### CrossEntropy"
   ]
  },
  {
   "cell_type": "code",
   "execution_count": 17,
   "metadata": {},
   "outputs": [],
   "source": [
    "class CrossEntropyLoss():\n",
    "    '''교차 엔트로피(Cross Entropy) 레이어'''\n",
    "    def __init__(self):\n",
    "        self.loss = None\n",
    "        self.y = None\n",
    "        self.t = None\n",
    "\n",
    "    def forward(self, y, t):\n",
    "        '''교차 엔트로피 레이어의 순방향 전파'''\n",
    "        # L = -1/N * sum(t * log(y) + (1 - t) * log(1 - y))\n",
    "        self.y = y\n",
    "        self.t = t\n",
    "        self.loss = - np.sum(t * np.log(y + 1e-7) + (1 - t) * np.log(1 - y + 1e-7)) / len(y)\n",
    "        return self.loss\n",
    "\n",
    "    def backward(self, dout=1):\n",
    "        '''교차 엔트로피 레이어의 역방향 전파'''\n",
    "        # dL/dy = -t/y + (1 - t)/(1 - y)  ->  dy = (-t/y + (1 - t)/(1 - y))\n",
    "        dx =  dout * (self.y - self.t) / (self.t.shape[0] * (1-self.y) * self.y + 1e-7)\n",
    "        return dx"
   ]
  },
  {
   "cell_type": "markdown",
   "metadata": {},
   "source": [
    "### MLP 구현"
   ]
  },
  {
   "cell_type": "code",
   "execution_count": 18,
   "metadata": {},
   "outputs": [],
   "source": [
    "class MLP():\n",
    "    '''다층 퍼셉트론(Multi Layer Perceptron, MLP) 모델'''\n",
    "    def __init__(self, input_size, hidden_size_list, output_size, loss_type='MSE'):\n",
    "        '''신경망의 구조와 손실 함수 정의\n",
    "        input_size: 입력 데이터의 차원 수\n",
    "        hidden_size_list: 은닉층 차원 수의 리스트 (e.g. [100, 100, 100])\n",
    "        output_size: 출력 데이터의 차원 수\n",
    "        loss_type: 손실 함수의 종류 ('MSE' or 'CrossEntropy')\n",
    "        '''\n",
    "\n",
    "        self.input_size = input_size\n",
    "        self.hidden_size_list = hidden_size_list\n",
    "        self.output_size = output_size\n",
    "        self.hidden_layer_num = len(hidden_size_list)\n",
    "        self.loss_type = loss_type\n",
    "\n",
    "        ### 레이어 쌓기 : FCLayer -> Sigmoid -> ... -> FCLayer -> Sigmoid\n",
    "        # 입력층\n",
    "        self.layers = [\n",
    "            FCLayer(input_size, hidden_size_list[0]),\n",
    "            Sigmoid()\n",
    "        ]\n",
    "        # 은닉층\n",
    "        for idx in range(1, self.hidden_layer_num):\n",
    "            self.layers.append(FCLayer(hidden_size_list[idx-1], hidden_size_list[idx]))\n",
    "            self.layers.append(Sigmoid())\n",
    "        # 출력층\n",
    "        self.layers.append(FCLayer(hidden_size_list[-1], output_size))\n",
    "        self.layers.append(Sigmoid())\n",
    "\n",
    "        # 인자로 받은 `loss_type`에 맞게 손실 함수 레이어 정하기\n",
    "        if self.loss_type == 'MSE':\n",
    "            self.loss_layer = MSELoss()\n",
    "        elif self.loss_type == 'CrossEntropy':\n",
    "            self.loss_layer = CrossEntropyLoss()\n",
    "        else:\n",
    "            self.loss_layer = None\n",
    "\n",
    "\n",
    "        self.loss = None\n",
    "\n",
    "    def predict(self, x):\n",
    "        '''입력값을 받았을 때 순방향 전파를 통한 출력물 산출(예측)'''\n",
    "        for layer in self.layers:\n",
    "            x = layer.forward(x)\n",
    "        return x\n",
    "\n",
    "    def forward(self, x, t):\n",
    "        '''MLP 모델의 순방향 전파'''\n",
    "        y = self.predict(x)\n",
    "        self.loss = self.loss_layer.forward(y, t)\n",
    "        return self.loss\n",
    "\n",
    "    def backward(self, dout=1):\n",
    "        '''MLP 모델의 역방향 전파'''\n",
    "        dout = self.loss_layer.backward(dout)\n",
    "        for layer in reversed(self.layers):\n",
    "            dout = layer.backward(dout)\n",
    "        return dout"
   ]
  },
  {
   "cell_type": "code",
   "execution_count": 19,
   "metadata": {},
   "outputs": [
    {
     "name": "stdout",
     "output_type": "stream",
     "text": [
      "x =\n",
      " [[-1.68969121  0.13537494]\n",
      " [ 0.56437682  0.71196519]\n",
      " [ 1.06277838 -0.26555085]\n",
      " [ 0.73983243  0.1949527 ]\n",
      " [-0.2899809  -0.47756757]]\n",
      "\n",
      "mlp.predict(x) =\n",
      " [[0.22589135]\n",
      " [0.2180116 ]\n",
      " [0.22122904]\n",
      " [0.2196382 ]\n",
      " [0.23448836]]\n",
      "\n",
      "mlp.forward(x, y) =\n",
      " 0.8785953306251664\n",
      "\n",
      "mlp.backward() =\n",
      " [[ 0.00086094 -0.00166005]\n",
      " [ 0.00460587  0.00191726]\n",
      " [-0.00151301 -0.00236224]\n",
      " [ 0.00404507  0.00336504]\n",
      " [ 0.00237073  0.00281788]]\n"
     ]
    }
   ],
   "source": [
    "# 임의의 입출력 데이터와 하이퍼파라미터에 대해 MLP 모델이 에러 없이 작동하는지 테스트\n",
    "\n",
    "x = np.random.randn(5, 2)\n",
    "y = np.random.randn(5, 1)\n",
    "print('x =\\n', x)\n",
    "\n",
    "mlp = MLP(input_size=2, hidden_size_list=[10, 5], output_size=1, loss_type='MSE')\n",
    "print('\\nmlp.predict(x) =\\n', mlp.predict(x))\n",
    "print('\\nmlp.forward(x, y) =\\n', mlp.forward(x, y))\n",
    "print('\\nmlp.backward() =\\n', mlp.backward())"
   ]
  },
  {
   "cell_type": "markdown",
   "metadata": {},
   "source": [
    "# 모델 학습"
   ]
  },
  {
   "cell_type": "markdown",
   "metadata": {},
   "source": [
    "### accuracy 함수 정의"
   ]
  },
  {
   "cell_type": "code",
   "execution_count": 20,
   "metadata": {},
   "outputs": [
    {
     "name": "stdout",
     "output_type": "stream",
     "text": [
      "x =\n",
      " [[ 1.0839564   1.50019329]\n",
      " [ 0.16281826 -0.04426101]\n",
      " [-0.08312976  0.23833026]\n",
      " [-0.31740008  1.52891704]\n",
      " [ 0.9788983   0.06602767]]\n",
      "\n",
      "mlp.predict(x) =\n",
      " [[0.3081354 ]\n",
      " [0.31333168]\n",
      " [0.29265639]\n",
      " [0.24760672]\n",
      " [0.33453433]]\n",
      "\n",
      "mlp.forward(x, y) =\n",
      " 0.9384739103189131\n",
      "\n",
      "mlp.backward() =\n",
      " [[ 1.62338350e-04 -8.73421351e-05]\n",
      " [ 2.93543181e-02 -2.66775515e-02]\n",
      " [-2.83359359e-04  2.24954044e-04]\n",
      " [-1.60955765e-02  7.22871721e-03]\n",
      " [ 1.77820017e-03 -1.86034763e-03]]\n"
     ]
    }
   ],
   "source": [
    "# 임의의 입출력 데이터와 하이퍼파라미터에 대해 MLP 모델이 에러 없이 작동하는지 테스트\n",
    "\n",
    "x = np.random.randn(5, 2)\n",
    "y = np.random.randn(5, 1)\n",
    "print('x =\\n', x)\n",
    "\n",
    "mlp = MLP(input_size=2, hidden_size_list=[10, 5], output_size=1, loss_type='MSE')\n",
    "print('\\nmlp.predict(x) =\\n', mlp.predict(x))\n",
    "print('\\nmlp.forward(x, y) =\\n', mlp.forward(x, y))\n",
    "print('\\nmlp.backward() =\\n', mlp.backward())"
   ]
  },
  {
   "cell_type": "markdown",
   "metadata": {},
   "source": [
    "### 하이퍼파라미터 설정"
   ]
  },
  {
   "cell_type": "code",
   "execution_count": 21,
   "metadata": {},
   "outputs": [],
   "source": [
    "# 네트워크 구조를 정하기 위한 하이퍼파라미터 (784 -> 64 -> 16 -> 10)\n",
    "n_input = 784\n",
    "n_hidden = (64,16,)\n",
    "n_output = 10\n",
    "\n",
    "# 학습에 필요한 하이퍼파라미터\n",
    "batch_size = 128\n",
    "n_epochs = 30\n",
    "print_every = 1\n",
    "learning_rate_mse = 3\n",
    "learning_rate_ce = 0.5"
   ]
  },
  {
   "cell_type": "markdown",
   "metadata": {},
   "source": [
    "### 모델 생성"
   ]
  },
  {
   "cell_type": "code",
   "execution_count": 22,
   "metadata": {},
   "outputs": [],
   "source": [
    "# MSE 손실 함수를 사용하는 MLP 모델\n",
    "mlp_mse = MLP(n_input, n_hidden, n_output, loss_type='MSE')\n",
    "\n",
    "# Cross Entropy 손실 함수를 사용하는 MLP 모델\n",
    "mlp_ce = MLP(n_input, n_hidden, n_output, loss_type='CrossEntropy')"
   ]
  },
  {
   "cell_type": "markdown",
   "metadata": {},
   "source": [
    "### 모델 학습"
   ]
  },
  {
   "cell_type": "code",
   "execution_count": 23,
   "metadata": {},
   "outputs": [],
   "source": [
    "def training(model, learning_rate, X_train, y_train, X_test, y_test):\n",
    "    '''모델 학습 함수'''\n",
    "    training_errors, training_accs = [], [] # 학습 손실 및 정확도\n",
    "    test_errors, test_accs = [], []         # 테스트 손실 및 정확도\n",
    "\n",
    "    # 학습 과정 : n_epochs만큼 반복\n",
    "    for epoch in tqdm(range(n_epochs)):\n",
    "        # 학습 데이터를 랜덤하게 섞음\n",
    "        idx = np.random.permutation(X_train.shape[0])\n",
    "        X_train = X_train[idx]\n",
    "        y_train = y_train[idx]\n",
    "\n",
    "        # 미니배치 학습\n",
    "        for i in range(0, X_train.shape[0], batch_size):\n",
    "            X_batch = X_train[i:i+batch_size]\n",
    "            y_batch = y_train[i:i+batch_size]\n",
    "\n",
    "            # 순전파\n",
    "            model.forward(X_batch, y_batch)\n",
    "\n",
    "            # 역전파\n",
    "            model.backward()\n",
    "\n",
    "            # 모델 파라미터 업데이트\n",
    "            for layer in model.layers:\n",
    "                if isinstance(layer, FCLayer):\n",
    "                    layer.W -= learning_rate * layer.dW\n",
    "                    layer.b -= learning_rate * layer.db\n",
    "\n",
    "        # 학습 과정 출력 : print_every의 배수에 해당할 때마다 출력\n",
    "        if (epoch+1) % print_every == 0:\n",
    "            # 모든 학습 데이터에 대한 손실과 정확도 계산\n",
    "            model.forward(X_train, y_train)\n",
    "            training_errors.append(model.loss)\n",
    "            training_accs.append(accuracy(model.predict(X_train), y_train))\n",
    "\n",
    "            # 모든 테스트 데이터에 대한 손실과 정확도 계산\n",
    "            model.forward(X_test, y_test)\n",
    "            test_errors.append(model.loss)\n",
    "            test_accs.append(accuracy(model.predict(X_test), y_test))\n",
    "\n",
    "            # 학습 과정 출력\n",
    "            print('[Epoch {}/{}] Training Loss = {:.4f} / Training Acc = {:.2f}% /'\n",
    "                  'Test Loss = {:.4f} / Test Acc = {:.2f}%'.format(\n",
    "                      epoch+1, n_epochs,\n",
    "                      training_errors[-1], training_accs[-1]*100,\n",
    "                      test_errors[-1], test_accs[-1]*100))\n",
    "\n",
    "    return np.asarray([training_errors, test_errors, training_accs, test_accs])"
   ]
  },
  {
   "cell_type": "code",
   "execution_count": 25,
   "metadata": {},
   "outputs": [
    {
     "data": {
      "application/vnd.jupyter.widget-view+json": {
       "model_id": "ff78fd9ec9f648578289d5c29c38e548",
       "version_major": 2,
       "version_minor": 0
      },
      "text/plain": [
       "  0%|          | 0/30 [00:00<?, ?it/s]"
      ]
     },
     "metadata": {},
     "output_type": "display_data"
    },
    {
     "ename": "ValueError",
     "evalue": "shapes (128,28,28) and (784,64) not aligned: 28 (dim 2) != 784 (dim 0)",
     "output_type": "error",
     "traceback": [
      "\u001b[0;31m---------------------------------------------------------------------------\u001b[0m",
      "\u001b[0;31mValueError\u001b[0m                                Traceback (most recent call last)",
      "Cell \u001b[0;32mIn[25], line 2\u001b[0m\n\u001b[1;32m      1\u001b[0m \u001b[38;5;66;03m# MSE 손실 함수를 사용하는 모델 학습\u001b[39;00m\n\u001b[0;32m----> 2\u001b[0m training_result_mse \u001b[38;5;241m=\u001b[39m training(mlp_mse, learning_rate_mse, train_X, train_y, test_X, test_y)\n",
      "Cell \u001b[0;32mIn[23], line 19\u001b[0m, in \u001b[0;36mtraining\u001b[0;34m(model, learning_rate, X_train, y_train, X_test, y_test)\u001b[0m\n\u001b[1;32m     16\u001b[0m y_batch \u001b[38;5;241m=\u001b[39m y_train[i:i\u001b[38;5;241m+\u001b[39mbatch_size]\n\u001b[1;32m     18\u001b[0m \u001b[38;5;66;03m# 순전파\u001b[39;00m\n\u001b[0;32m---> 19\u001b[0m model\u001b[38;5;241m.\u001b[39mforward(X_batch, y_batch)\n\u001b[1;32m     21\u001b[0m \u001b[38;5;66;03m# 역전파\u001b[39;00m\n\u001b[1;32m     22\u001b[0m model\u001b[38;5;241m.\u001b[39mbackward()\n",
      "Cell \u001b[0;32mIn[18], line 50\u001b[0m, in \u001b[0;36mMLP.forward\u001b[0;34m(self, x, t)\u001b[0m\n\u001b[1;32m     48\u001b[0m \u001b[38;5;28;01mdef\u001b[39;00m \u001b[38;5;21mforward\u001b[39m(\u001b[38;5;28mself\u001b[39m, x, t):\n\u001b[1;32m     49\u001b[0m \u001b[38;5;250m    \u001b[39m\u001b[38;5;124;03m'''MLP 모델의 순방향 전파'''\u001b[39;00m\n\u001b[0;32m---> 50\u001b[0m     y \u001b[38;5;241m=\u001b[39m \u001b[38;5;28mself\u001b[39m\u001b[38;5;241m.\u001b[39mpredict(x)\n\u001b[1;32m     51\u001b[0m     \u001b[38;5;28mself\u001b[39m\u001b[38;5;241m.\u001b[39mloss \u001b[38;5;241m=\u001b[39m \u001b[38;5;28mself\u001b[39m\u001b[38;5;241m.\u001b[39mloss_layer\u001b[38;5;241m.\u001b[39mforward(y, t)\n\u001b[1;32m     52\u001b[0m     \u001b[38;5;28;01mreturn\u001b[39;00m \u001b[38;5;28mself\u001b[39m\u001b[38;5;241m.\u001b[39mloss\n",
      "Cell \u001b[0;32mIn[18], line 45\u001b[0m, in \u001b[0;36mMLP.predict\u001b[0;34m(self, x)\u001b[0m\n\u001b[1;32m     43\u001b[0m \u001b[38;5;250m\u001b[39m\u001b[38;5;124;03m'''입력값을 받았을 때 순방향 전파를 통한 출력물 산출(예측)'''\u001b[39;00m\n\u001b[1;32m     44\u001b[0m \u001b[38;5;28;01mfor\u001b[39;00m layer \u001b[38;5;129;01min\u001b[39;00m \u001b[38;5;28mself\u001b[39m\u001b[38;5;241m.\u001b[39mlayers:\n\u001b[0;32m---> 45\u001b[0m     x \u001b[38;5;241m=\u001b[39m layer\u001b[38;5;241m.\u001b[39mforward(x)\n\u001b[1;32m     46\u001b[0m \u001b[38;5;28;01mreturn\u001b[39;00m x\n",
      "Cell \u001b[0;32mIn[14], line 12\u001b[0m, in \u001b[0;36mFCLayer.forward\u001b[0;34m(self, x)\u001b[0m\n\u001b[1;32m     10\u001b[0m \u001b[38;5;28;01mdef\u001b[39;00m \u001b[38;5;21mforward\u001b[39m(\u001b[38;5;28mself\u001b[39m, x):\n\u001b[1;32m     11\u001b[0m     \u001b[38;5;28mself\u001b[39m\u001b[38;5;241m.\u001b[39mx \u001b[38;5;241m=\u001b[39m x\n\u001b[0;32m---> 12\u001b[0m     out \u001b[38;5;241m=\u001b[39m np\u001b[38;5;241m.\u001b[39mdot(x, \u001b[38;5;28mself\u001b[39m\u001b[38;5;241m.\u001b[39mW) \u001b[38;5;241m+\u001b[39m \u001b[38;5;28mself\u001b[39m\u001b[38;5;241m.\u001b[39mb\n\u001b[1;32m     14\u001b[0m     \u001b[38;5;28;01mreturn\u001b[39;00m out\n",
      "\u001b[0;31mValueError\u001b[0m: shapes (128,28,28) and (784,64) not aligned: 28 (dim 2) != 784 (dim 0)"
     ]
    }
   ],
   "source": [
    "# MSE 손실 함수를 사용하는 모델 학습\n",
    "training_result_mse = training(mlp_mse, learning_rate_mse, train_X, train_y, test_X, test_y)"
   ]
  },
  {
   "cell_type": "code",
   "execution_count": null,
   "metadata": {},
   "outputs": [],
   "source": []
  },
  {
   "cell_type": "code",
   "execution_count": null,
   "metadata": {},
   "outputs": [],
   "source": []
  },
  {
   "cell_type": "code",
   "execution_count": null,
   "metadata": {},
   "outputs": [],
   "source": []
  },
  {
   "cell_type": "code",
   "execution_count": null,
   "metadata": {},
   "outputs": [],
   "source": []
  },
  {
   "cell_type": "code",
   "execution_count": null,
   "metadata": {},
   "outputs": [],
   "source": []
  },
  {
   "cell_type": "code",
   "execution_count": null,
   "metadata": {},
   "outputs": [],
   "source": []
  },
  {
   "cell_type": "code",
   "execution_count": null,
   "metadata": {},
   "outputs": [],
   "source": []
  },
  {
   "cell_type": "code",
   "execution_count": null,
   "metadata": {},
   "outputs": [],
   "source": []
  }
 ],
 "metadata": {
  "kernelspec": {
   "display_name": "base",
   "language": "python",
   "name": "python3"
  },
  "language_info": {
   "codemirror_mode": {
    "name": "ipython",
    "version": 3
   },
   "file_extension": ".py",
   "mimetype": "text/x-python",
   "name": "python",
   "nbconvert_exporter": "python",
   "pygments_lexer": "ipython3",
   "version": "3.1.undefined"
  }
 },
 "nbformat": 4,
 "nbformat_minor": 2
}
