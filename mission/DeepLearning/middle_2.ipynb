{
 "cells": [
  {
   "cell_type": "markdown",
   "metadata": {},
   "source": [
    "# RNN(Vanilla RNN, LSTM, GRU)를 사용하여 MNIST 분류기 만들기"
   ]
  },
  {
   "cell_type": "code",
   "execution_count": 23,
   "metadata": {},
   "outputs": [],
   "source": [
    "import numpy as np\n",
    "import pandas as pd\n",
    "import matplotlib.pyplot as  plt\n",
    "from tqdm.notebook import tqdm\n",
    "import os\n",
    "import gc\n",
    "\n",
    "import torch\n",
    "import torchvision\n",
    "import torchvision.transforms as T\n",
    "from torchsummary import summary\n",
    "\n",
    "from sklearn.metrics import accuracy_score\n",
    "import tensorflow as tf\n",
    "\n",
    "import wandb"
   ]
  },
  {
   "cell_type": "code",
   "execution_count": 2,
   "metadata": {},
   "outputs": [],
   "source": [
    "# seed 고정\n",
    "import random\n",
    "import torch.backends.cudnn as cudnn\n",
    "\n",
    "def random_seed(seed_num):\n",
    "    torch.manual_seed(seed_num)\n",
    "    torch.cuda.manual_seed(seed_num)\n",
    "    torch.cuda.manual_seed_all(seed_num)\n",
    "    cudnn.benchmark = False\n",
    "    cudnn.deterministic = True\n",
    "    random.seed(seed_num)\n",
    "\n",
    "random_seed(42)"
   ]
  },
  {
   "cell_type": "code",
   "execution_count": 3,
   "metadata": {},
   "outputs": [],
   "source": [
    "device = torch.device('mps')"
   ]
  },
  {
   "cell_type": "code",
   "execution_count": 37,
   "metadata": {},
   "outputs": [
    {
     "name": "stderr",
     "output_type": "stream",
     "text": [
      "Failed to detect the name of this notebook, you can set it manually with the WANDB_NOTEBOOK_NAME environment variable to enable code saving.\n",
      "\u001b[34m\u001b[1mwandb\u001b[0m: Currently logged in as: \u001b[33mgreedjar74\u001b[0m (\u001b[33mgreedjar7498\u001b[0m). Use \u001b[1m`wandb login --relogin`\u001b[0m to force relogin\n",
      "\u001b[34m\u001b[1mwandb\u001b[0m: \u001b[33mWARNING\u001b[0m If you're specifying your api key in code, ensure this code is not shared publicly.\n",
      "\u001b[34m\u001b[1mwandb\u001b[0m: \u001b[33mWARNING\u001b[0m Consider setting the WANDB_API_KEY environment variable, or running `wandb login` from the command line.\n",
      "\u001b[34m\u001b[1mwandb\u001b[0m: Appending key for api.wandb.ai to your netrc file: /Users/kimhongseok/.netrc\n"
     ]
    },
    {
     "data": {
      "text/plain": [
       "True"
      ]
     },
     "execution_count": 37,
     "metadata": {},
     "output_type": "execute_result"
    }
   ],
   "source": [
    "wandb.login(key='2a6ed9b82b10f4c201952cf2948e01f8a0b197ab')"
   ]
  },
  {
   "cell_type": "markdown",
   "metadata": {},
   "source": [
    "# data"
   ]
  },
  {
   "cell_type": "code",
   "execution_count": 4,
   "metadata": {},
   "outputs": [],
   "source": [
    "mnist = tf.keras.datasets.mnist\n",
    "\n",
    "(train_images, train_labels), (test_images, test_labels) = mnist.load_data()"
   ]
  },
  {
   "cell_type": "code",
   "execution_count": 5,
   "metadata": {},
   "outputs": [
    {
     "data": {
      "text/plain": [
       "numpy.ndarray"
      ]
     },
     "execution_count": 5,
     "metadata": {},
     "output_type": "execute_result"
    }
   ],
   "source": [
    "type(train_images[0])"
   ]
  },
  {
   "cell_type": "code",
   "execution_count": 10,
   "metadata": {},
   "outputs": [
    {
     "data": {
      "text/plain": [
       "<matplotlib.image.AxesImage at 0x34c220d90>"
      ]
     },
     "execution_count": 10,
     "metadata": {},
     "output_type": "execute_result"
    },
    {
     "data": {
      "image/png": "[encoded data removed]",
      "text/plain": [
       "<Figure size 100x100 with 1 Axes>"
      ]
     },
     "metadata": {},
     "output_type": "display_data"
    }
   ],
   "source": [
    "plt.figure(figsize=(1, 1))\n",
    "plt.imshow(train_images[0], cmap='gray')"
   ]
  },
  {
   "cell_type": "markdown",
   "metadata": {},
   "source": [
    "## Custom Dataset"
   ]
  },
  {
   "cell_type": "code",
   "execution_count": 11,
   "metadata": {},
   "outputs": [],
   "source": [
    "class CustomDataset(torch.utils.data.Dataset):\n",
    "    def __init__(self, images, labels, transforms):\n",
    "        super().__init__()\n",
    "        self.data = list((transforms(image), label) for image, label in zip(images, labels))\n",
    "\n",
    "    def __len__(self):\n",
    "        return len(self.data)\n",
    "    \n",
    "    def __getitem__(self, idx):\n",
    "        return self.data[idx]"
   ]
  },
  {
   "cell_type": "code",
   "execution_count": 12,
   "metadata": {},
   "outputs": [],
   "source": [
    "transforms = T.Compose([\n",
    "    T.ToTensor()\n",
    "])\n",
    "\n",
    "train_dataset = CustomDataset(train_images, train_labels, transforms)\n",
    "test_dataset = CustomDataset(test_images, test_labels, transforms)"
   ]
  },
  {
   "cell_type": "code",
   "execution_count": 15,
   "metadata": {},
   "outputs": [
    {
     "data": {
      "text/plain": [
       "<matplotlib.image.AxesImage at 0x34c070290>"
      ]
     },
     "execution_count": 15,
     "metadata": {},
     "output_type": "execute_result"
    },
    {
     "data": {
      "image/png": "[encoded data removed]",
      "text/plain": [
       "<Figure size 100x100 with 1 Axes>"
      ]
     },
     "metadata": {},
     "output_type": "display_data"
    }
   ],
   "source": [
    "plt.figure(figsize=(1, 1))\n",
    "plt.imshow(train_dataset[0][0].squeeze(), cmap='gray')"
   ]
  },
  {
   "cell_type": "code",
   "execution_count": 16,
   "metadata": {},
   "outputs": [
    {
     "name": "stdout",
     "output_type": "stream",
     "text": [
      "Train data: 48000, Valid data: 12000, Test data: 10000\n"
     ]
    }
   ],
   "source": [
    "total_num = len(train_dataset)\n",
    "train_num, valid_num = int(total_num*0.8), int(total_num*0.2)\n",
    "\n",
    "train_dataset, valid_dataset = torch.utils.data.random_split(train_dataset, [train_num, valid_num])\n",
    "\n",
    "print(f'Train data: {len(train_dataset)}, Valid data: {len(valid_dataset)}, Test data: {len(test_dataset)}')"
   ]
  },
  {
   "cell_type": "code",
   "execution_count": 18,
   "metadata": {},
   "outputs": [],
   "source": [
    "batch_size = 1000\n",
    "\n",
    "train_dataloader = torch.utils.data.DataLoader(train_dataset, batch_size=batch_size, shuffle=True)\n",
    "valid_dataloader = torch.utils.data.DataLoader(valid_dataset, batch_size=batch_size, shuffle=False)\n",
    "test_dataloader = torch.utils.data.DataLoader(test_dataset, batch_size=batch_size, shuffle=False)"
   ]
  },
  {
   "cell_type": "code",
   "execution_count": 19,
   "metadata": {},
   "outputs": [
    {
     "name": "stdout",
     "output_type": "stream",
     "text": [
      "torch.Size([1000, 1, 28, 28])\n",
      "tensor([5, 8, 4, 4, 4, 0, 3, 9, 1, 3, 6, 2, 1, 3, 5, 7, 4, 6, 0, 4, 8, 4, 0, 4,\n",
      "        3, 3, 4, 3, 2, 4, 2, 6, 0, 2, 8, 9, 9, 6, 8, 1, 3, 1, 8, 1, 3, 2, 9, 9,\n",
      "        5, 8, 3, 0, 5, 7, 1, 1, 5, 7, 5, 6, 1, 3, 1, 4, 2, 0, 5, 6, 8, 7, 7, 1,\n",
      "        2, 1, 8, 3, 1, 7, 1, 4, 6, 6, 4, 0, 2, 4, 6, 3, 8, 7, 3, 9, 4, 2, 2, 1,\n",
      "        9, 9, 6, 2, 1, 1, 4, 9, 8, 3, 8, 0, 5, 8, 5, 0, 3, 8, 2, 4, 9, 8, 5, 8,\n",
      "        8, 2, 4, 7, 8, 4, 5, 8, 4, 0, 8, 8, 2, 1, 3, 8, 3, 5, 5, 4, 5, 4, 7, 6,\n",
      "        0, 7, 6, 2, 5, 4, 2, 9, 8, 2, 7, 5, 8, 7, 7, 3, 6, 5, 1, 4, 8, 7, 7, 3,\n",
      "        1, 3, 6, 2, 0, 0, 8, 5, 3, 7, 8, 3, 2, 0, 0, 0, 5, 4, 1, 7, 2, 2, 1, 1,\n",
      "        9, 5, 7, 5, 3, 2, 2, 7, 1, 9, 7, 7, 2, 7, 3, 4, 3, 1, 8, 1, 1, 0, 1, 3,\n",
      "        1, 1, 3, 9, 5, 1, 8, 6, 3, 8, 3, 6, 0, 7, 9, 2, 9, 2, 4, 8, 7, 7, 2, 6,\n",
      "        7, 3, 7, 7, 5, 4, 2, 6, 5, 0, 4, 4, 0, 4, 3, 2, 6, 5, 5, 2, 1, 9, 9, 7,\n",
      "        2, 9, 6, 5, 1, 1, 1, 2, 8, 0, 9, 3, 9, 1, 9, 6, 0, 6, 4, 3, 5, 7, 2, 4,\n",
      "        0, 5, 2, 9, 4, 0, 2, 7, 3, 0, 5, 5, 5, 4, 7, 4, 7, 0, 2, 1, 8, 5, 8, 6,\n",
      "        9, 9, 1, 7, 9, 2, 1, 8, 1, 9, 5, 2, 6, 0, 9, 9, 1, 1, 5, 7, 3, 0, 1, 1,\n",
      "        2, 4, 4, 4, 8, 3, 3, 4, 4, 7, 1, 5, 9, 0, 1, 5, 0, 1, 2, 4, 7, 0, 9, 7,\n",
      "        9, 6, 2, 2, 0, 9, 3, 8, 9, 4, 3, 2, 8, 8, 2, 5, 6, 1, 4, 8, 2, 3, 8, 6,\n",
      "        3, 7, 2, 0, 8, 1, 9, 8, 7, 6, 6, 5, 5, 3, 7, 5, 5, 6, 3, 3, 7, 2, 8, 9,\n",
      "        9, 2, 3, 4, 0, 7, 1, 6, 7, 2, 9, 5, 9, 1, 8, 1, 7, 9, 3, 4, 2, 1, 4, 2,\n",
      "        8, 8, 9, 6, 7, 7, 1, 8, 1, 1, 4, 5, 6, 7, 0, 3, 9, 7, 9, 9, 6, 8, 1, 5,\n",
      "        3, 9, 4, 9, 5, 9, 8, 9, 7, 1, 0, 1, 5, 3, 3, 0, 6, 9, 1, 8, 4, 3, 2, 2,\n",
      "        7, 6, 5, 2, 9, 6, 5, 4, 3, 7, 0, 1, 1, 7, 5, 1, 3, 2, 6, 5, 4, 8, 4, 2,\n",
      "        2, 0, 9, 7, 8, 6, 3, 4, 6, 8, 2, 0, 8, 7, 1, 7, 2, 1, 4, 3, 0, 5, 0, 2,\n",
      "        5, 1, 4, 8, 2, 2, 1, 7, 5, 6, 8, 1, 0, 8, 8, 8, 1, 8, 6, 5, 5, 5, 7, 1,\n",
      "        8, 0, 0, 4, 8, 5, 0, 9, 9, 2, 0, 6, 3, 5, 0, 0, 8, 5, 3, 1, 6, 3, 6, 2,\n",
      "        8, 8, 3, 1, 3, 9, 6, 1, 1, 4, 1, 2, 4, 0, 7, 9, 0, 2, 5, 2, 7, 8, 0, 6,\n",
      "        6, 9, 3, 9, 5, 5, 5, 3, 1, 8, 9, 6, 4, 2, 7, 8, 7, 1, 1, 9, 4, 2, 6, 6,\n",
      "        9, 2, 3, 5, 2, 2, 0, 6, 5, 8, 8, 3, 0, 6, 6, 6, 4, 1, 7, 5, 0, 2, 0, 5,\n",
      "        8, 6, 8, 0, 8, 1, 2, 7, 1, 3, 5, 3, 0, 8, 8, 1, 3, 7, 7, 0, 5, 8, 1, 6,\n",
      "        4, 6, 3, 6, 4, 8, 6, 7, 1, 1, 6, 6, 2, 6, 9, 9, 4, 2, 3, 1, 8, 2, 1, 6,\n",
      "        4, 1, 9, 1, 6, 5, 1, 7, 5, 3, 6, 0, 1, 1, 1, 2, 0, 1, 0, 1, 9, 1, 7, 4,\n",
      "        9, 9, 6, 2, 8, 9, 5, 3, 9, 4, 6, 6, 6, 5, 8, 5, 3, 4, 5, 5, 7, 5, 7, 8,\n",
      "        0, 3, 0, 2, 1, 1, 6, 3, 1, 9, 4, 0, 1, 5, 8, 9, 2, 5, 1, 0, 4, 3, 2, 3,\n",
      "        2, 4, 2, 6, 9, 9, 6, 2, 8, 9, 1, 4, 6, 4, 0, 1, 3, 6, 5, 6, 6, 5, 2, 6,\n",
      "        3, 3, 4, 3, 0, 4, 5, 9, 1, 5, 8, 6, 3, 8, 5, 5, 0, 3, 2, 1, 3, 0, 0, 7,\n",
      "        8, 0, 8, 0, 7, 8, 5, 0, 1, 9, 9, 3, 7, 0, 0, 5, 2, 1, 6, 7, 7, 8, 5, 9,\n",
      "        4, 3, 2, 1, 9, 0, 6, 9, 9, 9, 1, 9, 0, 9, 7, 2, 0, 2, 6, 4, 7, 1, 9, 6,\n",
      "        9, 1, 1, 9, 5, 2, 3, 9, 2, 5, 3, 5, 2, 9, 2, 2, 2, 7, 4, 0, 2, 0, 4, 0,\n",
      "        5, 5, 9, 7, 5, 6, 3, 2, 1, 4, 5, 0, 4, 3, 8, 4, 2, 4, 7, 3, 5, 6, 6, 8,\n",
      "        7, 8, 1, 7, 0, 9, 0, 2, 1, 9, 2, 3, 5, 7, 1, 0, 0, 0, 1, 6, 2, 1, 7, 2,\n",
      "        4, 6, 3, 7, 2, 2, 6, 8, 5, 4, 6, 4, 4, 6, 9, 7, 5, 9, 9, 3, 5, 4, 2, 6,\n",
      "        3, 3, 9, 5, 9, 5, 8, 8, 6, 9, 7, 9, 0, 8, 3, 2, 8, 1, 8, 9, 0, 9, 7, 4,\n",
      "        5, 3, 0, 7, 8, 7, 6, 2, 5, 5, 1, 0, 1, 2, 2, 6], dtype=torch.uint8)\n"
     ]
    }
   ],
   "source": [
    "for images, labels in train_dataloader:\n",
    "    print(images.shape)\n",
    "    print(labels)\n",
    "    break"
   ]
  },
  {
   "cell_type": "code",
   "execution_count": 29,
   "metadata": {},
   "outputs": [
    {
     "name": "stdout",
     "output_type": "stream",
     "text": [
      "torch.Size([1000, 28, 28])\n",
      "tensor([7, 3, 4, 7, 3, 8, 4, 3, 8, 6, 0, 6, 9, 5, 6, 2, 3, 6, 3, 1, 8, 0, 5, 8,\n",
      "        2, 2, 5, 6, 8, 6, 1, 4, 1, 5, 9, 0, 3, 9, 8, 1, 0, 0, 7, 2, 6, 5, 0, 9,\n",
      "        7, 2, 8, 1, 1, 4, 3, 1, 3, 7, 1, 0, 0, 8, 3, 4, 3, 5, 0, 2, 4, 1, 5, 8,\n",
      "        5, 6, 9, 8, 6, 9, 5, 9, 5, 1, 7, 6, 0, 3, 7, 3, 8, 4, 5, 3, 9, 7, 0, 8,\n",
      "        1, 5, 1, 2, 9, 2, 3, 2, 9, 7, 0, 3, 9, 9, 0, 8, 1, 6, 3, 5, 6, 9, 1, 4,\n",
      "        6, 0, 8, 8, 8, 3, 5, 9, 8, 8, 1, 7, 1, 7, 4, 9, 8, 2, 7, 5, 4, 8, 6, 4,\n",
      "        9, 8, 0, 0, 0, 2, 6, 2, 1, 2, 1, 9, 8, 3, 4, 4, 1, 3, 2, 6, 5, 7, 7, 3,\n",
      "        1, 8, 9, 3, 4, 6, 4, 8, 4, 9, 3, 9, 3, 8, 0, 9, 2, 1, 8, 8, 7, 8, 1, 1,\n",
      "        9, 4, 1, 7, 8, 8, 4, 1, 7, 5, 4, 9, 2, 6, 4, 1, 7, 8, 6, 6, 8, 1, 1, 9,\n",
      "        4, 2, 9, 2, 6, 3, 8, 6, 3, 5, 1, 2, 0, 5, 5, 3, 7, 1, 4, 0, 1, 3, 8, 3,\n",
      "        7, 0, 2, 6, 7, 6, 7, 1, 8, 2, 1, 8, 3, 0, 9, 3, 5, 6, 1, 0, 6, 3, 7, 9,\n",
      "        3, 5, 9, 0, 6, 7, 7, 3, 8, 9, 4, 4, 1, 1, 7, 5, 9, 9, 7, 1, 2, 7, 4, 1,\n",
      "        4, 2, 9, 5, 8, 2, 4, 2, 7, 2, 3, 7, 8, 7, 6, 1, 9, 1, 5, 6, 9, 4, 3, 9,\n",
      "        5, 0, 2, 4, 3, 9, 0, 8, 6, 0, 0, 1, 7, 7, 8, 6, 9, 0, 1, 0, 8, 6, 5, 7,\n",
      "        9, 1, 6, 7, 2, 4, 2, 2, 2, 3, 1, 9, 2, 3, 8, 4, 5, 5, 9, 2, 6, 0, 7, 7,\n",
      "        9, 0, 0, 0, 9, 6, 0, 9, 6, 4, 0, 1, 3, 5, 9, 3, 4, 6, 2, 4, 4, 7, 1, 8,\n",
      "        9, 7, 9, 3, 7, 9, 8, 0, 1, 0, 1, 4, 4, 0, 0, 8, 4, 0, 9, 7, 4, 3, 6, 2,\n",
      "        7, 2, 3, 5, 7, 5, 2, 1, 2, 4, 2, 5, 0, 3, 0, 6, 6, 0, 1, 8, 7, 5, 5, 8,\n",
      "        0, 6, 1, 1, 7, 8, 8, 1, 0, 8, 4, 2, 9, 6, 2, 4, 1, 6, 4, 7, 4, 7, 8, 2,\n",
      "        2, 9, 5, 5, 7, 1, 0, 8, 0, 9, 3, 0, 8, 8, 5, 0, 6, 0, 6, 9, 9, 7, 6, 3,\n",
      "        3, 0, 8, 8, 2, 8, 0, 2, 7, 0, 6, 5, 8, 6, 3, 1, 5, 0, 1, 6, 3, 2, 3, 0,\n",
      "        0, 7, 0, 8, 9, 9, 7, 7, 5, 4, 3, 1, 9, 1, 2, 0, 0, 3, 6, 5, 3, 2, 5, 9,\n",
      "        2, 0, 4, 2, 8, 7, 6, 6, 5, 2, 7, 0, 0, 2, 4, 0, 9, 1, 4, 8, 9, 2, 9, 0,\n",
      "        1, 0, 5, 5, 9, 4, 9, 9, 8, 1, 7, 7, 3, 7, 2, 9, 1, 5, 7, 8, 5, 3, 7, 9,\n",
      "        0, 9, 7, 1, 5, 3, 8, 7, 5, 6, 3, 2, 4, 0, 8, 9, 5, 7, 3, 4, 8, 1, 8, 1,\n",
      "        7, 0, 6, 4, 9, 8, 0, 1, 6, 0, 7, 8, 9, 7, 9, 3, 7, 5, 4, 5, 8, 5, 3, 2,\n",
      "        7, 8, 9, 7, 6, 5, 0, 3, 1, 1, 5, 6, 5, 1, 9, 4, 0, 6, 7, 7, 6, 8, 6, 8,\n",
      "        7, 5, 8, 3, 7, 3, 7, 5, 0, 1, 3, 1, 7, 1, 7, 3, 8, 2, 5, 0, 5, 2, 1, 9,\n",
      "        2, 5, 7, 0, 2, 6, 3, 6, 8, 0, 5, 6, 0, 4, 8, 8, 9, 2, 3, 6, 0, 4, 4, 8,\n",
      "        1, 9, 0, 7, 6, 3, 0, 5, 6, 9, 5, 2, 9, 0, 0, 3, 1, 2, 1, 8, 7, 9, 4, 2,\n",
      "        5, 7, 9, 2, 3, 3, 8, 5, 6, 5, 6, 6, 5, 7, 4, 2, 4, 5, 2, 1, 3, 1, 9, 2,\n",
      "        6, 9, 4, 2, 0, 3, 1, 0, 3, 8, 0, 3, 2, 4, 2, 3, 6, 6, 5, 3, 6, 3, 1, 5,\n",
      "        0, 0, 6, 9, 6, 5, 4, 5, 5, 9, 6, 5, 3, 6, 8, 5, 5, 7, 5, 5, 2, 1, 3, 6,\n",
      "        2, 9, 4, 4, 8, 2, 5, 1, 8, 7, 0, 6, 3, 6, 2, 5, 9, 4, 0, 6, 3, 9, 4, 1,\n",
      "        3, 0, 0, 9, 5, 1, 8, 0, 0, 1, 3, 4, 8, 2, 7, 9, 4, 9, 0, 9, 1, 6, 1, 8,\n",
      "        5, 8, 4, 8, 0, 8, 4, 9, 7, 4, 9, 6, 2, 3, 3, 0, 5, 3, 4, 1, 2, 9, 5, 4,\n",
      "        9, 5, 4, 2, 4, 6, 1, 9, 7, 1, 8, 4, 3, 5, 0, 8, 3, 3, 3, 9, 7, 2, 6, 1,\n",
      "        1, 3, 6, 6, 7, 8, 3, 6, 7, 9, 9, 6, 1, 9, 6, 6, 7, 7, 1, 5, 8, 3, 6, 4,\n",
      "        2, 9, 9, 9, 7, 0, 4, 1, 5, 8, 4, 7, 2, 8, 9, 8, 3, 3, 1, 7, 8, 2, 0, 8,\n",
      "        6, 8, 4, 6, 0, 0, 7, 1, 8, 6, 6, 8, 7, 8, 8, 6, 2, 9, 0, 0, 9, 1, 4, 8,\n",
      "        8, 7, 4, 0, 1, 7, 7, 0, 5, 5, 4, 1, 2, 9, 9, 1, 4, 7, 3, 4, 7, 4, 2, 5,\n",
      "        9, 4, 1, 9, 4, 5, 0, 8, 5, 8, 9, 2, 6, 9, 6, 5], dtype=torch.uint8)\n"
     ]
    }
   ],
   "source": [
    "for images, labels in train_dataloader:\n",
    "    print(images.squeeze().shape)\n",
    "    print(labels)\n",
    "    break"
   ]
  },
  {
   "cell_type": "markdown",
   "metadata": {},
   "source": [
    "# RNN Model"
   ]
  },
  {
   "cell_type": "code",
   "execution_count": 33,
   "metadata": {},
   "outputs": [],
   "source": [
    "class mnist_RNN(torch.nn.Module):\n",
    "    def __init__(self):\n",
    "        super().__init__()\n",
    "        \n",
    "        self.rnn = torch.nn.RNN(28, 128, batch_first=True)\n",
    "        self.fc = torch.nn.Linear(128, 10)\n",
    "        self.softmax = torch.nn.LogSoftmax(dim=1)\n",
    "\n",
    "    def forward(self, x):\n",
    "        x = x.squeeze()\n",
    "        outputs, h_0 = self.rnn(x)\n",
    "        outputs = self.fc(h_0.squeeze())\n",
    "        outputs = self.softmax(outputs)\n",
    "        \n",
    "        return outputs"
   ]
  },
  {
   "cell_type": "markdown",
   "metadata": {},
   "source": [
    "# train"
   ]
  },
  {
   "cell_type": "code",
   "execution_count": 39,
   "metadata": {},
   "outputs": [],
   "source": [
    "def training(model, train_dataloader, train_dataset, criterion, optimizer, epoch, num_epochs):\n",
    "    model.train()\n",
    "    train_loss = 0.0\n",
    "    train_accuracy = 0\n",
    "\n",
    "    tbar = tqdm(train_dataloader)\n",
    "    for images, labels in tbar:\n",
    "        images = images.to(device)\n",
    "        labels = labels.to(device)\n",
    "\n",
    "        outputs = model(images)\n",
    "        loss = criterion(outputs, labels)\n",
    "\n",
    "        optimizer.zero_grad()\n",
    "        loss.backward()\n",
    "        optimizer.step()\n",
    "\n",
    "        train_loss += loss.item()\n",
    "        max_prob, predicted = torch.max(outputs, 1)\n",
    "        train_accuracy += (labels == predicted).sum().item()\n",
    "\n",
    "        tbar.set_description(f'Epoch/Epochs: [{epoch+1}/{num_epochs}] Train Loss: {loss.item():.4f}')\n",
    "\n",
    "    train_loss = train_loss / len(train_dataloader)\n",
    "    train_accuracy = train_accuracy / len(train_dataset)\n",
    "\n",
    "    return model, train_loss, train_accuracy\n",
    "\n",
    "def evaluation(model, valid_dataloader, valid_dataset, criterion, epoch, num_epochs):\n",
    "    model.eval()\n",
    "    valid_loss = 0.0\n",
    "    valid_accuracy = 0\n",
    "\n",
    "    with torch.no_grad():\n",
    "        tbar = tqdm(valid_dataloader)\n",
    "        for images, labels in tbar:\n",
    "            images = images.to(device)\n",
    "            labels = labels.to(device)\n",
    "\n",
    "            outputs = model(images)\n",
    "            loss = criterion(outputs, labels)\n",
    "\n",
    "            valid_loss += loss.item()\n",
    "            max_prob, predicted = torch.max(outputs, 1)\n",
    "            valid_accuracy += (predicted == labels).sum().item()\n",
    "\n",
    "            tbar.set_description(f'Epoch/Epochs: [{epoch+1}/{num_epochs}] Valid Loss: {loss.item():.4f}')\n",
    "\n",
    "    valid_loss = valid_loss / len(valid_dataloader)\n",
    "    valid_accuracy = valid_accuracy / len(valid_dataset)\n",
    "\n",
    "    return model, valid_loss, valid_accuracy\n",
    "\n",
    "def training_loop(model, train_dataloader, valid_dataloader, train_dataset, valid_dataset, criterion, optimizer, num_epochs, run):\n",
    "    model.to(device)\n",
    "    for epoch in range(num_epochs):\n",
    "        model, train_loss, train_accuracy = training(model, train_dataloader, train_dataset, criterion, optimizer, epoch, num_epochs)\n",
    "        model, valid_loss, valid_accuracy = evaluation(model, valid_dataloader, valid_dataset, criterion, epoch, num_epochs)\n",
    "\n",
    "        monitoring = {'Train Loss':train_loss, 'Train Accuracy':train_accuracy, 'Valid Loss':valid_loss, 'Valid Accuracy':valid_accuracy}\n",
    "        run.log(monitoring, step=epoch)\n",
    "\n",
    "        print(f'Train Loss: {train_loss}, Train Accuracy: {train_accuracy}, Valid Loss: {valid_loss}, Valid Accuracy: {valid_accuracy}')\n",
    "\n",
    "    return model"
   ]
  },
  {
   "cell_type": "code",
   "execution_count": 40,
   "metadata": {},
   "outputs": [
    {
     "data": {
      "text/html": [
       "Finishing last run (ID:0eube5le) before initializing another..."
      ],
      "text/plain": [
       "<IPython.core.display.HTML object>"
      ]
     },
     "metadata": {},
     "output_type": "display_data"
    },
    {
     "data": {
      "application/vnd.jupyter.widget-view+json": {
       "model_id": "78a9f5aa96e0469586da5dfc36751a0a",
       "version_major": 2,
       "version_minor": 0
      },
      "text/plain": [
       "VBox(children=(Label(value='0.001 MB of 0.010 MB uploaded\\r'), FloatProgress(value=0.09663906478324404, max=1.…"
      ]
     },
     "metadata": {},
     "output_type": "display_data"
    },
    {
     "data": {
      "text/html": [
       " View run <strong style=\"color:#cdcd00\">vanilla_rnn_training</strong> at: <a href='https://wandb.ai/greedjar7498/DL_mission_middle_2/runs/0eube5le' target=\"_blank\">https://wandb.ai/greedjar7498/DL_mission_middle_2/runs/0eube5le</a><br/> View project at: <a href='https://wandb.ai/greedjar7498/DL_mission_middle_2' target=\"_blank\">https://wandb.ai/greedjar7498/DL_mission_middle_2</a><br/>Synced 5 W&B file(s), 0 media file(s), 0 artifact file(s) and 0 other file(s)"
      ],
      "text/plain": [
       "<IPython.core.display.HTML object>"
      ]
     },
     "metadata": {},
     "output_type": "display_data"
    },
    {
     "data": {
      "text/html": [
       "Find logs at: <code>./wandb/run-20240707_115946-0eube5le/logs</code>"
      ],
      "text/plain": [
       "<IPython.core.display.HTML object>"
      ]
     },
     "metadata": {},
     "output_type": "display_data"
    },
    {
     "data": {
      "text/html": [
       "The new W&B backend becomes opt-out in version 0.18.0; try it out with `wandb.require(\"core\")`! See https://wandb.me/wandb-core for more information."
      ],
      "text/plain": [
       "<IPython.core.display.HTML object>"
      ]
     },
     "metadata": {},
     "output_type": "display_data"
    },
    {
     "data": {
      "text/html": [
       "Successfully finished last run (ID:0eube5le). Initializing new run:<br/>"
      ],
      "text/plain": [
       "<IPython.core.display.HTML object>"
      ]
     },
     "metadata": {},
     "output_type": "display_data"
    },
    {
     "data": {
      "application/vnd.jupyter.widget-view+json": {
       "model_id": "a106745efc3b42fa804c7dc1e6ae668b",
       "version_major": 2,
       "version_minor": 0
      },
      "text/plain": [
       "VBox(children=(Label(value='Waiting for wandb.init()...\\r'), FloatProgress(value=0.01116763703333466, max=1.0)…"
      ]
     },
     "metadata": {},
     "output_type": "display_data"
    },
    {
     "data": {
      "text/html": [
       "wandb version 0.17.4 is available!  To upgrade, please run:\n",
       " $ pip install wandb --upgrade"
      ],
      "text/plain": [
       "<IPython.core.display.HTML object>"
      ]
     },
     "metadata": {},
     "output_type": "display_data"
    },
    {
     "data": {
      "text/html": [
       "Tracking run with wandb version 0.17.3"
      ],
      "text/plain": [
       "<IPython.core.display.HTML object>"
      ]
     },
     "metadata": {},
     "output_type": "display_data"
    },
    {
     "data": {
      "text/html": [
       "Run data is saved locally in <code>/Users/kimhongseok/upstage_AI_Lab/mission/DeepLearning/wandb/run-20240707_120009-bahqatwh</code>"
      ],
      "text/plain": [
       "<IPython.core.display.HTML object>"
      ]
     },
     "metadata": {},
     "output_type": "display_data"
    },
    {
     "data": {
      "text/html": [
       "Syncing run <strong><a href='https://wandb.ai/greedjar7498/DL_mission_middle_2/runs/bahqatwh' target=\"_blank\">vanilla_rnn_training</a></strong> to <a href='https://wandb.ai/greedjar7498/DL_mission_middle_2' target=\"_blank\">Weights & Biases</a> (<a href='https://wandb.me/run' target=\"_blank\">docs</a>)<br/>"
      ],
      "text/plain": [
       "<IPython.core.display.HTML object>"
      ]
     },
     "metadata": {},
     "output_type": "display_data"
    },
    {
     "data": {
      "text/html": [
       " View project at <a href='https://wandb.ai/greedjar7498/DL_mission_middle_2' target=\"_blank\">https://wandb.ai/greedjar7498/DL_mission_middle_2</a>"
      ],
      "text/plain": [
       "<IPython.core.display.HTML object>"
      ]
     },
     "metadata": {},
     "output_type": "display_data"
    },
    {
     "data": {
      "text/html": [
       " View run at <a href='https://wandb.ai/greedjar7498/DL_mission_middle_2/runs/bahqatwh' target=\"_blank\">https://wandb.ai/greedjar7498/DL_mission_middle_2/runs/bahqatwh</a>"
      ],
      "text/plain": [
       "<IPython.core.display.HTML object>"
      ]
     },
     "metadata": {},
     "output_type": "display_data"
    },
    {
     "data": {
      "application/vnd.jupyter.widget-view+json": {
       "model_id": "a57de92e2644407f954dbb9bb5060907",
       "version_major": 2,
       "version_minor": 0
      },
      "text/plain": [
       "  0%|          | 0/48 [00:00<?, ?it/s]"
      ]
     },
     "metadata": {},
     "output_type": "display_data"
    },
    {
     "data": {
      "application/vnd.jupyter.widget-view+json": {
       "model_id": "10924a6cd13f4e1d9a248eb20eb4f61a",
       "version_major": 2,
       "version_minor": 0
      },
      "text/plain": [
       "  0%|          | 0/12 [00:00<?, ?it/s]"
      ]
     },
     "metadata": {},
     "output_type": "display_data"
    },
    {
     "name": "stdout",
     "output_type": "stream",
     "text": [
      "Train Loss: 1.7264966766039531, Train Accuracy: 0.40227083333333336, Valid Loss: 1.2986939748128254, Valid Accuracy: 0.5465833333333333\n"
     ]
    },
    {
     "data": {
      "application/vnd.jupyter.widget-view+json": {
       "model_id": "4b8c7ab18f30440ea8bbdd8994baac46",
       "version_major": 2,
       "version_minor": 0
      },
      "text/plain": [
       "  0%|          | 0/48 [00:00<?, ?it/s]"
      ]
     },
     "metadata": {},
     "output_type": "display_data"
    },
    {
     "data": {
      "application/vnd.jupyter.widget-view+json": {
       "model_id": "e36b71c52d0842a7a0d8f2e94dd25762",
       "version_major": 2,
       "version_minor": 0
      },
      "text/plain": [
       "  0%|          | 0/12 [00:00<?, ?it/s]"
      ]
     },
     "metadata": {},
     "output_type": "display_data"
    },
    {
     "name": "stdout",
     "output_type": "stream",
     "text": [
      "Train Loss: 1.1529332225521405, Train Accuracy: 0.5953125, Valid Loss: 1.0490704774856567, Valid Accuracy: 0.63325\n"
     ]
    },
    {
     "data": {
      "application/vnd.jupyter.widget-view+json": {
       "model_id": "46bc7e4ef29a4e5a9c881a00f0297e42",
       "version_major": 2,
       "version_minor": 0
      },
      "text/plain": [
       "  0%|          | 0/48 [00:00<?, ?it/s]"
      ]
     },
     "metadata": {},
     "output_type": "display_data"
    },
    {
     "data": {
      "application/vnd.jupyter.widget-view+json": {
       "model_id": "bc2536b1a8b442c9b01ef0aae01bb09e",
       "version_major": 2,
       "version_minor": 0
      },
      "text/plain": [
       "  0%|          | 0/12 [00:00<?, ?it/s]"
      ]
     },
     "metadata": {},
     "output_type": "display_data"
    },
    {
     "name": "stdout",
     "output_type": "stream",
     "text": [
      "Train Loss: 0.9097320611278216, Train Accuracy: 0.6864166666666667, Valid Loss: 0.8265765408674876, Valid Accuracy: 0.7280833333333333\n"
     ]
    },
    {
     "data": {
      "application/vnd.jupyter.widget-view+json": {
       "model_id": "7395ac3f3a6b4efc9174b596718d5253",
       "version_major": 2,
       "version_minor": 0
      },
      "text/plain": [
       "  0%|          | 0/48 [00:00<?, ?it/s]"
      ]
     },
     "metadata": {},
     "output_type": "display_data"
    },
    {
     "data": {
      "application/vnd.jupyter.widget-view+json": {
       "model_id": "c87314af0b794ac88ffccd6614ee299d",
       "version_major": 2,
       "version_minor": 0
      },
      "text/plain": [
       "  0%|          | 0/12 [00:00<?, ?it/s]"
      ]
     },
     "metadata": {},
     "output_type": "display_data"
    },
    {
     "name": "stdout",
     "output_type": "stream",
     "text": [
      "Train Loss: 0.7429822323222955, Train Accuracy: 0.7529791666666666, Valid Loss: 0.6977052440245947, Valid Accuracy: 0.773\n"
     ]
    },
    {
     "data": {
      "application/vnd.jupyter.widget-view+json": {
       "model_id": "e7b932a84ba4430ab9e838219a065749",
       "version_major": 2,
       "version_minor": 0
      },
      "text/plain": [
       "  0%|          | 0/48 [00:00<?, ?it/s]"
      ]
     },
     "metadata": {},
     "output_type": "display_data"
    },
    {
     "data": {
      "application/vnd.jupyter.widget-view+json": {
       "model_id": "1daac04ee7634a3897b9347f3e4ccade",
       "version_major": 2,
       "version_minor": 0
      },
      "text/plain": [
       "  0%|          | 0/12 [00:00<?, ?it/s]"
      ]
     },
     "metadata": {},
     "output_type": "display_data"
    },
    {
     "name": "stdout",
     "output_type": "stream",
     "text": [
      "Train Loss: 0.6364752799272537, Train Accuracy: 0.795, Valid Loss: 0.604251354932785, Valid Accuracy: 0.8079166666666666\n"
     ]
    },
    {
     "data": {
      "application/vnd.jupyter.widget-view+json": {
       "model_id": "66a6599b234d4e0096302a0f7946dec0",
       "version_major": 2,
       "version_minor": 0
      },
      "text/plain": [
       "  0%|          | 0/48 [00:00<?, ?it/s]"
      ]
     },
     "metadata": {},
     "output_type": "display_data"
    },
    {
     "data": {
      "application/vnd.jupyter.widget-view+json": {
       "model_id": "b04be41bd6d84e89a5274e78f40f2939",
       "version_major": 2,
       "version_minor": 0
      },
      "text/plain": [
       "  0%|          | 0/12 [00:00<?, ?it/s]"
      ]
     },
     "metadata": {},
     "output_type": "display_data"
    },
    {
     "name": "stdout",
     "output_type": "stream",
     "text": [
      "Train Loss: 0.5267949545135101, Train Accuracy: 0.8360833333333333, Valid Loss: 0.501994843284289, Valid Accuracy: 0.8448333333333333\n"
     ]
    },
    {
     "data": {
      "application/vnd.jupyter.widget-view+json": {
       "model_id": "91fe6250f5934ea0a63876a68c6cd45a",
       "version_major": 2,
       "version_minor": 0
      },
      "text/plain": [
       "  0%|          | 0/48 [00:00<?, ?it/s]"
      ]
     },
     "metadata": {},
     "output_type": "display_data"
    },
    {
     "data": {
      "application/vnd.jupyter.widget-view+json": {
       "model_id": "db7786e3111143c2bf74dbf263908286",
       "version_major": 2,
       "version_minor": 0
      },
      "text/plain": [
       "  0%|          | 0/12 [00:00<?, ?it/s]"
      ]
     },
     "metadata": {},
     "output_type": "display_data"
    },
    {
     "name": "stdout",
     "output_type": "stream",
     "text": [
      "Train Loss: 0.473714600627621, Train Accuracy: 0.8520833333333333, Valid Loss: 0.45521469165881473, Valid Accuracy: 0.86325\n"
     ]
    },
    {
     "data": {
      "application/vnd.jupyter.widget-view+json": {
       "model_id": "0b0464cc709043a2a392759b039fc978",
       "version_major": 2,
       "version_minor": 0
      },
      "text/plain": [
       "  0%|          | 0/48 [00:00<?, ?it/s]"
      ]
     },
     "metadata": {},
     "output_type": "display_data"
    },
    {
     "data": {
      "application/vnd.jupyter.widget-view+json": {
       "model_id": "1392acf1fed34766b0e8302761b2b719",
       "version_major": 2,
       "version_minor": 0
      },
      "text/plain": [
       "  0%|          | 0/12 [00:00<?, ?it/s]"
      ]
     },
     "metadata": {},
     "output_type": "display_data"
    },
    {
     "name": "stdout",
     "output_type": "stream",
     "text": [
      "Train Loss: 0.4207573936631282, Train Accuracy: 0.8716041666666666, Valid Loss: 0.4489947979648908, Valid Accuracy: 0.8654166666666666\n"
     ]
    },
    {
     "data": {
      "application/vnd.jupyter.widget-view+json": {
       "model_id": "7365d73df0c245e8b9bf5783fd82f5f8",
       "version_major": 2,
       "version_minor": 0
      },
      "text/plain": [
       "  0%|          | 0/48 [00:00<?, ?it/s]"
      ]
     },
     "metadata": {},
     "output_type": "display_data"
    },
    {
     "data": {
      "application/vnd.jupyter.widget-view+json": {
       "model_id": "86b78b3504de4fe5928e99f97a8d3697",
       "version_major": 2,
       "version_minor": 0
      },
      "text/plain": [
       "  0%|          | 0/12 [00:00<?, ?it/s]"
      ]
     },
     "metadata": {},
     "output_type": "display_data"
    },
    {
     "name": "stdout",
     "output_type": "stream",
     "text": [
      "Train Loss: 0.38162326750655967, Train Accuracy: 0.884625, Valid Loss: 0.37962450832128525, Valid Accuracy: 0.8881666666666667\n"
     ]
    },
    {
     "data": {
      "application/vnd.jupyter.widget-view+json": {
       "model_id": "060919095c1f44eea6039d0bc654f5c8",
       "version_major": 2,
       "version_minor": 0
      },
      "text/plain": [
       "  0%|          | 0/48 [00:00<?, ?it/s]"
      ]
     },
     "metadata": {},
     "output_type": "display_data"
    },
    {
     "data": {
      "application/vnd.jupyter.widget-view+json": {
       "model_id": "31ab0130bcc54a87850173a486f2fbd7",
       "version_major": 2,
       "version_minor": 0
      },
      "text/plain": [
       "  0%|          | 0/12 [00:00<?, ?it/s]"
      ]
     },
     "metadata": {},
     "output_type": "display_data"
    },
    {
     "name": "stdout",
     "output_type": "stream",
     "text": [
      "Train Loss: 0.3566052932292223, Train Accuracy: 0.8929375, Valid Loss: 0.3624284341931343, Valid Accuracy: 0.8975833333333333\n"
     ]
    },
    {
     "data": {
      "application/vnd.jupyter.widget-view+json": {
       "model_id": "48d5bd3d3870475a8711f72426a32752",
       "version_major": 2,
       "version_minor": 0
      },
      "text/plain": [
       "  0%|          | 0/48 [00:00<?, ?it/s]"
      ]
     },
     "metadata": {},
     "output_type": "display_data"
    },
    {
     "data": {
      "application/vnd.jupyter.widget-view+json": {
       "model_id": "7fd2b45f5f1c47859da6060ee472c57e",
       "version_major": 2,
       "version_minor": 0
      },
      "text/plain": [
       "  0%|          | 0/12 [00:00<?, ?it/s]"
      ]
     },
     "metadata": {},
     "output_type": "display_data"
    },
    {
     "name": "stdout",
     "output_type": "stream",
     "text": [
      "Train Loss: 0.32867116294801235, Train Accuracy: 0.9022291666666666, Valid Loss: 0.347105676929156, Valid Accuracy: 0.8986666666666666\n"
     ]
    },
    {
     "data": {
      "application/vnd.jupyter.widget-view+json": {
       "model_id": "80d7daf4b65243ca8da17e96830fde60",
       "version_major": 2,
       "version_minor": 0
      },
      "text/plain": [
       "  0%|          | 0/48 [00:00<?, ?it/s]"
      ]
     },
     "metadata": {},
     "output_type": "display_data"
    },
    {
     "data": {
      "application/vnd.jupyter.widget-view+json": {
       "model_id": "505ea365558046db8ce0e0876a7c0bbb",
       "version_major": 2,
       "version_minor": 0
      },
      "text/plain": [
       "  0%|          | 0/12 [00:00<?, ?it/s]"
      ]
     },
     "metadata": {},
     "output_type": "display_data"
    },
    {
     "name": "stdout",
     "output_type": "stream",
     "text": [
      "Train Loss: 0.3025879630198081, Train Accuracy: 0.9109583333333333, Valid Loss: 0.3067381891111533, Valid Accuracy: 0.91225\n"
     ]
    },
    {
     "data": {
      "application/vnd.jupyter.widget-view+json": {
       "model_id": "37df95c699224846b33a69578eb86a47",
       "version_major": 2,
       "version_minor": 0
      },
      "text/plain": [
       "  0%|          | 0/48 [00:00<?, ?it/s]"
      ]
     },
     "metadata": {},
     "output_type": "display_data"
    },
    {
     "data": {
      "application/vnd.jupyter.widget-view+json": {
       "model_id": "fb0dad8c71934f20b00e57fd00adf37b",
       "version_major": 2,
       "version_minor": 0
      },
      "text/plain": [
       "  0%|          | 0/12 [00:00<?, ?it/s]"
      ]
     },
     "metadata": {},
     "output_type": "display_data"
    },
    {
     "name": "stdout",
     "output_type": "stream",
     "text": [
      "Train Loss: 0.2832823529218634, Train Accuracy: 0.91625, Valid Loss: 0.30221010868748027, Valid Accuracy: 0.9129166666666667\n"
     ]
    },
    {
     "data": {
      "application/vnd.jupyter.widget-view+json": {
       "model_id": "beb93919882e407585db56983df76da8",
       "version_major": 2,
       "version_minor": 0
      },
      "text/plain": [
       "  0%|          | 0/48 [00:00<?, ?it/s]"
      ]
     },
     "metadata": {},
     "output_type": "display_data"
    },
    {
     "data": {
      "application/vnd.jupyter.widget-view+json": {
       "model_id": "bf098bc9a76742dcad4b361eec1cdc88",
       "version_major": 2,
       "version_minor": 0
      },
      "text/plain": [
       "  0%|          | 0/12 [00:00<?, ?it/s]"
      ]
     },
     "metadata": {},
     "output_type": "display_data"
    },
    {
     "name": "stdout",
     "output_type": "stream",
     "text": [
      "Train Loss: 0.265293021996816, Train Accuracy: 0.9218541666666666, Valid Loss: 0.2868014872074127, Valid Accuracy: 0.9174166666666667\n"
     ]
    },
    {
     "data": {
      "application/vnd.jupyter.widget-view+json": {
       "model_id": "028cf973765143638d416813ed152a48",
       "version_major": 2,
       "version_minor": 0
      },
      "text/plain": [
       "  0%|          | 0/48 [00:00<?, ?it/s]"
      ]
     },
     "metadata": {},
     "output_type": "display_data"
    },
    {
     "data": {
      "application/vnd.jupyter.widget-view+json": {
       "model_id": "36c903afc25545dd934b746a63f2c40c",
       "version_major": 2,
       "version_minor": 0
      },
      "text/plain": [
       "  0%|          | 0/12 [00:00<?, ?it/s]"
      ]
     },
     "metadata": {},
     "output_type": "display_data"
    },
    {
     "name": "stdout",
     "output_type": "stream",
     "text": [
      "Train Loss: 0.26009257324039936, Train Accuracy: 0.9224583333333334, Valid Loss: 0.2690180353820324, Valid Accuracy: 0.9225833333333333\n"
     ]
    }
   ],
   "source": [
    "run_vanilla_rnn = wandb.init(project='DL_mission_middle_2', name='vanilla_rnn_training')\n",
    "model = mnist_RNN()\n",
    "\n",
    "criterion = torch.nn.NLLLoss()\n",
    "optimizer = torch.optim.Adam(model.parameters(), lr=0.001)\n",
    "\n",
    "model = training_loop(model, train_dataloader, valid_dataloader, train_dataset, valid_dataset, criterion, optimizer, 15, run_vanilla_rnn)\n",
    "run_vanilla_rnn.finish()"
   ]
  },
  {
   "cell_type": "markdown",
   "metadata": {},
   "source": [
    "# test"
   ]
  },
  {
   "cell_type": "code",
   "execution_count": 43,
   "metadata": {},
   "outputs": [
    {
     "data": {
      "application/vnd.jupyter.widget-view+json": {
       "model_id": "cd0d02d3ef914cb4b93a7b3cd3fc05a9",
       "version_major": 2,
       "version_minor": 0
      },
      "text/plain": [
       "  0%|          | 0/10 [00:00<?, ?it/s]"
      ]
     },
     "metadata": {},
     "output_type": "display_data"
    },
    {
     "name": "stdout",
     "output_type": "stream",
     "text": [
      "Test Loss: 0.24559555500745772, Test Accuracy: 0.9278\n"
     ]
    }
   ],
   "source": [
    "model.eval()\n",
    "test_loss = 0.0\n",
    "test_accuracy = 0\n",
    "\n",
    "total_labels = []\n",
    "total_images = []\n",
    "total_pred = []\n",
    "\n",
    "with torch.no_grad():\n",
    "    tbar = tqdm(test_dataloader)\n",
    "    for images, labels in tbar:\n",
    "        images = images.to(device)\n",
    "        labels = labels.to(device)\n",
    "\n",
    "        outputs = model(images)\n",
    "        loss = criterion(outputs, labels)\n",
    "\n",
    "        test_loss += loss.item()\n",
    "        max_prob, predicted = torch.max(outputs, 1)\n",
    "        test_accuracy += (predicted == labels).sum().item()\n",
    "\n",
    "        total_labels.extend(labels.cpu())\n",
    "        total_images.extend(images.cpu())\n",
    "        total_pred.extend(predicted.cpu())\n",
    "\n",
    "test_loss = test_loss / len(test_dataloader)\n",
    "test_accuracy = test_accuracy / len(test_dataset)\n",
    "\n",
    "print(f'Test Loss: {test_loss}, Test Accuracy: {test_accuracy}')"
   ]
  },
  {
   "cell_type": "code",
   "execution_count": 47,
   "metadata": {},
   "outputs": [
    {
     "data": {
      "image/png": "[encoded data removed]",
      "text/plain": [
       "<Figure size 1500x1500 with 20 Axes>"
      ]
     },
     "metadata": {},
     "output_type": "display_data"
    }
   ],
   "source": [
    "plt.figure(figsize=(15, 15))\n",
    "\n",
    "for i in range(20):\n",
    "    ax = plt.subplot(4, 5, i+1)\n",
    "    plt.imshow(total_images[i].squeeze(), cmap='gray')\n",
    "    plt.title(f'real: {total_labels[i]}\\npred: {total_pred[i]}')"
   ]
  },
  {
   "cell_type": "markdown",
   "metadata": {},
   "source": [
    "# LSTM model"
   ]
  },
  {
   "cell_type": "code",
   "execution_count": 48,
   "metadata": {},
   "outputs": [],
   "source": [
    "class LSTM_model(torch.nn.Module):\n",
    "    def __init__(self):\n",
    "        super().__init__()\n",
    "\n",
    "        self.lstm = torch.nn.LSTM(28, 128, batch_first=True)\n",
    "        self.fc = torch.nn.Linear(128, 10)\n",
    "        self.softmax = torch.nn.LogSoftmax(dim=1)\n",
    "\n",
    "    def forward(self, x):\n",
    "        x = x.squeeze()\n",
    "        outputs, h_0 = self.lstm(x)\n",
    "        outputs = self.fc(outputs[:, -1, :])\n",
    "        outputs = self.softmax(outputs)\n",
    "\n",
    "        return outputs"
   ]
  },
  {
   "cell_type": "code",
   "execution_count": 49,
   "metadata": {},
   "outputs": [
    {
     "data": {
      "text/html": [
       "wandb version 0.17.4 is available!  To upgrade, please run:\n",
       " $ pip install wandb --upgrade"
      ],
      "text/plain": [
       "<IPython.core.display.HTML object>"
      ]
     },
     "metadata": {},
     "output_type": "display_data"
    },
    {
     "data": {
      "text/html": [
       "Tracking run with wandb version 0.17.3"
      ],
      "text/plain": [
       "<IPython.core.display.HTML object>"
      ]
     },
     "metadata": {},
     "output_type": "display_data"
    },
    {
     "data": {
      "text/html": [
       "Run data is saved locally in <code>/Users/kimhongseok/upstage_AI_Lab/mission/DeepLearning/wandb/run-20240707_121334-cp13m2u4</code>"
      ],
      "text/plain": [
       "<IPython.core.display.HTML object>"
      ]
     },
     "metadata": {},
     "output_type": "display_data"
    },
    {
     "data": {
      "text/html": [
       "Syncing run <strong><a href='https://wandb.ai/greedjar7498/DL_mission_middle_2/runs/cp13m2u4' target=\"_blank\">lstm_training</a></strong> to <a href='https://wandb.ai/greedjar7498/DL_mission_middle_2' target=\"_blank\">Weights & Biases</a> (<a href='https://wandb.me/run' target=\"_blank\">docs</a>)<br/>"
      ],
      "text/plain": [
       "<IPython.core.display.HTML object>"
      ]
     },
     "metadata": {},
     "output_type": "display_data"
    },
    {
     "data": {
      "text/html": [
       " View project at <a href='https://wandb.ai/greedjar7498/DL_mission_middle_2' target=\"_blank\">https://wandb.ai/greedjar7498/DL_mission_middle_2</a>"
      ],
      "text/plain": [
       "<IPython.core.display.HTML object>"
      ]
     },
     "metadata": {},
     "output_type": "display_data"
    },
    {
     "data": {
      "text/html": [
       " View run at <a href='https://wandb.ai/greedjar7498/DL_mission_middle_2/runs/cp13m2u4' target=\"_blank\">https://wandb.ai/greedjar7498/DL_mission_middle_2/runs/cp13m2u4</a>"
      ],
      "text/plain": [
       "<IPython.core.display.HTML object>"
      ]
     },
     "metadata": {},
     "output_type": "display_data"
    },
    {
     "data": {
      "application/vnd.jupyter.widget-view+json": {
       "model_id": "d812065043df4abcbe8c5ef9186c080d",
       "version_major": 2,
       "version_minor": 0
      },
      "text/plain": [
       "  0%|          | 0/48 [00:00<?, ?it/s]"
      ]
     },
     "metadata": {},
     "output_type": "display_data"
    },
    {
     "data": {
      "application/vnd.jupyter.widget-view+json": {
       "model_id": "8ae012058aff4767bf9b0b976d79b4ee",
       "version_major": 2,
       "version_minor": 0
      },
      "text/plain": [
       "  0%|          | 0/12 [00:00<?, ?it/s]"
      ]
     },
     "metadata": {},
     "output_type": "display_data"
    },
    {
     "name": "stdout",
     "output_type": "stream",
     "text": [
      "Train Loss: 1.9500262613097827, Train Accuracy: 0.3197083333333333, Valid Loss: 1.1499962309996288, Valid Accuracy: 0.63625\n"
     ]
    },
    {
     "data": {
      "application/vnd.jupyter.widget-view+json": {
       "model_id": "fb5ab248e8954da09eec8067a95bc166",
       "version_major": 2,
       "version_minor": 0
      },
      "text/plain": [
       "  0%|          | 0/48 [00:00<?, ?it/s]"
      ]
     },
     "metadata": {},
     "output_type": "display_data"
    },
    {
     "data": {
      "application/vnd.jupyter.widget-view+json": {
       "model_id": "c271548ed6dd4faf8f231568c21d7340",
       "version_major": 2,
       "version_minor": 0
      },
      "text/plain": [
       "  0%|          | 0/12 [00:00<?, ?it/s]"
      ]
     },
     "metadata": {},
     "output_type": "display_data"
    },
    {
     "name": "stdout",
     "output_type": "stream",
     "text": [
      "Train Loss: 0.7501473209510247, Train Accuracy: 0.7725416666666667, Valid Loss: 0.49411413818597794, Valid Accuracy: 0.8545833333333334\n"
     ]
    },
    {
     "data": {
      "application/vnd.jupyter.widget-view+json": {
       "model_id": "2ca2db4432154b69812d82e61eafa64f",
       "version_major": 2,
       "version_minor": 0
      },
      "text/plain": [
       "  0%|          | 0/48 [00:00<?, ?it/s]"
      ]
     },
     "metadata": {},
     "output_type": "display_data"
    },
    {
     "data": {
      "application/vnd.jupyter.widget-view+json": {
       "model_id": "4b8d9e5947d94addade105a6f0b09c32",
       "version_major": 2,
       "version_minor": 0
      },
      "text/plain": [
       "  0%|          | 0/12 [00:00<?, ?it/s]"
      ]
     },
     "metadata": {},
     "output_type": "display_data"
    },
    {
     "name": "stdout",
     "output_type": "stream",
     "text": [
      "Train Loss: 0.384783573448658, Train Accuracy: 0.8863541666666667, Valid Loss: 0.3134942402442296, Valid Accuracy: 0.9086666666666666\n"
     ]
    },
    {
     "data": {
      "application/vnd.jupyter.widget-view+json": {
       "model_id": "4ef60be0a0a547bdbf1c8ec365341dce",
       "version_major": 2,
       "version_minor": 0
      },
      "text/plain": [
       "  0%|          | 0/48 [00:00<?, ?it/s]"
      ]
     },
     "metadata": {},
     "output_type": "display_data"
    },
    {
     "data": {
      "application/vnd.jupyter.widget-view+json": {
       "model_id": "0ce6e600386748deab323a19e56de2c3",
       "version_major": 2,
       "version_minor": 0
      },
      "text/plain": [
       "  0%|          | 0/12 [00:00<?, ?it/s]"
      ]
     },
     "metadata": {},
     "output_type": "display_data"
    },
    {
     "name": "stdout",
     "output_type": "stream",
     "text": [
      "Train Loss: 0.2650970558946331, Train Accuracy: 0.9230625, Valid Loss: 0.25719384476542473, Valid Accuracy: 0.9208333333333333\n"
     ]
    },
    {
     "data": {
      "application/vnd.jupyter.widget-view+json": {
       "model_id": "58f5618bbbf249bd84c9f8e33e47f102",
       "version_major": 2,
       "version_minor": 0
      },
      "text/plain": [
       "  0%|          | 0/48 [00:00<?, ?it/s]"
      ]
     },
     "metadata": {},
     "output_type": "display_data"
    },
    {
     "data": {
      "application/vnd.jupyter.widget-view+json": {
       "model_id": "38fe5e839ef8421a835f1669fbe53ea0",
       "version_major": 2,
       "version_minor": 0
      },
      "text/plain": [
       "  0%|          | 0/12 [00:00<?, ?it/s]"
      ]
     },
     "metadata": {},
     "output_type": "display_data"
    },
    {
     "name": "stdout",
     "output_type": "stream",
     "text": [
      "Train Loss: 0.2113545803974072, Train Accuracy: 0.93725, Valid Loss: 0.21463741858800253, Valid Accuracy: 0.9360833333333334\n"
     ]
    },
    {
     "data": {
      "application/vnd.jupyter.widget-view+json": {
       "model_id": "429cf6b9bc5140c7a9b427466263a72b",
       "version_major": 2,
       "version_minor": 0
      },
      "text/plain": [
       "  0%|          | 0/48 [00:00<?, ?it/s]"
      ]
     },
     "metadata": {},
     "output_type": "display_data"
    },
    {
     "data": {
      "application/vnd.jupyter.widget-view+json": {
       "model_id": "4346349b7dad428f9f05e46bba8e5ac9",
       "version_major": 2,
       "version_minor": 0
      },
      "text/plain": [
       "  0%|          | 0/12 [00:00<?, ?it/s]"
      ]
     },
     "metadata": {},
     "output_type": "display_data"
    },
    {
     "name": "stdout",
     "output_type": "stream",
     "text": [
      "Train Loss: 0.1751352228845159, Train Accuracy: 0.9480208333333333, Valid Loss: 0.18794801831245422, Valid Accuracy: 0.9450833333333334\n"
     ]
    },
    {
     "data": {
      "application/vnd.jupyter.widget-view+json": {
       "model_id": "d924b613c0e14674bd72218603ea6b86",
       "version_major": 2,
       "version_minor": 0
      },
      "text/plain": [
       "  0%|          | 0/48 [00:00<?, ?it/s]"
      ]
     },
     "metadata": {},
     "output_type": "display_data"
    },
    {
     "data": {
      "application/vnd.jupyter.widget-view+json": {
       "model_id": "63eff54c8dcc46799144ed5db0112bd0",
       "version_major": 2,
       "version_minor": 0
      },
      "text/plain": [
       "  0%|          | 0/12 [00:00<?, ?it/s]"
      ]
     },
     "metadata": {},
     "output_type": "display_data"
    },
    {
     "name": "stdout",
     "output_type": "stream",
     "text": [
      "Train Loss: 0.15001871157437563, Train Accuracy: 0.9555833333333333, Valid Loss: 0.15161596114436784, Valid Accuracy: 0.9554166666666667\n"
     ]
    },
    {
     "data": {
      "application/vnd.jupyter.widget-view+json": {
       "model_id": "87fed845c15b4a23996868445e88f265",
       "version_major": 2,
       "version_minor": 0
      },
      "text/plain": [
       "  0%|          | 0/48 [00:00<?, ?it/s]"
      ]
     },
     "metadata": {},
     "output_type": "display_data"
    },
    {
     "data": {
      "application/vnd.jupyter.widget-view+json": {
       "model_id": "1d5d11c9a8cd4a4da9ab0bc0b1174902",
       "version_major": 2,
       "version_minor": 0
      },
      "text/plain": [
       "  0%|          | 0/12 [00:00<?, ?it/s]"
      ]
     },
     "metadata": {},
     "output_type": "display_data"
    },
    {
     "name": "stdout",
     "output_type": "stream",
     "text": [
      "Train Loss: 0.1283555032374958, Train Accuracy: 0.9618333333333333, Valid Loss: 0.1451482226451238, Valid Accuracy: 0.955\n"
     ]
    },
    {
     "data": {
      "application/vnd.jupyter.widget-view+json": {
       "model_id": "6c1a7ad1255943c399191db2764ce547",
       "version_major": 2,
       "version_minor": 0
      },
      "text/plain": [
       "  0%|          | 0/48 [00:00<?, ?it/s]"
      ]
     },
     "metadata": {},
     "output_type": "display_data"
    },
    {
     "data": {
      "application/vnd.jupyter.widget-view+json": {
       "model_id": "c238be77e4474a439457314a1d7914a0",
       "version_major": 2,
       "version_minor": 0
      },
      "text/plain": [
       "  0%|          | 0/12 [00:00<?, ?it/s]"
      ]
     },
     "metadata": {},
     "output_type": "display_data"
    },
    {
     "name": "stdout",
     "output_type": "stream",
     "text": [
      "Train Loss: 0.1130095268599689, Train Accuracy: 0.9660833333333333, Valid Loss: 0.12707841272155443, Valid Accuracy: 0.96175\n"
     ]
    },
    {
     "data": {
      "application/vnd.jupyter.widget-view+json": {
       "model_id": "c8db4c2425be4c2f93a41800b3876b73",
       "version_major": 2,
       "version_minor": 0
      },
      "text/plain": [
       "  0%|          | 0/48 [00:00<?, ?it/s]"
      ]
     },
     "metadata": {},
     "output_type": "display_data"
    },
    {
     "data": {
      "application/vnd.jupyter.widget-view+json": {
       "model_id": "9e134b322311441e86bc7076f9b10fd1",
       "version_major": 2,
       "version_minor": 0
      },
      "text/plain": [
       "  0%|          | 0/12 [00:00<?, ?it/s]"
      ]
     },
     "metadata": {},
     "output_type": "display_data"
    },
    {
     "name": "stdout",
     "output_type": "stream",
     "text": [
      "Train Loss: 0.10386304588367541, Train Accuracy: 0.968875, Valid Loss: 0.11813891120254993, Valid Accuracy: 0.96525\n"
     ]
    },
    {
     "data": {
      "application/vnd.jupyter.widget-view+json": {
       "model_id": "82b279dfd26e4cfe8a3c02fc75c6543b",
       "version_major": 2,
       "version_minor": 0
      },
      "text/plain": [
       "  0%|          | 0/48 [00:00<?, ?it/s]"
      ]
     },
     "metadata": {},
     "output_type": "display_data"
    },
    {
     "data": {
      "application/vnd.jupyter.widget-view+json": {
       "model_id": "33f77c3369b446bf8518a1ae44e8db55",
       "version_major": 2,
       "version_minor": 0
      },
      "text/plain": [
       "  0%|          | 0/12 [00:00<?, ?it/s]"
      ]
     },
     "metadata": {},
     "output_type": "display_data"
    },
    {
     "name": "stdout",
     "output_type": "stream",
     "text": [
      "Train Loss: 0.09153901304428776, Train Accuracy: 0.9729166666666667, Valid Loss: 0.1184406653046608, Valid Accuracy: 0.9648333333333333\n"
     ]
    },
    {
     "data": {
      "application/vnd.jupyter.widget-view+json": {
       "model_id": "a991c369500a46c6a6415bb7ca4f650b",
       "version_major": 2,
       "version_minor": 0
      },
      "text/plain": [
       "  0%|          | 0/48 [00:00<?, ?it/s]"
      ]
     },
     "metadata": {},
     "output_type": "display_data"
    },
    {
     "data": {
      "application/vnd.jupyter.widget-view+json": {
       "model_id": "61918530683b468db6c45bc3bf3b96e0",
       "version_major": 2,
       "version_minor": 0
      },
      "text/plain": [
       "  0%|          | 0/12 [00:00<?, ?it/s]"
      ]
     },
     "metadata": {},
     "output_type": "display_data"
    },
    {
     "name": "stdout",
     "output_type": "stream",
     "text": [
      "Train Loss: 0.08472734371510644, Train Accuracy: 0.9745833333333334, Valid Loss: 0.1136810053139925, Valid Accuracy: 0.9655833333333333\n"
     ]
    },
    {
     "data": {
      "application/vnd.jupyter.widget-view+json": {
       "model_id": "6a98bfc9463c4298a24e4aaa436e1fe6",
       "version_major": 2,
       "version_minor": 0
      },
      "text/plain": [
       "  0%|          | 0/48 [00:00<?, ?it/s]"
      ]
     },
     "metadata": {},
     "output_type": "display_data"
    },
    {
     "data": {
      "application/vnd.jupyter.widget-view+json": {
       "model_id": "ab84280c835247a0b1b7a831ff9e9692",
       "version_major": 2,
       "version_minor": 0
      },
      "text/plain": [
       "  0%|          | 0/12 [00:00<?, ?it/s]"
      ]
     },
     "metadata": {},
     "output_type": "display_data"
    },
    {
     "name": "stdout",
     "output_type": "stream",
     "text": [
      "Train Loss: 0.08117891405709088, Train Accuracy: 0.975375, Valid Loss: 0.10893909260630608, Valid Accuracy: 0.9668333333333333\n"
     ]
    },
    {
     "data": {
      "application/vnd.jupyter.widget-view+json": {
       "model_id": "e03c48d77aea448f840bb66413781aac",
       "version_major": 2,
       "version_minor": 0
      },
      "text/plain": [
       "  0%|          | 0/48 [00:00<?, ?it/s]"
      ]
     },
     "metadata": {},
     "output_type": "display_data"
    },
    {
     "data": {
      "application/vnd.jupyter.widget-view+json": {
       "model_id": "08441a6d2ed146c0a549881400067a34",
       "version_major": 2,
       "version_minor": 0
      },
      "text/plain": [
       "  0%|          | 0/12 [00:00<?, ?it/s]"
      ]
     },
     "metadata": {},
     "output_type": "display_data"
    },
    {
     "name": "stdout",
     "output_type": "stream",
     "text": [
      "Train Loss: 0.07345733512192965, Train Accuracy: 0.9780833333333333, Valid Loss: 0.10033043349782626, Valid Accuracy: 0.9703333333333334\n"
     ]
    },
    {
     "data": {
      "application/vnd.jupyter.widget-view+json": {
       "model_id": "5a15ce9d56924f3ebb54543cbc65c0ad",
       "version_major": 2,
       "version_minor": 0
      },
      "text/plain": [
       "  0%|          | 0/48 [00:00<?, ?it/s]"
      ]
     },
     "metadata": {},
     "output_type": "display_data"
    },
    {
     "data": {
      "application/vnd.jupyter.widget-view+json": {
       "model_id": "dc30bb15c88949acb11757eef974f07a",
       "version_major": 2,
       "version_minor": 0
      },
      "text/plain": [
       "  0%|          | 0/12 [00:00<?, ?it/s]"
      ]
     },
     "metadata": {},
     "output_type": "display_data"
    },
    {
     "name": "stdout",
     "output_type": "stream",
     "text": [
      "Train Loss: 0.0664055086672306, Train Accuracy: 0.9802708333333333, Valid Loss: 0.09773600660264492, Valid Accuracy: 0.9704166666666667\n"
     ]
    },
    {
     "data": {
      "application/vnd.jupyter.widget-view+json": {
       "model_id": "4fa81ca7371642678f945ae01d3297c3",
       "version_major": 2,
       "version_minor": 0
      },
      "text/plain": [
       "VBox(children=(Label(value='0.001 MB of 0.001 MB uploaded\\r'), FloatProgress(value=1.0, max=1.0)))"
      ]
     },
     "metadata": {},
     "output_type": "display_data"
    },
    {
     "data": {
      "text/html": [
       "<style>\n",
       "    table.wandb td:nth-child(1) { padding: 0 10px; text-align: left ; width: auto;} td:nth-child(2) {text-align: left ; width: 100%}\n",
       "    .wandb-row { display: flex; flex-direction: row; flex-wrap: wrap; justify-content: flex-start; width: 100% }\n",
       "    .wandb-col { display: flex; flex-direction: column; flex-basis: 100%; flex: 1; padding: 10px; }\n",
       "    </style>\n",
       "<div class=\"wandb-row\"><div class=\"wandb-col\"><h3>Run history:</h3><br/><table class=\"wandb\"><tr><td>Train Accuracy</td><td>▁▆▇▇███████████</td></tr><tr><td>Train Loss</td><td>█▄▂▂▂▁▁▁▁▁▁▁▁▁▁</td></tr><tr><td>Valid Accuracy</td><td>▁▆▇▇▇▇█████████</td></tr><tr><td>Valid Loss</td><td>█▄▂▂▂▂▁▁▁▁▁▁▁▁▁</td></tr></table><br/></div><div class=\"wandb-col\"><h3>Run summary:</h3><br/><table class=\"wandb\"><tr><td>Train Accuracy</td><td>0.98027</td></tr><tr><td>Train Loss</td><td>0.06641</td></tr><tr><td>Valid Accuracy</td><td>0.97042</td></tr><tr><td>Valid Loss</td><td>0.09774</td></tr></table><br/></div></div>"
      ],
      "text/plain": [
       "<IPython.core.display.HTML object>"
      ]
     },
     "metadata": {},
     "output_type": "display_data"
    },
    {
     "data": {
      "text/html": [
       " View run <strong style=\"color:#cdcd00\">lstm_training</strong> at: <a href='https://wandb.ai/greedjar7498/DL_mission_middle_2/runs/cp13m2u4' target=\"_blank\">https://wandb.ai/greedjar7498/DL_mission_middle_2/runs/cp13m2u4</a><br/> View project at: <a href='https://wandb.ai/greedjar7498/DL_mission_middle_2' target=\"_blank\">https://wandb.ai/greedjar7498/DL_mission_middle_2</a><br/>Synced 6 W&B file(s), 0 media file(s), 0 artifact file(s) and 0 other file(s)"
      ],
      "text/plain": [
       "<IPython.core.display.HTML object>"
      ]
     },
     "metadata": {},
     "output_type": "display_data"
    },
    {
     "data": {
      "text/html": [
       "Find logs at: <code>./wandb/run-20240707_121334-cp13m2u4/logs</code>"
      ],
      "text/plain": [
       "<IPython.core.display.HTML object>"
      ]
     },
     "metadata": {},
     "output_type": "display_data"
    },
    {
     "data": {
      "text/html": [
       "The new W&B backend becomes opt-out in version 0.18.0; try it out with `wandb.require(\"core\")`! See https://wandb.me/wandb-core for more information."
      ],
      "text/plain": [
       "<IPython.core.display.HTML object>"
      ]
     },
     "metadata": {},
     "output_type": "display_data"
    }
   ],
   "source": [
    "run_lstm = wandb.init(project='DL_mission_middle_2', name='lstm_training')\n",
    "model = LSTM_model()\n",
    "\n",
    "criterion = torch.nn.NLLLoss()\n",
    "optimizer = torch.optim.Adam(model.parameters(), lr=0.001)\n",
    "\n",
    "model = training_loop(model, train_dataloader, valid_dataloader, train_dataset, valid_dataset, criterion, optimizer, 15, run_lstm)\n",
    "run_lstm.finish()"
   ]
  },
  {
   "cell_type": "code",
   "execution_count": 50,
   "metadata": {},
   "outputs": [
    {
     "data": {
      "application/vnd.jupyter.widget-view+json": {
       "model_id": "60a989d41c6e4032b3d52a60559a12ee",
       "version_major": 2,
       "version_minor": 0
      },
      "text/plain": [
       "  0%|          | 0/10 [00:00<?, ?it/s]"
      ]
     },
     "metadata": {},
     "output_type": "display_data"
    },
    {
     "name": "stdout",
     "output_type": "stream",
     "text": [
      "Test Loss: 0.08717434108257294, Test Accuracy: 0.975\n"
     ]
    }
   ],
   "source": [
    "model.eval()\n",
    "test_loss = 0.0\n",
    "test_accuracy = 0\n",
    "\n",
    "total_labels = []\n",
    "total_images = []\n",
    "total_pred = []\n",
    "\n",
    "with torch.no_grad():\n",
    "    tbar = tqdm(test_dataloader)\n",
    "    for images, labels in tbar:\n",
    "        images = images.to(device)\n",
    "        labels = labels.to(device)\n",
    "\n",
    "        outputs = model(images)\n",
    "        loss = criterion(outputs, labels)\n",
    "\n",
    "        test_loss += loss.item()\n",
    "        max_prob, predicted = torch.max(outputs, 1)\n",
    "        test_accuracy += (predicted == labels).sum().item()\n",
    "\n",
    "        total_labels.extend(labels.cpu())\n",
    "        total_images.extend(images.cpu())\n",
    "        total_pred.extend(predicted.cpu())\n",
    "\n",
    "test_loss = test_loss / len(test_dataloader)\n",
    "test_accuracy = test_accuracy / len(test_dataset)\n",
    "\n",
    "print(f'Test Loss: {test_loss}, Test Accuracy: {test_accuracy}')"
   ]
  },
  {
   "cell_type": "code",
   "execution_count": 51,
   "metadata": {},
   "outputs": [
    {
     "data": {
      "image/png": "[encoded data removed]",
      "text/plain": [
       "<Figure size 1500x1500 with 20 Axes>"
      ]
     },
     "metadata": {},
     "output_type": "display_data"
    }
   ],
   "source": [
    "plt.figure(figsize=(15, 15))\n",
    "\n",
    "for i in range(20):\n",
    "    ax = plt.subplot(4, 5, i+1)\n",
    "    plt.imshow(total_images[i].squeeze(), cmap='gray')\n",
    "    plt.title(f'real: {total_labels[i]}\\npred: {total_pred[i]}')"
   ]
  },
  {
   "cell_type": "markdown",
   "metadata": {},
   "source": [
    "# GRU model"
   ]
  },
  {
   "cell_type": "code",
   "execution_count": 52,
   "metadata": {},
   "outputs": [],
   "source": [
    "class GRU_model(torch.nn.Module):\n",
    "    def __init__(self):\n",
    "        super().__init__()\n",
    "        \n",
    "        self.gru = torch.nn.GRU(28, 128, batch_first=True)\n",
    "        self.fc = torch.nn.Linear(128, 10)\n",
    "        self.softmax = torch.nn.LogSoftmax(dim=1)\n",
    "\n",
    "    def forward(self, x):\n",
    "        x = x.squeeze()\n",
    "        outputs, h_0 = self.gru(x)\n",
    "        outputs = self.fc(h_0.squeeze())\n",
    "        outputs = self.softmax(outputs)\n",
    "        \n",
    "        return outputs"
   ]
  },
  {
   "cell_type": "code",
   "execution_count": 53,
   "metadata": {},
   "outputs": [
    {
     "data": {
      "text/html": [
       "wandb version 0.17.4 is available!  To upgrade, please run:\n",
       " $ pip install wandb --upgrade"
      ],
      "text/plain": [
       "<IPython.core.display.HTML object>"
      ]
     },
     "metadata": {},
     "output_type": "display_data"
    },
    {
     "data": {
      "text/html": [
       "Tracking run with wandb version 0.17.3"
      ],
      "text/plain": [
       "<IPython.core.display.HTML object>"
      ]
     },
     "metadata": {},
     "output_type": "display_data"
    },
    {
     "data": {
      "text/html": [
       "Run data is saved locally in <code>/Users/kimhongseok/upstage_AI_Lab/mission/DeepLearning/wandb/run-20240707_121723-jmgw12of</code>"
      ],
      "text/plain": [
       "<IPython.core.display.HTML object>"
      ]
     },
     "metadata": {},
     "output_type": "display_data"
    },
    {
     "data": {
      "text/html": [
       "Syncing run <strong><a href='https://wandb.ai/greedjar7498/DL_mission_middle_2/runs/jmgw12of' target=\"_blank\">gru_training</a></strong> to <a href='https://wandb.ai/greedjar7498/DL_mission_middle_2' target=\"_blank\">Weights & Biases</a> (<a href='https://wandb.me/run' target=\"_blank\">docs</a>)<br/>"
      ],
      "text/plain": [
       "<IPython.core.display.HTML object>"
      ]
     },
     "metadata": {},
     "output_type": "display_data"
    },
    {
     "data": {
      "text/html": [
       " View project at <a href='https://wandb.ai/greedjar7498/DL_mission_middle_2' target=\"_blank\">https://wandb.ai/greedjar7498/DL_mission_middle_2</a>"
      ],
      "text/plain": [
       "<IPython.core.display.HTML object>"
      ]
     },
     "metadata": {},
     "output_type": "display_data"
    },
    {
     "data": {
      "text/html": [
       " View run at <a href='https://wandb.ai/greedjar7498/DL_mission_middle_2/runs/jmgw12of' target=\"_blank\">https://wandb.ai/greedjar7498/DL_mission_middle_2/runs/jmgw12of</a>"
      ],
      "text/plain": [
       "<IPython.core.display.HTML object>"
      ]
     },
     "metadata": {},
     "output_type": "display_data"
    },
    {
     "data": {
      "application/vnd.jupyter.widget-view+json": {
       "model_id": "20a4d63d32434bf19a8fba27735680ed",
       "version_major": 2,
       "version_minor": 0
      },
      "text/plain": [
       "  0%|          | 0/48 [00:00<?, ?it/s]"
      ]
     },
     "metadata": {},
     "output_type": "display_data"
    },
    {
     "data": {
      "application/vnd.jupyter.widget-view+json": {
       "model_id": "9a15a952c0434c5b9baf02f06357e23a",
       "version_major": 2,
       "version_minor": 0
      },
      "text/plain": [
       "  0%|          | 0/12 [00:00<?, ?it/s]"
      ]
     },
     "metadata": {},
     "output_type": "display_data"
    },
    {
     "name": "stdout",
     "output_type": "stream",
     "text": [
      "Train Loss: 1.9385329981644948, Train Accuracy: 0.3315208333333333, Valid Loss: 1.1964417000611622, Valid Accuracy: 0.6154166666666666\n"
     ]
    },
    {
     "data": {
      "application/vnd.jupyter.widget-view+json": {
       "model_id": "ba1d543176a2417986ce54852c9bb0ef",
       "version_major": 2,
       "version_minor": 0
      },
      "text/plain": [
       "  0%|          | 0/48 [00:00<?, ?it/s]"
      ]
     },
     "metadata": {},
     "output_type": "display_data"
    },
    {
     "data": {
      "application/vnd.jupyter.widget-view+json": {
       "model_id": "db42c0cc2d9c4b57b7dcc7c7d7215f06",
       "version_major": 2,
       "version_minor": 0
      },
      "text/plain": [
       "  0%|          | 0/12 [00:00<?, ?it/s]"
      ]
     },
     "metadata": {},
     "output_type": "display_data"
    },
    {
     "name": "stdout",
     "output_type": "stream",
     "text": [
      "Train Loss: 0.7871857744952043, Train Accuracy: 0.7460208333333334, Valid Loss: 0.5268707871437073, Valid Accuracy: 0.84175\n"
     ]
    },
    {
     "data": {
      "application/vnd.jupyter.widget-view+json": {
       "model_id": "2b1a7b354ca14f86bf0477a6ee1ced2b",
       "version_major": 2,
       "version_minor": 0
      },
      "text/plain": [
       "  0%|          | 0/48 [00:00<?, ?it/s]"
      ]
     },
     "metadata": {},
     "output_type": "display_data"
    },
    {
     "data": {
      "application/vnd.jupyter.widget-view+json": {
       "model_id": "8974619e2d284741b20bf20aebe290e7",
       "version_major": 2,
       "version_minor": 0
      },
      "text/plain": [
       "  0%|          | 0/12 [00:00<?, ?it/s]"
      ]
     },
     "metadata": {},
     "output_type": "display_data"
    },
    {
     "name": "stdout",
     "output_type": "stream",
     "text": [
      "Train Loss: 0.40416173574825126, Train Accuracy: 0.8797291666666667, Valid Loss: 0.33439265191555023, Valid Accuracy: 0.9024166666666666\n"
     ]
    },
    {
     "data": {
      "application/vnd.jupyter.widget-view+json": {
       "model_id": "5f592470bb6b4fbda57885589b626b81",
       "version_major": 2,
       "version_minor": 0
      },
      "text/plain": [
       "  0%|          | 0/48 [00:00<?, ?it/s]"
      ]
     },
     "metadata": {},
     "output_type": "display_data"
    },
    {
     "data": {
      "application/vnd.jupyter.widget-view+json": {
       "model_id": "993263eacbf14a7dbfd707efda01711a",
       "version_major": 2,
       "version_minor": 0
      },
      "text/plain": [
       "  0%|          | 0/12 [00:00<?, ?it/s]"
      ]
     },
     "metadata": {},
     "output_type": "display_data"
    },
    {
     "name": "stdout",
     "output_type": "stream",
     "text": [
      "Train Loss: 0.2872479197879632, Train Accuracy: 0.9154166666666667, Valid Loss: 0.25814024979869526, Valid Accuracy: 0.9248333333333333\n"
     ]
    },
    {
     "data": {
      "application/vnd.jupyter.widget-view+json": {
       "model_id": "535425839cf14b83b11b942c3650335d",
       "version_major": 2,
       "version_minor": 0
      },
      "text/plain": [
       "  0%|          | 0/48 [00:00<?, ?it/s]"
      ]
     },
     "metadata": {},
     "output_type": "display_data"
    },
    {
     "data": {
      "application/vnd.jupyter.widget-view+json": {
       "model_id": "b36f4ae33c734ec89cfc302e3d9260e2",
       "version_major": 2,
       "version_minor": 0
      },
      "text/plain": [
       "  0%|          | 0/12 [00:00<?, ?it/s]"
      ]
     },
     "metadata": {},
     "output_type": "display_data"
    },
    {
     "name": "stdout",
     "output_type": "stream",
     "text": [
      "Train Loss: 0.22217692838360867, Train Accuracy: 0.9352291666666667, Valid Loss: 0.2133837230503559, Valid Accuracy: 0.9381666666666667\n"
     ]
    },
    {
     "data": {
      "application/vnd.jupyter.widget-view+json": {
       "model_id": "768ab9f0466849b291f1b5d2decba583",
       "version_major": 2,
       "version_minor": 0
      },
      "text/plain": [
       "  0%|          | 0/48 [00:00<?, ?it/s]"
      ]
     },
     "metadata": {},
     "output_type": "display_data"
    },
    {
     "data": {
      "application/vnd.jupyter.widget-view+json": {
       "model_id": "95a83d4641414c7f8830d5490a85da7b",
       "version_major": 2,
       "version_minor": 0
      },
      "text/plain": [
       "  0%|          | 0/12 [00:00<?, ?it/s]"
      ]
     },
     "metadata": {},
     "output_type": "display_data"
    },
    {
     "name": "stdout",
     "output_type": "stream",
     "text": [
      "Train Loss: 0.18145739628622928, Train Accuracy: 0.9475, Valid Loss: 0.19287748138109842, Valid Accuracy: 0.94275\n"
     ]
    },
    {
     "data": {
      "application/vnd.jupyter.widget-view+json": {
       "model_id": "5e845426bbf54405a02fb7baad2f8966",
       "version_major": 2,
       "version_minor": 0
      },
      "text/plain": [
       "  0%|          | 0/48 [00:00<?, ?it/s]"
      ]
     },
     "metadata": {},
     "output_type": "display_data"
    },
    {
     "data": {
      "application/vnd.jupyter.widget-view+json": {
       "model_id": "fdc4f4837fc34a95817db4d702d1b03d",
       "version_major": 2,
       "version_minor": 0
      },
      "text/plain": [
       "  0%|          | 0/12 [00:00<?, ?it/s]"
      ]
     },
     "metadata": {},
     "output_type": "display_data"
    },
    {
     "name": "stdout",
     "output_type": "stream",
     "text": [
      "Train Loss: 0.1601174334064126, Train Accuracy: 0.9528958333333334, Valid Loss: 0.18143259858091673, Valid Accuracy: 0.94425\n"
     ]
    },
    {
     "data": {
      "application/vnd.jupyter.widget-view+json": {
       "model_id": "a655538641664af5859eb4a62078bf0e",
       "version_major": 2,
       "version_minor": 0
      },
      "text/plain": [
       "  0%|          | 0/48 [00:00<?, ?it/s]"
      ]
     },
     "metadata": {},
     "output_type": "display_data"
    },
    {
     "data": {
      "application/vnd.jupyter.widget-view+json": {
       "model_id": "cc0537ee8b9949218e215111892d2335",
       "version_major": 2,
       "version_minor": 0
      },
      "text/plain": [
       "  0%|          | 0/12 [00:00<?, ?it/s]"
      ]
     },
     "metadata": {},
     "output_type": "display_data"
    },
    {
     "name": "stdout",
     "output_type": "stream",
     "text": [
      "Train Loss: 0.13685672543942928, Train Accuracy: 0.9604166666666667, Valid Loss: 0.1556174543996652, Valid Accuracy: 0.9539166666666666\n"
     ]
    },
    {
     "data": {
      "application/vnd.jupyter.widget-view+json": {
       "model_id": "b13fe0a767bc49a6a31d09c61f7af096",
       "version_major": 2,
       "version_minor": 0
      },
      "text/plain": [
       "  0%|          | 0/48 [00:00<?, ?it/s]"
      ]
     },
     "metadata": {},
     "output_type": "display_data"
    },
    {
     "data": {
      "application/vnd.jupyter.widget-view+json": {
       "model_id": "bd6a272d6b4b445883118783adf5b98d",
       "version_major": 2,
       "version_minor": 0
      },
      "text/plain": [
       "  0%|          | 0/12 [00:00<?, ?it/s]"
      ]
     },
     "metadata": {},
     "output_type": "display_data"
    },
    {
     "name": "stdout",
     "output_type": "stream",
     "text": [
      "Train Loss: 0.1259611427473525, Train Accuracy: 0.9624375, Valid Loss: 0.14502944176395735, Valid Accuracy: 0.9576666666666667\n"
     ]
    },
    {
     "data": {
      "application/vnd.jupyter.widget-view+json": {
       "model_id": "68cc1fe0bccd40a0b496bb85e5de907d",
       "version_major": 2,
       "version_minor": 0
      },
      "text/plain": [
       "  0%|          | 0/48 [00:00<?, ?it/s]"
      ]
     },
     "metadata": {},
     "output_type": "display_data"
    },
    {
     "data": {
      "application/vnd.jupyter.widget-view+json": {
       "model_id": "6d68f56b99db4497805b2f9302d1e76c",
       "version_major": 2,
       "version_minor": 0
      },
      "text/plain": [
       "  0%|          | 0/12 [00:00<?, ?it/s]"
      ]
     },
     "metadata": {},
     "output_type": "display_data"
    },
    {
     "name": "stdout",
     "output_type": "stream",
     "text": [
      "Train Loss: 0.11936061456799507, Train Accuracy: 0.9644166666666667, Valid Loss: 0.1365001890808344, Valid Accuracy: 0.9591666666666666\n"
     ]
    },
    {
     "data": {
      "application/vnd.jupyter.widget-view+json": {
       "model_id": "80ac0c62a5484ba1aad6f1b593bcf8dc",
       "version_major": 2,
       "version_minor": 0
      },
      "text/plain": [
       "  0%|          | 0/48 [00:00<?, ?it/s]"
      ]
     },
     "metadata": {},
     "output_type": "display_data"
    },
    {
     "data": {
      "application/vnd.jupyter.widget-view+json": {
       "model_id": "ff77acd1bc284acf945854058273945a",
       "version_major": 2,
       "version_minor": 0
      },
      "text/plain": [
       "  0%|          | 0/12 [00:00<?, ?it/s]"
      ]
     },
     "metadata": {},
     "output_type": "display_data"
    },
    {
     "name": "stdout",
     "output_type": "stream",
     "text": [
      "Train Loss: 0.10396294419964154, Train Accuracy: 0.9694166666666667, Valid Loss: 0.12010165614386399, Valid Accuracy: 0.96475\n"
     ]
    },
    {
     "data": {
      "application/vnd.jupyter.widget-view+json": {
       "model_id": "5dee0f24b2034a3b9bbbb0ff607bc5d1",
       "version_major": 2,
       "version_minor": 0
      },
      "text/plain": [
       "  0%|          | 0/48 [00:00<?, ?it/s]"
      ]
     },
     "metadata": {},
     "output_type": "display_data"
    },
    {
     "data": {
      "application/vnd.jupyter.widget-view+json": {
       "model_id": "ca2d9d716aa44afc965295d12d327c49",
       "version_major": 2,
       "version_minor": 0
      },
      "text/plain": [
       "  0%|          | 0/12 [00:00<?, ?it/s]"
      ]
     },
     "metadata": {},
     "output_type": "display_data"
    },
    {
     "name": "stdout",
     "output_type": "stream",
     "text": [
      "Train Loss: 0.09257170317384104, Train Accuracy: 0.972875, Valid Loss: 0.11524041804174583, Valid Accuracy: 0.9654166666666667\n"
     ]
    },
    {
     "data": {
      "application/vnd.jupyter.widget-view+json": {
       "model_id": "849f83686afc45afb3e342a5313da702",
       "version_major": 2,
       "version_minor": 0
      },
      "text/plain": [
       "  0%|          | 0/48 [00:00<?, ?it/s]"
      ]
     },
     "metadata": {},
     "output_type": "display_data"
    },
    {
     "data": {
      "application/vnd.jupyter.widget-view+json": {
       "model_id": "520916b5791545e3943be3572873fbae",
       "version_major": 2,
       "version_minor": 0
      },
      "text/plain": [
       "  0%|          | 0/12 [00:00<?, ?it/s]"
      ]
     },
     "metadata": {},
     "output_type": "display_data"
    },
    {
     "name": "stdout",
     "output_type": "stream",
     "text": [
      "Train Loss: 0.0877925028714041, Train Accuracy: 0.9741875, Valid Loss: 0.10741874513526757, Valid Accuracy: 0.969\n"
     ]
    },
    {
     "data": {
      "application/vnd.jupyter.widget-view+json": {
       "model_id": "ae56c19a88e94faaa5ece0b593dc6f37",
       "version_major": 2,
       "version_minor": 0
      },
      "text/plain": [
       "  0%|          | 0/48 [00:00<?, ?it/s]"
      ]
     },
     "metadata": {},
     "output_type": "display_data"
    },
    {
     "data": {
      "application/vnd.jupyter.widget-view+json": {
       "model_id": "5cc8fa4291de497e9b74ccb746913ac9",
       "version_major": 2,
       "version_minor": 0
      },
      "text/plain": [
       "  0%|          | 0/12 [00:00<?, ?it/s]"
      ]
     },
     "metadata": {},
     "output_type": "display_data"
    },
    {
     "name": "stdout",
     "output_type": "stream",
     "text": [
      "Train Loss: 0.08261565289770563, Train Accuracy: 0.9755625, Valid Loss: 0.10803898610174656, Valid Accuracy: 0.9666666666666667\n"
     ]
    },
    {
     "data": {
      "application/vnd.jupyter.widget-view+json": {
       "model_id": "5606bb117af349169bbaf6171fedfc5b",
       "version_major": 2,
       "version_minor": 0
      },
      "text/plain": [
       "  0%|          | 0/48 [00:00<?, ?it/s]"
      ]
     },
     "metadata": {},
     "output_type": "display_data"
    },
    {
     "data": {
      "application/vnd.jupyter.widget-view+json": {
       "model_id": "b1fa6dca21864eff89d788b02dea1682",
       "version_major": 2,
       "version_minor": 0
      },
      "text/plain": [
       "  0%|          | 0/12 [00:00<?, ?it/s]"
      ]
     },
     "metadata": {},
     "output_type": "display_data"
    },
    {
     "name": "stdout",
     "output_type": "stream",
     "text": [
      "Train Loss: 0.07631598614777128, Train Accuracy: 0.976625, Valid Loss: 0.10120845151444276, Valid Accuracy: 0.96925\n"
     ]
    },
    {
     "data": {
      "application/vnd.jupyter.widget-view+json": {
       "model_id": "2adf29f0f43540f4894f76ed8182ee76",
       "version_major": 2,
       "version_minor": 0
      },
      "text/plain": [
       "VBox(children=(Label(value='0.001 MB of 0.001 MB uploaded\\r'), FloatProgress(value=1.0, max=1.0)))"
      ]
     },
     "metadata": {},
     "output_type": "display_data"
    },
    {
     "data": {
      "text/html": [
       "<style>\n",
       "    table.wandb td:nth-child(1) { padding: 0 10px; text-align: left ; width: auto;} td:nth-child(2) {text-align: left ; width: 100%}\n",
       "    .wandb-row { display: flex; flex-direction: row; flex-wrap: wrap; justify-content: flex-start; width: 100% }\n",
       "    .wandb-col { display: flex; flex-direction: column; flex-basis: 100%; flex: 1; padding: 10px; }\n",
       "    </style>\n",
       "<div class=\"wandb-row\"><div class=\"wandb-col\"><h3>Run history:</h3><br/><table class=\"wandb\"><tr><td>Train Accuracy</td><td>▁▅▇▇███████████</td></tr><tr><td>Train Loss</td><td>█▄▂▂▂▁▁▁▁▁▁▁▁▁▁</td></tr><tr><td>Valid Accuracy</td><td>▁▅▇▇▇▇█████████</td></tr><tr><td>Valid Loss</td><td>█▄▂▂▂▂▂▁▁▁▁▁▁▁▁</td></tr></table><br/></div><div class=\"wandb-col\"><h3>Run summary:</h3><br/><table class=\"wandb\"><tr><td>Train Accuracy</td><td>0.97662</td></tr><tr><td>Train Loss</td><td>0.07632</td></tr><tr><td>Valid Accuracy</td><td>0.96925</td></tr><tr><td>Valid Loss</td><td>0.10121</td></tr></table><br/></div></div>"
      ],
      "text/plain": [
       "<IPython.core.display.HTML object>"
      ]
     },
     "metadata": {},
     "output_type": "display_data"
    },
    {
     "data": {
      "text/html": [
       " View run <strong style=\"color:#cdcd00\">gru_training</strong> at: <a href='https://wandb.ai/greedjar7498/DL_mission_middle_2/runs/jmgw12of' target=\"_blank\">https://wandb.ai/greedjar7498/DL_mission_middle_2/runs/jmgw12of</a><br/> View project at: <a href='https://wandb.ai/greedjar7498/DL_mission_middle_2' target=\"_blank\">https://wandb.ai/greedjar7498/DL_mission_middle_2</a><br/>Synced 6 W&B file(s), 0 media file(s), 0 artifact file(s) and 0 other file(s)"
      ],
      "text/plain": [
       "<IPython.core.display.HTML object>"
      ]
     },
     "metadata": {},
     "output_type": "display_data"
    },
    {
     "data": {
      "text/html": [
       "Find logs at: <code>./wandb/run-20240707_121723-jmgw12of/logs</code>"
      ],
      "text/plain": [
       "<IPython.core.display.HTML object>"
      ]
     },
     "metadata": {},
     "output_type": "display_data"
    },
    {
     "data": {
      "text/html": [
       "The new W&B backend becomes opt-out in version 0.18.0; try it out with `wandb.require(\"core\")`! See https://wandb.me/wandb-core for more information."
      ],
      "text/plain": [
       "<IPython.core.display.HTML object>"
      ]
     },
     "metadata": {},
     "output_type": "display_data"
    }
   ],
   "source": [
    "run_gru = wandb.init(project='DL_mission_middle_2', name='gru_training')\n",
    "model = LSTM_model()\n",
    "\n",
    "criterion = torch.nn.NLLLoss()\n",
    "optimizer = torch.optim.Adam(model.parameters(), lr=0.001)\n",
    "\n",
    "model = training_loop(model, train_dataloader, valid_dataloader, train_dataset, valid_dataset, criterion, optimizer, 15, run_gru)\n",
    "run_gru.finish()"
   ]
  },
  {
   "cell_type": "code",
   "execution_count": 54,
   "metadata": {},
   "outputs": [
    {
     "data": {
      "application/vnd.jupyter.widget-view+json": {
       "model_id": "b96b15b3a202410ca5022c7f9b46cfe3",
       "version_major": 2,
       "version_minor": 0
      },
      "text/plain": [
       "  0%|          | 0/10 [00:00<?, ?it/s]"
      ]
     },
     "metadata": {},
     "output_type": "display_data"
    },
    {
     "name": "stdout",
     "output_type": "stream",
     "text": [
      "Test Loss: 0.10207678526639938, Test Accuracy: 0.9711\n"
     ]
    }
   ],
   "source": [
    "model.eval()\n",
    "test_loss = 0.0\n",
    "test_accuracy = 0\n",
    "\n",
    "total_labels = []\n",
    "total_images = []\n",
    "total_pred = []\n",
    "\n",
    "with torch.no_grad():\n",
    "    tbar = tqdm(test_dataloader)\n",
    "    for images, labels in tbar:\n",
    "        images = images.to(device)\n",
    "        labels = labels.to(device)\n",
    "\n",
    "        outputs = model(images)\n",
    "        loss = criterion(outputs, labels)\n",
    "\n",
    "        test_loss += loss.item()\n",
    "        max_prob, predicted = torch.max(outputs, 1)\n",
    "        test_accuracy += (predicted == labels).sum().item()\n",
    "\n",
    "        total_labels.extend(labels.cpu())\n",
    "        total_images.extend(images.cpu())\n",
    "        total_pred.extend(predicted.cpu())\n",
    "\n",
    "test_loss = test_loss / len(test_dataloader)\n",
    "test_accuracy = test_accuracy / len(test_dataset)\n",
    "\n",
    "print(f'Test Loss: {test_loss}, Test Accuracy: {test_accuracy}')"
   ]
  },
  {
   "cell_type": "code",
   "execution_count": 55,
   "metadata": {},
   "outputs": [
    {
     "data": {
      "image/png": "[encoded data removed]",
      "text/plain": [
       "<Figure size 1500x1500 with 20 Axes>"
      ]
     },
     "metadata": {},
     "output_type": "display_data"
    }
   ],
   "source": [
    "plt.figure(figsize=(15, 15))\n",
    "\n",
    "for i in range(20):\n",
    "    ax = plt.subplot(4, 5, i+1)\n",
    "    plt.imshow(total_images[i].squeeze(), cmap='gray')\n",
    "    plt.title(f'real: {total_labels[i]}\\npred: {total_pred[i]}')"
   ]
  }
 ],
 "metadata": {
  "kernelspec": {
   "display_name": "base",
   "language": "python",
   "name": "python3"
  },
  "language_info": {
   "codemirror_mode": {
    "name": "ipython",
    "version": 3
   },
   "file_extension": ".py",
   "mimetype": "text/x-python",
   "name": "python",
   "nbconvert_exporter": "python",
   "pygments_lexer": "ipython3",
   "version": "3.11.7"
  }
 },
 "nbformat": 4,
 "nbformat_minor": 2
}
